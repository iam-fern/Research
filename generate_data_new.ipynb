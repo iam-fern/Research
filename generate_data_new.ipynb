{
  "nbformat": 4,
  "nbformat_minor": 0,
  "metadata": {
    "colab": {
      "name": "generate_data_new.ipynb",
      "provenance": [],
      "authorship_tag": "ABX9TyMhRjQvxpIINULICJ0ATbG+",
      "include_colab_link": true
    },
    "kernelspec": {
      "name": "python3",
      "display_name": "Python 3"
    },
    "language_info": {
      "name": "python"
    }
  },
  "cells": [
    {
      "cell_type": "markdown",
      "metadata": {
        "id": "view-in-github",
        "colab_type": "text"
      },
      "source": [
        "<a href=\"https://colab.research.google.com/github/iam-fern/Research/blob/main/generate_data_new.ipynb\" target=\"_parent\"><img src=\"https://colab.research.google.com/assets/colab-badge.svg\" alt=\"Open In Colab\"/></a>"
      ]
    },
    {
      "cell_type": "code",
      "metadata": {
        "id": "Zc-VEzOcYoJ-"
      },
      "source": [
        "import pandas as pd\n",
        "import numpy as np\n",
        "import matplotlib.pyplot as plt\n",
        "from scipy.stats import norm\n",
        "from numpy.random import normal\n",
        "import statistics\n",
        "import statistics as stats\n",
        "import scipy.stats as ss\n",
        "from scipy import stats\n",
        "import scipy.stats as stats\n",
        "import time\n",
        "import statsmodels.api as sm\n",
        "%matplotlib inline\n",
        "from google.colab import files"
      ],
      "execution_count": 36,
      "outputs": []
    },
    {
      "cell_type": "code",
      "metadata": {
        "colab": {
          "base_uri": "https://localhost:8080/",
          "height": 417
        },
        "id": "cMw3HEVrcdia",
        "outputId": "993d8238-1603-415d-9ea5-0e26ac5a92bc"
      },
      "source": [
        "# random.uniform(a, b)\n",
        "# Syntax : numpy.random.uniform(low=0.0, high=1.0, size=None)\n",
        "# a : Required. A number specifying the lowest possible outcome\n",
        "# b : Required. A number specifying the highest possible outcome\n",
        "\n",
        "data = pd.DataFrame({\"z1\" : np.random.uniform(10, 50, 500000),\n",
        "                     \"z2\" : np.random.uniform(10, 50, 500000),\n",
        "                     \"z3\" : np.random.uniform(10, 50, 500000)})\n",
        "data"
      ],
      "execution_count": 37,
      "outputs": [
        {
          "output_type": "execute_result",
          "data": {
            "text/html": [
              "<div>\n",
              "<style scoped>\n",
              "    .dataframe tbody tr th:only-of-type {\n",
              "        vertical-align: middle;\n",
              "    }\n",
              "\n",
              "    .dataframe tbody tr th {\n",
              "        vertical-align: top;\n",
              "    }\n",
              "\n",
              "    .dataframe thead th {\n",
              "        text-align: right;\n",
              "    }\n",
              "</style>\n",
              "<table border=\"1\" class=\"dataframe\">\n",
              "  <thead>\n",
              "    <tr style=\"text-align: right;\">\n",
              "      <th></th>\n",
              "      <th>z1</th>\n",
              "      <th>z2</th>\n",
              "      <th>z3</th>\n",
              "    </tr>\n",
              "  </thead>\n",
              "  <tbody>\n",
              "    <tr>\n",
              "      <th>0</th>\n",
              "      <td>38.278675</td>\n",
              "      <td>34.225605</td>\n",
              "      <td>30.737150</td>\n",
              "    </tr>\n",
              "    <tr>\n",
              "      <th>1</th>\n",
              "      <td>13.374242</td>\n",
              "      <td>25.186380</td>\n",
              "      <td>35.492232</td>\n",
              "    </tr>\n",
              "    <tr>\n",
              "      <th>2</th>\n",
              "      <td>19.004055</td>\n",
              "      <td>32.424357</td>\n",
              "      <td>30.502729</td>\n",
              "    </tr>\n",
              "    <tr>\n",
              "      <th>3</th>\n",
              "      <td>45.496783</td>\n",
              "      <td>14.471168</td>\n",
              "      <td>13.519764</td>\n",
              "    </tr>\n",
              "    <tr>\n",
              "      <th>4</th>\n",
              "      <td>25.657974</td>\n",
              "      <td>45.725183</td>\n",
              "      <td>22.883904</td>\n",
              "    </tr>\n",
              "    <tr>\n",
              "      <th>...</th>\n",
              "      <td>...</td>\n",
              "      <td>...</td>\n",
              "      <td>...</td>\n",
              "    </tr>\n",
              "    <tr>\n",
              "      <th>499995</th>\n",
              "      <td>30.168489</td>\n",
              "      <td>12.033133</td>\n",
              "      <td>13.064841</td>\n",
              "    </tr>\n",
              "    <tr>\n",
              "      <th>499996</th>\n",
              "      <td>24.587687</td>\n",
              "      <td>17.459267</td>\n",
              "      <td>21.261633</td>\n",
              "    </tr>\n",
              "    <tr>\n",
              "      <th>499997</th>\n",
              "      <td>42.511001</td>\n",
              "      <td>21.658928</td>\n",
              "      <td>28.763786</td>\n",
              "    </tr>\n",
              "    <tr>\n",
              "      <th>499998</th>\n",
              "      <td>20.405703</td>\n",
              "      <td>11.602083</td>\n",
              "      <td>35.872333</td>\n",
              "    </tr>\n",
              "    <tr>\n",
              "      <th>499999</th>\n",
              "      <td>36.630736</td>\n",
              "      <td>22.264112</td>\n",
              "      <td>46.106315</td>\n",
              "    </tr>\n",
              "  </tbody>\n",
              "</table>\n",
              "<p>500000 rows × 3 columns</p>\n",
              "</div>"
            ],
            "text/plain": [
              "               z1         z2         z3\n",
              "0       38.278675  34.225605  30.737150\n",
              "1       13.374242  25.186380  35.492232\n",
              "2       19.004055  32.424357  30.502729\n",
              "3       45.496783  14.471168  13.519764\n",
              "4       25.657974  45.725183  22.883904\n",
              "...           ...        ...        ...\n",
              "499995  30.168489  12.033133  13.064841\n",
              "499996  24.587687  17.459267  21.261633\n",
              "499997  42.511001  21.658928  28.763786\n",
              "499998  20.405703  11.602083  35.872333\n",
              "499999  36.630736  22.264112  46.106315\n",
              "\n",
              "[500000 rows x 3 columns]"
            ]
          },
          "metadata": {},
          "execution_count": 37
        }
      ]
    },
    {
      "cell_type": "code",
      "metadata": {
        "id": "JMn7UWE7KaF3"
      },
      "source": [
        "z1 = data['z1']\n",
        "z2 = data['z2']\n",
        "z3 = data['z3']"
      ],
      "execution_count": 38,
      "outputs": []
    },
    {
      "cell_type": "code",
      "metadata": {
        "id": "e7k7y932KxNA"
      },
      "source": [
        "x1 = z1\n",
        "x2 = z2\n",
        "x3 = z3"
      ],
      "execution_count": 39,
      "outputs": []
    },
    {
      "cell_type": "code",
      "metadata": {
        "id": "WkDS9MrFKzSr"
      },
      "source": [
        "new_data = pd.DataFrame({\"x1\" : data['z1'],\n",
        "                         \"x2\" : data['z2'],\n",
        "                         \"x3\" : data['z3'],\n",
        "                         \"e\"  : np.random.normal(0, x1**8, 500000)})"
      ],
      "execution_count": 40,
      "outputs": []
    },
    {
      "cell_type": "code",
      "metadata": {
        "colab": {
          "base_uri": "https://localhost:8080/",
          "height": 447
        },
        "id": "LD4ZySYGWpqp",
        "outputId": "b57b1646-9b84-43a4-8a35-c9c7bea58b61"
      },
      "source": [
        "n=50\n",
        "rep=0\n",
        "table_data_all=pd.DataFrame({\"rep\":[]})\n",
        "data_copy=new_data.copy()\n",
        "while not data_copy.empty:\n",
        "    #=========================\n",
        "    if data_copy.shape[0]>n:\n",
        "        index=data_copy.sample(n).index\n",
        "        data_new=data_copy.loc[index,:].reset_index(drop=True)\n",
        "        data_copy=data_copy.drop(index)\n",
        "    else:\n",
        "        data_new=data_copy.copy().reset_index(drop=True)\n",
        "        data_copy=pd.DataFrame({\"\":[]})\n",
        "    #=========================\n",
        "\n",
        "    table_data = pd.DataFrame({'x1' : data_new['x1'],\n",
        "                               'x2' : data_new['x2'],\n",
        "                               'x3' : data_new['x3'],\n",
        "                               'e'  : data_new['e']})\n",
        "  \n",
        "\n",
        "    table_data['Y'] = 5 + 10*table_data['x1'] + table_data['x2'] + table_data['x3'] + table_data['e']\n",
        "    #table_data['Y_hat'] = 4+0.4*table_data['Xt1']+1.5*table_data['Xt2']+3.6*table_data['Xt3']\n",
        "    \n",
        "    table_data=table_data.reset_index(drop=True).reset_index()\n",
        "    table_data[\"rep\"]=rep\n",
        "    table_data_all=pd.concat([table_data_all,table_data],axis=0,ignore_index=True,sort=False)\n",
        "    rep+=1\n",
        "    if rep==1000:\n",
        "      break\n",
        "table_data_all=table_data_all.set_index([\"rep\",\"index\"])\n",
        "table_data_all"
      ],
      "execution_count": 47,
      "outputs": [
        {
          "output_type": "execute_result",
          "data": {
            "text/html": [
              "<div>\n",
              "<style scoped>\n",
              "    .dataframe tbody tr th:only-of-type {\n",
              "        vertical-align: middle;\n",
              "    }\n",
              "\n",
              "    .dataframe tbody tr th {\n",
              "        vertical-align: top;\n",
              "    }\n",
              "\n",
              "    .dataframe thead th {\n",
              "        text-align: right;\n",
              "    }\n",
              "</style>\n",
              "<table border=\"1\" class=\"dataframe\">\n",
              "  <thead>\n",
              "    <tr style=\"text-align: right;\">\n",
              "      <th></th>\n",
              "      <th></th>\n",
              "      <th>x1</th>\n",
              "      <th>x2</th>\n",
              "      <th>x3</th>\n",
              "      <th>e</th>\n",
              "      <th>Y</th>\n",
              "    </tr>\n",
              "    <tr>\n",
              "      <th>rep</th>\n",
              "      <th>index</th>\n",
              "      <th></th>\n",
              "      <th></th>\n",
              "      <th></th>\n",
              "      <th></th>\n",
              "      <th></th>\n",
              "    </tr>\n",
              "  </thead>\n",
              "  <tbody>\n",
              "    <tr>\n",
              "      <th rowspan=\"5\" valign=\"top\">0.0</th>\n",
              "      <th>0.0</th>\n",
              "      <td>26.154567</td>\n",
              "      <td>10.209535</td>\n",
              "      <td>48.153088</td>\n",
              "      <td>3.133036e+10</td>\n",
              "      <td>3.133036e+10</td>\n",
              "    </tr>\n",
              "    <tr>\n",
              "      <th>1.0</th>\n",
              "      <td>38.382103</td>\n",
              "      <td>32.032779</td>\n",
              "      <td>12.521225</td>\n",
              "      <td>-4.106260e+12</td>\n",
              "      <td>-4.106260e+12</td>\n",
              "    </tr>\n",
              "    <tr>\n",
              "      <th>2.0</th>\n",
              "      <td>18.324124</td>\n",
              "      <td>23.444792</td>\n",
              "      <td>44.631320</td>\n",
              "      <td>1.699491e+10</td>\n",
              "      <td>1.699491e+10</td>\n",
              "    </tr>\n",
              "    <tr>\n",
              "      <th>3.0</th>\n",
              "      <td>10.000008</td>\n",
              "      <td>49.305944</td>\n",
              "      <td>35.024324</td>\n",
              "      <td>5.068413e+07</td>\n",
              "      <td>5.068432e+07</td>\n",
              "    </tr>\n",
              "    <tr>\n",
              "      <th>4.0</th>\n",
              "      <td>43.781407</td>\n",
              "      <td>42.580957</td>\n",
              "      <td>27.715482</td>\n",
              "      <td>1.674949e+13</td>\n",
              "      <td>1.674949e+13</td>\n",
              "    </tr>\n",
              "    <tr>\n",
              "      <th>...</th>\n",
              "      <th>...</th>\n",
              "      <td>...</td>\n",
              "      <td>...</td>\n",
              "      <td>...</td>\n",
              "      <td>...</td>\n",
              "      <td>...</td>\n",
              "    </tr>\n",
              "    <tr>\n",
              "      <th rowspan=\"5\" valign=\"top\">999.0</th>\n",
              "      <th>45.0</th>\n",
              "      <td>43.546431</td>\n",
              "      <td>17.782354</td>\n",
              "      <td>19.563966</td>\n",
              "      <td>1.367144e+13</td>\n",
              "      <td>1.367144e+13</td>\n",
              "    </tr>\n",
              "    <tr>\n",
              "      <th>46.0</th>\n",
              "      <td>16.069590</td>\n",
              "      <td>43.882442</td>\n",
              "      <td>41.851360</td>\n",
              "      <td>3.346198e+09</td>\n",
              "      <td>3.346198e+09</td>\n",
              "    </tr>\n",
              "    <tr>\n",
              "      <th>47.0</th>\n",
              "      <td>22.722670</td>\n",
              "      <td>46.040550</td>\n",
              "      <td>46.308728</td>\n",
              "      <td>5.927896e+10</td>\n",
              "      <td>5.927896e+10</td>\n",
              "    </tr>\n",
              "    <tr>\n",
              "      <th>48.0</th>\n",
              "      <td>47.783214</td>\n",
              "      <td>27.989152</td>\n",
              "      <td>23.833518</td>\n",
              "      <td>-1.983001e+13</td>\n",
              "      <td>-1.983001e+13</td>\n",
              "    </tr>\n",
              "    <tr>\n",
              "      <th>49.0</th>\n",
              "      <td>19.207561</td>\n",
              "      <td>46.395556</td>\n",
              "      <td>18.653260</td>\n",
              "      <td>1.179432e+10</td>\n",
              "      <td>1.179432e+10</td>\n",
              "    </tr>\n",
              "  </tbody>\n",
              "</table>\n",
              "<p>50000 rows × 5 columns</p>\n",
              "</div>"
            ],
            "text/plain": [
              "                    x1         x2         x3             e             Y\n",
              "rep   index                                                             \n",
              "0.0   0.0    26.154567  10.209535  48.153088  3.133036e+10  3.133036e+10\n",
              "      1.0    38.382103  32.032779  12.521225 -4.106260e+12 -4.106260e+12\n",
              "      2.0    18.324124  23.444792  44.631320  1.699491e+10  1.699491e+10\n",
              "      3.0    10.000008  49.305944  35.024324  5.068413e+07  5.068432e+07\n",
              "      4.0    43.781407  42.580957  27.715482  1.674949e+13  1.674949e+13\n",
              "...                ...        ...        ...           ...           ...\n",
              "999.0 45.0   43.546431  17.782354  19.563966  1.367144e+13  1.367144e+13\n",
              "      46.0   16.069590  43.882442  41.851360  3.346198e+09  3.346198e+09\n",
              "      47.0   22.722670  46.040550  46.308728  5.927896e+10  5.927896e+10\n",
              "      48.0   47.783214  27.989152  23.833518 -1.983001e+13 -1.983001e+13\n",
              "      49.0   19.207561  46.395556  18.653260  1.179432e+10  1.179432e+10\n",
              "\n",
              "[50000 rows x 5 columns]"
            ]
          },
          "metadata": {},
          "execution_count": 47
        }
      ]
    },
    {
      "cell_type": "code",
      "metadata": {
        "id": "guEdlQfTZ5lF"
      },
      "source": [
        "x = table_data_all[['x1', 'x2', 'x3',]]\n",
        "y = table_data_all['Y']\n",
        "x = sm.add_constant(x)\n",
        "model = sm.OLS(y, x).fit()\n",
        "y_pred = model.predict(x)"
      ],
      "execution_count": 48,
      "outputs": []
    },
    {
      "cell_type": "code",
      "metadata": {
        "id": "9nQHN7ZBaF9I"
      },
      "source": [
        "df = pd.DataFrame({'Actual': y, 'Predicted': y_pred})"
      ],
      "execution_count": 49,
      "outputs": []
    },
    {
      "cell_type": "code",
      "metadata": {
        "colab": {
          "base_uri": "https://localhost:8080/",
          "height": 447
        },
        "id": "Csk-Vd13aHmS",
        "outputId": "0f03e2e6-9c41-43b8-db02-579adbcda473"
      },
      "source": [
        "table_data_new = pd.DataFrame({'x1'   : table_data_all['x1'],\n",
        "                               'x2'   : table_data_all['x2'],\n",
        "                               'x3'   : table_data_all['x3'],\n",
        "                               'e'     : table_data_all['e'],\n",
        "                               'Y'     : df['Actual'],\n",
        "                               'y_hat' : df['Predicted']})\n",
        "table_data_new['e_hat'] = table_data_new['Y']-table_data_new['y_hat']\n",
        "table_data_new"
      ],
      "execution_count": 50,
      "outputs": [
        {
          "output_type": "execute_result",
          "data": {
            "text/html": [
              "<div>\n",
              "<style scoped>\n",
              "    .dataframe tbody tr th:only-of-type {\n",
              "        vertical-align: middle;\n",
              "    }\n",
              "\n",
              "    .dataframe tbody tr th {\n",
              "        vertical-align: top;\n",
              "    }\n",
              "\n",
              "    .dataframe thead th {\n",
              "        text-align: right;\n",
              "    }\n",
              "</style>\n",
              "<table border=\"1\" class=\"dataframe\">\n",
              "  <thead>\n",
              "    <tr style=\"text-align: right;\">\n",
              "      <th></th>\n",
              "      <th></th>\n",
              "      <th>x1</th>\n",
              "      <th>x2</th>\n",
              "      <th>x3</th>\n",
              "      <th>e</th>\n",
              "      <th>Y</th>\n",
              "      <th>y_hat</th>\n",
              "      <th>e_hat</th>\n",
              "    </tr>\n",
              "    <tr>\n",
              "      <th>rep</th>\n",
              "      <th>index</th>\n",
              "      <th></th>\n",
              "      <th></th>\n",
              "      <th></th>\n",
              "      <th></th>\n",
              "      <th></th>\n",
              "      <th></th>\n",
              "      <th></th>\n",
              "    </tr>\n",
              "  </thead>\n",
              "  <tbody>\n",
              "    <tr>\n",
              "      <th rowspan=\"5\" valign=\"top\">0.0</th>\n",
              "      <th>0.0</th>\n",
              "      <td>26.154567</td>\n",
              "      <td>10.209535</td>\n",
              "      <td>48.153088</td>\n",
              "      <td>3.133036e+10</td>\n",
              "      <td>3.133036e+10</td>\n",
              "      <td>3.227830e+10</td>\n",
              "      <td>-9.479326e+08</td>\n",
              "    </tr>\n",
              "    <tr>\n",
              "      <th>1.0</th>\n",
              "      <td>38.382103</td>\n",
              "      <td>32.032779</td>\n",
              "      <td>12.521225</td>\n",
              "      <td>-4.106260e+12</td>\n",
              "      <td>-4.106260e+12</td>\n",
              "      <td>1.059059e+11</td>\n",
              "      <td>-4.212166e+12</td>\n",
              "    </tr>\n",
              "    <tr>\n",
              "      <th>2.0</th>\n",
              "      <td>18.324124</td>\n",
              "      <td>23.444792</td>\n",
              "      <td>44.631320</td>\n",
              "      <td>1.699491e+10</td>\n",
              "      <td>1.699491e+10</td>\n",
              "      <td>-3.317305e+10</td>\n",
              "      <td>5.016796e+10</td>\n",
              "    </tr>\n",
              "    <tr>\n",
              "      <th>3.0</th>\n",
              "      <td>10.000008</td>\n",
              "      <td>49.305944</td>\n",
              "      <td>35.024324</td>\n",
              "      <td>5.068413e+07</td>\n",
              "      <td>5.068432e+07</td>\n",
              "      <td>-1.209984e+11</td>\n",
              "      <td>1.210491e+11</td>\n",
              "    </tr>\n",
              "    <tr>\n",
              "      <th>4.0</th>\n",
              "      <td>43.781407</td>\n",
              "      <td>42.580957</td>\n",
              "      <td>27.715482</td>\n",
              "      <td>1.674949e+13</td>\n",
              "      <td>1.674949e+13</td>\n",
              "      <td>7.868071e+10</td>\n",
              "      <td>1.667081e+13</td>\n",
              "    </tr>\n",
              "    <tr>\n",
              "      <th>...</th>\n",
              "      <th>...</th>\n",
              "      <td>...</td>\n",
              "      <td>...</td>\n",
              "      <td>...</td>\n",
              "      <td>...</td>\n",
              "      <td>...</td>\n",
              "      <td>...</td>\n",
              "      <td>...</td>\n",
              "    </tr>\n",
              "    <tr>\n",
              "      <th rowspan=\"5\" valign=\"top\">999.0</th>\n",
              "      <th>45.0</th>\n",
              "      <td>43.546431</td>\n",
              "      <td>17.782354</td>\n",
              "      <td>19.563966</td>\n",
              "      <td>1.367144e+13</td>\n",
              "      <td>1.367144e+13</td>\n",
              "      <td>1.539471e+11</td>\n",
              "      <td>1.351749e+13</td>\n",
              "    </tr>\n",
              "    <tr>\n",
              "      <th>46.0</th>\n",
              "      <td>16.069590</td>\n",
              "      <td>43.882442</td>\n",
              "      <td>41.851360</td>\n",
              "      <td>3.346198e+09</td>\n",
              "      <td>3.346198e+09</td>\n",
              "      <td>-8.983237e+10</td>\n",
              "      <td>9.317856e+10</td>\n",
              "    </tr>\n",
              "    <tr>\n",
              "      <th>47.0</th>\n",
              "      <td>22.722670</td>\n",
              "      <td>46.040550</td>\n",
              "      <td>46.308728</td>\n",
              "      <td>5.927896e+10</td>\n",
              "      <td>5.927896e+10</td>\n",
              "      <td>-7.007426e+10</td>\n",
              "      <td>1.293532e+11</td>\n",
              "    </tr>\n",
              "    <tr>\n",
              "      <th>48.0</th>\n",
              "      <td>47.783214</td>\n",
              "      <td>27.989152</td>\n",
              "      <td>23.833518</td>\n",
              "      <td>-1.983001e+13</td>\n",
              "      <td>-1.983001e+13</td>\n",
              "      <td>1.420384e+11</td>\n",
              "      <td>-1.997205e+13</td>\n",
              "    </tr>\n",
              "    <tr>\n",
              "      <th>49.0</th>\n",
              "      <td>19.207561</td>\n",
              "      <td>46.395556</td>\n",
              "      <td>18.653260</td>\n",
              "      <td>1.179432e+10</td>\n",
              "      <td>1.179432e+10</td>\n",
              "      <td>-3.718543e+10</td>\n",
              "      <td>4.897975e+10</td>\n",
              "    </tr>\n",
              "  </tbody>\n",
              "</table>\n",
              "<p>50000 rows × 7 columns</p>\n",
              "</div>"
            ],
            "text/plain": [
              "                    x1         x2  ...         y_hat         e_hat\n",
              "rep   index                        ...                            \n",
              "0.0   0.0    26.154567  10.209535  ...  3.227830e+10 -9.479326e+08\n",
              "      1.0    38.382103  32.032779  ...  1.059059e+11 -4.212166e+12\n",
              "      2.0    18.324124  23.444792  ... -3.317305e+10  5.016796e+10\n",
              "      3.0    10.000008  49.305944  ... -1.209984e+11  1.210491e+11\n",
              "      4.0    43.781407  42.580957  ...  7.868071e+10  1.667081e+13\n",
              "...                ...        ...  ...           ...           ...\n",
              "999.0 45.0   43.546431  17.782354  ...  1.539471e+11  1.351749e+13\n",
              "      46.0   16.069590  43.882442  ... -8.983237e+10  9.317856e+10\n",
              "      47.0   22.722670  46.040550  ... -7.007426e+10  1.293532e+11\n",
              "      48.0   47.783214  27.989152  ...  1.420384e+11 -1.997205e+13\n",
              "      49.0   19.207561  46.395556  ... -3.718543e+10  4.897975e+10\n",
              "\n",
              "[50000 rows x 7 columns]"
            ]
          },
          "metadata": {},
          "execution_count": 50
        }
      ]
    },
    {
      "cell_type": "code",
      "metadata": {
        "colab": {
          "base_uri": "https://localhost:8080/",
          "height": 17
        },
        "id": "C5OFTDz6Zk3U",
        "outputId": "2689ddb1-bba2-40a3-dbfe-7ec620c3d79a"
      },
      "source": [
        "table_data_new.to_csv('sampling_1000rep_n50_x8_sas.csv')\n",
        "files.download('sampling_1000rep_n50_x8_sas.csv')"
      ],
      "execution_count": 51,
      "outputs": [
        {
          "output_type": "display_data",
          "data": {
            "application/javascript": [
              "\n",
              "    async function download(id, filename, size) {\n",
              "      if (!google.colab.kernel.accessAllowed) {\n",
              "        return;\n",
              "      }\n",
              "      const div = document.createElement('div');\n",
              "      const label = document.createElement('label');\n",
              "      label.textContent = `Downloading \"${filename}\": `;\n",
              "      div.appendChild(label);\n",
              "      const progress = document.createElement('progress');\n",
              "      progress.max = size;\n",
              "      div.appendChild(progress);\n",
              "      document.body.appendChild(div);\n",
              "\n",
              "      const buffers = [];\n",
              "      let downloaded = 0;\n",
              "\n",
              "      const channel = await google.colab.kernel.comms.open(id);\n",
              "      // Send a message to notify the kernel that we're ready.\n",
              "      channel.send({})\n",
              "\n",
              "      for await (const message of channel.messages) {\n",
              "        // Send a message to notify the kernel that we're ready.\n",
              "        channel.send({})\n",
              "        if (message.buffers) {\n",
              "          for (const buffer of message.buffers) {\n",
              "            buffers.push(buffer);\n",
              "            downloaded += buffer.byteLength;\n",
              "            progress.value = downloaded;\n",
              "          }\n",
              "        }\n",
              "      }\n",
              "      const blob = new Blob(buffers, {type: 'application/binary'});\n",
              "      const a = document.createElement('a');\n",
              "      a.href = window.URL.createObjectURL(blob);\n",
              "      a.download = filename;\n",
              "      div.appendChild(a);\n",
              "      a.click();\n",
              "      div.remove();\n",
              "    }\n",
              "  "
            ],
            "text/plain": [
              "<IPython.core.display.Javascript object>"
            ]
          },
          "metadata": {}
        },
        {
          "output_type": "display_data",
          "data": {
            "application/javascript": [
              "download(\"download_d222363f-65ac-49c2-8f12-19dde4375ae7\", \"sampling_1000rep_n50_x8_sas.csv\", 7060861)"
            ],
            "text/plain": [
              "<IPython.core.display.Javascript object>"
            ]
          },
          "metadata": {}
        }
      ]
    },
    {
      "cell_type": "code",
      "metadata": {
        "colab": {
          "base_uri": "https://localhost:8080/",
          "height": 1000
        },
        "id": "PGmsIxvuZts5",
        "outputId": "27a9376c-4782-464a-94d7-dcf04f7c7be3"
      },
      "source": [
        "table_data_new.plot(x ='y_hat', y='e_hat', kind = 'scatter')\n",
        "table_data_new.plot(x ='x1', y='e_hat', kind = 'scatter')\n",
        "table_data_new.plot(x ='x2', y='e_hat', kind = 'scatter')\n",
        "table_data_new.plot(x ='x3', y='e_hat', kind = 'scatter')"
      ],
      "execution_count": 46,
      "outputs": [
        {
          "output_type": "execute_result",
          "data": {
            "text/plain": [
              "<matplotlib.axes._subplots.AxesSubplot at 0x7f2272fa81d0>"
            ]
          },
          "metadata": {},
          "execution_count": 46
        },
        {
          "output_type": "display_data",
          "data": {
            "image/png": "[encoded data removed]",
            "text/plain": [
              "<Figure size 432x288 with 1 Axes>"
            ]
          },
          "metadata": {
            "needs_background": "light"
          }
        },
        {
          "output_type": "display_data",
          "data": {
            "image/png": "[encoded data removed]",
            "text/plain": [
              "<Figure size 432x288 with 1 Axes>"
            ]
          },
          "metadata": {
            "needs_background": "light"
          }
        },
        {
          "output_type": "display_data",
          "data": {
            "image/png": "[encoded data removed]",
            "text/plain": [
              "<Figure size 432x288 with 1 Axes>"
            ]
          },
          "metadata": {
            "needs_background": "light"
          }
        },
        {
          "output_type": "display_data",
          "data": {
            "image/png": "[encoded data removed]",
            "text/plain": [
              "<Figure size 432x288 with 1 Axes>"
            ]
          },
          "metadata": {
            "needs_background": "light"
          }
        }
      ]
    }
  ]
}