{
  "nbformat": 4,
  "nbformat_minor": 0,
  "metadata": {
    "colab": {
      "name": "generate_data_new.ipynb",
      "provenance": [],
      "authorship_tag": "ABX9TyMOU1rGBAZbMv9z7dtjbakB",
      "include_colab_link": true
    },
    "kernelspec": {
      "name": "python3",
      "display_name": "Python 3"
    },
    "language_info": {
      "name": "python"
    }
  },
  "cells": [
    {
      "cell_type": "markdown",
      "metadata": {
        "id": "view-in-github",
        "colab_type": "text"
      },
      "source": [
        "<a href=\"https://colab.research.google.com/github/iam-fern/Research/blob/main/generate_data_new.ipynb\" target=\"_parent\"><img src=\"https://colab.research.google.com/assets/colab-badge.svg\" alt=\"Open In Colab\"/></a>"
      ]
    },
    {
      "cell_type": "code",
      "metadata": {
        "id": "Zc-VEzOcYoJ-",
        "outputId": "17bf73b0-043a-4561-f959-91f9b74b2cb3",
        "colab": {
          "base_uri": "https://localhost:8080/"
        }
      },
      "source": [
        "import pandas as pd\n",
        "import numpy as np\n",
        "import matplotlib.pyplot as plt\n",
        "from scipy.stats import norm\n",
        "from numpy.random import normal\n",
        "import statistics\n",
        "import statistics as stats\n",
        "import scipy.stats as ss\n",
        "from scipy import stats\n",
        "import scipy.stats as stats\n",
        "import time\n",
        "import statsmodels.api as sm\n",
        "%matplotlib inline\n",
        "from google.colab import files"
      ],
      "execution_count": 1,
      "outputs": [
        {
          "output_type": "stream",
          "name": "stderr",
          "text": [
            "/usr/local/lib/python3.7/dist-packages/statsmodels/tools/_testing.py:19: FutureWarning: pandas.util.testing is deprecated. Use the functions in the public API at pandas.testing instead.\n",
            "  import pandas.util.testing as tm\n"
          ]
        }
      ]
    },
    {
      "cell_type": "code",
      "metadata": {
        "colab": {
          "base_uri": "https://localhost:8080/",
          "height": 417
        },
        "id": "cMw3HEVrcdia",
        "outputId": "4d98aaa3-286c-448c-a170-0efa7a6141cc"
      },
      "source": [
        "# random.uniform(a, b)\n",
        "# Syntax : numpy.random.uniform(low=0.0, high=1.0, size=None)\n",
        "# a : Required. A number specifying the lowest possible outcome\n",
        "# b : Required. A number specifying the highest possible outcome\n",
        "\n",
        "data = pd.DataFrame({\"z1\" : np.random.uniform(10, 50, 500000),\n",
        "                     \"z2\" : np.random.uniform(10, 50, 500000),\n",
        "                     \"z3\" : np.random.uniform(10, 50, 500000)})\n",
        "data"
      ],
      "execution_count": 2,
      "outputs": [
        {
          "output_type": "execute_result",
          "data": {
            "text/html": [
              "<div>\n",
              "<style scoped>\n",
              "    .dataframe tbody tr th:only-of-type {\n",
              "        vertical-align: middle;\n",
              "    }\n",
              "\n",
              "    .dataframe tbody tr th {\n",
              "        vertical-align: top;\n",
              "    }\n",
              "\n",
              "    .dataframe thead th {\n",
              "        text-align: right;\n",
              "    }\n",
              "</style>\n",
              "<table border=\"1\" class=\"dataframe\">\n",
              "  <thead>\n",
              "    <tr style=\"text-align: right;\">\n",
              "      <th></th>\n",
              "      <th>z1</th>\n",
              "      <th>z2</th>\n",
              "      <th>z3</th>\n",
              "    </tr>\n",
              "  </thead>\n",
              "  <tbody>\n",
              "    <tr>\n",
              "      <th>0</th>\n",
              "      <td>37.802015</td>\n",
              "      <td>17.761136</td>\n",
              "      <td>34.691182</td>\n",
              "    </tr>\n",
              "    <tr>\n",
              "      <th>1</th>\n",
              "      <td>36.530762</td>\n",
              "      <td>49.075284</td>\n",
              "      <td>13.830510</td>\n",
              "    </tr>\n",
              "    <tr>\n",
              "      <th>2</th>\n",
              "      <td>14.477042</td>\n",
              "      <td>27.460392</td>\n",
              "      <td>11.036471</td>\n",
              "    </tr>\n",
              "    <tr>\n",
              "      <th>3</th>\n",
              "      <td>14.089876</td>\n",
              "      <td>34.260251</td>\n",
              "      <td>10.518214</td>\n",
              "    </tr>\n",
              "    <tr>\n",
              "      <th>4</th>\n",
              "      <td>19.692962</td>\n",
              "      <td>16.506561</td>\n",
              "      <td>32.885710</td>\n",
              "    </tr>\n",
              "    <tr>\n",
              "      <th>...</th>\n",
              "      <td>...</td>\n",
              "      <td>...</td>\n",
              "      <td>...</td>\n",
              "    </tr>\n",
              "    <tr>\n",
              "      <th>499995</th>\n",
              "      <td>28.684631</td>\n",
              "      <td>37.377177</td>\n",
              "      <td>20.729494</td>\n",
              "    </tr>\n",
              "    <tr>\n",
              "      <th>499996</th>\n",
              "      <td>21.453927</td>\n",
              "      <td>25.696087</td>\n",
              "      <td>35.528689</td>\n",
              "    </tr>\n",
              "    <tr>\n",
              "      <th>499997</th>\n",
              "      <td>26.704086</td>\n",
              "      <td>12.918015</td>\n",
              "      <td>30.899425</td>\n",
              "    </tr>\n",
              "    <tr>\n",
              "      <th>499998</th>\n",
              "      <td>26.625898</td>\n",
              "      <td>26.126795</td>\n",
              "      <td>36.580697</td>\n",
              "    </tr>\n",
              "    <tr>\n",
              "      <th>499999</th>\n",
              "      <td>34.845257</td>\n",
              "      <td>47.228463</td>\n",
              "      <td>20.019682</td>\n",
              "    </tr>\n",
              "  </tbody>\n",
              "</table>\n",
              "<p>500000 rows × 3 columns</p>\n",
              "</div>"
            ],
            "text/plain": [
              "               z1         z2         z3\n",
              "0       37.802015  17.761136  34.691182\n",
              "1       36.530762  49.075284  13.830510\n",
              "2       14.477042  27.460392  11.036471\n",
              "3       14.089876  34.260251  10.518214\n",
              "4       19.692962  16.506561  32.885710\n",
              "...           ...        ...        ...\n",
              "499995  28.684631  37.377177  20.729494\n",
              "499996  21.453927  25.696087  35.528689\n",
              "499997  26.704086  12.918015  30.899425\n",
              "499998  26.625898  26.126795  36.580697\n",
              "499999  34.845257  47.228463  20.019682\n",
              "\n",
              "[500000 rows x 3 columns]"
            ]
          },
          "metadata": {},
          "execution_count": 2
        }
      ]
    },
    {
      "cell_type": "code",
      "metadata": {
        "id": "JMn7UWE7KaF3"
      },
      "source": [
        "z1 = data['z1']\n",
        "z2 = data['z2']\n",
        "z3 = data['z3']"
      ],
      "execution_count": 4,
      "outputs": []
    },
    {
      "cell_type": "code",
      "metadata": {
        "id": "e7k7y932KxNA"
      },
      "source": [
        "x1 = z1\n",
        "x2 = z2\n",
        "x3 = z3"
      ],
      "execution_count": 5,
      "outputs": []
    },
    {
      "cell_type": "code",
      "metadata": {
        "id": "WkDS9MrFKzSr"
      },
      "source": [
        "new_data = pd.DataFrame({\"x1\" : data['z1'],\n",
        "                         \"x2\" : data['z2'],\n",
        "                         \"x3\" : data['z3'],\n",
        "                         \"e\"  : np.random.normal(0, x1**6, 500000)})"
      ],
      "execution_count": null,
      "outputs": []
    },
    {
      "cell_type": "code",
      "metadata": {
        "id": "cBOhBxZ-cdb5"
      },
      "source": [
        "new_data = pd.DataFrame({\"x1\" : data['z1'],\n",
        "                         \"x2\" : data['z2'],\n",
        "                         \"x3\" : data['z3'],\n",
        "                         \"e\"  : np.random.normal(0, x1**6, 500000)})"
      ],
      "execution_count": 6,
      "outputs": []
    },
    {
      "cell_type": "code",
      "metadata": {
        "id": "LD4ZySYGWpqp",
        "outputId": "c7d8bd0d-f679-4161-a7fe-41ce8ec5418c",
        "colab": {
          "base_uri": "https://localhost:8080/",
          "height": 447
        }
      },
      "source": [
        "n=50\n",
        "rep=0\n",
        "table_data_all=pd.DataFrame({\"rep\":[]})\n",
        "data_copy=new_data.copy()\n",
        "while not data_copy.empty:\n",
        "    #=========================\n",
        "    if data_copy.shape[0]>n:\n",
        "        index=data_copy.sample(n).index\n",
        "        data_new=data_copy.loc[index,:].reset_index(drop=True)\n",
        "        data_copy=data_copy.drop(index)\n",
        "    else:\n",
        "        data_new=data_copy.copy().reset_index(drop=True)\n",
        "        data_copy=pd.DataFrame({\"\":[]})\n",
        "    #=========================\n",
        "\n",
        "    table_data = pd.DataFrame({'x1' : data_new['x1'],\n",
        "                               'x2' : data_new['x2'],\n",
        "                               'x3' : data_new['x3'],\n",
        "                               'e'  : data_new['e']})\n",
        "  \n",
        "\n",
        "    table_data['Y'] = 5 + 10*table_data['x1'] + table_data['x2'] + table_data['x3'] + table_data['e']\n",
        "    #table_data['Y_hat'] = 4+0.4*table_data['Xt1']+1.5*table_data['Xt2']+3.6*table_data['Xt3']\n",
        "    \n",
        "    table_data=table_data.reset_index(drop=True).reset_index()\n",
        "    table_data[\"rep\"]=rep\n",
        "    table_data_all=pd.concat([table_data_all,table_data],axis=0,ignore_index=True,sort=False)\n",
        "    rep+=1\n",
        "    if rep==100:\n",
        "      break\n",
        "table_data_all=table_data_all.set_index([\"rep\",\"index\"])\n",
        "table_data_all"
      ],
      "execution_count": 7,
      "outputs": [
        {
          "output_type": "execute_result",
          "data": {
            "text/html": [
              "<div>\n",
              "<style scoped>\n",
              "    .dataframe tbody tr th:only-of-type {\n",
              "        vertical-align: middle;\n",
              "    }\n",
              "\n",
              "    .dataframe tbody tr th {\n",
              "        vertical-align: top;\n",
              "    }\n",
              "\n",
              "    .dataframe thead th {\n",
              "        text-align: right;\n",
              "    }\n",
              "</style>\n",
              "<table border=\"1\" class=\"dataframe\">\n",
              "  <thead>\n",
              "    <tr style=\"text-align: right;\">\n",
              "      <th></th>\n",
              "      <th></th>\n",
              "      <th>x1</th>\n",
              "      <th>x2</th>\n",
              "      <th>x3</th>\n",
              "      <th>e</th>\n",
              "      <th>Y</th>\n",
              "    </tr>\n",
              "    <tr>\n",
              "      <th>rep</th>\n",
              "      <th>index</th>\n",
              "      <th></th>\n",
              "      <th></th>\n",
              "      <th></th>\n",
              "      <th></th>\n",
              "      <th></th>\n",
              "    </tr>\n",
              "  </thead>\n",
              "  <tbody>\n",
              "    <tr>\n",
              "      <th rowspan=\"5\" valign=\"top\">0.0</th>\n",
              "      <th>0.0</th>\n",
              "      <td>15.664463</td>\n",
              "      <td>33.549879</td>\n",
              "      <td>21.577989</td>\n",
              "      <td>-8.795483e+06</td>\n",
              "      <td>-8.795266e+06</td>\n",
              "    </tr>\n",
              "    <tr>\n",
              "      <th>1.0</th>\n",
              "      <td>43.094629</td>\n",
              "      <td>10.742496</td>\n",
              "      <td>21.772447</td>\n",
              "      <td>-4.736806e+09</td>\n",
              "      <td>-4.736806e+09</td>\n",
              "    </tr>\n",
              "    <tr>\n",
              "      <th>2.0</th>\n",
              "      <td>14.309655</td>\n",
              "      <td>12.277679</td>\n",
              "      <td>38.074888</td>\n",
              "      <td>8.371010e+06</td>\n",
              "      <td>8.371208e+06</td>\n",
              "    </tr>\n",
              "    <tr>\n",
              "      <th>3.0</th>\n",
              "      <td>47.432676</td>\n",
              "      <td>42.396775</td>\n",
              "      <td>21.611796</td>\n",
              "      <td>4.899922e+09</td>\n",
              "      <td>4.899923e+09</td>\n",
              "    </tr>\n",
              "    <tr>\n",
              "      <th>4.0</th>\n",
              "      <td>30.240323</td>\n",
              "      <td>37.426796</td>\n",
              "      <td>18.361415</td>\n",
              "      <td>-5.042831e+08</td>\n",
              "      <td>-5.042828e+08</td>\n",
              "    </tr>\n",
              "    <tr>\n",
              "      <th>...</th>\n",
              "      <th>...</th>\n",
              "      <td>...</td>\n",
              "      <td>...</td>\n",
              "      <td>...</td>\n",
              "      <td>...</td>\n",
              "      <td>...</td>\n",
              "    </tr>\n",
              "    <tr>\n",
              "      <th rowspan=\"5\" valign=\"top\">99.0</th>\n",
              "      <th>45.0</th>\n",
              "      <td>11.711733</td>\n",
              "      <td>12.097388</td>\n",
              "      <td>34.847377</td>\n",
              "      <td>5.904227e+06</td>\n",
              "      <td>5.904396e+06</td>\n",
              "    </tr>\n",
              "    <tr>\n",
              "      <th>46.0</th>\n",
              "      <td>47.316663</td>\n",
              "      <td>49.274670</td>\n",
              "      <td>39.398031</td>\n",
              "      <td>-6.504147e+09</td>\n",
              "      <td>-6.504146e+09</td>\n",
              "    </tr>\n",
              "    <tr>\n",
              "      <th>47.0</th>\n",
              "      <td>25.796852</td>\n",
              "      <td>15.997932</td>\n",
              "      <td>32.989470</td>\n",
              "      <td>1.627609e+08</td>\n",
              "      <td>1.627612e+08</td>\n",
              "    </tr>\n",
              "    <tr>\n",
              "      <th>48.0</th>\n",
              "      <td>10.862142</td>\n",
              "      <td>26.158495</td>\n",
              "      <td>33.650546</td>\n",
              "      <td>-6.300507e+05</td>\n",
              "      <td>-6.298772e+05</td>\n",
              "    </tr>\n",
              "    <tr>\n",
              "      <th>49.0</th>\n",
              "      <td>31.174159</td>\n",
              "      <td>10.584933</td>\n",
              "      <td>17.678516</td>\n",
              "      <td>-9.567325e+08</td>\n",
              "      <td>-9.567322e+08</td>\n",
              "    </tr>\n",
              "  </tbody>\n",
              "</table>\n",
              "<p>5000 rows × 5 columns</p>\n",
              "</div>"
            ],
            "text/plain": [
              "                   x1         x2         x3             e             Y\n",
              "rep  index                                                             \n",
              "0.0  0.0    15.664463  33.549879  21.577989 -8.795483e+06 -8.795266e+06\n",
              "     1.0    43.094629  10.742496  21.772447 -4.736806e+09 -4.736806e+09\n",
              "     2.0    14.309655  12.277679  38.074888  8.371010e+06  8.371208e+06\n",
              "     3.0    47.432676  42.396775  21.611796  4.899922e+09  4.899923e+09\n",
              "     4.0    30.240323  37.426796  18.361415 -5.042831e+08 -5.042828e+08\n",
              "...               ...        ...        ...           ...           ...\n",
              "99.0 45.0   11.711733  12.097388  34.847377  5.904227e+06  5.904396e+06\n",
              "     46.0   47.316663  49.274670  39.398031 -6.504147e+09 -6.504146e+09\n",
              "     47.0   25.796852  15.997932  32.989470  1.627609e+08  1.627612e+08\n",
              "     48.0   10.862142  26.158495  33.650546 -6.300507e+05 -6.298772e+05\n",
              "     49.0   31.174159  10.584933  17.678516 -9.567325e+08 -9.567322e+08\n",
              "\n",
              "[5000 rows x 5 columns]"
            ]
          },
          "metadata": {},
          "execution_count": 7
        }
      ]
    },
    {
      "cell_type": "code",
      "metadata": {
        "id": "C5OFTDz6Zk3U"
      },
      "source": [
        "table_data_new.to_csv('sampling_1000rep_n50_2020.csv')\n",
        "files.download('sampling_1000rep_n50_2020.csv')"
      ],
      "execution_count": null,
      "outputs": []
    },
    {
      "cell_type": "code",
      "metadata": {
        "id": "guEdlQfTZ5lF"
      },
      "source": [
        "x = table_data_all[['x1', 'x2', 'x3',]]\n",
        "y = table_data_all['Y']\n",
        "x = sm.add_constant(x)\n",
        "model = sm.OLS(y, x).fit()\n",
        "y_pred = model.predict(x)"
      ],
      "execution_count": 8,
      "outputs": []
    },
    {
      "cell_type": "code",
      "metadata": {
        "id": "9nQHN7ZBaF9I"
      },
      "source": [
        "df = pd.DataFrame({'Actual': y, 'Predicted': y_pred})"
      ],
      "execution_count": 10,
      "outputs": []
    },
    {
      "cell_type": "code",
      "metadata": {
        "id": "Csk-Vd13aHmS",
        "outputId": "803ca371-dd87-4edc-9423-044e1cd512ab",
        "colab": {
          "base_uri": "https://localhost:8080/",
          "height": 447
        }
      },
      "source": [
        "table_data_new = pd.DataFrame({'x1'   : table_data_all['x1'],\n",
        "                               'x2'   : table_data_all['x2'],\n",
        "                               'x3'   : table_data_all['x3'],\n",
        "                               'e'     : table_data_all['e'],\n",
        "                               'Y'     : df['Actual'],\n",
        "                               'y_hat' : df['Predicted']})\n",
        "table_data_new['e_hat'] = table_data_new['Y']-table_data_new['y_hat']\n",
        "table_data_new"
      ],
      "execution_count": 11,
      "outputs": [
        {
          "output_type": "execute_result",
          "data": {
            "text/html": [
              "<div>\n",
              "<style scoped>\n",
              "    .dataframe tbody tr th:only-of-type {\n",
              "        vertical-align: middle;\n",
              "    }\n",
              "\n",
              "    .dataframe tbody tr th {\n",
              "        vertical-align: top;\n",
              "    }\n",
              "\n",
              "    .dataframe thead th {\n",
              "        text-align: right;\n",
              "    }\n",
              "</style>\n",
              "<table border=\"1\" class=\"dataframe\">\n",
              "  <thead>\n",
              "    <tr style=\"text-align: right;\">\n",
              "      <th></th>\n",
              "      <th></th>\n",
              "      <th>x1</th>\n",
              "      <th>x2</th>\n",
              "      <th>x3</th>\n",
              "      <th>e</th>\n",
              "      <th>Y</th>\n",
              "      <th>y_hat</th>\n",
              "      <th>e_hat</th>\n",
              "    </tr>\n",
              "    <tr>\n",
              "      <th>rep</th>\n",
              "      <th>index</th>\n",
              "      <th></th>\n",
              "      <th></th>\n",
              "      <th></th>\n",
              "      <th></th>\n",
              "      <th></th>\n",
              "      <th></th>\n",
              "      <th></th>\n",
              "    </tr>\n",
              "  </thead>\n",
              "  <tbody>\n",
              "    <tr>\n",
              "      <th rowspan=\"5\" valign=\"top\">0.0</th>\n",
              "      <th>0.0</th>\n",
              "      <td>15.664463</td>\n",
              "      <td>33.549879</td>\n",
              "      <td>21.577989</td>\n",
              "      <td>-8.795483e+06</td>\n",
              "      <td>-8.795266e+06</td>\n",
              "      <td>1.489033e+07</td>\n",
              "      <td>-2.368560e+07</td>\n",
              "    </tr>\n",
              "    <tr>\n",
              "      <th>1.0</th>\n",
              "      <td>43.094629</td>\n",
              "      <td>10.742496</td>\n",
              "      <td>21.772447</td>\n",
              "      <td>-4.736806e+09</td>\n",
              "      <td>-4.736806e+09</td>\n",
              "      <td>-7.606243e+06</td>\n",
              "      <td>-4.729199e+09</td>\n",
              "    </tr>\n",
              "    <tr>\n",
              "      <th>2.0</th>\n",
              "      <td>14.309655</td>\n",
              "      <td>12.277679</td>\n",
              "      <td>38.074888</td>\n",
              "      <td>8.371010e+06</td>\n",
              "      <td>8.371208e+06</td>\n",
              "      <td>-6.766850e+07</td>\n",
              "      <td>7.603971e+07</td>\n",
              "    </tr>\n",
              "    <tr>\n",
              "      <th>3.0</th>\n",
              "      <td>47.432676</td>\n",
              "      <td>42.396775</td>\n",
              "      <td>21.611796</td>\n",
              "      <td>4.899922e+09</td>\n",
              "      <td>4.899923e+09</td>\n",
              "      <td>1.312166e+08</td>\n",
              "      <td>4.768706e+09</td>\n",
              "    </tr>\n",
              "    <tr>\n",
              "      <th>4.0</th>\n",
              "      <td>30.240323</td>\n",
              "      <td>37.426796</td>\n",
              "      <td>18.361415</td>\n",
              "      <td>-5.042831e+08</td>\n",
              "      <td>-5.042828e+08</td>\n",
              "      <td>6.619081e+07</td>\n",
              "      <td>-5.704736e+08</td>\n",
              "    </tr>\n",
              "    <tr>\n",
              "      <th>...</th>\n",
              "      <th>...</th>\n",
              "      <td>...</td>\n",
              "      <td>...</td>\n",
              "      <td>...</td>\n",
              "      <td>...</td>\n",
              "      <td>...</td>\n",
              "      <td>...</td>\n",
              "      <td>...</td>\n",
              "    </tr>\n",
              "    <tr>\n",
              "      <th rowspan=\"5\" valign=\"top\">99.0</th>\n",
              "      <th>45.0</th>\n",
              "      <td>11.711733</td>\n",
              "      <td>12.097388</td>\n",
              "      <td>34.847377</td>\n",
              "      <td>5.904227e+06</td>\n",
              "      <td>5.904396e+06</td>\n",
              "      <td>-7.631987e+07</td>\n",
              "      <td>8.222427e+07</td>\n",
              "    </tr>\n",
              "    <tr>\n",
              "      <th>46.0</th>\n",
              "      <td>47.316663</td>\n",
              "      <td>49.274670</td>\n",
              "      <td>39.398031</td>\n",
              "      <td>-6.504147e+09</td>\n",
              "      <td>-6.504146e+09</td>\n",
              "      <td>1.660624e+08</td>\n",
              "      <td>-6.670209e+09</td>\n",
              "    </tr>\n",
              "    <tr>\n",
              "      <th>47.0</th>\n",
              "      <td>25.796852</td>\n",
              "      <td>15.997932</td>\n",
              "      <td>32.989470</td>\n",
              "      <td>1.627609e+08</td>\n",
              "      <td>1.627612e+08</td>\n",
              "      <td>-2.560690e+07</td>\n",
              "      <td>1.883681e+08</td>\n",
              "    </tr>\n",
              "    <tr>\n",
              "      <th>48.0</th>\n",
              "      <td>10.862142</td>\n",
              "      <td>26.158495</td>\n",
              "      <td>33.650546</td>\n",
              "      <td>-6.300507e+05</td>\n",
              "      <td>-6.298772e+05</td>\n",
              "      <td>-2.216073e+07</td>\n",
              "      <td>2.153085e+07</td>\n",
              "    </tr>\n",
              "    <tr>\n",
              "      <th>49.0</th>\n",
              "      <td>31.174159</td>\n",
              "      <td>10.584933</td>\n",
              "      <td>17.678516</td>\n",
              "      <td>-9.567325e+08</td>\n",
              "      <td>-9.567322e+08</td>\n",
              "      <td>-4.016756e+07</td>\n",
              "      <td>-9.165646e+08</td>\n",
              "    </tr>\n",
              "  </tbody>\n",
              "</table>\n",
              "<p>5000 rows × 7 columns</p>\n",
              "</div>"
            ],
            "text/plain": [
              "                   x1         x2  ...         y_hat         e_hat\n",
              "rep  index                        ...                            \n",
              "0.0  0.0    15.664463  33.549879  ...  1.489033e+07 -2.368560e+07\n",
              "     1.0    43.094629  10.742496  ... -7.606243e+06 -4.729199e+09\n",
              "     2.0    14.309655  12.277679  ... -6.766850e+07  7.603971e+07\n",
              "     3.0    47.432676  42.396775  ...  1.312166e+08  4.768706e+09\n",
              "     4.0    30.240323  37.426796  ...  6.619081e+07 -5.704736e+08\n",
              "...               ...        ...  ...           ...           ...\n",
              "99.0 45.0   11.711733  12.097388  ... -7.631987e+07  8.222427e+07\n",
              "     46.0   47.316663  49.274670  ...  1.660624e+08 -6.670209e+09\n",
              "     47.0   25.796852  15.997932  ... -2.560690e+07  1.883681e+08\n",
              "     48.0   10.862142  26.158495  ... -2.216073e+07  2.153085e+07\n",
              "     49.0   31.174159  10.584933  ... -4.016756e+07 -9.165646e+08\n",
              "\n",
              "[5000 rows x 7 columns]"
            ]
          },
          "metadata": {},
          "execution_count": 11
        }
      ]
    },
    {
      "cell_type": "code",
      "metadata": {
        "id": "PGmsIxvuZts5",
        "outputId": "6fa53959-0d6f-4b02-e955-0d335e0d7110",
        "colab": {
          "base_uri": "https://localhost:8080/",
          "height": 1000
        }
      },
      "source": [
        "table_data_new.plot(x ='y_hat', y='e_hat', kind = 'scatter')\n",
        "table_data_new.plot(x ='x1', y='e_hat', kind = 'scatter')\n",
        "table_data_new.plot(x ='x2', y='e_hat', kind = 'scatter')\n",
        "table_data_new.plot(x ='x3', y='e_hat', kind = 'scatter')"
      ],
      "execution_count": 13,
      "outputs": [
        {
          "output_type": "execute_result",
          "data": {
            "text/plain": [
              "<matplotlib.axes._subplots.AxesSubplot at 0x7f22749aa610>"
            ]
          },
          "metadata": {},
          "execution_count": 13
        },
        {
          "output_type": "display_data",
          "data": {
            "image/png": "[encoded data removed]",
            "text/plain": [
              "<Figure size 432x288 with 1 Axes>"
            ]
          },
          "metadata": {
            "needs_background": "light"
          }
        },
        {
          "output_type": "display_data",
          "data": {
            "image/png": "[encoded data removed]",
            "text/plain": [
              "<Figure size 432x288 with 1 Axes>"
            ]
          },
          "metadata": {
            "needs_background": "light"
          }
        },
        {
          "output_type": "display_data",
          "data": {
            "image/png": "[encoded data removed]",
            "text/plain": [
              "<Figure size 432x288 with 1 Axes>"
            ]
          },
          "metadata": {
            "needs_background": "light"
          }
        },
        {
          "output_type": "display_data",
          "data": {
            "image/png": "[encoded data removed]",
            "text/plain": [
              "<Figure size 432x288 with 1 Axes>"
            ]
          },
          "metadata": {
            "needs_background": "light"
          }
        }
      ]
    }
  ]
}