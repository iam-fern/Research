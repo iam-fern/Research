{
  "nbformat": 4,
  "nbformat_minor": 0,
  "metadata": {
    "colab": {
      "name": "ex_generate_datanew.ipynb",
      "provenance": [],
      "authorship_tag": "ABX9TyNjdv3Hn36vNiOG2qTBWpJu",
      "include_colab_link": true
    },
    "kernelspec": {
      "name": "python3",
      "display_name": "Python 3"
    },
    "language_info": {
      "name": "python"
    }
  },
  "cells": [
    {
      "cell_type": "markdown",
      "metadata": {
        "id": "view-in-github",
        "colab_type": "text"
      },
      "source": [
        "<a href=\"https://colab.research.google.com/github/iam-fern/Research/blob/main/ex_generate_datanew.ipynb\" target=\"_parent\"><img src=\"https://colab.research.google.com/assets/colab-badge.svg\" alt=\"Open In Colab\"/></a>"
      ]
    },
    {
      "cell_type": "code",
      "metadata": {
        "id": "9gApkAuOU7o_"
      },
      "source": [
        "import pandas as pd\n",
        "import numpy as np\n",
        "import matplotlib.pyplot as plt\n",
        "from scipy.stats import norm\n",
        "from numpy.random import normal\n",
        "import statistics"
      ],
      "execution_count": 1,
      "outputs": []
    },
    {
      "cell_type": "code",
      "metadata": {
        "colab": {
          "base_uri": "https://localhost:8080/",
          "height": 417
        },
        "id": "HnCG3Wz3Vrnm",
        "outputId": "abe28260-80f9-4b4d-b25f-860cb874b667"
      },
      "source": [
        "data = pd.DataFrame({\"zt1\" : normal(0, 1, 3000),\n",
        "                     \"zt2\" : normal(0, 1, 3000),\n",
        "                     \"zt3\" : normal(0, 1, 3000)})\n",
        "data"
      ],
      "execution_count": 2,
      "outputs": [
        {
          "output_type": "execute_result",
          "data": {
            "text/html": [
              "<div>\n",
              "<style scoped>\n",
              "    .dataframe tbody tr th:only-of-type {\n",
              "        vertical-align: middle;\n",
              "    }\n",
              "\n",
              "    .dataframe tbody tr th {\n",
              "        vertical-align: top;\n",
              "    }\n",
              "\n",
              "    .dataframe thead th {\n",
              "        text-align: right;\n",
              "    }\n",
              "</style>\n",
              "<table border=\"1\" class=\"dataframe\">\n",
              "  <thead>\n",
              "    <tr style=\"text-align: right;\">\n",
              "      <th></th>\n",
              "      <th>zt1</th>\n",
              "      <th>zt2</th>\n",
              "      <th>zt3</th>\n",
              "    </tr>\n",
              "  </thead>\n",
              "  <tbody>\n",
              "    <tr>\n",
              "      <th>0</th>\n",
              "      <td>0.256990</td>\n",
              "      <td>0.272513</td>\n",
              "      <td>1.213669</td>\n",
              "    </tr>\n",
              "    <tr>\n",
              "      <th>1</th>\n",
              "      <td>1.340602</td>\n",
              "      <td>-0.710923</td>\n",
              "      <td>-1.005844</td>\n",
              "    </tr>\n",
              "    <tr>\n",
              "      <th>2</th>\n",
              "      <td>0.720930</td>\n",
              "      <td>0.600316</td>\n",
              "      <td>1.573647</td>\n",
              "    </tr>\n",
              "    <tr>\n",
              "      <th>3</th>\n",
              "      <td>-0.547737</td>\n",
              "      <td>1.054290</td>\n",
              "      <td>-1.115984</td>\n",
              "    </tr>\n",
              "    <tr>\n",
              "      <th>4</th>\n",
              "      <td>1.271528</td>\n",
              "      <td>-0.879396</td>\n",
              "      <td>1.174753</td>\n",
              "    </tr>\n",
              "    <tr>\n",
              "      <th>...</th>\n",
              "      <td>...</td>\n",
              "      <td>...</td>\n",
              "      <td>...</td>\n",
              "    </tr>\n",
              "    <tr>\n",
              "      <th>2995</th>\n",
              "      <td>-0.631709</td>\n",
              "      <td>-0.077439</td>\n",
              "      <td>1.358460</td>\n",
              "    </tr>\n",
              "    <tr>\n",
              "      <th>2996</th>\n",
              "      <td>0.017545</td>\n",
              "      <td>-0.798565</td>\n",
              "      <td>-1.249901</td>\n",
              "    </tr>\n",
              "    <tr>\n",
              "      <th>2997</th>\n",
              "      <td>1.931284</td>\n",
              "      <td>-1.774953</td>\n",
              "      <td>0.111212</td>\n",
              "    </tr>\n",
              "    <tr>\n",
              "      <th>2998</th>\n",
              "      <td>0.157436</td>\n",
              "      <td>-1.713059</td>\n",
              "      <td>1.095505</td>\n",
              "    </tr>\n",
              "    <tr>\n",
              "      <th>2999</th>\n",
              "      <td>0.018562</td>\n",
              "      <td>1.187993</td>\n",
              "      <td>-1.205637</td>\n",
              "    </tr>\n",
              "  </tbody>\n",
              "</table>\n",
              "<p>3000 rows × 3 columns</p>\n",
              "</div>"
            ],
            "text/plain": [
              "           zt1       zt2       zt3\n",
              "0     0.256990  0.272513  1.213669\n",
              "1     1.340602 -0.710923 -1.005844\n",
              "2     0.720930  0.600316  1.573647\n",
              "3    -0.547737  1.054290 -1.115984\n",
              "4     1.271528 -0.879396  1.174753\n",
              "...        ...       ...       ...\n",
              "2995 -0.631709 -0.077439  1.358460\n",
              "2996  0.017545 -0.798565 -1.249901\n",
              "2997  1.931284 -1.774953  0.111212\n",
              "2998  0.157436 -1.713059  1.095505\n",
              "2999  0.018562  1.187993 -1.205637\n",
              "\n",
              "[3000 rows x 3 columns]"
            ]
          },
          "metadata": {},
          "execution_count": 2
        }
      ]
    },
    {
      "cell_type": "code",
      "metadata": {
        "id": "5lsz1Ez_Vv3G"
      },
      "source": [
        "p = 0"
      ],
      "execution_count": 3,
      "outputs": []
    },
    {
      "cell_type": "code",
      "metadata": {
        "id": "MvwerbBuVyXF"
      },
      "source": [
        "Zt1 = data['zt1']\n",
        "Zt2 = data['zt2']\n",
        "Zt3 = data['zt3']"
      ],
      "execution_count": 4,
      "outputs": []
    },
    {
      "cell_type": "code",
      "metadata": {
        "id": "RAHbelpdVyU8"
      },
      "source": [
        "xt1 = (1-(p**2))**(1/2)*Zt1\n",
        "xt2 = (1-(p**2))**(1/2)*Zt2\n",
        "xt3 = (1-(p**2))**(1/2)*Zt3"
      ],
      "execution_count": 5,
      "outputs": []
    },
    {
      "cell_type": "code",
      "metadata": {
        "colab": {
          "base_uri": "https://localhost:8080/",
          "height": 417
        },
        "id": "kru17uG2VySe",
        "outputId": "61349646-c019-4205-9a58-ea043497362b"
      },
      "source": [
        "new_data = pd.DataFrame({'Xt1' : data['zt1'],\n",
        "                         'Xt2' : data['zt2'],\n",
        "                         'Xt3' : data['zt3'],\n",
        "                         'e'   : normal(0, xt2**4, 3000)})\n",
        "new_data"
      ],
      "execution_count": 6,
      "outputs": [
        {
          "output_type": "execute_result",
          "data": {
            "text/html": [
              "<div>\n",
              "<style scoped>\n",
              "    .dataframe tbody tr th:only-of-type {\n",
              "        vertical-align: middle;\n",
              "    }\n",
              "\n",
              "    .dataframe tbody tr th {\n",
              "        vertical-align: top;\n",
              "    }\n",
              "\n",
              "    .dataframe thead th {\n",
              "        text-align: right;\n",
              "    }\n",
              "</style>\n",
              "<table border=\"1\" class=\"dataframe\">\n",
              "  <thead>\n",
              "    <tr style=\"text-align: right;\">\n",
              "      <th></th>\n",
              "      <th>Xt1</th>\n",
              "      <th>Xt2</th>\n",
              "      <th>Xt3</th>\n",
              "      <th>e</th>\n",
              "    </tr>\n",
              "  </thead>\n",
              "  <tbody>\n",
              "    <tr>\n",
              "      <th>0</th>\n",
              "      <td>0.256990</td>\n",
              "      <td>0.272513</td>\n",
              "      <td>1.213669</td>\n",
              "      <td>-0.003291</td>\n",
              "    </tr>\n",
              "    <tr>\n",
              "      <th>1</th>\n",
              "      <td>1.340602</td>\n",
              "      <td>-0.710923</td>\n",
              "      <td>-1.005844</td>\n",
              "      <td>0.277638</td>\n",
              "    </tr>\n",
              "    <tr>\n",
              "      <th>2</th>\n",
              "      <td>0.720930</td>\n",
              "      <td>0.600316</td>\n",
              "      <td>1.573647</td>\n",
              "      <td>-0.181165</td>\n",
              "    </tr>\n",
              "    <tr>\n",
              "      <th>3</th>\n",
              "      <td>-0.547737</td>\n",
              "      <td>1.054290</td>\n",
              "      <td>-1.115984</td>\n",
              "      <td>-1.327789</td>\n",
              "    </tr>\n",
              "    <tr>\n",
              "      <th>4</th>\n",
              "      <td>1.271528</td>\n",
              "      <td>-0.879396</td>\n",
              "      <td>1.174753</td>\n",
              "      <td>0.324739</td>\n",
              "    </tr>\n",
              "    <tr>\n",
              "      <th>...</th>\n",
              "      <td>...</td>\n",
              "      <td>...</td>\n",
              "      <td>...</td>\n",
              "      <td>...</td>\n",
              "    </tr>\n",
              "    <tr>\n",
              "      <th>2995</th>\n",
              "      <td>-0.631709</td>\n",
              "      <td>-0.077439</td>\n",
              "      <td>1.358460</td>\n",
              "      <td>0.000041</td>\n",
              "    </tr>\n",
              "    <tr>\n",
              "      <th>2996</th>\n",
              "      <td>0.017545</td>\n",
              "      <td>-0.798565</td>\n",
              "      <td>-1.249901</td>\n",
              "      <td>0.145647</td>\n",
              "    </tr>\n",
              "    <tr>\n",
              "      <th>2997</th>\n",
              "      <td>1.931284</td>\n",
              "      <td>-1.774953</td>\n",
              "      <td>0.111212</td>\n",
              "      <td>4.072751</td>\n",
              "    </tr>\n",
              "    <tr>\n",
              "      <th>2998</th>\n",
              "      <td>0.157436</td>\n",
              "      <td>-1.713059</td>\n",
              "      <td>1.095505</td>\n",
              "      <td>-0.942884</td>\n",
              "    </tr>\n",
              "    <tr>\n",
              "      <th>2999</th>\n",
              "      <td>0.018562</td>\n",
              "      <td>1.187993</td>\n",
              "      <td>-1.205637</td>\n",
              "      <td>-1.271729</td>\n",
              "    </tr>\n",
              "  </tbody>\n",
              "</table>\n",
              "<p>3000 rows × 4 columns</p>\n",
              "</div>"
            ],
            "text/plain": [
              "           Xt1       Xt2       Xt3         e\n",
              "0     0.256990  0.272513  1.213669 -0.003291\n",
              "1     1.340602 -0.710923 -1.005844  0.277638\n",
              "2     0.720930  0.600316  1.573647 -0.181165\n",
              "3    -0.547737  1.054290 -1.115984 -1.327789\n",
              "4     1.271528 -0.879396  1.174753  0.324739\n",
              "...        ...       ...       ...       ...\n",
              "2995 -0.631709 -0.077439  1.358460  0.000041\n",
              "2996  0.017545 -0.798565 -1.249901  0.145647\n",
              "2997  1.931284 -1.774953  0.111212  4.072751\n",
              "2998  0.157436 -1.713059  1.095505 -0.942884\n",
              "2999  0.018562  1.187993 -1.205637 -1.271729\n",
              "\n",
              "[3000 rows x 4 columns]"
            ]
          },
          "metadata": {},
          "execution_count": 6
        }
      ]
    },
    {
      "cell_type": "code",
      "metadata": {
        "colab": {
          "base_uri": "https://localhost:8080/",
          "height": 417
        },
        "id": "GAAbj4NwVyP1",
        "outputId": "d5ea9ec4-2ccf-4f59-fdd8-01ac9074cb11"
      },
      "source": [
        "table_data = pd.DataFrame({'Xt1' : data['zt1'],\n",
        "                           'Xt2' : data['zt2'],\n",
        "                           'Xt3' : data['zt3'],\n",
        "                           'e'   : new_data['e']})\n",
        "table_data['Y'] = 4 + 0.4*table_data['Xt1'] + 1.5*table_data['Xt2'] + 3.6*table_data['Xt3'] + table_data['e']\n",
        "table_data"
      ],
      "execution_count": 7,
      "outputs": [
        {
          "output_type": "execute_result",
          "data": {
            "text/html": [
              "<div>\n",
              "<style scoped>\n",
              "    .dataframe tbody tr th:only-of-type {\n",
              "        vertical-align: middle;\n",
              "    }\n",
              "\n",
              "    .dataframe tbody tr th {\n",
              "        vertical-align: top;\n",
              "    }\n",
              "\n",
              "    .dataframe thead th {\n",
              "        text-align: right;\n",
              "    }\n",
              "</style>\n",
              "<table border=\"1\" class=\"dataframe\">\n",
              "  <thead>\n",
              "    <tr style=\"text-align: right;\">\n",
              "      <th></th>\n",
              "      <th>Xt1</th>\n",
              "      <th>Xt2</th>\n",
              "      <th>Xt3</th>\n",
              "      <th>e</th>\n",
              "      <th>Y</th>\n",
              "    </tr>\n",
              "  </thead>\n",
              "  <tbody>\n",
              "    <tr>\n",
              "      <th>0</th>\n",
              "      <td>0.256990</td>\n",
              "      <td>0.272513</td>\n",
              "      <td>1.213669</td>\n",
              "      <td>-0.003291</td>\n",
              "      <td>8.877484</td>\n",
              "    </tr>\n",
              "    <tr>\n",
              "      <th>1</th>\n",
              "      <td>1.340602</td>\n",
              "      <td>-0.710923</td>\n",
              "      <td>-1.005844</td>\n",
              "      <td>0.277638</td>\n",
              "      <td>0.126455</td>\n",
              "    </tr>\n",
              "    <tr>\n",
              "      <th>2</th>\n",
              "      <td>0.720930</td>\n",
              "      <td>0.600316</td>\n",
              "      <td>1.573647</td>\n",
              "      <td>-0.181165</td>\n",
              "      <td>10.672812</td>\n",
              "    </tr>\n",
              "    <tr>\n",
              "      <th>3</th>\n",
              "      <td>-0.547737</td>\n",
              "      <td>1.054290</td>\n",
              "      <td>-1.115984</td>\n",
              "      <td>-1.327789</td>\n",
              "      <td>0.017011</td>\n",
              "    </tr>\n",
              "    <tr>\n",
              "      <th>4</th>\n",
              "      <td>1.271528</td>\n",
              "      <td>-0.879396</td>\n",
              "      <td>1.174753</td>\n",
              "      <td>0.324739</td>\n",
              "      <td>7.743364</td>\n",
              "    </tr>\n",
              "    <tr>\n",
              "      <th>...</th>\n",
              "      <td>...</td>\n",
              "      <td>...</td>\n",
              "      <td>...</td>\n",
              "      <td>...</td>\n",
              "      <td>...</td>\n",
              "    </tr>\n",
              "    <tr>\n",
              "      <th>2995</th>\n",
              "      <td>-0.631709</td>\n",
              "      <td>-0.077439</td>\n",
              "      <td>1.358460</td>\n",
              "      <td>0.000041</td>\n",
              "      <td>8.521653</td>\n",
              "    </tr>\n",
              "    <tr>\n",
              "      <th>2996</th>\n",
              "      <td>0.017545</td>\n",
              "      <td>-0.798565</td>\n",
              "      <td>-1.249901</td>\n",
              "      <td>0.145647</td>\n",
              "      <td>-1.544825</td>\n",
              "    </tr>\n",
              "    <tr>\n",
              "      <th>2997</th>\n",
              "      <td>1.931284</td>\n",
              "      <td>-1.774953</td>\n",
              "      <td>0.111212</td>\n",
              "      <td>4.072751</td>\n",
              "      <td>6.583198</td>\n",
              "    </tr>\n",
              "    <tr>\n",
              "      <th>2998</th>\n",
              "      <td>0.157436</td>\n",
              "      <td>-1.713059</td>\n",
              "      <td>1.095505</td>\n",
              "      <td>-0.942884</td>\n",
              "      <td>4.494321</td>\n",
              "    </tr>\n",
              "    <tr>\n",
              "      <th>2999</th>\n",
              "      <td>0.018562</td>\n",
              "      <td>1.187993</td>\n",
              "      <td>-1.205637</td>\n",
              "      <td>-1.271729</td>\n",
              "      <td>0.177392</td>\n",
              "    </tr>\n",
              "  </tbody>\n",
              "</table>\n",
              "<p>3000 rows × 5 columns</p>\n",
              "</div>"
            ],
            "text/plain": [
              "           Xt1       Xt2       Xt3         e          Y\n",
              "0     0.256990  0.272513  1.213669 -0.003291   8.877484\n",
              "1     1.340602 -0.710923 -1.005844  0.277638   0.126455\n",
              "2     0.720930  0.600316  1.573647 -0.181165  10.672812\n",
              "3    -0.547737  1.054290 -1.115984 -1.327789   0.017011\n",
              "4     1.271528 -0.879396  1.174753  0.324739   7.743364\n",
              "...        ...       ...       ...       ...        ...\n",
              "2995 -0.631709 -0.077439  1.358460  0.000041   8.521653\n",
              "2996  0.017545 -0.798565 -1.249901  0.145647  -1.544825\n",
              "2997  1.931284 -1.774953  0.111212  4.072751   6.583198\n",
              "2998  0.157436 -1.713059  1.095505 -0.942884   4.494321\n",
              "2999  0.018562  1.187993 -1.205637 -1.271729   0.177392\n",
              "\n",
              "[3000 rows x 5 columns]"
            ]
          },
          "metadata": {},
          "execution_count": 7
        }
      ]
    },
    {
      "cell_type": "code",
      "metadata": {
        "colab": {
          "base_uri": "https://localhost:8080/"
        },
        "id": "483Ln2auWCvS",
        "outputId": "796b7b02-68d2-4721-e344-e823b12ee6b1"
      },
      "source": [
        "new_data.mean()"
      ],
      "execution_count": 8,
      "outputs": [
        {
          "output_type": "execute_result",
          "data": {
            "text/plain": [
              "Xt1   -0.008234\n",
              "Xt2   -0.013976\n",
              "Xt3    0.008791\n",
              "e      0.095292\n",
              "dtype: float64"
            ]
          },
          "metadata": {},
          "execution_count": 8
        }
      ]
    },
    {
      "cell_type": "code",
      "metadata": {
        "colab": {
          "base_uri": "https://localhost:8080/"
        },
        "id": "fwi1ra_vWEuY",
        "outputId": "f05825c6-ed74-4e70-a9cf-c7456c4090c1"
      },
      "source": [
        "new_data.var()"
      ],
      "execution_count": 9,
      "outputs": [
        {
          "output_type": "execute_result",
          "data": {
            "text/plain": [
              "Xt1      1.012745\n",
              "Xt2      1.013779\n",
              "Xt3      1.018372\n",
              "e      127.065325\n",
              "dtype: float64"
            ]
          },
          "metadata": {},
          "execution_count": 9
        }
      ]
    },
    {
      "cell_type": "code",
      "metadata": {
        "colab": {
          "base_uri": "https://localhost:8080/",
          "height": 142
        },
        "id": "VsGMoJPAWHEG",
        "outputId": "41b2de91-20ae-458f-cfaf-50938e902c57"
      },
      "source": [
        "# Compute pairwise correlation of columns, excluding NA/null values.\n",
        "\n",
        "data.corr()"
      ],
      "execution_count": 10,
      "outputs": [
        {
          "output_type": "execute_result",
          "data": {
            "text/html": [
              "<div>\n",
              "<style scoped>\n",
              "    .dataframe tbody tr th:only-of-type {\n",
              "        vertical-align: middle;\n",
              "    }\n",
              "\n",
              "    .dataframe tbody tr th {\n",
              "        vertical-align: top;\n",
              "    }\n",
              "\n",
              "    .dataframe thead th {\n",
              "        text-align: right;\n",
              "    }\n",
              "</style>\n",
              "<table border=\"1\" class=\"dataframe\">\n",
              "  <thead>\n",
              "    <tr style=\"text-align: right;\">\n",
              "      <th></th>\n",
              "      <th>zt1</th>\n",
              "      <th>zt2</th>\n",
              "      <th>zt3</th>\n",
              "    </tr>\n",
              "  </thead>\n",
              "  <tbody>\n",
              "    <tr>\n",
              "      <th>zt1</th>\n",
              "      <td>1.000000</td>\n",
              "      <td>0.007216</td>\n",
              "      <td>0.022636</td>\n",
              "    </tr>\n",
              "    <tr>\n",
              "      <th>zt2</th>\n",
              "      <td>0.007216</td>\n",
              "      <td>1.000000</td>\n",
              "      <td>0.001025</td>\n",
              "    </tr>\n",
              "    <tr>\n",
              "      <th>zt3</th>\n",
              "      <td>0.022636</td>\n",
              "      <td>0.001025</td>\n",
              "      <td>1.000000</td>\n",
              "    </tr>\n",
              "  </tbody>\n",
              "</table>\n",
              "</div>"
            ],
            "text/plain": [
              "          zt1       zt2       zt3\n",
              "zt1  1.000000  0.007216  0.022636\n",
              "zt2  0.007216  1.000000  0.001025\n",
              "zt3  0.022636  0.001025  1.000000"
            ]
          },
          "metadata": {},
          "execution_count": 10
        }
      ]
    },
    {
      "cell_type": "code",
      "metadata": {
        "id": "PIBY7X8ZWMbE"
      },
      "source": [
        ""
      ],
      "execution_count": null,
      "outputs": []
    }
  ]
}