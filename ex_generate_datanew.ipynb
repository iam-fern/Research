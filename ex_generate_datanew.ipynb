{
  "nbformat": 4,
  "nbformat_minor": 0,
  "metadata": {
    "colab": {
      "name": "ex_generate_datanew.ipynb",
      "provenance": [],
      "collapsed_sections": [],
      "authorship_tag": "ABX9TyMsP/DOlTMS+DDQyoNS54nf",
      "include_colab_link": true
    },
    "kernelspec": {
      "name": "python3",
      "display_name": "Python 3"
    },
    "language_info": {
      "name": "python"
    }
  },
  "cells": [
    {
      "cell_type": "markdown",
      "metadata": {
        "id": "view-in-github",
        "colab_type": "text"
      },
      "source": [
        "<a href=\"https://colab.research.google.com/github/iam-fern/Research/blob/main/ex_generate_datanew.ipynb\" target=\"_parent\"><img src=\"https://colab.research.google.com/assets/colab-badge.svg\" alt=\"Open In Colab\"/></a>"
      ]
    },
    {
      "cell_type": "code",
      "metadata": {
        "id": "9gApkAuOU7o_"
      },
      "source": [
        "import pandas as pd\n",
        "import numpy as np\n",
        "import matplotlib.pyplot as plt\n",
        "from scipy.stats import norm\n",
        "from numpy.random import normal\n",
        "import statistics"
      ],
      "execution_count": 2,
      "outputs": []
    },
    {
      "cell_type": "code",
      "metadata": {
        "colab": {
          "base_uri": "https://localhost:8080/",
          "height": 417
        },
        "id": "HnCG3Wz3Vrnm",
        "outputId": "6bc09ae2-a52f-4eeb-f916-29d17766ddd7"
      },
      "source": [
        "data = pd.DataFrame({\"zt1\" : normal(0, 1, 3000),\n",
        "                     \"zt2\" : normal(0, 1, 3000),\n",
        "                     \"zt3\" : normal(0, 1, 3000)})\n",
        "data"
      ],
      "execution_count": 3,
      "outputs": [
        {
          "output_type": "execute_result",
          "data": {
            "text/html": [
              "<div>\n",
              "<style scoped>\n",
              "    .dataframe tbody tr th:only-of-type {\n",
              "        vertical-align: middle;\n",
              "    }\n",
              "\n",
              "    .dataframe tbody tr th {\n",
              "        vertical-align: top;\n",
              "    }\n",
              "\n",
              "    .dataframe thead th {\n",
              "        text-align: right;\n",
              "    }\n",
              "</style>\n",
              "<table border=\"1\" class=\"dataframe\">\n",
              "  <thead>\n",
              "    <tr style=\"text-align: right;\">\n",
              "      <th></th>\n",
              "      <th>zt1</th>\n",
              "      <th>zt2</th>\n",
              "      <th>zt3</th>\n",
              "    </tr>\n",
              "  </thead>\n",
              "  <tbody>\n",
              "    <tr>\n",
              "      <th>0</th>\n",
              "      <td>0.755341</td>\n",
              "      <td>0.301218</td>\n",
              "      <td>-0.937971</td>\n",
              "    </tr>\n",
              "    <tr>\n",
              "      <th>1</th>\n",
              "      <td>0.143752</td>\n",
              "      <td>-0.861772</td>\n",
              "      <td>-1.542539</td>\n",
              "    </tr>\n",
              "    <tr>\n",
              "      <th>2</th>\n",
              "      <td>-0.569876</td>\n",
              "      <td>-0.812114</td>\n",
              "      <td>-1.124769</td>\n",
              "    </tr>\n",
              "    <tr>\n",
              "      <th>3</th>\n",
              "      <td>0.006066</td>\n",
              "      <td>-0.297299</td>\n",
              "      <td>-0.148308</td>\n",
              "    </tr>\n",
              "    <tr>\n",
              "      <th>4</th>\n",
              "      <td>-0.473473</td>\n",
              "      <td>-0.026203</td>\n",
              "      <td>0.466757</td>\n",
              "    </tr>\n",
              "    <tr>\n",
              "      <th>...</th>\n",
              "      <td>...</td>\n",
              "      <td>...</td>\n",
              "      <td>...</td>\n",
              "    </tr>\n",
              "    <tr>\n",
              "      <th>2995</th>\n",
              "      <td>0.840966</td>\n",
              "      <td>-0.003035</td>\n",
              "      <td>-1.242215</td>\n",
              "    </tr>\n",
              "    <tr>\n",
              "      <th>2996</th>\n",
              "      <td>1.241764</td>\n",
              "      <td>-0.576958</td>\n",
              "      <td>1.445442</td>\n",
              "    </tr>\n",
              "    <tr>\n",
              "      <th>2997</th>\n",
              "      <td>-1.058109</td>\n",
              "      <td>-0.571064</td>\n",
              "      <td>0.211047</td>\n",
              "    </tr>\n",
              "    <tr>\n",
              "      <th>2998</th>\n",
              "      <td>-0.013071</td>\n",
              "      <td>-0.561579</td>\n",
              "      <td>0.171033</td>\n",
              "    </tr>\n",
              "    <tr>\n",
              "      <th>2999</th>\n",
              "      <td>-1.058767</td>\n",
              "      <td>-0.178490</td>\n",
              "      <td>0.907317</td>\n",
              "    </tr>\n",
              "  </tbody>\n",
              "</table>\n",
              "<p>3000 rows × 3 columns</p>\n",
              "</div>"
            ],
            "text/plain": [
              "           zt1       zt2       zt3\n",
              "0     0.755341  0.301218 -0.937971\n",
              "1     0.143752 -0.861772 -1.542539\n",
              "2    -0.569876 -0.812114 -1.124769\n",
              "3     0.006066 -0.297299 -0.148308\n",
              "4    -0.473473 -0.026203  0.466757\n",
              "...        ...       ...       ...\n",
              "2995  0.840966 -0.003035 -1.242215\n",
              "2996  1.241764 -0.576958  1.445442\n",
              "2997 -1.058109 -0.571064  0.211047\n",
              "2998 -0.013071 -0.561579  0.171033\n",
              "2999 -1.058767 -0.178490  0.907317\n",
              "\n",
              "[3000 rows x 3 columns]"
            ]
          },
          "metadata": {},
          "execution_count": 3
        }
      ]
    },
    {
      "cell_type": "code",
      "metadata": {
        "id": "5lsz1Ez_Vv3G"
      },
      "source": [
        "p = 0"
      ],
      "execution_count": 4,
      "outputs": []
    },
    {
      "cell_type": "code",
      "metadata": {
        "id": "MvwerbBuVyXF"
      },
      "source": [
        "Zt1 = data['zt1']\n",
        "Zt2 = data['zt2']\n",
        "Zt3 = data['zt3']"
      ],
      "execution_count": 5,
      "outputs": []
    },
    {
      "cell_type": "code",
      "metadata": {
        "id": "RAHbelpdVyU8"
      },
      "source": [
        "xt1 = (1-(p**2))**(1/2)*Zt1\n",
        "xt2 = (1-(p**2))**(1/2)*Zt2\n",
        "xt3 = (1-(p**2))**(1/2)*Zt3"
      ],
      "execution_count": 6,
      "outputs": []
    },
    {
      "cell_type": "code",
      "metadata": {
        "colab": {
          "base_uri": "https://localhost:8080/",
          "height": 417
        },
        "id": "kru17uG2VySe",
        "outputId": "806de3e4-6859-4478-eacf-8cc8abd6615f"
      },
      "source": [
        "new_data = pd.DataFrame({'Xt1' : data['zt1'],\n",
        "                         'Xt2' : data['zt2'],\n",
        "                         'Xt3' : data['zt3'],\n",
        "                         'e'   : normal(0, xt2**4, 3000)})\n",
        "new_data"
      ],
      "execution_count": 7,
      "outputs": [
        {
          "output_type": "execute_result",
          "data": {
            "text/html": [
              "<div>\n",
              "<style scoped>\n",
              "    .dataframe tbody tr th:only-of-type {\n",
              "        vertical-align: middle;\n",
              "    }\n",
              "\n",
              "    .dataframe tbody tr th {\n",
              "        vertical-align: top;\n",
              "    }\n",
              "\n",
              "    .dataframe thead th {\n",
              "        text-align: right;\n",
              "    }\n",
              "</style>\n",
              "<table border=\"1\" class=\"dataframe\">\n",
              "  <thead>\n",
              "    <tr style=\"text-align: right;\">\n",
              "      <th></th>\n",
              "      <th>Xt1</th>\n",
              "      <th>Xt2</th>\n",
              "      <th>Xt3</th>\n",
              "      <th>e</th>\n",
              "    </tr>\n",
              "  </thead>\n",
              "  <tbody>\n",
              "    <tr>\n",
              "      <th>0</th>\n",
              "      <td>0.755341</td>\n",
              "      <td>0.301218</td>\n",
              "      <td>-0.937971</td>\n",
              "      <td>-9.568571e-03</td>\n",
              "    </tr>\n",
              "    <tr>\n",
              "      <th>1</th>\n",
              "      <td>0.143752</td>\n",
              "      <td>-0.861772</td>\n",
              "      <td>-1.542539</td>\n",
              "      <td>-4.276801e-01</td>\n",
              "    </tr>\n",
              "    <tr>\n",
              "      <th>2</th>\n",
              "      <td>-0.569876</td>\n",
              "      <td>-0.812114</td>\n",
              "      <td>-1.124769</td>\n",
              "      <td>8.615647e-01</td>\n",
              "    </tr>\n",
              "    <tr>\n",
              "      <th>3</th>\n",
              "      <td>0.006066</td>\n",
              "      <td>-0.297299</td>\n",
              "      <td>-0.148308</td>\n",
              "      <td>8.256487e-04</td>\n",
              "    </tr>\n",
              "    <tr>\n",
              "      <th>4</th>\n",
              "      <td>-0.473473</td>\n",
              "      <td>-0.026203</td>\n",
              "      <td>0.466757</td>\n",
              "      <td>8.601476e-07</td>\n",
              "    </tr>\n",
              "    <tr>\n",
              "      <th>...</th>\n",
              "      <td>...</td>\n",
              "      <td>...</td>\n",
              "      <td>...</td>\n",
              "      <td>...</td>\n",
              "    </tr>\n",
              "    <tr>\n",
              "      <th>2995</th>\n",
              "      <td>0.840966</td>\n",
              "      <td>-0.003035</td>\n",
              "      <td>-1.242215</td>\n",
              "      <td>1.484567e-10</td>\n",
              "    </tr>\n",
              "    <tr>\n",
              "      <th>2996</th>\n",
              "      <td>1.241764</td>\n",
              "      <td>-0.576958</td>\n",
              "      <td>1.445442</td>\n",
              "      <td>-3.989539e-02</td>\n",
              "    </tr>\n",
              "    <tr>\n",
              "      <th>2997</th>\n",
              "      <td>-1.058109</td>\n",
              "      <td>-0.571064</td>\n",
              "      <td>0.211047</td>\n",
              "      <td>7.656499e-02</td>\n",
              "    </tr>\n",
              "    <tr>\n",
              "      <th>2998</th>\n",
              "      <td>-0.013071</td>\n",
              "      <td>-0.561579</td>\n",
              "      <td>0.171033</td>\n",
              "      <td>-2.622112e-02</td>\n",
              "    </tr>\n",
              "    <tr>\n",
              "      <th>2999</th>\n",
              "      <td>-1.058767</td>\n",
              "      <td>-0.178490</td>\n",
              "      <td>0.907317</td>\n",
              "      <td>4.637474e-04</td>\n",
              "    </tr>\n",
              "  </tbody>\n",
              "</table>\n",
              "<p>3000 rows × 4 columns</p>\n",
              "</div>"
            ],
            "text/plain": [
              "           Xt1       Xt2       Xt3             e\n",
              "0     0.755341  0.301218 -0.937971 -9.568571e-03\n",
              "1     0.143752 -0.861772 -1.542539 -4.276801e-01\n",
              "2    -0.569876 -0.812114 -1.124769  8.615647e-01\n",
              "3     0.006066 -0.297299 -0.148308  8.256487e-04\n",
              "4    -0.473473 -0.026203  0.466757  8.601476e-07\n",
              "...        ...       ...       ...           ...\n",
              "2995  0.840966 -0.003035 -1.242215  1.484567e-10\n",
              "2996  1.241764 -0.576958  1.445442 -3.989539e-02\n",
              "2997 -1.058109 -0.571064  0.211047  7.656499e-02\n",
              "2998 -0.013071 -0.561579  0.171033 -2.622112e-02\n",
              "2999 -1.058767 -0.178490  0.907317  4.637474e-04\n",
              "\n",
              "[3000 rows x 4 columns]"
            ]
          },
          "metadata": {},
          "execution_count": 7
        }
      ]
    },
    {
      "cell_type": "code",
      "metadata": {
        "colab": {
          "base_uri": "https://localhost:8080/",
          "height": 417
        },
        "id": "GAAbj4NwVyP1",
        "outputId": "71dbb114-3880-4e90-fba9-17509ed12675"
      },
      "source": [
        "table_data = pd.DataFrame({'Xt1' : data['zt1'],\n",
        "                           'Xt2' : data['zt2'],\n",
        "                           'Xt3' : data['zt3'],\n",
        "                           'e'   : new_data['e']})\n",
        "table_data['Y'] = 4 + 0.4*table_data['Xt1'] + 1.5*table_data['Xt2'] + 3.6*table_data['Xt3'] + table_data['e']\n",
        "table_data"
      ],
      "execution_count": 8,
      "outputs": [
        {
          "output_type": "execute_result",
          "data": {
            "text/html": [
              "<div>\n",
              "<style scoped>\n",
              "    .dataframe tbody tr th:only-of-type {\n",
              "        vertical-align: middle;\n",
              "    }\n",
              "\n",
              "    .dataframe tbody tr th {\n",
              "        vertical-align: top;\n",
              "    }\n",
              "\n",
              "    .dataframe thead th {\n",
              "        text-align: right;\n",
              "    }\n",
              "</style>\n",
              "<table border=\"1\" class=\"dataframe\">\n",
              "  <thead>\n",
              "    <tr style=\"text-align: right;\">\n",
              "      <th></th>\n",
              "      <th>Xt1</th>\n",
              "      <th>Xt2</th>\n",
              "      <th>Xt3</th>\n",
              "      <th>e</th>\n",
              "      <th>Y</th>\n",
              "    </tr>\n",
              "  </thead>\n",
              "  <tbody>\n",
              "    <tr>\n",
              "      <th>0</th>\n",
              "      <td>0.755341</td>\n",
              "      <td>0.301218</td>\n",
              "      <td>-0.937971</td>\n",
              "      <td>-9.568571e-03</td>\n",
              "      <td>1.367698</td>\n",
              "    </tr>\n",
              "    <tr>\n",
              "      <th>1</th>\n",
              "      <td>0.143752</td>\n",
              "      <td>-0.861772</td>\n",
              "      <td>-1.542539</td>\n",
              "      <td>-4.276801e-01</td>\n",
              "      <td>-3.215977</td>\n",
              "    </tr>\n",
              "    <tr>\n",
              "      <th>2</th>\n",
              "      <td>-0.569876</td>\n",
              "      <td>-0.812114</td>\n",
              "      <td>-1.124769</td>\n",
              "      <td>8.615647e-01</td>\n",
              "      <td>-0.633723</td>\n",
              "    </tr>\n",
              "    <tr>\n",
              "      <th>3</th>\n",
              "      <td>0.006066</td>\n",
              "      <td>-0.297299</td>\n",
              "      <td>-0.148308</td>\n",
              "      <td>8.256487e-04</td>\n",
              "      <td>3.023397</td>\n",
              "    </tr>\n",
              "    <tr>\n",
              "      <th>4</th>\n",
              "      <td>-0.473473</td>\n",
              "      <td>-0.026203</td>\n",
              "      <td>0.466757</td>\n",
              "      <td>8.601476e-07</td>\n",
              "      <td>5.451632</td>\n",
              "    </tr>\n",
              "    <tr>\n",
              "      <th>...</th>\n",
              "      <td>...</td>\n",
              "      <td>...</td>\n",
              "      <td>...</td>\n",
              "      <td>...</td>\n",
              "      <td>...</td>\n",
              "    </tr>\n",
              "    <tr>\n",
              "      <th>2995</th>\n",
              "      <td>0.840966</td>\n",
              "      <td>-0.003035</td>\n",
              "      <td>-1.242215</td>\n",
              "      <td>1.484567e-10</td>\n",
              "      <td>-0.140140</td>\n",
              "    </tr>\n",
              "    <tr>\n",
              "      <th>2996</th>\n",
              "      <td>1.241764</td>\n",
              "      <td>-0.576958</td>\n",
              "      <td>1.445442</td>\n",
              "      <td>-3.989539e-02</td>\n",
              "      <td>8.794963</td>\n",
              "    </tr>\n",
              "    <tr>\n",
              "      <th>2997</th>\n",
              "      <td>-1.058109</td>\n",
              "      <td>-0.571064</td>\n",
              "      <td>0.211047</td>\n",
              "      <td>7.656499e-02</td>\n",
              "      <td>3.556496</td>\n",
              "    </tr>\n",
              "    <tr>\n",
              "      <th>2998</th>\n",
              "      <td>-0.013071</td>\n",
              "      <td>-0.561579</td>\n",
              "      <td>0.171033</td>\n",
              "      <td>-2.622112e-02</td>\n",
              "      <td>3.741900</td>\n",
              "    </tr>\n",
              "    <tr>\n",
              "      <th>2999</th>\n",
              "      <td>-1.058767</td>\n",
              "      <td>-0.178490</td>\n",
              "      <td>0.907317</td>\n",
              "      <td>4.637474e-04</td>\n",
              "      <td>6.575562</td>\n",
              "    </tr>\n",
              "  </tbody>\n",
              "</table>\n",
              "<p>3000 rows × 5 columns</p>\n",
              "</div>"
            ],
            "text/plain": [
              "           Xt1       Xt2       Xt3             e         Y\n",
              "0     0.755341  0.301218 -0.937971 -9.568571e-03  1.367698\n",
              "1     0.143752 -0.861772 -1.542539 -4.276801e-01 -3.215977\n",
              "2    -0.569876 -0.812114 -1.124769  8.615647e-01 -0.633723\n",
              "3     0.006066 -0.297299 -0.148308  8.256487e-04  3.023397\n",
              "4    -0.473473 -0.026203  0.466757  8.601476e-07  5.451632\n",
              "...        ...       ...       ...           ...       ...\n",
              "2995  0.840966 -0.003035 -1.242215  1.484567e-10 -0.140140\n",
              "2996  1.241764 -0.576958  1.445442 -3.989539e-02  8.794963\n",
              "2997 -1.058109 -0.571064  0.211047  7.656499e-02  3.556496\n",
              "2998 -0.013071 -0.561579  0.171033 -2.622112e-02  3.741900\n",
              "2999 -1.058767 -0.178490  0.907317  4.637474e-04  6.575562\n",
              "\n",
              "[3000 rows x 5 columns]"
            ]
          },
          "metadata": {},
          "execution_count": 8
        }
      ]
    },
    {
      "cell_type": "code",
      "metadata": {
        "colab": {
          "base_uri": "https://localhost:8080/"
        },
        "id": "483Ln2auWCvS",
        "outputId": "f561e310-a633-48bd-c92d-061130494f95"
      },
      "source": [
        "new_data.mean()"
      ],
      "execution_count": 9,
      "outputs": [
        {
          "output_type": "execute_result",
          "data": {
            "text/plain": [
              "Xt1   -0.000733\n",
              "Xt2    0.032915\n",
              "Xt3    0.013139\n",
              "e      0.228092\n",
              "dtype: float64"
            ]
          },
          "metadata": {},
          "execution_count": 9
        }
      ]
    },
    {
      "cell_type": "code",
      "metadata": {
        "colab": {
          "base_uri": "https://localhost:8080/"
        },
        "id": "fwi1ra_vWEuY",
        "outputId": "35a4adf6-cb18-43ab-a4f9-7bf910b7600e"
      },
      "source": [
        "new_data.var()"
      ],
      "execution_count": 10,
      "outputs": [
        {
          "output_type": "execute_result",
          "data": {
            "text/plain": [
              "Xt1      1.028119\n",
              "Xt2      0.942867\n",
              "Xt3      1.012341\n",
              "e      116.300103\n",
              "dtype: float64"
            ]
          },
          "metadata": {},
          "execution_count": 10
        }
      ]
    },
    {
      "cell_type": "code",
      "metadata": {
        "colab": {
          "base_uri": "https://localhost:8080/",
          "height": 142
        },
        "id": "VsGMoJPAWHEG",
        "outputId": "e66ca313-9daa-49e8-d464-df520ed76ea7"
      },
      "source": [
        "# Compute pairwise correlation of columns, excluding NA/null values.\n",
        "data.corr()"
      ],
      "execution_count": 11,
      "outputs": [
        {
          "output_type": "execute_result",
          "data": {
            "text/html": [
              "<div>\n",
              "<style scoped>\n",
              "    .dataframe tbody tr th:only-of-type {\n",
              "        vertical-align: middle;\n",
              "    }\n",
              "\n",
              "    .dataframe tbody tr th {\n",
              "        vertical-align: top;\n",
              "    }\n",
              "\n",
              "    .dataframe thead th {\n",
              "        text-align: right;\n",
              "    }\n",
              "</style>\n",
              "<table border=\"1\" class=\"dataframe\">\n",
              "  <thead>\n",
              "    <tr style=\"text-align: right;\">\n",
              "      <th></th>\n",
              "      <th>zt1</th>\n",
              "      <th>zt2</th>\n",
              "      <th>zt3</th>\n",
              "    </tr>\n",
              "  </thead>\n",
              "  <tbody>\n",
              "    <tr>\n",
              "      <th>zt1</th>\n",
              "      <td>1.000000</td>\n",
              "      <td>0.017861</td>\n",
              "      <td>0.021056</td>\n",
              "    </tr>\n",
              "    <tr>\n",
              "      <th>zt2</th>\n",
              "      <td>0.017861</td>\n",
              "      <td>1.000000</td>\n",
              "      <td>0.014896</td>\n",
              "    </tr>\n",
              "    <tr>\n",
              "      <th>zt3</th>\n",
              "      <td>0.021056</td>\n",
              "      <td>0.014896</td>\n",
              "      <td>1.000000</td>\n",
              "    </tr>\n",
              "  </tbody>\n",
              "</table>\n",
              "</div>"
            ],
            "text/plain": [
              "          zt1       zt2       zt3\n",
              "zt1  1.000000  0.017861  0.021056\n",
              "zt2  0.017861  1.000000  0.014896\n",
              "zt3  0.021056  0.014896  1.000000"
            ]
          },
          "metadata": {},
          "execution_count": 11
        }
      ]
    },
    {
      "cell_type": "code",
      "metadata": {
        "id": "7vo8RZVls7ex"
      },
      "source": [
        "from google.colab import  drive\n",
        "from google.colab import files"
      ],
      "execution_count": 27,
      "outputs": []
    },
    {
      "cell_type": "code",
      "metadata": {
        "colab": {
          "base_uri": "https://localhost:8080/",
          "height": 17
        },
        "id": "CRl_pwJIzq5_",
        "outputId": "0fe55020-047e-4413-d8ed-1a579a686fde"
      },
      "source": [
        "table_data.to_csv('generate_datanew.csv')\n",
        "files.download('generate_datanew.csv')"
      ],
      "execution_count": 28,
      "outputs": [
        {
          "output_type": "display_data",
          "data": {
            "application/javascript": [
              "\n",
              "    async function download(id, filename, size) {\n",
              "      if (!google.colab.kernel.accessAllowed) {\n",
              "        return;\n",
              "      }\n",
              "      const div = document.createElement('div');\n",
              "      const label = document.createElement('label');\n",
              "      label.textContent = `Downloading \"${filename}\": `;\n",
              "      div.appendChild(label);\n",
              "      const progress = document.createElement('progress');\n",
              "      progress.max = size;\n",
              "      div.appendChild(progress);\n",
              "      document.body.appendChild(div);\n",
              "\n",
              "      const buffers = [];\n",
              "      let downloaded = 0;\n",
              "\n",
              "      const channel = await google.colab.kernel.comms.open(id);\n",
              "      // Send a message to notify the kernel that we're ready.\n",
              "      channel.send({})\n",
              "\n",
              "      for await (const message of channel.messages) {\n",
              "        // Send a message to notify the kernel that we're ready.\n",
              "        channel.send({})\n",
              "        if (message.buffers) {\n",
              "          for (const buffer of message.buffers) {\n",
              "            buffers.push(buffer);\n",
              "            downloaded += buffer.byteLength;\n",
              "            progress.value = downloaded;\n",
              "          }\n",
              "        }\n",
              "      }\n",
              "      const blob = new Blob(buffers, {type: 'application/binary'});\n",
              "      const a = document.createElement('a');\n",
              "      a.href = window.URL.createObjectURL(blob);\n",
              "      a.download = filename;\n",
              "      div.appendChild(a);\n",
              "      a.click();\n",
              "      div.remove();\n",
              "    }\n",
              "  "
            ],
            "text/plain": [
              "<IPython.core.display.Javascript object>"
            ]
          },
          "metadata": {}
        },
        {
          "output_type": "display_data",
          "data": {
            "application/javascript": [
              "download(\"download_bd066cfe-0486-4cda-b2e6-e94394a5fcee\", \"generate_datanew.csv\", 322056)"
            ],
            "text/plain": [
              "<IPython.core.display.Javascript object>"
            ]
          },
          "metadata": {}
        }
      ]
    }
  ]
}