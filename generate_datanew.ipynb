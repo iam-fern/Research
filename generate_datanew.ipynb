{
  "nbformat": 4,
  "nbformat_minor": 0,
  "metadata": {
    "colab": {
      "name": "generate_datanew.ipynb",
      "provenance": [],
      "authorship_tag": "ABX9TyOgA4MN7cF7AvRU56xmWwNS",
      "include_colab_link": true
    },
    "kernelspec": {
      "name": "python3",
      "display_name": "Python 3"
    },
    "language_info": {
      "name": "python"
    }
  },
  "cells": [
    {
      "cell_type": "markdown",
      "metadata": {
        "id": "view-in-github",
        "colab_type": "text"
      },
      "source": [
        "<a href=\"https://colab.research.google.com/github/iam-fern/Research/blob/main/generate_datanew.ipynb\" target=\"_parent\"><img src=\"https://colab.research.google.com/assets/colab-badge.svg\" alt=\"Open In Colab\"/></a>"
      ]
    },
    {
      "cell_type": "code",
      "metadata": {
        "id": "fls_i6aT6LzX"
      },
      "source": [
        "import pandas as pd\n",
        "import numpy as np\n",
        "import math\n",
        "import matplotlib.pyplot as plt\n",
        "from scipy.stats import norm\n",
        "from numpy.random import normal"
      ],
      "execution_count": 186,
      "outputs": []
    },
    {
      "cell_type": "code",
      "metadata": {
        "colab": {
          "base_uri": "https://localhost:8080/",
          "height": 417
        },
        "id": "t0iOQuu36puh",
        "outputId": "24f7a9ac-ff41-45f0-f1a4-e1592a0787a7"
      },
      "source": [
        "# numpy.random.normal(loc=0.0, scale=1.0, size=None)\n",
        "# generate sample of 200 values that follow a normal distribution \n",
        "# data = normal(loc=0, scale=1, size=200)\n",
        "\n",
        "data = pd.DataFrame({\"zt1\" : normal(0, 1, 1000),\n",
        "                     \"zt2\" : normal(0, 1, 1000),\n",
        "                     \"zt3\" : normal(0, 1, 1000)})\n",
        "data"
      ],
      "execution_count": 187,
      "outputs": [
        {
          "output_type": "execute_result",
          "data": {
            "text/html": [
              "<div>\n",
              "<style scoped>\n",
              "    .dataframe tbody tr th:only-of-type {\n",
              "        vertical-align: middle;\n",
              "    }\n",
              "\n",
              "    .dataframe tbody tr th {\n",
              "        vertical-align: top;\n",
              "    }\n",
              "\n",
              "    .dataframe thead th {\n",
              "        text-align: right;\n",
              "    }\n",
              "</style>\n",
              "<table border=\"1\" class=\"dataframe\">\n",
              "  <thead>\n",
              "    <tr style=\"text-align: right;\">\n",
              "      <th></th>\n",
              "      <th>zt1</th>\n",
              "      <th>zt2</th>\n",
              "      <th>zt3</th>\n",
              "    </tr>\n",
              "  </thead>\n",
              "  <tbody>\n",
              "    <tr>\n",
              "      <th>0</th>\n",
              "      <td>1.600987</td>\n",
              "      <td>-1.028092</td>\n",
              "      <td>-2.104917</td>\n",
              "    </tr>\n",
              "    <tr>\n",
              "      <th>1</th>\n",
              "      <td>0.289185</td>\n",
              "      <td>-1.661313</td>\n",
              "      <td>-0.844305</td>\n",
              "    </tr>\n",
              "    <tr>\n",
              "      <th>2</th>\n",
              "      <td>0.297722</td>\n",
              "      <td>1.134486</td>\n",
              "      <td>0.823696</td>\n",
              "    </tr>\n",
              "    <tr>\n",
              "      <th>3</th>\n",
              "      <td>-0.546579</td>\n",
              "      <td>0.451835</td>\n",
              "      <td>0.907700</td>\n",
              "    </tr>\n",
              "    <tr>\n",
              "      <th>4</th>\n",
              "      <td>1.693335</td>\n",
              "      <td>-0.427450</td>\n",
              "      <td>0.503518</td>\n",
              "    </tr>\n",
              "    <tr>\n",
              "      <th>...</th>\n",
              "      <td>...</td>\n",
              "      <td>...</td>\n",
              "      <td>...</td>\n",
              "    </tr>\n",
              "    <tr>\n",
              "      <th>995</th>\n",
              "      <td>-0.410783</td>\n",
              "      <td>-0.745927</td>\n",
              "      <td>0.367970</td>\n",
              "    </tr>\n",
              "    <tr>\n",
              "      <th>996</th>\n",
              "      <td>0.973549</td>\n",
              "      <td>-1.118922</td>\n",
              "      <td>-0.717532</td>\n",
              "    </tr>\n",
              "    <tr>\n",
              "      <th>997</th>\n",
              "      <td>-0.092202</td>\n",
              "      <td>0.118023</td>\n",
              "      <td>-1.491554</td>\n",
              "    </tr>\n",
              "    <tr>\n",
              "      <th>998</th>\n",
              "      <td>-0.654767</td>\n",
              "      <td>-1.223530</td>\n",
              "      <td>0.322093</td>\n",
              "    </tr>\n",
              "    <tr>\n",
              "      <th>999</th>\n",
              "      <td>-0.069904</td>\n",
              "      <td>-0.895873</td>\n",
              "      <td>0.306417</td>\n",
              "    </tr>\n",
              "  </tbody>\n",
              "</table>\n",
              "<p>1000 rows × 3 columns</p>\n",
              "</div>"
            ],
            "text/plain": [
              "          zt1       zt2       zt3\n",
              "0    1.600987 -1.028092 -2.104917\n",
              "1    0.289185 -1.661313 -0.844305\n",
              "2    0.297722  1.134486  0.823696\n",
              "3   -0.546579  0.451835  0.907700\n",
              "4    1.693335 -0.427450  0.503518\n",
              "..        ...       ...       ...\n",
              "995 -0.410783 -0.745927  0.367970\n",
              "996  0.973549 -1.118922 -0.717532\n",
              "997 -0.092202  0.118023 -1.491554\n",
              "998 -0.654767 -1.223530  0.322093\n",
              "999 -0.069904 -0.895873  0.306417\n",
              "\n",
              "[1000 rows x 3 columns]"
            ]
          },
          "metadata": {},
          "execution_count": 187
        }
      ]
    },
    {
      "cell_type": "code",
      "metadata": {
        "id": "MX5xxnk7qauq"
      },
      "source": [
        "p = 0"
      ],
      "execution_count": 188,
      "outputs": []
    },
    {
      "cell_type": "code",
      "metadata": {
        "id": "owkT5lN3j_L2"
      },
      "source": [
        "Zt1 = data['zt1']\n",
        "Zt2 = data['zt2']\n",
        "Zt3 = data['zt3']"
      ],
      "execution_count": 189,
      "outputs": []
    },
    {
      "cell_type": "code",
      "metadata": {
        "id": "uVKzkeElhntj"
      },
      "source": [
        "xt1 = (1-(p**2))**(1/2)*Zt1\n",
        "xt2 = (1-(p**2))**(1/2)*Zt2\n",
        "xt3 = (1-(p**2))**(1/2)*Zt3"
      ],
      "execution_count": 190,
      "outputs": []
    },
    {
      "cell_type": "code",
      "metadata": {
        "colab": {
          "base_uri": "https://localhost:8080/"
        },
        "id": "3nyP-WrUt4_z",
        "outputId": "8183f5c7-fe00-472a-f595-693f585a9257"
      },
      "source": [
        "xt1"
      ],
      "execution_count": 191,
      "outputs": [
        {
          "output_type": "execute_result",
          "data": {
            "text/plain": [
              "0      1.600987\n",
              "1      0.289185\n",
              "2      0.297722\n",
              "3     -0.546579\n",
              "4      1.693335\n",
              "         ...   \n",
              "995   -0.410783\n",
              "996    0.973549\n",
              "997   -0.092202\n",
              "998   -0.654767\n",
              "999   -0.069904\n",
              "Name: zt1, Length: 1000, dtype: float64"
            ]
          },
          "metadata": {},
          "execution_count": 191
        }
      ]
    },
    {
      "cell_type": "code",
      "metadata": {
        "colab": {
          "base_uri": "https://localhost:8080/",
          "height": 417
        },
        "id": "aQiNss5phABg",
        "outputId": "d8467787-0479-465f-9bbf-8a585138e439"
      },
      "source": [
        "new_data = pd.DataFrame({'Xt1' : data['zt1'],\n",
        "                         'Xt2' : data['zt2'],\n",
        "                         'Xt3' : data['zt3'],\n",
        "                         'e'   : normal(0, xt2**4, 1000)\n",
        "                     })\n",
        "new_data"
      ],
      "execution_count": 192,
      "outputs": [
        {
          "output_type": "execute_result",
          "data": {
            "text/html": [
              "<div>\n",
              "<style scoped>\n",
              "    .dataframe tbody tr th:only-of-type {\n",
              "        vertical-align: middle;\n",
              "    }\n",
              "\n",
              "    .dataframe tbody tr th {\n",
              "        vertical-align: top;\n",
              "    }\n",
              "\n",
              "    .dataframe thead th {\n",
              "        text-align: right;\n",
              "    }\n",
              "</style>\n",
              "<table border=\"1\" class=\"dataframe\">\n",
              "  <thead>\n",
              "    <tr style=\"text-align: right;\">\n",
              "      <th></th>\n",
              "      <th>Xt1</th>\n",
              "      <th>Xt2</th>\n",
              "      <th>Xt3</th>\n",
              "      <th>e</th>\n",
              "    </tr>\n",
              "  </thead>\n",
              "  <tbody>\n",
              "    <tr>\n",
              "      <th>0</th>\n",
              "      <td>1.600987</td>\n",
              "      <td>-1.028092</td>\n",
              "      <td>-2.104917</td>\n",
              "      <td>1.266001</td>\n",
              "    </tr>\n",
              "    <tr>\n",
              "      <th>1</th>\n",
              "      <td>0.289185</td>\n",
              "      <td>-1.661313</td>\n",
              "      <td>-0.844305</td>\n",
              "      <td>-4.549956</td>\n",
              "    </tr>\n",
              "    <tr>\n",
              "      <th>2</th>\n",
              "      <td>0.297722</td>\n",
              "      <td>1.134486</td>\n",
              "      <td>0.823696</td>\n",
              "      <td>0.902808</td>\n",
              "    </tr>\n",
              "    <tr>\n",
              "      <th>3</th>\n",
              "      <td>-0.546579</td>\n",
              "      <td>0.451835</td>\n",
              "      <td>0.907700</td>\n",
              "      <td>0.011339</td>\n",
              "    </tr>\n",
              "    <tr>\n",
              "      <th>4</th>\n",
              "      <td>1.693335</td>\n",
              "      <td>-0.427450</td>\n",
              "      <td>0.503518</td>\n",
              "      <td>0.046000</td>\n",
              "    </tr>\n",
              "    <tr>\n",
              "      <th>...</th>\n",
              "      <td>...</td>\n",
              "      <td>...</td>\n",
              "      <td>...</td>\n",
              "      <td>...</td>\n",
              "    </tr>\n",
              "    <tr>\n",
              "      <th>995</th>\n",
              "      <td>-0.410783</td>\n",
              "      <td>-0.745927</td>\n",
              "      <td>0.367970</td>\n",
              "      <td>-0.459169</td>\n",
              "    </tr>\n",
              "    <tr>\n",
              "      <th>996</th>\n",
              "      <td>0.973549</td>\n",
              "      <td>-1.118922</td>\n",
              "      <td>-0.717532</td>\n",
              "      <td>1.388426</td>\n",
              "    </tr>\n",
              "    <tr>\n",
              "      <th>997</th>\n",
              "      <td>-0.092202</td>\n",
              "      <td>0.118023</td>\n",
              "      <td>-1.491554</td>\n",
              "      <td>-0.000090</td>\n",
              "    </tr>\n",
              "    <tr>\n",
              "      <th>998</th>\n",
              "      <td>-0.654767</td>\n",
              "      <td>-1.223530</td>\n",
              "      <td>0.322093</td>\n",
              "      <td>2.895071</td>\n",
              "    </tr>\n",
              "    <tr>\n",
              "      <th>999</th>\n",
              "      <td>-0.069904</td>\n",
              "      <td>-0.895873</td>\n",
              "      <td>0.306417</td>\n",
              "      <td>0.587096</td>\n",
              "    </tr>\n",
              "  </tbody>\n",
              "</table>\n",
              "<p>1000 rows × 4 columns</p>\n",
              "</div>"
            ],
            "text/plain": [
              "          Xt1       Xt2       Xt3         e\n",
              "0    1.600987 -1.028092 -2.104917  1.266001\n",
              "1    0.289185 -1.661313 -0.844305 -4.549956\n",
              "2    0.297722  1.134486  0.823696  0.902808\n",
              "3   -0.546579  0.451835  0.907700  0.011339\n",
              "4    1.693335 -0.427450  0.503518  0.046000\n",
              "..        ...       ...       ...       ...\n",
              "995 -0.410783 -0.745927  0.367970 -0.459169\n",
              "996  0.973549 -1.118922 -0.717532  1.388426\n",
              "997 -0.092202  0.118023 -1.491554 -0.000090\n",
              "998 -0.654767 -1.223530  0.322093  2.895071\n",
              "999 -0.069904 -0.895873  0.306417  0.587096\n",
              "\n",
              "[1000 rows x 4 columns]"
            ]
          },
          "metadata": {},
          "execution_count": 192
        }
      ]
    },
    {
      "cell_type": "code",
      "metadata": {
        "colab": {
          "base_uri": "https://localhost:8080/"
        },
        "id": "bCF5KR-pAyM0",
        "outputId": "92de64f5-50ad-4ba6-96c8-ea00fc9316c2"
      },
      "source": [
        "e = new_data['e']\n",
        "e"
      ],
      "execution_count": 197,
      "outputs": [
        {
          "output_type": "execute_result",
          "data": {
            "text/plain": [
              "0      1.266001\n",
              "1     -4.549956\n",
              "2      0.902808\n",
              "3      0.011339\n",
              "4      0.046000\n",
              "         ...   \n",
              "995   -0.459169\n",
              "996    1.388426\n",
              "997   -0.000090\n",
              "998    2.895071\n",
              "999    0.587096\n",
              "Name: e, Length: 1000, dtype: float64"
            ]
          },
          "metadata": {},
          "execution_count": 197
        }
      ]
    },
    {
      "cell_type": "code",
      "metadata": {
        "colab": {
          "base_uri": "https://localhost:8080/"
        },
        "id": "-150K2Thg_xY",
        "outputId": "eecafa5a-cf88-47e6-820f-060874161ebc"
      },
      "source": [
        "X = new_data[['Xt1', 'Xt2', 'Xt3']]\n",
        "Y = 4 + (0.4*(Xt1)) + (1.5*(Xt2)) + (3.6*(Xt3)) + e\n",
        "Y"
      ],
      "execution_count": 198,
      "outputs": [
        {
          "output_type": "execute_result",
          "data": {
            "text/plain": [
              "0      -3.421796\n",
              "1      11.479265\n",
              "2      10.952379\n",
              "3       8.754459\n",
              "4      13.375693\n",
              "         ...    \n",
              "995     7.425164\n",
              "996     2.936794\n",
              "997     3.724367\n",
              "998     8.423579\n",
              "999    -0.728862\n",
              "Name: zt1, Length: 1000, dtype: float64"
            ]
          },
          "metadata": {},
          "execution_count": 198
        }
      ]
    },
    {
      "cell_type": "code",
      "metadata": {
        "colab": {
          "base_uri": "https://localhost:8080/",
          "height": 417
        },
        "id": "R07O0el166m4",
        "outputId": "f0dae5a6-9fee-44bb-c5ec-098664181120"
      },
      "source": [
        "table_data = pd.DataFrame({'Xt1' : data['zt1'],\n",
        "                           'Xt2' : data['zt2'],\n",
        "                           'Xt3' : data['zt3'],\n",
        "                           'e'   : new_data['e'],\n",
        "                           'Y'   : 4 + (0.4*(Xt1)) + (1.5*(Xt2)) + (3.6*(Xt3)) + math.e})\n",
        "table_data"
      ],
      "execution_count": 184,
      "outputs": [
        {
          "output_type": "execute_result",
          "data": {
            "text/html": [
              "<div>\n",
              "<style scoped>\n",
              "    .dataframe tbody tr th:only-of-type {\n",
              "        vertical-align: middle;\n",
              "    }\n",
              "\n",
              "    .dataframe tbody tr th {\n",
              "        vertical-align: top;\n",
              "    }\n",
              "\n",
              "    .dataframe thead th {\n",
              "        text-align: right;\n",
              "    }\n",
              "</style>\n",
              "<table border=\"1\" class=\"dataframe\">\n",
              "  <thead>\n",
              "    <tr style=\"text-align: right;\">\n",
              "      <th></th>\n",
              "      <th>Xt1</th>\n",
              "      <th>Xt2</th>\n",
              "      <th>Xt3</th>\n",
              "      <th>e</th>\n",
              "      <th>Y</th>\n",
              "    </tr>\n",
              "  </thead>\n",
              "  <tbody>\n",
              "    <tr>\n",
              "      <th>0</th>\n",
              "      <td>1.564193</td>\n",
              "      <td>0.709587</td>\n",
              "      <td>1.879046</td>\n",
              "      <td>-0.063099</td>\n",
              "      <td>-3.421796</td>\n",
              "    </tr>\n",
              "    <tr>\n",
              "      <th>1</th>\n",
              "      <td>0.801977</td>\n",
              "      <td>-0.757484</td>\n",
              "      <td>-0.206301</td>\n",
              "      <td>-0.196843</td>\n",
              "      <td>11.479265</td>\n",
              "    </tr>\n",
              "    <tr>\n",
              "      <th>2</th>\n",
              "      <td>-1.027979</td>\n",
              "      <td>-0.668038</td>\n",
              "      <td>0.596827</td>\n",
              "      <td>-0.160786</td>\n",
              "      <td>10.952379</td>\n",
              "    </tr>\n",
              "    <tr>\n",
              "      <th>3</th>\n",
              "      <td>-1.992244</td>\n",
              "      <td>-1.323673</td>\n",
              "      <td>0.118865</td>\n",
              "      <td>6.853785</td>\n",
              "      <td>8.754459</td>\n",
              "    </tr>\n",
              "    <tr>\n",
              "      <th>4</th>\n",
              "      <td>-1.531006</td>\n",
              "      <td>-0.233756</td>\n",
              "      <td>-1.797706</td>\n",
              "      <td>0.000133</td>\n",
              "      <td>13.375693</td>\n",
              "    </tr>\n",
              "    <tr>\n",
              "      <th>...</th>\n",
              "      <td>...</td>\n",
              "      <td>...</td>\n",
              "      <td>...</td>\n",
              "      <td>...</td>\n",
              "      <td>...</td>\n",
              "    </tr>\n",
              "    <tr>\n",
              "      <th>995</th>\n",
              "      <td>0.490045</td>\n",
              "      <td>1.274866</td>\n",
              "      <td>1.226496</td>\n",
              "      <td>-0.490849</td>\n",
              "      <td>7.425164</td>\n",
              "    </tr>\n",
              "    <tr>\n",
              "      <th>996</th>\n",
              "      <td>0.860995</td>\n",
              "      <td>-0.456238</td>\n",
              "      <td>1.140172</td>\n",
              "      <td>-0.020214</td>\n",
              "      <td>2.936794</td>\n",
              "    </tr>\n",
              "    <tr>\n",
              "      <th>997</th>\n",
              "      <td>-0.724334</td>\n",
              "      <td>-1.399359</td>\n",
              "      <td>0.986500</td>\n",
              "      <td>-5.965200</td>\n",
              "      <td>3.724367</td>\n",
              "    </tr>\n",
              "    <tr>\n",
              "      <th>998</th>\n",
              "      <td>0.277123</td>\n",
              "      <td>-1.406777</td>\n",
              "      <td>-1.291701</td>\n",
              "      <td>-1.815425</td>\n",
              "      <td>8.423579</td>\n",
              "    </tr>\n",
              "    <tr>\n",
              "      <th>999</th>\n",
              "      <td>-1.433248</td>\n",
              "      <td>-0.216194</td>\n",
              "      <td>1.008556</td>\n",
              "      <td>0.002099</td>\n",
              "      <td>-0.728862</td>\n",
              "    </tr>\n",
              "  </tbody>\n",
              "</table>\n",
              "<p>1000 rows × 5 columns</p>\n",
              "</div>"
            ],
            "text/plain": [
              "          Xt1       Xt2       Xt3         e          Y\n",
              "0    1.564193  0.709587  1.879046 -0.063099  -3.421796\n",
              "1    0.801977 -0.757484 -0.206301 -0.196843  11.479265\n",
              "2   -1.027979 -0.668038  0.596827 -0.160786  10.952379\n",
              "3   -1.992244 -1.323673  0.118865  6.853785   8.754459\n",
              "4   -1.531006 -0.233756 -1.797706  0.000133  13.375693\n",
              "..        ...       ...       ...       ...        ...\n",
              "995  0.490045  1.274866  1.226496 -0.490849   7.425164\n",
              "996  0.860995 -0.456238  1.140172 -0.020214   2.936794\n",
              "997 -0.724334 -1.399359  0.986500 -5.965200   3.724367\n",
              "998  0.277123 -1.406777 -1.291701 -1.815425   8.423579\n",
              "999 -1.433248 -0.216194  1.008556  0.002099  -0.728862\n",
              "\n",
              "[1000 rows x 5 columns]"
            ]
          },
          "metadata": {},
          "execution_count": 184
        }
      ]
    },
    {
      "cell_type": "code",
      "metadata": {
        "colab": {
          "base_uri": "https://localhost:8080/"
        },
        "id": "x_y1Hvw8_zNE",
        "outputId": "8bba81ab-31e1-4ad0-875a-e81751059ba9"
      },
      "source": [
        "4 + (0.4*(1.564193)) + (1.5*(0.709587)) + (3.6*(1.879046)) + (-0.063099)"
      ],
      "execution_count": 180,
      "outputs": [
        {
          "output_type": "execute_result",
          "data": {
            "text/plain": [
              "12.391524300000002"
            ]
          },
          "metadata": {},
          "execution_count": 180
        }
      ]
    },
    {
      "cell_type": "code",
      "metadata": {
        "colab": {
          "base_uri": "https://localhost:8080/"
        },
        "id": "X0EUTBFECANx",
        "outputId": "15ed4d41-e387-4be1-ea0c-d57152f1ab6b"
      },
      "source": [
        "4 + (0.4*(0.801977)) + (1.5*(-0.757484)) + (3.6*(-0.206301)) + (-0.196843)"
      ],
      "execution_count": 200,
      "outputs": [
        {
          "output_type": "execute_result",
          "data": {
            "text/plain": [
              "2.2450382"
            ]
          },
          "metadata": {},
          "execution_count": 200
        }
      ]
    }
  ]
}