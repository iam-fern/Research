{
  "nbformat": 4,
  "nbformat_minor": 0,
  "metadata": {
    "colab": {
      "name": "generate_datanew.ipynb",
      "provenance": [],
      "authorship_tag": "ABX9TyNCSaBBnWLE69i44GYo0YsN",
      "include_colab_link": true
    },
    "kernelspec": {
      "name": "python3",
      "display_name": "Python 3"
    },
    "language_info": {
      "name": "python"
    }
  },
  "cells": [
    {
      "cell_type": "markdown",
      "metadata": {
        "id": "view-in-github",
        "colab_type": "text"
      },
      "source": [
        "<a href=\"https://colab.research.google.com/github/iam-fern/Research/blob/main/generate_datanew.ipynb\" target=\"_parent\"><img src=\"https://colab.research.google.com/assets/colab-badge.svg\" alt=\"Open In Colab\"/></a>"
      ]
    },
    {
      "cell_type": "code",
      "metadata": {
        "id": "fls_i6aT6LzX"
      },
      "source": [
        "import pandas as pd\n",
        "import numpy as np\n",
        "import matplotlib.pyplot as plt\n",
        "from scipy.stats import norm\n",
        "from numpy.random import normal\n",
        "import statistics"
      ],
      "execution_count": 29,
      "outputs": []
    },
    {
      "cell_type": "code",
      "metadata": {
        "colab": {
          "base_uri": "https://localhost:8080/",
          "height": 417
        },
        "id": "t0iOQuu36puh",
        "outputId": "d270d8d4-7e7c-478a-8aa8-ad5cb161f8ea"
      },
      "source": [
        "# numpy.random.normal(loc=0.0, scale=1.0, size=None)\n",
        "# generate sample of 200 values that follow a normal distribution \n",
        "# data = normal(loc=0, scale=1, size=200)\n",
        "\n",
        "data = pd.DataFrame({\"zt1\" : normal(0, 1, 3000),\n",
        "                     \"zt2\" : normal(0, 1, 3000),\n",
        "                     \"zt3\" : normal(0, 1, 3000)})\n",
        "data"
      ],
      "execution_count": 30,
      "outputs": [
        {
          "output_type": "execute_result",
          "data": {
            "text/html": [
              "<div>\n",
              "<style scoped>\n",
              "    .dataframe tbody tr th:only-of-type {\n",
              "        vertical-align: middle;\n",
              "    }\n",
              "\n",
              "    .dataframe tbody tr th {\n",
              "        vertical-align: top;\n",
              "    }\n",
              "\n",
              "    .dataframe thead th {\n",
              "        text-align: right;\n",
              "    }\n",
              "</style>\n",
              "<table border=\"1\" class=\"dataframe\">\n",
              "  <thead>\n",
              "    <tr style=\"text-align: right;\">\n",
              "      <th></th>\n",
              "      <th>zt1</th>\n",
              "      <th>zt2</th>\n",
              "      <th>zt3</th>\n",
              "    </tr>\n",
              "  </thead>\n",
              "  <tbody>\n",
              "    <tr>\n",
              "      <th>0</th>\n",
              "      <td>1.240355</td>\n",
              "      <td>-1.125888</td>\n",
              "      <td>-0.211730</td>\n",
              "    </tr>\n",
              "    <tr>\n",
              "      <th>1</th>\n",
              "      <td>0.765561</td>\n",
              "      <td>-2.238614</td>\n",
              "      <td>-0.159952</td>\n",
              "    </tr>\n",
              "    <tr>\n",
              "      <th>2</th>\n",
              "      <td>-1.222009</td>\n",
              "      <td>0.271034</td>\n",
              "      <td>-0.530323</td>\n",
              "    </tr>\n",
              "    <tr>\n",
              "      <th>3</th>\n",
              "      <td>-1.012719</td>\n",
              "      <td>-0.206749</td>\n",
              "      <td>0.968443</td>\n",
              "    </tr>\n",
              "    <tr>\n",
              "      <th>4</th>\n",
              "      <td>-0.446962</td>\n",
              "      <td>-1.968192</td>\n",
              "      <td>-0.833243</td>\n",
              "    </tr>\n",
              "    <tr>\n",
              "      <th>...</th>\n",
              "      <td>...</td>\n",
              "      <td>...</td>\n",
              "      <td>...</td>\n",
              "    </tr>\n",
              "    <tr>\n",
              "      <th>2995</th>\n",
              "      <td>0.526485</td>\n",
              "      <td>-0.170080</td>\n",
              "      <td>-0.598048</td>\n",
              "    </tr>\n",
              "    <tr>\n",
              "      <th>2996</th>\n",
              "      <td>0.548980</td>\n",
              "      <td>0.092113</td>\n",
              "      <td>-0.344826</td>\n",
              "    </tr>\n",
              "    <tr>\n",
              "      <th>2997</th>\n",
              "      <td>1.881199</td>\n",
              "      <td>-0.446417</td>\n",
              "      <td>0.131779</td>\n",
              "    </tr>\n",
              "    <tr>\n",
              "      <th>2998</th>\n",
              "      <td>0.170025</td>\n",
              "      <td>1.923810</td>\n",
              "      <td>-0.167287</td>\n",
              "    </tr>\n",
              "    <tr>\n",
              "      <th>2999</th>\n",
              "      <td>-0.892123</td>\n",
              "      <td>0.268346</td>\n",
              "      <td>-0.769526</td>\n",
              "    </tr>\n",
              "  </tbody>\n",
              "</table>\n",
              "<p>3000 rows × 3 columns</p>\n",
              "</div>"
            ],
            "text/plain": [
              "           zt1       zt2       zt3\n",
              "0     1.240355 -1.125888 -0.211730\n",
              "1     0.765561 -2.238614 -0.159952\n",
              "2    -1.222009  0.271034 -0.530323\n",
              "3    -1.012719 -0.206749  0.968443\n",
              "4    -0.446962 -1.968192 -0.833243\n",
              "...        ...       ...       ...\n",
              "2995  0.526485 -0.170080 -0.598048\n",
              "2996  0.548980  0.092113 -0.344826\n",
              "2997  1.881199 -0.446417  0.131779\n",
              "2998  0.170025  1.923810 -0.167287\n",
              "2999 -0.892123  0.268346 -0.769526\n",
              "\n",
              "[3000 rows x 3 columns]"
            ]
          },
          "metadata": {},
          "execution_count": 30
        }
      ]
    },
    {
      "cell_type": "code",
      "metadata": {
        "id": "MX5xxnk7qauq"
      },
      "source": [
        "p = 0"
      ],
      "execution_count": 31,
      "outputs": []
    },
    {
      "cell_type": "code",
      "metadata": {
        "id": "owkT5lN3j_L2"
      },
      "source": [
        "Zt1 = data['zt1']\n",
        "Zt2 = data['zt2']\n",
        "Zt3 = data['zt3']"
      ],
      "execution_count": 32,
      "outputs": []
    },
    {
      "cell_type": "code",
      "metadata": {
        "id": "uVKzkeElhntj"
      },
      "source": [
        "xt1 = (1-(p**2))**(1/2)*Zt1\n",
        "xt2 = (1-(p**2))**(1/2)*Zt2\n",
        "xt3 = (1-(p**2))**(1/2)*Zt3"
      ],
      "execution_count": 33,
      "outputs": []
    },
    {
      "cell_type": "code",
      "metadata": {
        "colab": {
          "base_uri": "https://localhost:8080/"
        },
        "id": "3nyP-WrUt4_z",
        "outputId": "fbd89c05-fc8f-416a-c49e-8126fe99bc6f"
      },
      "source": [
        "xt1"
      ],
      "execution_count": 34,
      "outputs": [
        {
          "output_type": "execute_result",
          "data": {
            "text/plain": [
              "0       1.240355\n",
              "1       0.765561\n",
              "2      -1.222009\n",
              "3      -1.012719\n",
              "4      -0.446962\n",
              "          ...   \n",
              "2995    0.526485\n",
              "2996    0.548980\n",
              "2997    1.881199\n",
              "2998    0.170025\n",
              "2999   -0.892123\n",
              "Name: zt1, Length: 3000, dtype: float64"
            ]
          },
          "metadata": {},
          "execution_count": 34
        }
      ]
    },
    {
      "cell_type": "code",
      "metadata": {
        "colab": {
          "base_uri": "https://localhost:8080/",
          "height": 417
        },
        "id": "aQiNss5phABg",
        "outputId": "f62817c5-ada2-48a2-ce75-df5509036f30"
      },
      "source": [
        "new_data = pd.DataFrame({'Xt1' : data['zt1'],\n",
        "                         'Xt2' : data['zt2'],\n",
        "                         'Xt3' : data['zt3'],\n",
        "                         'e'   : normal(0, xt2**4, 3000)})\n",
        "new_data"
      ],
      "execution_count": 35,
      "outputs": [
        {
          "output_type": "execute_result",
          "data": {
            "text/html": [
              "<div>\n",
              "<style scoped>\n",
              "    .dataframe tbody tr th:only-of-type {\n",
              "        vertical-align: middle;\n",
              "    }\n",
              "\n",
              "    .dataframe tbody tr th {\n",
              "        vertical-align: top;\n",
              "    }\n",
              "\n",
              "    .dataframe thead th {\n",
              "        text-align: right;\n",
              "    }\n",
              "</style>\n",
              "<table border=\"1\" class=\"dataframe\">\n",
              "  <thead>\n",
              "    <tr style=\"text-align: right;\">\n",
              "      <th></th>\n",
              "      <th>Xt1</th>\n",
              "      <th>Xt2</th>\n",
              "      <th>Xt3</th>\n",
              "      <th>e</th>\n",
              "    </tr>\n",
              "  </thead>\n",
              "  <tbody>\n",
              "    <tr>\n",
              "      <th>0</th>\n",
              "      <td>1.240355</td>\n",
              "      <td>-1.125888</td>\n",
              "      <td>-0.211730</td>\n",
              "      <td>-1.310200</td>\n",
              "    </tr>\n",
              "    <tr>\n",
              "      <th>1</th>\n",
              "      <td>0.765561</td>\n",
              "      <td>-2.238614</td>\n",
              "      <td>-0.159952</td>\n",
              "      <td>18.513376</td>\n",
              "    </tr>\n",
              "    <tr>\n",
              "      <th>2</th>\n",
              "      <td>-1.222009</td>\n",
              "      <td>0.271034</td>\n",
              "      <td>-0.530323</td>\n",
              "      <td>0.001092</td>\n",
              "    </tr>\n",
              "    <tr>\n",
              "      <th>3</th>\n",
              "      <td>-1.012719</td>\n",
              "      <td>-0.206749</td>\n",
              "      <td>0.968443</td>\n",
              "      <td>0.000029</td>\n",
              "    </tr>\n",
              "    <tr>\n",
              "      <th>4</th>\n",
              "      <td>-0.446962</td>\n",
              "      <td>-1.968192</td>\n",
              "      <td>-0.833243</td>\n",
              "      <td>-8.684002</td>\n",
              "    </tr>\n",
              "    <tr>\n",
              "      <th>...</th>\n",
              "      <td>...</td>\n",
              "      <td>...</td>\n",
              "      <td>...</td>\n",
              "      <td>...</td>\n",
              "    </tr>\n",
              "    <tr>\n",
              "      <th>2995</th>\n",
              "      <td>0.526485</td>\n",
              "      <td>-0.170080</td>\n",
              "      <td>-0.598048</td>\n",
              "      <td>0.001485</td>\n",
              "    </tr>\n",
              "    <tr>\n",
              "      <th>2996</th>\n",
              "      <td>0.548980</td>\n",
              "      <td>0.092113</td>\n",
              "      <td>-0.344826</td>\n",
              "      <td>0.000049</td>\n",
              "    </tr>\n",
              "    <tr>\n",
              "      <th>2997</th>\n",
              "      <td>1.881199</td>\n",
              "      <td>-0.446417</td>\n",
              "      <td>0.131779</td>\n",
              "      <td>0.038214</td>\n",
              "    </tr>\n",
              "    <tr>\n",
              "      <th>2998</th>\n",
              "      <td>0.170025</td>\n",
              "      <td>1.923810</td>\n",
              "      <td>-0.167287</td>\n",
              "      <td>19.874585</td>\n",
              "    </tr>\n",
              "    <tr>\n",
              "      <th>2999</th>\n",
              "      <td>-0.892123</td>\n",
              "      <td>0.268346</td>\n",
              "      <td>-0.769526</td>\n",
              "      <td>0.001209</td>\n",
              "    </tr>\n",
              "  </tbody>\n",
              "</table>\n",
              "<p>3000 rows × 4 columns</p>\n",
              "</div>"
            ],
            "text/plain": [
              "           Xt1       Xt2       Xt3          e\n",
              "0     1.240355 -1.125888 -0.211730  -1.310200\n",
              "1     0.765561 -2.238614 -0.159952  18.513376\n",
              "2    -1.222009  0.271034 -0.530323   0.001092\n",
              "3    -1.012719 -0.206749  0.968443   0.000029\n",
              "4    -0.446962 -1.968192 -0.833243  -8.684002\n",
              "...        ...       ...       ...        ...\n",
              "2995  0.526485 -0.170080 -0.598048   0.001485\n",
              "2996  0.548980  0.092113 -0.344826   0.000049\n",
              "2997  1.881199 -0.446417  0.131779   0.038214\n",
              "2998  0.170025  1.923810 -0.167287  19.874585\n",
              "2999 -0.892123  0.268346 -0.769526   0.001209\n",
              "\n",
              "[3000 rows x 4 columns]"
            ]
          },
          "metadata": {},
          "execution_count": 35
        }
      ]
    },
    {
      "cell_type": "code",
      "metadata": {
        "id": "4lWlM2SWKzum",
        "colab": {
          "base_uri": "https://localhost:8080/",
          "height": 417
        },
        "outputId": "eec4241d-c1a0-4c11-8ce1-d8c835f35a29"
      },
      "source": [
        "table_data = pd.DataFrame({'Xt1' : data['zt1'],\n",
        "                           'Xt2' : data['zt2'],\n",
        "                           'Xt3' : data['zt3'],\n",
        "                           'e'   : new_data['e']})\n",
        "table_data['Y'] = 4+0.4*table_data['Xt1']+1.5*table_data['Xt2']+3.6*table_data['Xt3']+table_data['e']\n",
        "table_data"
      ],
      "execution_count": 36,
      "outputs": [
        {
          "output_type": "execute_result",
          "data": {
            "text/html": [
              "<div>\n",
              "<style scoped>\n",
              "    .dataframe tbody tr th:only-of-type {\n",
              "        vertical-align: middle;\n",
              "    }\n",
              "\n",
              "    .dataframe tbody tr th {\n",
              "        vertical-align: top;\n",
              "    }\n",
              "\n",
              "    .dataframe thead th {\n",
              "        text-align: right;\n",
              "    }\n",
              "</style>\n",
              "<table border=\"1\" class=\"dataframe\">\n",
              "  <thead>\n",
              "    <tr style=\"text-align: right;\">\n",
              "      <th></th>\n",
              "      <th>Xt1</th>\n",
              "      <th>Xt2</th>\n",
              "      <th>Xt3</th>\n",
              "      <th>e</th>\n",
              "      <th>Y</th>\n",
              "    </tr>\n",
              "  </thead>\n",
              "  <tbody>\n",
              "    <tr>\n",
              "      <th>0</th>\n",
              "      <td>1.240355</td>\n",
              "      <td>-1.125888</td>\n",
              "      <td>-0.211730</td>\n",
              "      <td>-1.310200</td>\n",
              "      <td>0.734882</td>\n",
              "    </tr>\n",
              "    <tr>\n",
              "      <th>1</th>\n",
              "      <td>0.765561</td>\n",
              "      <td>-2.238614</td>\n",
              "      <td>-0.159952</td>\n",
              "      <td>18.513376</td>\n",
              "      <td>18.885852</td>\n",
              "    </tr>\n",
              "    <tr>\n",
              "      <th>2</th>\n",
              "      <td>-1.222009</td>\n",
              "      <td>0.271034</td>\n",
              "      <td>-0.530323</td>\n",
              "      <td>0.001092</td>\n",
              "      <td>2.009678</td>\n",
              "    </tr>\n",
              "    <tr>\n",
              "      <th>3</th>\n",
              "      <td>-1.012719</td>\n",
              "      <td>-0.206749</td>\n",
              "      <td>0.968443</td>\n",
              "      <td>0.000029</td>\n",
              "      <td>6.771212</td>\n",
              "    </tr>\n",
              "    <tr>\n",
              "      <th>4</th>\n",
              "      <td>-0.446962</td>\n",
              "      <td>-1.968192</td>\n",
              "      <td>-0.833243</td>\n",
              "      <td>-8.684002</td>\n",
              "      <td>-10.814752</td>\n",
              "    </tr>\n",
              "    <tr>\n",
              "      <th>...</th>\n",
              "      <td>...</td>\n",
              "      <td>...</td>\n",
              "      <td>...</td>\n",
              "      <td>...</td>\n",
              "      <td>...</td>\n",
              "    </tr>\n",
              "    <tr>\n",
              "      <th>2995</th>\n",
              "      <td>0.526485</td>\n",
              "      <td>-0.170080</td>\n",
              "      <td>-0.598048</td>\n",
              "      <td>0.001485</td>\n",
              "      <td>1.803987</td>\n",
              "    </tr>\n",
              "    <tr>\n",
              "      <th>2996</th>\n",
              "      <td>0.548980</td>\n",
              "      <td>0.092113</td>\n",
              "      <td>-0.344826</td>\n",
              "      <td>0.000049</td>\n",
              "      <td>3.116437</td>\n",
              "    </tr>\n",
              "    <tr>\n",
              "      <th>2997</th>\n",
              "      <td>1.881199</td>\n",
              "      <td>-0.446417</td>\n",
              "      <td>0.131779</td>\n",
              "      <td>0.038214</td>\n",
              "      <td>4.595473</td>\n",
              "    </tr>\n",
              "    <tr>\n",
              "      <th>2998</th>\n",
              "      <td>0.170025</td>\n",
              "      <td>1.923810</td>\n",
              "      <td>-0.167287</td>\n",
              "      <td>19.874585</td>\n",
              "      <td>26.226079</td>\n",
              "    </tr>\n",
              "    <tr>\n",
              "      <th>2999</th>\n",
              "      <td>-0.892123</td>\n",
              "      <td>0.268346</td>\n",
              "      <td>-0.769526</td>\n",
              "      <td>0.001209</td>\n",
              "      <td>1.276584</td>\n",
              "    </tr>\n",
              "  </tbody>\n",
              "</table>\n",
              "<p>3000 rows × 5 columns</p>\n",
              "</div>"
            ],
            "text/plain": [
              "           Xt1       Xt2       Xt3          e          Y\n",
              "0     1.240355 -1.125888 -0.211730  -1.310200   0.734882\n",
              "1     0.765561 -2.238614 -0.159952  18.513376  18.885852\n",
              "2    -1.222009  0.271034 -0.530323   0.001092   2.009678\n",
              "3    -1.012719 -0.206749  0.968443   0.000029   6.771212\n",
              "4    -0.446962 -1.968192 -0.833243  -8.684002 -10.814752\n",
              "...        ...       ...       ...        ...        ...\n",
              "2995  0.526485 -0.170080 -0.598048   0.001485   1.803987\n",
              "2996  0.548980  0.092113 -0.344826   0.000049   3.116437\n",
              "2997  1.881199 -0.446417  0.131779   0.038214   4.595473\n",
              "2998  0.170025  1.923810 -0.167287  19.874585  26.226079\n",
              "2999 -0.892123  0.268346 -0.769526   0.001209   1.276584\n",
              "\n",
              "[3000 rows x 5 columns]"
            ]
          },
          "metadata": {},
          "execution_count": 36
        }
      ]
    },
    {
      "cell_type": "code",
      "metadata": {
        "id": "cfwbF9PhN61s",
        "colab": {
          "base_uri": "https://localhost:8080/"
        },
        "outputId": "77856824-7445-42d9-ff79-8270924773a3"
      },
      "source": [
        "new_data.mean()"
      ],
      "execution_count": 37,
      "outputs": [
        {
          "output_type": "execute_result",
          "data": {
            "text/plain": [
              "Xt1   -0.012958\n",
              "Xt2    0.005247\n",
              "Xt3    0.002778\n",
              "e     -0.342848\n",
              "dtype: float64"
            ]
          },
          "metadata": {},
          "execution_count": 37
        }
      ]
    },
    {
      "cell_type": "code",
      "metadata": {
        "id": "ohJTepf-SP0x",
        "colab": {
          "base_uri": "https://localhost:8080/"
        },
        "outputId": "094eefe8-ed7c-4653-fa74-a8de131664d0"
      },
      "source": [
        "new_data.var()"
      ],
      "execution_count": 38,
      "outputs": [
        {
          "output_type": "execute_result",
          "data": {
            "text/plain": [
              "Xt1      1.053188\n",
              "Xt2      0.981343\n",
              "Xt3      1.008116\n",
              "e      160.359666\n",
              "dtype: float64"
            ]
          },
          "metadata": {},
          "execution_count": 38
        }
      ]
    },
    {
      "cell_type": "code",
      "metadata": {
        "id": "3PT145KqS78z",
        "colab": {
          "base_uri": "https://localhost:8080/",
          "height": 142
        },
        "outputId": "b5fb3e36-f25b-41ed-c9ba-6ac7d7e896c6"
      },
      "source": [
        "# Compute pairwise correlation of columns, excluding NA/null values.\n",
        "\n",
        "data.corr()"
      ],
      "execution_count": 39,
      "outputs": [
        {
          "output_type": "execute_result",
          "data": {
            "text/html": [
              "<div>\n",
              "<style scoped>\n",
              "    .dataframe tbody tr th:only-of-type {\n",
              "        vertical-align: middle;\n",
              "    }\n",
              "\n",
              "    .dataframe tbody tr th {\n",
              "        vertical-align: top;\n",
              "    }\n",
              "\n",
              "    .dataframe thead th {\n",
              "        text-align: right;\n",
              "    }\n",
              "</style>\n",
              "<table border=\"1\" class=\"dataframe\">\n",
              "  <thead>\n",
              "    <tr style=\"text-align: right;\">\n",
              "      <th></th>\n",
              "      <th>zt1</th>\n",
              "      <th>zt2</th>\n",
              "      <th>zt3</th>\n",
              "    </tr>\n",
              "  </thead>\n",
              "  <tbody>\n",
              "    <tr>\n",
              "      <th>zt1</th>\n",
              "      <td>1.000000</td>\n",
              "      <td>-0.002491</td>\n",
              "      <td>0.016606</td>\n",
              "    </tr>\n",
              "    <tr>\n",
              "      <th>zt2</th>\n",
              "      <td>-0.002491</td>\n",
              "      <td>1.000000</td>\n",
              "      <td>-0.001008</td>\n",
              "    </tr>\n",
              "    <tr>\n",
              "      <th>zt3</th>\n",
              "      <td>0.016606</td>\n",
              "      <td>-0.001008</td>\n",
              "      <td>1.000000</td>\n",
              "    </tr>\n",
              "  </tbody>\n",
              "</table>\n",
              "</div>"
            ],
            "text/plain": [
              "          zt1       zt2       zt3\n",
              "zt1  1.000000 -0.002491  0.016606\n",
              "zt2 -0.002491  1.000000 -0.001008\n",
              "zt3  0.016606 -0.001008  1.000000"
            ]
          },
          "metadata": {},
          "execution_count": 39
        }
      ]
    }
  ]
}