{
  "nbformat": 4,
  "nbformat_minor": 0,
  "metadata": {
    "colab": {
      "name": "generate_datanew.ipynb",
      "provenance": [],
      "authorship_tag": "ABX9TyOkwT9R7HPCCWWUhaF1A0fN",
      "include_colab_link": true
    },
    "kernelspec": {
      "name": "python3",
      "display_name": "Python 3"
    },
    "language_info": {
      "name": "python"
    }
  },
  "cells": [
    {
      "cell_type": "markdown",
      "metadata": {
        "id": "view-in-github",
        "colab_type": "text"
      },
      "source": [
        "<a href=\"https://colab.research.google.com/github/iam-fern/Research/blob/main/generate_datanew.ipynb\" target=\"_parent\"><img src=\"https://colab.research.google.com/assets/colab-badge.svg\" alt=\"Open In Colab\"/></a>"
      ]
    },
    {
      "cell_type": "code",
      "metadata": {
        "id": "fls_i6aT6LzX"
      },
      "source": [
        "import pandas as pd\n",
        "import numpy as np\n",
        "import matplotlib.pyplot as plt\n",
        "from scipy.stats import norm\n",
        "from numpy.random import normal\n",
        "import statistics"
      ],
      "execution_count": 15,
      "outputs": []
    },
    {
      "cell_type": "code",
      "metadata": {
        "colab": {
          "base_uri": "https://localhost:8080/",
          "height": 417
        },
        "id": "t0iOQuu36puh",
        "outputId": "8cb95588-dd47-485a-d06f-0e4281bc9469"
      },
      "source": [
        "# numpy.random.normal(loc=0.0, scale=1.0, size=None)\n",
        "# generate sample of 200 values that follow a normal distribution \n",
        "# data = normal(loc=0, scale=1, size=200)\n",
        "\n",
        "data = pd.DataFrame({\"zt1\" : normal(0, 1, 3000),\n",
        "                     \"zt2\" : normal(0, 1, 3000),\n",
        "                     \"zt3\" : normal(0, 1, 3000)})\n",
        "data"
      ],
      "execution_count": 16,
      "outputs": [
        {
          "output_type": "execute_result",
          "data": {
            "text/html": [
              "<div>\n",
              "<style scoped>\n",
              "    .dataframe tbody tr th:only-of-type {\n",
              "        vertical-align: middle;\n",
              "    }\n",
              "\n",
              "    .dataframe tbody tr th {\n",
              "        vertical-align: top;\n",
              "    }\n",
              "\n",
              "    .dataframe thead th {\n",
              "        text-align: right;\n",
              "    }\n",
              "</style>\n",
              "<table border=\"1\" class=\"dataframe\">\n",
              "  <thead>\n",
              "    <tr style=\"text-align: right;\">\n",
              "      <th></th>\n",
              "      <th>zt1</th>\n",
              "      <th>zt2</th>\n",
              "      <th>zt3</th>\n",
              "    </tr>\n",
              "  </thead>\n",
              "  <tbody>\n",
              "    <tr>\n",
              "      <th>0</th>\n",
              "      <td>1.179403</td>\n",
              "      <td>-2.136678</td>\n",
              "      <td>1.631241</td>\n",
              "    </tr>\n",
              "    <tr>\n",
              "      <th>1</th>\n",
              "      <td>-2.277413</td>\n",
              "      <td>-0.023689</td>\n",
              "      <td>0.614364</td>\n",
              "    </tr>\n",
              "    <tr>\n",
              "      <th>2</th>\n",
              "      <td>0.341338</td>\n",
              "      <td>-0.466866</td>\n",
              "      <td>-1.479848</td>\n",
              "    </tr>\n",
              "    <tr>\n",
              "      <th>3</th>\n",
              "      <td>1.615833</td>\n",
              "      <td>-0.319529</td>\n",
              "      <td>1.318925</td>\n",
              "    </tr>\n",
              "    <tr>\n",
              "      <th>4</th>\n",
              "      <td>0.424138</td>\n",
              "      <td>0.782640</td>\n",
              "      <td>0.095828</td>\n",
              "    </tr>\n",
              "    <tr>\n",
              "      <th>...</th>\n",
              "      <td>...</td>\n",
              "      <td>...</td>\n",
              "      <td>...</td>\n",
              "    </tr>\n",
              "    <tr>\n",
              "      <th>2995</th>\n",
              "      <td>-0.069159</td>\n",
              "      <td>0.729048</td>\n",
              "      <td>0.703688</td>\n",
              "    </tr>\n",
              "    <tr>\n",
              "      <th>2996</th>\n",
              "      <td>0.109980</td>\n",
              "      <td>1.062104</td>\n",
              "      <td>0.667928</td>\n",
              "    </tr>\n",
              "    <tr>\n",
              "      <th>2997</th>\n",
              "      <td>0.604871</td>\n",
              "      <td>-0.465668</td>\n",
              "      <td>1.915500</td>\n",
              "    </tr>\n",
              "    <tr>\n",
              "      <th>2998</th>\n",
              "      <td>-0.714607</td>\n",
              "      <td>0.749591</td>\n",
              "      <td>-0.180616</td>\n",
              "    </tr>\n",
              "    <tr>\n",
              "      <th>2999</th>\n",
              "      <td>-0.568497</td>\n",
              "      <td>-0.684870</td>\n",
              "      <td>-2.306144</td>\n",
              "    </tr>\n",
              "  </tbody>\n",
              "</table>\n",
              "<p>3000 rows × 3 columns</p>\n",
              "</div>"
            ],
            "text/plain": [
              "           zt1       zt2       zt3\n",
              "0     1.179403 -2.136678  1.631241\n",
              "1    -2.277413 -0.023689  0.614364\n",
              "2     0.341338 -0.466866 -1.479848\n",
              "3     1.615833 -0.319529  1.318925\n",
              "4     0.424138  0.782640  0.095828\n",
              "...        ...       ...       ...\n",
              "2995 -0.069159  0.729048  0.703688\n",
              "2996  0.109980  1.062104  0.667928\n",
              "2997  0.604871 -0.465668  1.915500\n",
              "2998 -0.714607  0.749591 -0.180616\n",
              "2999 -0.568497 -0.684870 -2.306144\n",
              "\n",
              "[3000 rows x 3 columns]"
            ]
          },
          "metadata": {},
          "execution_count": 16
        }
      ]
    },
    {
      "cell_type": "code",
      "metadata": {
        "id": "MX5xxnk7qauq"
      },
      "source": [
        "p = 0"
      ],
      "execution_count": 17,
      "outputs": []
    },
    {
      "cell_type": "code",
      "metadata": {
        "id": "owkT5lN3j_L2"
      },
      "source": [
        "Zt1 = data['zt1']\n",
        "Zt2 = data['zt2']\n",
        "Zt3 = data['zt3']"
      ],
      "execution_count": 18,
      "outputs": []
    },
    {
      "cell_type": "code",
      "metadata": {
        "id": "uVKzkeElhntj"
      },
      "source": [
        "xt1 = (1-(p**2))**(1/2)*Zt1\n",
        "xt2 = (1-(p**2))**(1/2)*Zt2\n",
        "xt3 = (1-(p**2))**(1/2)*Zt3"
      ],
      "execution_count": 19,
      "outputs": []
    },
    {
      "cell_type": "code",
      "metadata": {
        "colab": {
          "base_uri": "https://localhost:8080/"
        },
        "id": "3nyP-WrUt4_z",
        "outputId": "bd1fbdb7-a9cf-414b-d315-05caf3ed7012"
      },
      "source": [
        "xt1"
      ],
      "execution_count": 20,
      "outputs": [
        {
          "output_type": "execute_result",
          "data": {
            "text/plain": [
              "0       1.179403\n",
              "1      -2.277413\n",
              "2       0.341338\n",
              "3       1.615833\n",
              "4       0.424138\n",
              "          ...   \n",
              "2995   -0.069159\n",
              "2996    0.109980\n",
              "2997    0.604871\n",
              "2998   -0.714607\n",
              "2999   -0.568497\n",
              "Name: zt1, Length: 3000, dtype: float64"
            ]
          },
          "metadata": {},
          "execution_count": 20
        }
      ]
    },
    {
      "cell_type": "code",
      "metadata": {
        "colab": {
          "base_uri": "https://localhost:8080/",
          "height": 417
        },
        "id": "aQiNss5phABg",
        "outputId": "9ae4b363-08db-495e-f343-42940eea5091"
      },
      "source": [
        "new_data = pd.DataFrame({'Xt1' : data['zt1'],\n",
        "                         'Xt2' : data['zt2'],\n",
        "                         'Xt3' : data['zt3'],\n",
        "                         'e'   : normal(0, xt2**4, 3000)})\n",
        "new_data"
      ],
      "execution_count": 21,
      "outputs": [
        {
          "output_type": "execute_result",
          "data": {
            "text/html": [
              "<div>\n",
              "<style scoped>\n",
              "    .dataframe tbody tr th:only-of-type {\n",
              "        vertical-align: middle;\n",
              "    }\n",
              "\n",
              "    .dataframe tbody tr th {\n",
              "        vertical-align: top;\n",
              "    }\n",
              "\n",
              "    .dataframe thead th {\n",
              "        text-align: right;\n",
              "    }\n",
              "</style>\n",
              "<table border=\"1\" class=\"dataframe\">\n",
              "  <thead>\n",
              "    <tr style=\"text-align: right;\">\n",
              "      <th></th>\n",
              "      <th>Xt1</th>\n",
              "      <th>Xt2</th>\n",
              "      <th>Xt3</th>\n",
              "      <th>e</th>\n",
              "    </tr>\n",
              "  </thead>\n",
              "  <tbody>\n",
              "    <tr>\n",
              "      <th>0</th>\n",
              "      <td>1.179403</td>\n",
              "      <td>-2.136678</td>\n",
              "      <td>1.631241</td>\n",
              "      <td>-3.338519e+01</td>\n",
              "    </tr>\n",
              "    <tr>\n",
              "      <th>1</th>\n",
              "      <td>-2.277413</td>\n",
              "      <td>-0.023689</td>\n",
              "      <td>0.614364</td>\n",
              "      <td>3.902090e-08</td>\n",
              "    </tr>\n",
              "    <tr>\n",
              "      <th>2</th>\n",
              "      <td>0.341338</td>\n",
              "      <td>-0.466866</td>\n",
              "      <td>-1.479848</td>\n",
              "      <td>3.431243e-02</td>\n",
              "    </tr>\n",
              "    <tr>\n",
              "      <th>3</th>\n",
              "      <td>1.615833</td>\n",
              "      <td>-0.319529</td>\n",
              "      <td>1.318925</td>\n",
              "      <td>1.621781e-02</td>\n",
              "    </tr>\n",
              "    <tr>\n",
              "      <th>4</th>\n",
              "      <td>0.424138</td>\n",
              "      <td>0.782640</td>\n",
              "      <td>0.095828</td>\n",
              "      <td>3.467880e-01</td>\n",
              "    </tr>\n",
              "    <tr>\n",
              "      <th>...</th>\n",
              "      <td>...</td>\n",
              "      <td>...</td>\n",
              "      <td>...</td>\n",
              "      <td>...</td>\n",
              "    </tr>\n",
              "    <tr>\n",
              "      <th>2995</th>\n",
              "      <td>-0.069159</td>\n",
              "      <td>0.729048</td>\n",
              "      <td>0.703688</td>\n",
              "      <td>1.859437e-02</td>\n",
              "    </tr>\n",
              "    <tr>\n",
              "      <th>2996</th>\n",
              "      <td>0.109980</td>\n",
              "      <td>1.062104</td>\n",
              "      <td>0.667928</td>\n",
              "      <td>1.967645e+00</td>\n",
              "    </tr>\n",
              "    <tr>\n",
              "      <th>2997</th>\n",
              "      <td>0.604871</td>\n",
              "      <td>-0.465668</td>\n",
              "      <td>1.915500</td>\n",
              "      <td>2.261252e-02</td>\n",
              "    </tr>\n",
              "    <tr>\n",
              "      <th>2998</th>\n",
              "      <td>-0.714607</td>\n",
              "      <td>0.749591</td>\n",
              "      <td>-0.180616</td>\n",
              "      <td>7.255309e-01</td>\n",
              "    </tr>\n",
              "    <tr>\n",
              "      <th>2999</th>\n",
              "      <td>-0.568497</td>\n",
              "      <td>-0.684870</td>\n",
              "      <td>-2.306144</td>\n",
              "      <td>-1.527380e-01</td>\n",
              "    </tr>\n",
              "  </tbody>\n",
              "</table>\n",
              "<p>3000 rows × 4 columns</p>\n",
              "</div>"
            ],
            "text/plain": [
              "           Xt1       Xt2       Xt3             e\n",
              "0     1.179403 -2.136678  1.631241 -3.338519e+01\n",
              "1    -2.277413 -0.023689  0.614364  3.902090e-08\n",
              "2     0.341338 -0.466866 -1.479848  3.431243e-02\n",
              "3     1.615833 -0.319529  1.318925  1.621781e-02\n",
              "4     0.424138  0.782640  0.095828  3.467880e-01\n",
              "...        ...       ...       ...           ...\n",
              "2995 -0.069159  0.729048  0.703688  1.859437e-02\n",
              "2996  0.109980  1.062104  0.667928  1.967645e+00\n",
              "2997  0.604871 -0.465668  1.915500  2.261252e-02\n",
              "2998 -0.714607  0.749591 -0.180616  7.255309e-01\n",
              "2999 -0.568497 -0.684870 -2.306144 -1.527380e-01\n",
              "\n",
              "[3000 rows x 4 columns]"
            ]
          },
          "metadata": {},
          "execution_count": 21
        }
      ]
    },
    {
      "cell_type": "code",
      "metadata": {
        "id": "4lWlM2SWKzum",
        "colab": {
          "base_uri": "https://localhost:8080/",
          "height": 417
        },
        "outputId": "3a1e2900-5a2d-4d78-b3ae-00e557801b94"
      },
      "source": [
        "table_data = pd.DataFrame({'Xt1' : data['zt1'],\n",
        "                           'Xt2' : data['zt2'],\n",
        "                           'Xt3' : data['zt3'],\n",
        "                           'e'   : new_data['e']})\n",
        "table_data['Y'] = 4+0.4*table_data['Xt1']+1.5*table_data['Xt2']+3.6*table_data['Xt3']+table_data['e']\n",
        "table_data"
      ],
      "execution_count": 22,
      "outputs": [
        {
          "output_type": "execute_result",
          "data": {
            "text/html": [
              "<div>\n",
              "<style scoped>\n",
              "    .dataframe tbody tr th:only-of-type {\n",
              "        vertical-align: middle;\n",
              "    }\n",
              "\n",
              "    .dataframe tbody tr th {\n",
              "        vertical-align: top;\n",
              "    }\n",
              "\n",
              "    .dataframe thead th {\n",
              "        text-align: right;\n",
              "    }\n",
              "</style>\n",
              "<table border=\"1\" class=\"dataframe\">\n",
              "  <thead>\n",
              "    <tr style=\"text-align: right;\">\n",
              "      <th></th>\n",
              "      <th>Xt1</th>\n",
              "      <th>Xt2</th>\n",
              "      <th>Xt3</th>\n",
              "      <th>e</th>\n",
              "      <th>Y</th>\n",
              "    </tr>\n",
              "  </thead>\n",
              "  <tbody>\n",
              "    <tr>\n",
              "      <th>0</th>\n",
              "      <td>1.179403</td>\n",
              "      <td>-2.136678</td>\n",
              "      <td>1.631241</td>\n",
              "      <td>-3.338519e+01</td>\n",
              "      <td>-26.245982</td>\n",
              "    </tr>\n",
              "    <tr>\n",
              "      <th>1</th>\n",
              "      <td>-2.277413</td>\n",
              "      <td>-0.023689</td>\n",
              "      <td>0.614364</td>\n",
              "      <td>3.902090e-08</td>\n",
              "      <td>5.265213</td>\n",
              "    </tr>\n",
              "    <tr>\n",
              "      <th>2</th>\n",
              "      <td>0.341338</td>\n",
              "      <td>-0.466866</td>\n",
              "      <td>-1.479848</td>\n",
              "      <td>3.431243e-02</td>\n",
              "      <td>-1.856904</td>\n",
              "    </tr>\n",
              "    <tr>\n",
              "      <th>3</th>\n",
              "      <td>1.615833</td>\n",
              "      <td>-0.319529</td>\n",
              "      <td>1.318925</td>\n",
              "      <td>1.621781e-02</td>\n",
              "      <td>8.931388</td>\n",
              "    </tr>\n",
              "    <tr>\n",
              "      <th>4</th>\n",
              "      <td>0.424138</td>\n",
              "      <td>0.782640</td>\n",
              "      <td>0.095828</td>\n",
              "      <td>3.467880e-01</td>\n",
              "      <td>6.035385</td>\n",
              "    </tr>\n",
              "    <tr>\n",
              "      <th>...</th>\n",
              "      <td>...</td>\n",
              "      <td>...</td>\n",
              "      <td>...</td>\n",
              "      <td>...</td>\n",
              "      <td>...</td>\n",
              "    </tr>\n",
              "    <tr>\n",
              "      <th>2995</th>\n",
              "      <td>-0.069159</td>\n",
              "      <td>0.729048</td>\n",
              "      <td>0.703688</td>\n",
              "      <td>1.859437e-02</td>\n",
              "      <td>7.617782</td>\n",
              "    </tr>\n",
              "    <tr>\n",
              "      <th>2996</th>\n",
              "      <td>0.109980</td>\n",
              "      <td>1.062104</td>\n",
              "      <td>0.667928</td>\n",
              "      <td>1.967645e+00</td>\n",
              "      <td>10.009336</td>\n",
              "    </tr>\n",
              "    <tr>\n",
              "      <th>2997</th>\n",
              "      <td>0.604871</td>\n",
              "      <td>-0.465668</td>\n",
              "      <td>1.915500</td>\n",
              "      <td>2.261252e-02</td>\n",
              "      <td>10.461858</td>\n",
              "    </tr>\n",
              "    <tr>\n",
              "      <th>2998</th>\n",
              "      <td>-0.714607</td>\n",
              "      <td>0.749591</td>\n",
              "      <td>-0.180616</td>\n",
              "      <td>7.255309e-01</td>\n",
              "      <td>4.913856</td>\n",
              "    </tr>\n",
              "    <tr>\n",
              "      <th>2999</th>\n",
              "      <td>-0.568497</td>\n",
              "      <td>-0.684870</td>\n",
              "      <td>-2.306144</td>\n",
              "      <td>-1.527380e-01</td>\n",
              "      <td>-5.709560</td>\n",
              "    </tr>\n",
              "  </tbody>\n",
              "</table>\n",
              "<p>3000 rows × 5 columns</p>\n",
              "</div>"
            ],
            "text/plain": [
              "           Xt1       Xt2       Xt3             e          Y\n",
              "0     1.179403 -2.136678  1.631241 -3.338519e+01 -26.245982\n",
              "1    -2.277413 -0.023689  0.614364  3.902090e-08   5.265213\n",
              "2     0.341338 -0.466866 -1.479848  3.431243e-02  -1.856904\n",
              "3     1.615833 -0.319529  1.318925  1.621781e-02   8.931388\n",
              "4     0.424138  0.782640  0.095828  3.467880e-01   6.035385\n",
              "...        ...       ...       ...           ...        ...\n",
              "2995 -0.069159  0.729048  0.703688  1.859437e-02   7.617782\n",
              "2996  0.109980  1.062104  0.667928  1.967645e+00  10.009336\n",
              "2997  0.604871 -0.465668  1.915500  2.261252e-02  10.461858\n",
              "2998 -0.714607  0.749591 -0.180616  7.255309e-01   4.913856\n",
              "2999 -0.568497 -0.684870 -2.306144 -1.527380e-01  -5.709560\n",
              "\n",
              "[3000 rows x 5 columns]"
            ]
          },
          "metadata": {},
          "execution_count": 22
        }
      ]
    },
    {
      "cell_type": "code",
      "metadata": {
        "id": "cfwbF9PhN61s",
        "outputId": "18668e85-fa17-46ff-f0ec-c60499bbf615",
        "colab": {
          "base_uri": "https://localhost:8080/"
        }
      },
      "source": [
        "new_data.mean()"
      ],
      "execution_count": 26,
      "outputs": [
        {
          "output_type": "execute_result",
          "data": {
            "text/plain": [
              "Xt1   -0.036619\n",
              "Xt2    0.014718\n",
              "Xt3    0.032282\n",
              "e     -0.010276\n",
              "dtype: float64"
            ]
          },
          "metadata": {},
          "execution_count": 26
        }
      ]
    },
    {
      "cell_type": "code",
      "metadata": {
        "id": "ohJTepf-SP0x",
        "outputId": "6044bcc4-a372-492d-a97e-1c5fe6a94444",
        "colab": {
          "base_uri": "https://localhost:8080/"
        }
      },
      "source": [
        "new_data.var()"
      ],
      "execution_count": 27,
      "outputs": [
        {
          "output_type": "execute_result",
          "data": {
            "text/plain": [
              "Xt1     0.981878\n",
              "Xt2     1.011021\n",
              "Xt3     1.000045\n",
              "e      97.710191\n",
              "dtype: float64"
            ]
          },
          "metadata": {},
          "execution_count": 27
        }
      ]
    },
    {
      "cell_type": "code",
      "metadata": {
        "id": "3PT145KqS78z",
        "outputId": "75957075-83f4-40c5-b2b5-afa391d43f99",
        "colab": {
          "base_uri": "https://localhost:8080/",
          "height": 172
        }
      },
      "source": [
        "# Compute pairwise correlation of columns, excluding NA/null values.\n",
        "\n",
        "new_data.corr()"
      ],
      "execution_count": 28,
      "outputs": [
        {
          "output_type": "execute_result",
          "data": {
            "text/html": [
              "<div>\n",
              "<style scoped>\n",
              "    .dataframe tbody tr th:only-of-type {\n",
              "        vertical-align: middle;\n",
              "    }\n",
              "\n",
              "    .dataframe tbody tr th {\n",
              "        vertical-align: top;\n",
              "    }\n",
              "\n",
              "    .dataframe thead th {\n",
              "        text-align: right;\n",
              "    }\n",
              "</style>\n",
              "<table border=\"1\" class=\"dataframe\">\n",
              "  <thead>\n",
              "    <tr style=\"text-align: right;\">\n",
              "      <th></th>\n",
              "      <th>Xt1</th>\n",
              "      <th>Xt2</th>\n",
              "      <th>Xt3</th>\n",
              "      <th>e</th>\n",
              "    </tr>\n",
              "  </thead>\n",
              "  <tbody>\n",
              "    <tr>\n",
              "      <th>Xt1</th>\n",
              "      <td>1.000000</td>\n",
              "      <td>0.017150</td>\n",
              "      <td>-0.029900</td>\n",
              "      <td>-0.028557</td>\n",
              "    </tr>\n",
              "    <tr>\n",
              "      <th>Xt2</th>\n",
              "      <td>0.017150</td>\n",
              "      <td>1.000000</td>\n",
              "      <td>0.010787</td>\n",
              "      <td>0.109490</td>\n",
              "    </tr>\n",
              "    <tr>\n",
              "      <th>Xt3</th>\n",
              "      <td>-0.029900</td>\n",
              "      <td>0.010787</td>\n",
              "      <td>1.000000</td>\n",
              "      <td>-0.009234</td>\n",
              "    </tr>\n",
              "    <tr>\n",
              "      <th>e</th>\n",
              "      <td>-0.028557</td>\n",
              "      <td>0.109490</td>\n",
              "      <td>-0.009234</td>\n",
              "      <td>1.000000</td>\n",
              "    </tr>\n",
              "  </tbody>\n",
              "</table>\n",
              "</div>"
            ],
            "text/plain": [
              "          Xt1       Xt2       Xt3         e\n",
              "Xt1  1.000000  0.017150 -0.029900 -0.028557\n",
              "Xt2  0.017150  1.000000  0.010787  0.109490\n",
              "Xt3 -0.029900  0.010787  1.000000 -0.009234\n",
              "e   -0.028557  0.109490 -0.009234  1.000000"
            ]
          },
          "metadata": {},
          "execution_count": 28
        }
      ]
    }
  ]
}