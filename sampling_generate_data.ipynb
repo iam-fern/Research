{
  "nbformat": 4,
  "nbformat_minor": 0,
  "metadata": {
    "colab": {
      "name": "sampling_generate_data.ipynb",
      "provenance": [],
      "authorship_tag": "ABX9TyPogguOKrJe7ru53hmf/gDx",
      "include_colab_link": true
    },
    "kernelspec": {
      "name": "python3",
      "display_name": "Python 3"
    },
    "language_info": {
      "name": "python"
    }
  },
  "cells": [
    {
      "cell_type": "markdown",
      "metadata": {
        "id": "view-in-github",
        "colab_type": "text"
      },
      "source": [
        "<a href=\"https://colab.research.google.com/github/iam-fern/Research/blob/main/sampling_generate_data.ipynb\" target=\"_parent\"><img src=\"https://colab.research.google.com/assets/colab-badge.svg\" alt=\"Open In Colab\"/></a>"
      ]
    },
    {
      "cell_type": "code",
      "metadata": {
        "id": "90AEh07sP2RM"
      },
      "source": [
        "import pandas as pd\n",
        "import numpy as np\n",
        "import matplotlib.pyplot as plt\n",
        "from scipy.stats import norm\n",
        "from numpy.random import normal\n",
        "import statistics"
      ],
      "execution_count": 1,
      "outputs": []
    },
    {
      "cell_type": "code",
      "metadata": {
        "colab": {
          "base_uri": "https://localhost:8080/",
          "height": 417
        },
        "id": "JS6OJnBfP-3d",
        "outputId": "79a521b1-2173-45f3-ae84-beec93692f44"
      },
      "source": [
        "# numpy.random.normal(loc=0.0, scale=1.0, size=None)\n",
        "# generate sample of 200 values that follow a normal distribution \n",
        "# data = normal(loc=0, scale=1, size=200)\n",
        "\n",
        "data = pd.DataFrame({\"zt1\" : normal(0, 1, 50000),\n",
        "                     \"zt2\" : normal(0, 1, 50000),\n",
        "                     \"zt3\" : normal(0, 1, 50000)})\n",
        "data"
      ],
      "execution_count": 2,
      "outputs": [
        {
          "output_type": "execute_result",
          "data": {
            "text/html": [
              "<div>\n",
              "<style scoped>\n",
              "    .dataframe tbody tr th:only-of-type {\n",
              "        vertical-align: middle;\n",
              "    }\n",
              "\n",
              "    .dataframe tbody tr th {\n",
              "        vertical-align: top;\n",
              "    }\n",
              "\n",
              "    .dataframe thead th {\n",
              "        text-align: right;\n",
              "    }\n",
              "</style>\n",
              "<table border=\"1\" class=\"dataframe\">\n",
              "  <thead>\n",
              "    <tr style=\"text-align: right;\">\n",
              "      <th></th>\n",
              "      <th>zt1</th>\n",
              "      <th>zt2</th>\n",
              "      <th>zt3</th>\n",
              "    </tr>\n",
              "  </thead>\n",
              "  <tbody>\n",
              "    <tr>\n",
              "      <th>0</th>\n",
              "      <td>-0.213344</td>\n",
              "      <td>0.621212</td>\n",
              "      <td>-1.004200</td>\n",
              "    </tr>\n",
              "    <tr>\n",
              "      <th>1</th>\n",
              "      <td>-0.127314</td>\n",
              "      <td>0.706326</td>\n",
              "      <td>0.081627</td>\n",
              "    </tr>\n",
              "    <tr>\n",
              "      <th>2</th>\n",
              "      <td>-0.452038</td>\n",
              "      <td>0.656611</td>\n",
              "      <td>-1.441214</td>\n",
              "    </tr>\n",
              "    <tr>\n",
              "      <th>3</th>\n",
              "      <td>0.871374</td>\n",
              "      <td>2.679392</td>\n",
              "      <td>0.530306</td>\n",
              "    </tr>\n",
              "    <tr>\n",
              "      <th>4</th>\n",
              "      <td>-0.339722</td>\n",
              "      <td>-0.651845</td>\n",
              "      <td>1.296675</td>\n",
              "    </tr>\n",
              "    <tr>\n",
              "      <th>...</th>\n",
              "      <td>...</td>\n",
              "      <td>...</td>\n",
              "      <td>...</td>\n",
              "    </tr>\n",
              "    <tr>\n",
              "      <th>49995</th>\n",
              "      <td>-2.219365</td>\n",
              "      <td>-0.549823</td>\n",
              "      <td>0.637236</td>\n",
              "    </tr>\n",
              "    <tr>\n",
              "      <th>49996</th>\n",
              "      <td>-0.597351</td>\n",
              "      <td>0.350863</td>\n",
              "      <td>1.055560</td>\n",
              "    </tr>\n",
              "    <tr>\n",
              "      <th>49997</th>\n",
              "      <td>0.576856</td>\n",
              "      <td>-0.149280</td>\n",
              "      <td>-1.147855</td>\n",
              "    </tr>\n",
              "    <tr>\n",
              "      <th>49998</th>\n",
              "      <td>-0.780357</td>\n",
              "      <td>-1.957611</td>\n",
              "      <td>-1.767201</td>\n",
              "    </tr>\n",
              "    <tr>\n",
              "      <th>49999</th>\n",
              "      <td>-1.424786</td>\n",
              "      <td>0.896222</td>\n",
              "      <td>-0.437939</td>\n",
              "    </tr>\n",
              "  </tbody>\n",
              "</table>\n",
              "<p>50000 rows × 3 columns</p>\n",
              "</div>"
            ],
            "text/plain": [
              "            zt1       zt2       zt3\n",
              "0     -0.213344  0.621212 -1.004200\n",
              "1     -0.127314  0.706326  0.081627\n",
              "2     -0.452038  0.656611 -1.441214\n",
              "3      0.871374  2.679392  0.530306\n",
              "4     -0.339722 -0.651845  1.296675\n",
              "...         ...       ...       ...\n",
              "49995 -2.219365 -0.549823  0.637236\n",
              "49996 -0.597351  0.350863  1.055560\n",
              "49997  0.576856 -0.149280 -1.147855\n",
              "49998 -0.780357 -1.957611 -1.767201\n",
              "49999 -1.424786  0.896222 -0.437939\n",
              "\n",
              "[50000 rows x 3 columns]"
            ]
          },
          "metadata": {},
          "execution_count": 2
        }
      ]
    },
    {
      "cell_type": "code",
      "metadata": {
        "colab": {
          "base_uri": "https://localhost:8080/",
          "height": 447
        },
        "id": "0BwLfGCEP-xU",
        "outputId": "cef15fd5-9ab7-45ba-d2ce-5db802bf804b"
      },
      "source": [
        "n=50\n",
        "rep=1\n",
        "table_data_all=pd.DataFrame({\"rep\":[]})\n",
        "data_copy=data.copy()\n",
        "while not data_copy.empty:\n",
        "    #=========================\n",
        "    if data_copy.shape[0]>n:\n",
        "        index=data_copy.sample(n).index\n",
        "        data_new=data_copy.loc[index,:]\n",
        "        data_copy=data_copy.drop(index)\n",
        "    else:\n",
        "        data_new=data_copy.copy()\n",
        "        data_copy=pd.DataFrame({\"\":[]})\n",
        "    #=========================\n",
        "    p = 0\n",
        "\n",
        "    Zt1 = data_new['zt1']\n",
        "    Zt2 = data_new['zt2']\n",
        "    Zt3 = data_new['zt3']\n",
        "\n",
        "    xt1 = (1-(p**2))**(1/2)*Zt1\n",
        "    xt2 = (1-(p**2))**(1/2)*Zt2\n",
        "    xt3 = (1-(p**2))**(1/2)*Zt3\n",
        "\n",
        "    new_data = pd.DataFrame({'Xt1' : data_new['zt1'],\n",
        "                             'Xt2' : data_new['zt2'],\n",
        "                             'Xt3' : data_new['zt3'],\n",
        "                             'e'   : normal(0, xt2**4, n)})\n",
        "\n",
        "\n",
        "    table_data = pd.DataFrame({'Xt1' : data_new['zt1'],\n",
        "                               'Xt2' : data_new['zt2'],\n",
        "                               'Xt3' : data_new['zt3'],\n",
        "                               'e'   : new_data['e']})\n",
        "    table_data['Y'] = 4+0.4*table_data['Xt1']+1.5*table_data['Xt2']+3.6*table_data['Xt3']+table_data['e']\n",
        "    table_data['Y_hat'] = 4+0.4*table_data['Xt1']+1.5*table_data['Xt2']+3.6*table_data['Xt3']\n",
        "    table_data['e_hat']=table_data['Y']-table_data['Y_hat']\n",
        "    table_data=table_data.reset_index(drop=True).reset_index()\n",
        "    table_data[\"rep\"]=rep\n",
        "    table_data_all=pd.concat([table_data_all,table_data],axis=0,ignore_index=True,sort=False)\n",
        "    # display(table_data)\n",
        "    rep+=1\n",
        "    if rep==100:\n",
        "      break\n",
        "table_data_all=table_data_all.set_index([\"rep\",\"index\"])\n",
        "table_data_all"
      ],
      "execution_count": 3,
      "outputs": [
        {
          "output_type": "execute_result",
          "data": {
            "text/html": [
              "<div>\n",
              "<style scoped>\n",
              "    .dataframe tbody tr th:only-of-type {\n",
              "        vertical-align: middle;\n",
              "    }\n",
              "\n",
              "    .dataframe tbody tr th {\n",
              "        vertical-align: top;\n",
              "    }\n",
              "\n",
              "    .dataframe thead th {\n",
              "        text-align: right;\n",
              "    }\n",
              "</style>\n",
              "<table border=\"1\" class=\"dataframe\">\n",
              "  <thead>\n",
              "    <tr style=\"text-align: right;\">\n",
              "      <th></th>\n",
              "      <th></th>\n",
              "      <th>Xt1</th>\n",
              "      <th>Xt2</th>\n",
              "      <th>Xt3</th>\n",
              "      <th>e</th>\n",
              "      <th>Y</th>\n",
              "      <th>Y_hat</th>\n",
              "      <th>e_hat</th>\n",
              "    </tr>\n",
              "    <tr>\n",
              "      <th>rep</th>\n",
              "      <th>index</th>\n",
              "      <th></th>\n",
              "      <th></th>\n",
              "      <th></th>\n",
              "      <th></th>\n",
              "      <th></th>\n",
              "      <th></th>\n",
              "      <th></th>\n",
              "    </tr>\n",
              "  </thead>\n",
              "  <tbody>\n",
              "    <tr>\n",
              "      <th rowspan=\"5\" valign=\"top\">1.0</th>\n",
              "      <th>0.0</th>\n",
              "      <td>-1.720013</td>\n",
              "      <td>0.849249</td>\n",
              "      <td>0.934337</td>\n",
              "      <td>0.308734</td>\n",
              "      <td>8.258217</td>\n",
              "      <td>7.949483</td>\n",
              "      <td>0.308734</td>\n",
              "    </tr>\n",
              "    <tr>\n",
              "      <th>1.0</th>\n",
              "      <td>0.890409</td>\n",
              "      <td>0.293905</td>\n",
              "      <td>-1.155870</td>\n",
              "      <td>0.010630</td>\n",
              "      <td>0.646518</td>\n",
              "      <td>0.635887</td>\n",
              "      <td>0.010630</td>\n",
              "    </tr>\n",
              "    <tr>\n",
              "      <th>2.0</th>\n",
              "      <td>0.956706</td>\n",
              "      <td>0.036694</td>\n",
              "      <td>-0.687411</td>\n",
              "      <td>0.000001</td>\n",
              "      <td>1.963046</td>\n",
              "      <td>1.963045</td>\n",
              "      <td>0.000001</td>\n",
              "    </tr>\n",
              "    <tr>\n",
              "      <th>3.0</th>\n",
              "      <td>-0.613823</td>\n",
              "      <td>0.188220</td>\n",
              "      <td>1.098127</td>\n",
              "      <td>0.002078</td>\n",
              "      <td>7.992139</td>\n",
              "      <td>7.990060</td>\n",
              "      <td>0.002078</td>\n",
              "    </tr>\n",
              "    <tr>\n",
              "      <th>4.0</th>\n",
              "      <td>0.754545</td>\n",
              "      <td>-0.320974</td>\n",
              "      <td>-0.396001</td>\n",
              "      <td>0.006210</td>\n",
              "      <td>2.400964</td>\n",
              "      <td>2.394754</td>\n",
              "      <td>0.006210</td>\n",
              "    </tr>\n",
              "    <tr>\n",
              "      <th>...</th>\n",
              "      <th>...</th>\n",
              "      <td>...</td>\n",
              "      <td>...</td>\n",
              "      <td>...</td>\n",
              "      <td>...</td>\n",
              "      <td>...</td>\n",
              "      <td>...</td>\n",
              "      <td>...</td>\n",
              "    </tr>\n",
              "    <tr>\n",
              "      <th rowspan=\"5\" valign=\"top\">99.0</th>\n",
              "      <th>45.0</th>\n",
              "      <td>0.364434</td>\n",
              "      <td>1.740813</td>\n",
              "      <td>0.230261</td>\n",
              "      <td>-12.653517</td>\n",
              "      <td>-5.067583</td>\n",
              "      <td>7.585934</td>\n",
              "      <td>-12.653517</td>\n",
              "    </tr>\n",
              "    <tr>\n",
              "      <th>46.0</th>\n",
              "      <td>1.367506</td>\n",
              "      <td>-0.375272</td>\n",
              "      <td>3.082498</td>\n",
              "      <td>-0.016413</td>\n",
              "      <td>15.064675</td>\n",
              "      <td>15.081089</td>\n",
              "      <td>-0.016413</td>\n",
              "    </tr>\n",
              "    <tr>\n",
              "      <th>47.0</th>\n",
              "      <td>-0.024523</td>\n",
              "      <td>1.402693</td>\n",
              "      <td>-1.482187</td>\n",
              "      <td>0.863325</td>\n",
              "      <td>1.621683</td>\n",
              "      <td>0.758358</td>\n",
              "      <td>0.863325</td>\n",
              "    </tr>\n",
              "    <tr>\n",
              "      <th>48.0</th>\n",
              "      <td>1.125073</td>\n",
              "      <td>-0.903064</td>\n",
              "      <td>1.006324</td>\n",
              "      <td>0.105726</td>\n",
              "      <td>6.823925</td>\n",
              "      <td>6.718199</td>\n",
              "      <td>0.105726</td>\n",
              "    </tr>\n",
              "    <tr>\n",
              "      <th>49.0</th>\n",
              "      <td>0.627120</td>\n",
              "      <td>-0.234710</td>\n",
              "      <td>1.579314</td>\n",
              "      <td>0.003607</td>\n",
              "      <td>9.587921</td>\n",
              "      <td>9.584315</td>\n",
              "      <td>0.003607</td>\n",
              "    </tr>\n",
              "  </tbody>\n",
              "</table>\n",
              "<p>4950 rows × 7 columns</p>\n",
              "</div>"
            ],
            "text/plain": [
              "                 Xt1       Xt2       Xt3  ...          Y      Y_hat      e_hat\n",
              "rep  index                                ...                                 \n",
              "1.0  0.0   -1.720013  0.849249  0.934337  ...   8.258217   7.949483   0.308734\n",
              "     1.0    0.890409  0.293905 -1.155870  ...   0.646518   0.635887   0.010630\n",
              "     2.0    0.956706  0.036694 -0.687411  ...   1.963046   1.963045   0.000001\n",
              "     3.0   -0.613823  0.188220  1.098127  ...   7.992139   7.990060   0.002078\n",
              "     4.0    0.754545 -0.320974 -0.396001  ...   2.400964   2.394754   0.006210\n",
              "...              ...       ...       ...  ...        ...        ...        ...\n",
              "99.0 45.0   0.364434  1.740813  0.230261  ...  -5.067583   7.585934 -12.653517\n",
              "     46.0   1.367506 -0.375272  3.082498  ...  15.064675  15.081089  -0.016413\n",
              "     47.0  -0.024523  1.402693 -1.482187  ...   1.621683   0.758358   0.863325\n",
              "     48.0   1.125073 -0.903064  1.006324  ...   6.823925   6.718199   0.105726\n",
              "     49.0   0.627120 -0.234710  1.579314  ...   9.587921   9.584315   0.003607\n",
              "\n",
              "[4950 rows x 7 columns]"
            ]
          },
          "metadata": {},
          "execution_count": 3
        }
      ]
    },
    {
      "cell_type": "code",
      "metadata": {
        "colab": {
          "base_uri": "https://localhost:8080/"
        },
        "id": "bhrFGaaBP-u4",
        "outputId": "d13fc2ce-6ebd-4f78-fb71-ef6fc8a3ad81"
      },
      "source": [
        "table_data_all.mean()"
      ],
      "execution_count": 4,
      "outputs": [
        {
          "output_type": "execute_result",
          "data": {
            "text/plain": [
              "Xt1      0.000532\n",
              "Xt2      0.007631\n",
              "Xt3     -0.003377\n",
              "e       -0.027969\n",
              "Y        3.971533\n",
              "Y_hat    3.999502\n",
              "e_hat   -0.027969\n",
              "dtype: float64"
            ]
          },
          "metadata": {},
          "execution_count": 4
        }
      ]
    },
    {
      "cell_type": "code",
      "metadata": {
        "colab": {
          "base_uri": "https://localhost:8080/"
        },
        "id": "uB7vyeybP-n9",
        "outputId": "abc997ca-6222-40d6-8501-fcb1ee605cc2"
      },
      "source": [
        "table_data_all.var()"
      ],
      "execution_count": 5,
      "outputs": [
        {
          "output_type": "execute_result",
          "data": {
            "text/plain": [
              "Xt1        0.991204\n",
              "Xt2        1.010912\n",
              "Xt3        0.973075\n",
              "e        153.843044\n",
              "Y        167.550271\n",
              "Y_hat     15.081466\n",
              "e_hat    153.843044\n",
              "dtype: float64"
            ]
          },
          "metadata": {},
          "execution_count": 5
        }
      ]
    },
    {
      "cell_type": "code",
      "metadata": {
        "colab": {
          "base_uri": "https://localhost:8080/",
          "height": 265
        },
        "id": "-hTKOaR6QM4L",
        "outputId": "6c2b70d0-e069-4514-efa0-d0241a2622ab"
      },
      "source": [
        "# Compute pairwise correlation of columns, excluding NA/null values.\n",
        "table_data_all.corr()"
      ],
      "execution_count": 6,
      "outputs": [
        {
          "output_type": "execute_result",
          "data": {
            "text/html": [
              "<div>\n",
              "<style scoped>\n",
              "    .dataframe tbody tr th:only-of-type {\n",
              "        vertical-align: middle;\n",
              "    }\n",
              "\n",
              "    .dataframe tbody tr th {\n",
              "        vertical-align: top;\n",
              "    }\n",
              "\n",
              "    .dataframe thead th {\n",
              "        text-align: right;\n",
              "    }\n",
              "</style>\n",
              "<table border=\"1\" class=\"dataframe\">\n",
              "  <thead>\n",
              "    <tr style=\"text-align: right;\">\n",
              "      <th></th>\n",
              "      <th>Xt1</th>\n",
              "      <th>Xt2</th>\n",
              "      <th>Xt3</th>\n",
              "      <th>e</th>\n",
              "      <th>Y</th>\n",
              "      <th>Y_hat</th>\n",
              "      <th>e_hat</th>\n",
              "    </tr>\n",
              "  </thead>\n",
              "  <tbody>\n",
              "    <tr>\n",
              "      <th>Xt1</th>\n",
              "      <td>1.000000</td>\n",
              "      <td>0.024385</td>\n",
              "      <td>-0.008177</td>\n",
              "      <td>0.006971</td>\n",
              "      <td>0.038044</td>\n",
              "      <td>0.104539</td>\n",
              "      <td>0.006971</td>\n",
              "    </tr>\n",
              "    <tr>\n",
              "      <th>Xt2</th>\n",
              "      <td>0.024385</td>\n",
              "      <td>1.000000</td>\n",
              "      <td>0.002904</td>\n",
              "      <td>-0.022326</td>\n",
              "      <td>0.096667</td>\n",
              "      <td>0.393508</td>\n",
              "      <td>-0.022326</td>\n",
              "    </tr>\n",
              "    <tr>\n",
              "      <th>Xt3</th>\n",
              "      <td>-0.008177</td>\n",
              "      <td>0.002904</td>\n",
              "      <td>1.000000</td>\n",
              "      <td>-0.006900</td>\n",
              "      <td>0.267824</td>\n",
              "      <td>0.914726</td>\n",
              "      <td>-0.006900</td>\n",
              "    </tr>\n",
              "    <tr>\n",
              "      <th>e</th>\n",
              "      <td>0.006971</td>\n",
              "      <td>-0.022326</td>\n",
              "      <td>-0.006900</td>\n",
              "      <td>1.000000</td>\n",
              "      <td>0.953943</td>\n",
              "      <td>-0.014265</td>\n",
              "      <td>1.000000</td>\n",
              "    </tr>\n",
              "    <tr>\n",
              "      <th>Y</th>\n",
              "      <td>0.038044</td>\n",
              "      <td>0.096667</td>\n",
              "      <td>0.267824</td>\n",
              "      <td>0.953943</td>\n",
              "      <td>1.000000</td>\n",
              "      <td>0.286350</td>\n",
              "      <td>0.953943</td>\n",
              "    </tr>\n",
              "    <tr>\n",
              "      <th>Y_hat</th>\n",
              "      <td>0.104539</td>\n",
              "      <td>0.393508</td>\n",
              "      <td>0.914726</td>\n",
              "      <td>-0.014265</td>\n",
              "      <td>0.286350</td>\n",
              "      <td>1.000000</td>\n",
              "      <td>-0.014265</td>\n",
              "    </tr>\n",
              "    <tr>\n",
              "      <th>e_hat</th>\n",
              "      <td>0.006971</td>\n",
              "      <td>-0.022326</td>\n",
              "      <td>-0.006900</td>\n",
              "      <td>1.000000</td>\n",
              "      <td>0.953943</td>\n",
              "      <td>-0.014265</td>\n",
              "      <td>1.000000</td>\n",
              "    </tr>\n",
              "  </tbody>\n",
              "</table>\n",
              "</div>"
            ],
            "text/plain": [
              "            Xt1       Xt2       Xt3         e         Y     Y_hat     e_hat\n",
              "Xt1    1.000000  0.024385 -0.008177  0.006971  0.038044  0.104539  0.006971\n",
              "Xt2    0.024385  1.000000  0.002904 -0.022326  0.096667  0.393508 -0.022326\n",
              "Xt3   -0.008177  0.002904  1.000000 -0.006900  0.267824  0.914726 -0.006900\n",
              "e      0.006971 -0.022326 -0.006900  1.000000  0.953943 -0.014265  1.000000\n",
              "Y      0.038044  0.096667  0.267824  0.953943  1.000000  0.286350  0.953943\n",
              "Y_hat  0.104539  0.393508  0.914726 -0.014265  0.286350  1.000000 -0.014265\n",
              "e_hat  0.006971 -0.022326 -0.006900  1.000000  0.953943 -0.014265  1.000000"
            ]
          },
          "metadata": {},
          "execution_count": 6
        }
      ]
    },
    {
      "cell_type": "code",
      "metadata": {
        "colab": {
          "base_uri": "https://localhost:8080/",
          "height": 1000
        },
        "id": "BxAE0GtRQQG_",
        "outputId": "9b7e5156-cf81-4d6d-f718-26eeed90d9a2"
      },
      "source": [
        "table_data_all.plot(x ='Y_hat', y='e_hat', kind = 'scatter')\n",
        "table_data_all.plot(x ='Xt1', y='e_hat', kind = 'scatter')\n",
        "table_data_all.plot(x ='Xt2', y='e_hat', kind = 'scatter')\n",
        "table_data_all.plot(x ='Xt3', y='e_hat', kind = 'scatter')"
      ],
      "execution_count": 7,
      "outputs": [
        {
          "output_type": "execute_result",
          "data": {
            "text/plain": [
              "<matplotlib.axes._subplots.AxesSubplot at 0x7fd4d48f0090>"
            ]
          },
          "metadata": {},
          "execution_count": 7
        },
        {
          "output_type": "display_data",
          "data": {
            "image/png": "[encoded data removed]",
            "text/plain": [
              "<Figure size 432x288 with 1 Axes>"
            ]
          },
          "metadata": {
            "needs_background": "light"
          }
        },
        {
          "output_type": "display_data",
          "data": {
            "image/png": "[encoded data removed]",
            "text/plain": [
              "<Figure size 432x288 with 1 Axes>"
            ]
          },
          "metadata": {
            "needs_background": "light"
          }
        },
        {
          "output_type": "display_data",
          "data": {
            "image/png": "[encoded data removed]",
            "text/plain": [
              "<Figure size 432x288 with 1 Axes>"
            ]
          },
          "metadata": {
            "needs_background": "light"
          }
        },
        {
          "output_type": "display_data",
          "data": {
            "image/png": "[encoded data removed]",
            "text/plain": [
              "<Figure size 432x288 with 1 Axes>"
            ]
          },
          "metadata": {
            "needs_background": "light"
          }
        }
      ]
    }
  ]
}