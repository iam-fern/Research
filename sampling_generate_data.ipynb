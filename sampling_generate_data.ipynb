{
  "nbformat": 4,
  "nbformat_minor": 0,
  "metadata": {
    "colab": {
      "name": "sampling_generate_data.ipynb",
      "provenance": [],
      "authorship_tag": "ABX9TyN44kUaT0effOwIEsznN8Tm",
      "include_colab_link": true
    },
    "kernelspec": {
      "name": "python3",
      "display_name": "Python 3"
    },
    "language_info": {
      "name": "python"
    }
  },
  "cells": [
    {
      "cell_type": "markdown",
      "metadata": {
        "id": "view-in-github",
        "colab_type": "text"
      },
      "source": [
        "<a href=\"https://colab.research.google.com/github/iam-fern/Research/blob/main/sampling_generate_data.ipynb\" target=\"_parent\"><img src=\"https://colab.research.google.com/assets/colab-badge.svg\" alt=\"Open In Colab\"/></a>"
      ]
    },
    {
      "cell_type": "code",
      "metadata": {
        "id": "90AEh07sP2RM",
        "outputId": "5ae53a06-5d67-48c6-d3b3-6b65e185357e",
        "colab": {
          "base_uri": "https://localhost:8080/"
        }
      },
      "source": [
        "import pandas as pd\n",
        "import numpy as np\n",
        "import matplotlib.pyplot as plt\n",
        "from scipy.stats import norm\n",
        "from numpy.random import normal\n",
        "import statistics\n",
        "import statistics as stats\n",
        "import scipy.stats as ss\n",
        "from scipy import stats\n",
        "import scipy.stats as stats\n",
        "import time\n",
        "import statsmodels.api as sm\n",
        "%matplotlib inline\n",
        "from google.colab import files"
      ],
      "execution_count": 1,
      "outputs": [
        {
          "output_type": "stream",
          "name": "stderr",
          "text": [
            "/usr/local/lib/python3.7/dist-packages/statsmodels/tools/_testing.py:19: FutureWarning: pandas.util.testing is deprecated. Use the functions in the public API at pandas.testing instead.\n",
            "  import pandas.util.testing as tm\n"
          ]
        }
      ]
    },
    {
      "cell_type": "code",
      "metadata": {
        "colab": {
          "base_uri": "https://localhost:8080/",
          "height": 417
        },
        "id": "JS6OJnBfP-3d",
        "outputId": "515c6489-f6a1-4bd5-e8c0-c618222c0393"
      },
      "source": [
        "# numpy.random.normal(loc=0.0, scale=1.0, size=None)\n",
        "# generate sample of 200 values that follow a normal distribution \n",
        "# data = normal(loc=0, scale=1, size=200)\n",
        "\n",
        "data = pd.DataFrame({\"zt1\" : normal(0, 1, 500000),\n",
        "                     \"zt2\" : normal(0, 1, 500000),\n",
        "                     \"zt3\" : normal(0, 1, 500000)})\n",
        "data"
      ],
      "execution_count": 2,
      "outputs": [
        {
          "output_type": "execute_result",
          "data": {
            "text/html": [
              "<div>\n",
              "<style scoped>\n",
              "    .dataframe tbody tr th:only-of-type {\n",
              "        vertical-align: middle;\n",
              "    }\n",
              "\n",
              "    .dataframe tbody tr th {\n",
              "        vertical-align: top;\n",
              "    }\n",
              "\n",
              "    .dataframe thead th {\n",
              "        text-align: right;\n",
              "    }\n",
              "</style>\n",
              "<table border=\"1\" class=\"dataframe\">\n",
              "  <thead>\n",
              "    <tr style=\"text-align: right;\">\n",
              "      <th></th>\n",
              "      <th>zt1</th>\n",
              "      <th>zt2</th>\n",
              "      <th>zt3</th>\n",
              "    </tr>\n",
              "  </thead>\n",
              "  <tbody>\n",
              "    <tr>\n",
              "      <th>0</th>\n",
              "      <td>1.592363</td>\n",
              "      <td>0.358160</td>\n",
              "      <td>-1.111787</td>\n",
              "    </tr>\n",
              "    <tr>\n",
              "      <th>1</th>\n",
              "      <td>-0.694807</td>\n",
              "      <td>-0.513121</td>\n",
              "      <td>1.932765</td>\n",
              "    </tr>\n",
              "    <tr>\n",
              "      <th>2</th>\n",
              "      <td>2.327621</td>\n",
              "      <td>-0.445061</td>\n",
              "      <td>0.006169</td>\n",
              "    </tr>\n",
              "    <tr>\n",
              "      <th>3</th>\n",
              "      <td>0.601927</td>\n",
              "      <td>-2.322394</td>\n",
              "      <td>-1.060958</td>\n",
              "    </tr>\n",
              "    <tr>\n",
              "      <th>4</th>\n",
              "      <td>1.207929</td>\n",
              "      <td>-0.526264</td>\n",
              "      <td>2.135410</td>\n",
              "    </tr>\n",
              "    <tr>\n",
              "      <th>...</th>\n",
              "      <td>...</td>\n",
              "      <td>...</td>\n",
              "      <td>...</td>\n",
              "    </tr>\n",
              "    <tr>\n",
              "      <th>499995</th>\n",
              "      <td>0.495764</td>\n",
              "      <td>0.023498</td>\n",
              "      <td>-0.090723</td>\n",
              "    </tr>\n",
              "    <tr>\n",
              "      <th>499996</th>\n",
              "      <td>-0.940342</td>\n",
              "      <td>-0.951801</td>\n",
              "      <td>-1.162061</td>\n",
              "    </tr>\n",
              "    <tr>\n",
              "      <th>499997</th>\n",
              "      <td>-0.757080</td>\n",
              "      <td>-1.092271</td>\n",
              "      <td>1.863130</td>\n",
              "    </tr>\n",
              "    <tr>\n",
              "      <th>499998</th>\n",
              "      <td>1.087642</td>\n",
              "      <td>-1.351757</td>\n",
              "      <td>-0.027273</td>\n",
              "    </tr>\n",
              "    <tr>\n",
              "      <th>499999</th>\n",
              "      <td>0.212859</td>\n",
              "      <td>2.922795</td>\n",
              "      <td>-0.578818</td>\n",
              "    </tr>\n",
              "  </tbody>\n",
              "</table>\n",
              "<p>500000 rows × 3 columns</p>\n",
              "</div>"
            ],
            "text/plain": [
              "             zt1       zt2       zt3\n",
              "0       1.592363  0.358160 -1.111787\n",
              "1      -0.694807 -0.513121  1.932765\n",
              "2       2.327621 -0.445061  0.006169\n",
              "3       0.601927 -2.322394 -1.060958\n",
              "4       1.207929 -0.526264  2.135410\n",
              "...          ...       ...       ...\n",
              "499995  0.495764  0.023498 -0.090723\n",
              "499996 -0.940342 -0.951801 -1.162061\n",
              "499997 -0.757080 -1.092271  1.863130\n",
              "499998  1.087642 -1.351757 -0.027273\n",
              "499999  0.212859  2.922795 -0.578818\n",
              "\n",
              "[500000 rows x 3 columns]"
            ]
          },
          "metadata": {},
          "execution_count": 2
        }
      ]
    },
    {
      "cell_type": "code",
      "metadata": {
        "colab": {
          "base_uri": "https://localhost:8080/",
          "height": 447
        },
        "id": "0BwLfGCEP-xU",
        "outputId": "65b2d0e5-d369-4d91-cc7d-95e020d2f935"
      },
      "source": [
        "n=50\n",
        "rep=0\n",
        "table_data_all=pd.DataFrame({\"rep\":[]})\n",
        "data_copy=data.copy()\n",
        "while not data_copy.empty:\n",
        "    #=========================\n",
        "    if data_copy.shape[0]>n:\n",
        "        index=data_copy.sample(n).index\n",
        "        data_new=data_copy.loc[index,:]\n",
        "        data_copy=data_copy.drop(index)\n",
        "    else:\n",
        "        data_new=data_copy.copy()\n",
        "        data_copy=pd.DataFrame({\"\":[]})\n",
        "    #=========================\n",
        "    p = 0\n",
        "\n",
        "    Zt1 = data_new['zt1']\n",
        "    Zt2 = data_new['zt2']\n",
        "    Zt3 = data_new['zt3']\n",
        "\n",
        "    xt1 = (1-(p**2))**(1/2)*Zt1\n",
        "    xt2 = (1-(p**2))**(1/2)*Zt2\n",
        "    xt3 = (1-(p**2))**(1/2)*Zt3\n",
        "\n",
        "    new_data = pd.DataFrame({'Xt1' : data_new['zt1'],\n",
        "                             'Xt2' : data_new['zt2'],\n",
        "                             'Xt3' : data_new['zt3'],\n",
        "                             'e'   : normal(0, xt2**6, n)})\n",
        "\n",
        "\n",
        "    table_data = pd.DataFrame({'Xt1' : data_new['zt1'],\n",
        "                               'Xt2' : data_new['zt2'],\n",
        "                               'Xt3' : data_new['zt3'],\n",
        "                               'e'   : new_data['e']})\n",
        "  \n",
        "\n",
        "    table_data['Y'] = 4+0.4*table_data['Xt1']+1.5*table_data['Xt2']+3.6*table_data['Xt3']+table_data['e']\n",
        "    #table_data['Y_hat'] = 4+0.4*table_data['Xt1']+1.5*table_data['Xt2']+3.6*table_data['Xt3']\n",
        "    \n",
        "    table_data=table_data.reset_index(drop=True).reset_index()\n",
        "    table_data[\"rep\"]=rep\n",
        "    table_data_all=pd.concat([table_data_all,table_data],axis=0,ignore_index=True,sort=False)\n",
        "    # display(table_data)\n",
        "    rep+=1\n",
        "    if rep==1000:\n",
        "      break\n",
        "table_data_all=table_data_all.set_index([\"rep\",\"index\"])\n",
        "table_data_all"
      ],
      "execution_count": 16,
      "outputs": [
        {
          "output_type": "execute_result",
          "data": {
            "text/html": [
              "<div>\n",
              "<style scoped>\n",
              "    .dataframe tbody tr th:only-of-type {\n",
              "        vertical-align: middle;\n",
              "    }\n",
              "\n",
              "    .dataframe tbody tr th {\n",
              "        vertical-align: top;\n",
              "    }\n",
              "\n",
              "    .dataframe thead th {\n",
              "        text-align: right;\n",
              "    }\n",
              "</style>\n",
              "<table border=\"1\" class=\"dataframe\">\n",
              "  <thead>\n",
              "    <tr style=\"text-align: right;\">\n",
              "      <th></th>\n",
              "      <th></th>\n",
              "      <th>Xt1</th>\n",
              "      <th>Xt2</th>\n",
              "      <th>Xt3</th>\n",
              "      <th>e</th>\n",
              "      <th>Y</th>\n",
              "    </tr>\n",
              "    <tr>\n",
              "      <th>rep</th>\n",
              "      <th>index</th>\n",
              "      <th></th>\n",
              "      <th></th>\n",
              "      <th></th>\n",
              "      <th></th>\n",
              "      <th></th>\n",
              "    </tr>\n",
              "  </thead>\n",
              "  <tbody>\n",
              "    <tr>\n",
              "      <th rowspan=\"5\" valign=\"top\">0.0</th>\n",
              "      <th>0.0</th>\n",
              "      <td>-0.364168</td>\n",
              "      <td>1.221931</td>\n",
              "      <td>0.174778</td>\n",
              "      <td>0.438532</td>\n",
              "      <td>6.754960</td>\n",
              "    </tr>\n",
              "    <tr>\n",
              "      <th>1.0</th>\n",
              "      <td>-0.871383</td>\n",
              "      <td>1.890840</td>\n",
              "      <td>0.047738</td>\n",
              "      <td>67.508425</td>\n",
              "      <td>74.167990</td>\n",
              "    </tr>\n",
              "    <tr>\n",
              "      <th>2.0</th>\n",
              "      <td>0.732096</td>\n",
              "      <td>0.596684</td>\n",
              "      <td>1.814009</td>\n",
              "      <td>-0.032787</td>\n",
              "      <td>11.685510</td>\n",
              "    </tr>\n",
              "    <tr>\n",
              "      <th>3.0</th>\n",
              "      <td>1.263921</td>\n",
              "      <td>0.275339</td>\n",
              "      <td>-0.781432</td>\n",
              "      <td>-0.000164</td>\n",
              "      <td>2.105256</td>\n",
              "    </tr>\n",
              "    <tr>\n",
              "      <th>4.0</th>\n",
              "      <td>0.027949</td>\n",
              "      <td>-1.541948</td>\n",
              "      <td>0.407906</td>\n",
              "      <td>4.338150</td>\n",
              "      <td>7.504868</td>\n",
              "    </tr>\n",
              "    <tr>\n",
              "      <th>...</th>\n",
              "      <th>...</th>\n",
              "      <td>...</td>\n",
              "      <td>...</td>\n",
              "      <td>...</td>\n",
              "      <td>...</td>\n",
              "      <td>...</td>\n",
              "    </tr>\n",
              "    <tr>\n",
              "      <th rowspan=\"5\" valign=\"top\">999.0</th>\n",
              "      <th>45.0</th>\n",
              "      <td>-1.119721</td>\n",
              "      <td>-0.461460</td>\n",
              "      <td>1.666033</td>\n",
              "      <td>-0.005208</td>\n",
              "      <td>8.852432</td>\n",
              "    </tr>\n",
              "    <tr>\n",
              "      <th>46.0</th>\n",
              "      <td>-0.321609</td>\n",
              "      <td>-0.164048</td>\n",
              "      <td>-0.249518</td>\n",
              "      <td>-0.000005</td>\n",
              "      <td>2.727016</td>\n",
              "    </tr>\n",
              "    <tr>\n",
              "      <th>47.0</th>\n",
              "      <td>-1.292995</td>\n",
              "      <td>1.811754</td>\n",
              "      <td>0.560025</td>\n",
              "      <td>44.793416</td>\n",
              "      <td>53.009939</td>\n",
              "    </tr>\n",
              "    <tr>\n",
              "      <th>48.0</th>\n",
              "      <td>0.664963</td>\n",
              "      <td>0.139654</td>\n",
              "      <td>0.675519</td>\n",
              "      <td>-0.000021</td>\n",
              "      <td>6.907314</td>\n",
              "    </tr>\n",
              "    <tr>\n",
              "      <th>49.0</th>\n",
              "      <td>1.716355</td>\n",
              "      <td>1.666190</td>\n",
              "      <td>-1.935971</td>\n",
              "      <td>-15.854264</td>\n",
              "      <td>-15.637933</td>\n",
              "    </tr>\n",
              "  </tbody>\n",
              "</table>\n",
              "<p>50000 rows × 5 columns</p>\n",
              "</div>"
            ],
            "text/plain": [
              "                  Xt1       Xt2       Xt3          e          Y\n",
              "rep   index                                                    \n",
              "0.0   0.0   -0.364168  1.221931  0.174778   0.438532   6.754960\n",
              "      1.0   -0.871383  1.890840  0.047738  67.508425  74.167990\n",
              "      2.0    0.732096  0.596684  1.814009  -0.032787  11.685510\n",
              "      3.0    1.263921  0.275339 -0.781432  -0.000164   2.105256\n",
              "      4.0    0.027949 -1.541948  0.407906   4.338150   7.504868\n",
              "...               ...       ...       ...        ...        ...\n",
              "999.0 45.0  -1.119721 -0.461460  1.666033  -0.005208   8.852432\n",
              "      46.0  -0.321609 -0.164048 -0.249518  -0.000005   2.727016\n",
              "      47.0  -1.292995  1.811754  0.560025  44.793416  53.009939\n",
              "      48.0   0.664963  0.139654  0.675519  -0.000021   6.907314\n",
              "      49.0   1.716355  1.666190 -1.935971 -15.854264 -15.637933\n",
              "\n",
              "[50000 rows x 5 columns]"
            ]
          },
          "metadata": {},
          "execution_count": 16
        }
      ]
    },
    {
      "cell_type": "code",
      "metadata": {
        "id": "MFqbwbZrto3C"
      },
      "source": [
        "x = table_data_all[['Xt1', 'Xt2', 'Xt3',]]\n",
        "y = table_data_all['Y']\n",
        "x = sm.add_constant(x)\n",
        "model = sm.OLS(y, x).fit()\n",
        "y_pred = model.predict(x)"
      ],
      "execution_count": 17,
      "outputs": []
    },
    {
      "cell_type": "code",
      "metadata": {
        "id": "vv116qTKugxj",
        "colab": {
          "base_uri": "https://localhost:8080/",
          "height": 447
        },
        "outputId": "f99479ba-561a-4337-f63e-ce2e4fce6f5f"
      },
      "source": [
        "df = pd.DataFrame({'Actual': y, 'Predicted': y_pred})\n",
        "df"
      ],
      "execution_count": 18,
      "outputs": [
        {
          "output_type": "execute_result",
          "data": {
            "text/html": [
              "<div>\n",
              "<style scoped>\n",
              "    .dataframe tbody tr th:only-of-type {\n",
              "        vertical-align: middle;\n",
              "    }\n",
              "\n",
              "    .dataframe tbody tr th {\n",
              "        vertical-align: top;\n",
              "    }\n",
              "\n",
              "    .dataframe thead th {\n",
              "        text-align: right;\n",
              "    }\n",
              "</style>\n",
              "<table border=\"1\" class=\"dataframe\">\n",
              "  <thead>\n",
              "    <tr style=\"text-align: right;\">\n",
              "      <th></th>\n",
              "      <th></th>\n",
              "      <th>Actual</th>\n",
              "      <th>Predicted</th>\n",
              "    </tr>\n",
              "    <tr>\n",
              "      <th>rep</th>\n",
              "      <th>index</th>\n",
              "      <th></th>\n",
              "      <th></th>\n",
              "    </tr>\n",
              "  </thead>\n",
              "  <tbody>\n",
              "    <tr>\n",
              "      <th rowspan=\"5\" valign=\"top\">0.0</th>\n",
              "      <th>0.0</th>\n",
              "      <td>6.754960</td>\n",
              "      <td>8.617008</td>\n",
              "    </tr>\n",
              "    <tr>\n",
              "      <th>1.0</th>\n",
              "      <td>74.167990</td>\n",
              "      <td>10.346340</td>\n",
              "    </tr>\n",
              "    <tr>\n",
              "      <th>2.0</th>\n",
              "      <td>11.685510</td>\n",
              "      <td>11.494733</td>\n",
              "    </tr>\n",
              "    <tr>\n",
              "      <th>3.0</th>\n",
              "      <td>2.105256</td>\n",
              "      <td>3.234900</td>\n",
              "    </tr>\n",
              "    <tr>\n",
              "      <th>4.0</th>\n",
              "      <td>7.504868</td>\n",
              "      <td>0.121998</td>\n",
              "    </tr>\n",
              "    <tr>\n",
              "      <th>...</th>\n",
              "      <th>...</th>\n",
              "      <td>...</td>\n",
              "      <td>...</td>\n",
              "    </tr>\n",
              "    <tr>\n",
              "      <th rowspan=\"5\" valign=\"top\">999.0</th>\n",
              "      <th>45.0</th>\n",
              "      <td>8.852432</td>\n",
              "      <td>6.955567</td>\n",
              "    </tr>\n",
              "    <tr>\n",
              "      <th>46.0</th>\n",
              "      <td>2.727016</td>\n",
              "      <td>2.778151</td>\n",
              "    </tr>\n",
              "    <tr>\n",
              "      <th>47.0</th>\n",
              "      <td>53.009939</td>\n",
              "      <td>11.401043</td>\n",
              "    </tr>\n",
              "    <tr>\n",
              "      <th>48.0</th>\n",
              "      <td>6.907314</td>\n",
              "      <td>6.718482</td>\n",
              "    </tr>\n",
              "    <tr>\n",
              "      <th>49.0</th>\n",
              "      <td>-15.637933</td>\n",
              "      <td>4.774296</td>\n",
              "    </tr>\n",
              "  </tbody>\n",
              "</table>\n",
              "<p>50000 rows × 2 columns</p>\n",
              "</div>"
            ],
            "text/plain": [
              "                Actual  Predicted\n",
              "rep   index                      \n",
              "0.0   0.0     6.754960   8.617008\n",
              "      1.0    74.167990  10.346340\n",
              "      2.0    11.685510  11.494733\n",
              "      3.0     2.105256   3.234900\n",
              "      4.0     7.504868   0.121998\n",
              "...                ...        ...\n",
              "999.0 45.0    8.852432   6.955567\n",
              "      46.0    2.727016   2.778151\n",
              "      47.0   53.009939  11.401043\n",
              "      48.0    6.907314   6.718482\n",
              "      49.0  -15.637933   4.774296\n",
              "\n",
              "[50000 rows x 2 columns]"
            ]
          },
          "metadata": {},
          "execution_count": 18
        }
      ]
    },
    {
      "cell_type": "code",
      "metadata": {
        "id": "J12oHeUNzIra",
        "colab": {
          "base_uri": "https://localhost:8080/",
          "height": 447
        },
        "outputId": "1bd96f13-172d-46a8-ec4e-6d600dd4675c"
      },
      "source": [
        "table_data_new = pd.DataFrame({'Xt1'   : table_data_all['Xt1'],\n",
        "                               'Xt2'   : table_data_all['Xt2'],\n",
        "                               'Xt3'   : table_data_all['Xt3'],\n",
        "                               'e'     : table_data_all['e'],\n",
        "                               'Y'     : df['Actual'],\n",
        "                               'y_hat' : df['Predicted']})\n",
        "table_data_new['e_hat'] = table_data_new['Y']-table_data_new['y_hat']\n",
        "table_data_new"
      ],
      "execution_count": 19,
      "outputs": [
        {
          "output_type": "execute_result",
          "data": {
            "text/html": [
              "<div>\n",
              "<style scoped>\n",
              "    .dataframe tbody tr th:only-of-type {\n",
              "        vertical-align: middle;\n",
              "    }\n",
              "\n",
              "    .dataframe tbody tr th {\n",
              "        vertical-align: top;\n",
              "    }\n",
              "\n",
              "    .dataframe thead th {\n",
              "        text-align: right;\n",
              "    }\n",
              "</style>\n",
              "<table border=\"1\" class=\"dataframe\">\n",
              "  <thead>\n",
              "    <tr style=\"text-align: right;\">\n",
              "      <th></th>\n",
              "      <th></th>\n",
              "      <th>Xt1</th>\n",
              "      <th>Xt2</th>\n",
              "      <th>Xt3</th>\n",
              "      <th>e</th>\n",
              "      <th>Y</th>\n",
              "      <th>y_hat</th>\n",
              "      <th>e_hat</th>\n",
              "    </tr>\n",
              "    <tr>\n",
              "      <th>rep</th>\n",
              "      <th>index</th>\n",
              "      <th></th>\n",
              "      <th></th>\n",
              "      <th></th>\n",
              "      <th></th>\n",
              "      <th></th>\n",
              "      <th></th>\n",
              "      <th></th>\n",
              "    </tr>\n",
              "  </thead>\n",
              "  <tbody>\n",
              "    <tr>\n",
              "      <th rowspan=\"5\" valign=\"top\">0.0</th>\n",
              "      <th>0.0</th>\n",
              "      <td>-0.364168</td>\n",
              "      <td>1.221931</td>\n",
              "      <td>0.174778</td>\n",
              "      <td>0.438532</td>\n",
              "      <td>6.754960</td>\n",
              "      <td>8.617008</td>\n",
              "      <td>-1.862048</td>\n",
              "    </tr>\n",
              "    <tr>\n",
              "      <th>1.0</th>\n",
              "      <td>-0.871383</td>\n",
              "      <td>1.890840</td>\n",
              "      <td>0.047738</td>\n",
              "      <td>67.508425</td>\n",
              "      <td>74.167990</td>\n",
              "      <td>10.346340</td>\n",
              "      <td>63.821650</td>\n",
              "    </tr>\n",
              "    <tr>\n",
              "      <th>2.0</th>\n",
              "      <td>0.732096</td>\n",
              "      <td>0.596684</td>\n",
              "      <td>1.814009</td>\n",
              "      <td>-0.032787</td>\n",
              "      <td>11.685510</td>\n",
              "      <td>11.494733</td>\n",
              "      <td>0.190777</td>\n",
              "    </tr>\n",
              "    <tr>\n",
              "      <th>3.0</th>\n",
              "      <td>1.263921</td>\n",
              "      <td>0.275339</td>\n",
              "      <td>-0.781432</td>\n",
              "      <td>-0.000164</td>\n",
              "      <td>2.105256</td>\n",
              "      <td>3.234900</td>\n",
              "      <td>-1.129645</td>\n",
              "    </tr>\n",
              "    <tr>\n",
              "      <th>4.0</th>\n",
              "      <td>0.027949</td>\n",
              "      <td>-1.541948</td>\n",
              "      <td>0.407906</td>\n",
              "      <td>4.338150</td>\n",
              "      <td>7.504868</td>\n",
              "      <td>0.121998</td>\n",
              "      <td>7.382871</td>\n",
              "    </tr>\n",
              "    <tr>\n",
              "      <th>...</th>\n",
              "      <th>...</th>\n",
              "      <td>...</td>\n",
              "      <td>...</td>\n",
              "      <td>...</td>\n",
              "      <td>...</td>\n",
              "      <td>...</td>\n",
              "      <td>...</td>\n",
              "      <td>...</td>\n",
              "    </tr>\n",
              "    <tr>\n",
              "      <th rowspan=\"5\" valign=\"top\">999.0</th>\n",
              "      <th>45.0</th>\n",
              "      <td>-1.119721</td>\n",
              "      <td>-0.461460</td>\n",
              "      <td>1.666033</td>\n",
              "      <td>-0.005208</td>\n",
              "      <td>8.852432</td>\n",
              "      <td>6.955567</td>\n",
              "      <td>1.896865</td>\n",
              "    </tr>\n",
              "    <tr>\n",
              "      <th>46.0</th>\n",
              "      <td>-0.321609</td>\n",
              "      <td>-0.164048</td>\n",
              "      <td>-0.249518</td>\n",
              "      <td>-0.000005</td>\n",
              "      <td>2.727016</td>\n",
              "      <td>2.778151</td>\n",
              "      <td>-0.051135</td>\n",
              "    </tr>\n",
              "    <tr>\n",
              "      <th>47.0</th>\n",
              "      <td>-1.292995</td>\n",
              "      <td>1.811754</td>\n",
              "      <td>0.560025</td>\n",
              "      <td>44.793416</td>\n",
              "      <td>53.009939</td>\n",
              "      <td>11.401043</td>\n",
              "      <td>41.608896</td>\n",
              "    </tr>\n",
              "    <tr>\n",
              "      <th>48.0</th>\n",
              "      <td>0.664963</td>\n",
              "      <td>0.139654</td>\n",
              "      <td>0.675519</td>\n",
              "      <td>-0.000021</td>\n",
              "      <td>6.907314</td>\n",
              "      <td>6.718482</td>\n",
              "      <td>0.188831</td>\n",
              "    </tr>\n",
              "    <tr>\n",
              "      <th>49.0</th>\n",
              "      <td>1.716355</td>\n",
              "      <td>1.666190</td>\n",
              "      <td>-1.935971</td>\n",
              "      <td>-15.854264</td>\n",
              "      <td>-15.637933</td>\n",
              "      <td>4.774296</td>\n",
              "      <td>-20.412230</td>\n",
              "    </tr>\n",
              "  </tbody>\n",
              "</table>\n",
              "<p>50000 rows × 7 columns</p>\n",
              "</div>"
            ],
            "text/plain": [
              "                  Xt1       Xt2       Xt3  ...          Y      y_hat      e_hat\n",
              "rep   index                                ...                                 \n",
              "0.0   0.0   -0.364168  1.221931  0.174778  ...   6.754960   8.617008  -1.862048\n",
              "      1.0   -0.871383  1.890840  0.047738  ...  74.167990  10.346340  63.821650\n",
              "      2.0    0.732096  0.596684  1.814009  ...  11.685510  11.494733   0.190777\n",
              "      3.0    1.263921  0.275339 -0.781432  ...   2.105256   3.234900  -1.129645\n",
              "      4.0    0.027949 -1.541948  0.407906  ...   7.504868   0.121998   7.382871\n",
              "...               ...       ...       ...  ...        ...        ...        ...\n",
              "999.0 45.0  -1.119721 -0.461460  1.666033  ...   8.852432   6.955567   1.896865\n",
              "      46.0  -0.321609 -0.164048 -0.249518  ...   2.727016   2.778151  -0.051135\n",
              "      47.0  -1.292995  1.811754  0.560025  ...  53.009939  11.401043  41.608896\n",
              "      48.0   0.664963  0.139654  0.675519  ...   6.907314   6.718482   0.188831\n",
              "      49.0   1.716355  1.666190 -1.935971  ... -15.637933   4.774296 -20.412230\n",
              "\n",
              "[50000 rows x 7 columns]"
            ]
          },
          "metadata": {},
          "execution_count": 19
        }
      ]
    },
    {
      "cell_type": "code",
      "metadata": {
        "colab": {
          "base_uri": "https://localhost:8080/",
          "height": 17
        },
        "id": "zJMKEAC_px_M",
        "outputId": "ad6bbd86-079e-4f11-d54d-b7fa59bb0ca7"
      },
      "source": [
        "table_data_new.to_csv('sampling_1000rep_n50_2020.csv')\n",
        "files.download('sampling_1000rep_n50_2020.csv')"
      ],
      "execution_count": 20,
      "outputs": [
        {
          "output_type": "display_data",
          "data": {
            "application/javascript": [
              "\n",
              "    async function download(id, filename, size) {\n",
              "      if (!google.colab.kernel.accessAllowed) {\n",
              "        return;\n",
              "      }\n",
              "      const div = document.createElement('div');\n",
              "      const label = document.createElement('label');\n",
              "      label.textContent = `Downloading \"${filename}\": `;\n",
              "      div.appendChild(label);\n",
              "      const progress = document.createElement('progress');\n",
              "      progress.max = size;\n",
              "      div.appendChild(progress);\n",
              "      document.body.appendChild(div);\n",
              "\n",
              "      const buffers = [];\n",
              "      let downloaded = 0;\n",
              "\n",
              "      const channel = await google.colab.kernel.comms.open(id);\n",
              "      // Send a message to notify the kernel that we're ready.\n",
              "      channel.send({})\n",
              "\n",
              "      for await (const message of channel.messages) {\n",
              "        // Send a message to notify the kernel that we're ready.\n",
              "        channel.send({})\n",
              "        if (message.buffers) {\n",
              "          for (const buffer of message.buffers) {\n",
              "            buffers.push(buffer);\n",
              "            downloaded += buffer.byteLength;\n",
              "            progress.value = downloaded;\n",
              "          }\n",
              "        }\n",
              "      }\n",
              "      const blob = new Blob(buffers, {type: 'application/binary'});\n",
              "      const a = document.createElement('a');\n",
              "      a.href = window.URL.createObjectURL(blob);\n",
              "      a.download = filename;\n",
              "      div.appendChild(a);\n",
              "      a.click();\n",
              "      div.remove();\n",
              "    }\n",
              "  "
            ],
            "text/plain": [
              "<IPython.core.display.Javascript object>"
            ]
          },
          "metadata": {}
        },
        {
          "output_type": "display_data",
          "data": {
            "application/javascript": [
              "download(\"download_da776de2-75d1-47ca-970d-5500bde33e8b\", \"sampling_1000rep_n50_2020.csv\", 7349207)"
            ],
            "text/plain": [
              "<IPython.core.display.Javascript object>"
            ]
          },
          "metadata": {}
        }
      ]
    },
    {
      "cell_type": "code",
      "metadata": {
        "colab": {
          "base_uri": "https://localhost:8080/"
        },
        "id": "bhrFGaaBP-u4",
        "outputId": "4bb8bd5c-a428-439d-ace1-4e8cc8207bc4"
      },
      "source": [
        "table_data_new.mean()"
      ],
      "execution_count": 11,
      "outputs": [
        {
          "output_type": "execute_result",
          "data": {
            "text/plain": [
              "Xt1      2.105180e-02\n",
              "Xt2     -1.705563e-02\n",
              "Xt3     -2.292651e-02\n",
              "e        1.743401e+00\n",
              "Y        5.643703e+00\n",
              "y_hat    5.643703e+00\n",
              "e_hat   -7.943868e-16\n",
              "dtype: float64"
            ]
          },
          "metadata": {},
          "execution_count": 11
        }
      ]
    },
    {
      "cell_type": "code",
      "metadata": {
        "colab": {
          "base_uri": "https://localhost:8080/"
        },
        "id": "uB7vyeybP-n9",
        "outputId": "0481fc78-bc01-44d5-a174-142b35021f3a"
      },
      "source": [
        "table_data_new.var()"
      ],
      "execution_count": 12,
      "outputs": [
        {
          "output_type": "execute_result",
          "data": {
            "text/plain": [
              "Xt1         0.995200\n",
              "Xt2         1.000862\n",
              "Xt3         1.022290\n",
              "e        8218.197550\n",
              "Y        8238.915702\n",
              "y_hat      22.244703\n",
              "e_hat    8216.670999\n",
              "dtype: float64"
            ]
          },
          "metadata": {},
          "execution_count": 12
        }
      ]
    },
    {
      "cell_type": "code",
      "metadata": {
        "colab": {
          "base_uri": "https://localhost:8080/",
          "height": 265
        },
        "id": "-hTKOaR6QM4L",
        "outputId": "a5c44d1a-96ab-4d1b-f3ba-ee53b50a86de"
      },
      "source": [
        "# Compute pairwise correlation of columns, excluding NA/null values.\n",
        "table_data_new.corr()"
      ],
      "execution_count": 13,
      "outputs": [
        {
          "output_type": "execute_result",
          "data": {
            "text/html": [
              "<div>\n",
              "<style scoped>\n",
              "    .dataframe tbody tr th:only-of-type {\n",
              "        vertical-align: middle;\n",
              "    }\n",
              "\n",
              "    .dataframe tbody tr th {\n",
              "        vertical-align: top;\n",
              "    }\n",
              "\n",
              "    .dataframe thead th {\n",
              "        text-align: right;\n",
              "    }\n",
              "</style>\n",
              "<table border=\"1\" class=\"dataframe\">\n",
              "  <thead>\n",
              "    <tr style=\"text-align: right;\">\n",
              "      <th></th>\n",
              "      <th>Xt1</th>\n",
              "      <th>Xt2</th>\n",
              "      <th>Xt3</th>\n",
              "      <th>e</th>\n",
              "      <th>Y</th>\n",
              "      <th>y_hat</th>\n",
              "      <th>e_hat</th>\n",
              "    </tr>\n",
              "  </thead>\n",
              "  <tbody>\n",
              "    <tr>\n",
              "      <th>Xt1</th>\n",
              "      <td>1.000000e+00</td>\n",
              "      <td>-2.427998e-02</td>\n",
              "      <td>9.073942e-03</td>\n",
              "      <td>0.004274</td>\n",
              "      <td>0.008627</td>\n",
              "      <td>1.660359e-01</td>\n",
              "      <td>6.539180e-17</td>\n",
              "    </tr>\n",
              "    <tr>\n",
              "      <th>Xt2</th>\n",
              "      <td>-2.427998e-02</td>\n",
              "      <td>1.000000e+00</td>\n",
              "      <td>-1.672893e-03</td>\n",
              "      <td>0.012682</td>\n",
              "      <td>0.029025</td>\n",
              "      <td>5.585855e-01</td>\n",
              "      <td>-2.973305e-17</td>\n",
              "    </tr>\n",
              "    <tr>\n",
              "      <th>Xt3</th>\n",
              "      <td>9.073942e-03</td>\n",
              "      <td>-1.672893e-03</td>\n",
              "      <td>1.000000e+00</td>\n",
              "      <td>0.001999</td>\n",
              "      <td>0.042110</td>\n",
              "      <td>8.104125e-01</td>\n",
              "      <td>6.991269e-17</td>\n",
              "    </tr>\n",
              "    <tr>\n",
              "      <th>e</th>\n",
              "      <td>4.274094e-03</td>\n",
              "      <td>1.268181e-02</td>\n",
              "      <td>1.999264e-03</td>\n",
              "      <td>1.000000</td>\n",
              "      <td>0.999051</td>\n",
              "      <td>9.509912e-03</td>\n",
              "      <td>9.999071e-01</td>\n",
              "    </tr>\n",
              "    <tr>\n",
              "      <th>Y</th>\n",
              "      <td>8.627405e-03</td>\n",
              "      <td>2.902471e-02</td>\n",
              "      <td>4.210992e-02</td>\n",
              "      <td>0.999051</td>\n",
              "      <td>1.000000</td>\n",
              "      <td>5.196109e-02</td>\n",
              "      <td>9.986491e-01</td>\n",
              "    </tr>\n",
              "    <tr>\n",
              "      <th>y_hat</th>\n",
              "      <td>1.660359e-01</td>\n",
              "      <td>5.585855e-01</td>\n",
              "      <td>8.104125e-01</td>\n",
              "      <td>0.009510</td>\n",
              "      <td>0.051961</td>\n",
              "      <td>1.000000e+00</td>\n",
              "      <td>3.391807e-17</td>\n",
              "    </tr>\n",
              "    <tr>\n",
              "      <th>e_hat</th>\n",
              "      <td>6.539180e-17</td>\n",
              "      <td>-2.973305e-17</td>\n",
              "      <td>6.991269e-17</td>\n",
              "      <td>0.999907</td>\n",
              "      <td>0.998649</td>\n",
              "      <td>3.391807e-17</td>\n",
              "      <td>1.000000e+00</td>\n",
              "    </tr>\n",
              "  </tbody>\n",
              "</table>\n",
              "</div>"
            ],
            "text/plain": [
              "                Xt1           Xt2  ...         y_hat         e_hat\n",
              "Xt1    1.000000e+00 -2.427998e-02  ...  1.660359e-01  6.539180e-17\n",
              "Xt2   -2.427998e-02  1.000000e+00  ...  5.585855e-01 -2.973305e-17\n",
              "Xt3    9.073942e-03 -1.672893e-03  ...  8.104125e-01  6.991269e-17\n",
              "e      4.274094e-03  1.268181e-02  ...  9.509912e-03  9.999071e-01\n",
              "Y      8.627405e-03  2.902471e-02  ...  5.196109e-02  9.986491e-01\n",
              "y_hat  1.660359e-01  5.585855e-01  ...  1.000000e+00  3.391807e-17\n",
              "e_hat  6.539180e-17 -2.973305e-17  ...  3.391807e-17  1.000000e+00\n",
              "\n",
              "[7 rows x 7 columns]"
            ]
          },
          "metadata": {},
          "execution_count": 13
        }
      ]
    },
    {
      "cell_type": "code",
      "metadata": {
        "colab": {
          "base_uri": "https://localhost:8080/",
          "height": 1000
        },
        "id": "BxAE0GtRQQG_",
        "outputId": "e8842336-ae64-4826-8238-b743bc6908e0"
      },
      "source": [
        "table_data_new.plot(x ='y_hat', y='e_hat', kind = 'scatter')\n",
        "table_data_new.plot(x ='Xt1', y='e_hat', kind = 'scatter')\n",
        "table_data_new.plot(x ='Xt2', y='e_hat', kind = 'scatter')\n",
        "table_data_new.plot(x ='Xt3', y='e_hat', kind = 'scatter')"
      ],
      "execution_count": 14,
      "outputs": [
        {
          "output_type": "execute_result",
          "data": {
            "text/plain": [
              "<matplotlib.axes._subplots.AxesSubplot at 0x7f2e109ba150>"
            ]
          },
          "metadata": {},
          "execution_count": 14
        },
        {
          "output_type": "display_data",
          "data": {
            "image/png": "[encoded data removed]",
            "text/plain": [
              "<Figure size 432x288 with 1 Axes>"
            ]
          },
          "metadata": {
            "needs_background": "light"
          }
        },
        {
          "output_type": "display_data",
          "data": {
            "image/png": "[encoded data removed]",
            "text/plain": [
              "<Figure size 432x288 with 1 Axes>"
            ]
          },
          "metadata": {
            "needs_background": "light"
          }
        },
        {
          "output_type": "display_data",
          "data": {
            "image/png": "[encoded data removed]",
            "text/plain": [
              "<Figure size 432x288 with 1 Axes>"
            ]
          },
          "metadata": {
            "needs_background": "light"
          }
        },
        {
          "output_type": "display_data",
          "data": {
            "image/png": "[encoded data removed]",
            "text/plain": [
              "<Figure size 432x288 with 1 Axes>"
            ]
          },
          "metadata": {
            "needs_background": "light"
          }
        }
      ]
    }
  ]
}