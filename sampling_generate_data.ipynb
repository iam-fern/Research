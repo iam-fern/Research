{
  "nbformat": 4,
  "nbformat_minor": 0,
  "metadata": {
    "colab": {
      "name": "sampling_generate_data.ipynb",
      "provenance": [],
      "authorship_tag": "ABX9TyNQEdjb0aJ4vRqLMFXYC1e7",
      "include_colab_link": true
    },
    "kernelspec": {
      "name": "python3",
      "display_name": "Python 3"
    },
    "language_info": {
      "name": "python"
    }
  },
  "cells": [
    {
      "cell_type": "markdown",
      "metadata": {
        "id": "view-in-github",
        "colab_type": "text"
      },
      "source": [
        "<a href=\"https://colab.research.google.com/github/iam-fern/Research/blob/main/sampling_generate_data.ipynb\" target=\"_parent\"><img src=\"https://colab.research.google.com/assets/colab-badge.svg\" alt=\"Open In Colab\"/></a>"
      ]
    },
    {
      "cell_type": "code",
      "metadata": {
        "id": "90AEh07sP2RM"
      },
      "source": [
        "import pandas as pd\n",
        "import numpy as np\n",
        "import matplotlib.pyplot as plt\n",
        "from scipy.stats import norm\n",
        "from numpy.random import normal\n",
        "import statistics\n",
        "import statistics as stats\n",
        "import scipy.stats as ss\n",
        "from scipy import stats\n",
        "import scipy.stats as stats\n",
        "import time\n",
        "import statsmodels.api as sm\n",
        "%matplotlib inline"
      ],
      "execution_count": 18,
      "outputs": []
    },
    {
      "cell_type": "code",
      "metadata": {
        "colab": {
          "base_uri": "https://localhost:8080/",
          "height": 417
        },
        "id": "JS6OJnBfP-3d",
        "outputId": "bab3bccc-87ec-4139-8229-063e869c73b6"
      },
      "source": [
        "# numpy.random.normal(loc=0.0, scale=1.0, size=None)\n",
        "# generate sample of 200 values that follow a normal distribution \n",
        "# data = normal(loc=0, scale=1, size=200)\n",
        "\n",
        "data = pd.DataFrame({\"zt1\" : normal(0, 1, 50000),\n",
        "                     \"zt2\" : normal(0, 1, 50000),\n",
        "                     \"zt3\" : normal(0, 1, 50000)})\n",
        "data"
      ],
      "execution_count": 19,
      "outputs": [
        {
          "output_type": "execute_result",
          "data": {
            "text/html": [
              "<div>\n",
              "<style scoped>\n",
              "    .dataframe tbody tr th:only-of-type {\n",
              "        vertical-align: middle;\n",
              "    }\n",
              "\n",
              "    .dataframe tbody tr th {\n",
              "        vertical-align: top;\n",
              "    }\n",
              "\n",
              "    .dataframe thead th {\n",
              "        text-align: right;\n",
              "    }\n",
              "</style>\n",
              "<table border=\"1\" class=\"dataframe\">\n",
              "  <thead>\n",
              "    <tr style=\"text-align: right;\">\n",
              "      <th></th>\n",
              "      <th>zt1</th>\n",
              "      <th>zt2</th>\n",
              "      <th>zt3</th>\n",
              "    </tr>\n",
              "  </thead>\n",
              "  <tbody>\n",
              "    <tr>\n",
              "      <th>0</th>\n",
              "      <td>3.046508</td>\n",
              "      <td>-0.259727</td>\n",
              "      <td>-0.855826</td>\n",
              "    </tr>\n",
              "    <tr>\n",
              "      <th>1</th>\n",
              "      <td>-0.841612</td>\n",
              "      <td>1.867718</td>\n",
              "      <td>-0.302265</td>\n",
              "    </tr>\n",
              "    <tr>\n",
              "      <th>2</th>\n",
              "      <td>0.559567</td>\n",
              "      <td>0.319081</td>\n",
              "      <td>-0.785877</td>\n",
              "    </tr>\n",
              "    <tr>\n",
              "      <th>3</th>\n",
              "      <td>-0.315517</td>\n",
              "      <td>-0.124940</td>\n",
              "      <td>0.032785</td>\n",
              "    </tr>\n",
              "    <tr>\n",
              "      <th>4</th>\n",
              "      <td>0.154754</td>\n",
              "      <td>0.568340</td>\n",
              "      <td>2.705237</td>\n",
              "    </tr>\n",
              "    <tr>\n",
              "      <th>...</th>\n",
              "      <td>...</td>\n",
              "      <td>...</td>\n",
              "      <td>...</td>\n",
              "    </tr>\n",
              "    <tr>\n",
              "      <th>49995</th>\n",
              "      <td>1.398804</td>\n",
              "      <td>0.388964</td>\n",
              "      <td>-0.031333</td>\n",
              "    </tr>\n",
              "    <tr>\n",
              "      <th>49996</th>\n",
              "      <td>-2.755002</td>\n",
              "      <td>1.275882</td>\n",
              "      <td>0.115626</td>\n",
              "    </tr>\n",
              "    <tr>\n",
              "      <th>49997</th>\n",
              "      <td>0.069835</td>\n",
              "      <td>-1.072009</td>\n",
              "      <td>0.939808</td>\n",
              "    </tr>\n",
              "    <tr>\n",
              "      <th>49998</th>\n",
              "      <td>0.843816</td>\n",
              "      <td>1.220278</td>\n",
              "      <td>-0.154085</td>\n",
              "    </tr>\n",
              "    <tr>\n",
              "      <th>49999</th>\n",
              "      <td>-0.596905</td>\n",
              "      <td>-0.782014</td>\n",
              "      <td>0.792601</td>\n",
              "    </tr>\n",
              "  </tbody>\n",
              "</table>\n",
              "<p>50000 rows × 3 columns</p>\n",
              "</div>"
            ],
            "text/plain": [
              "            zt1       zt2       zt3\n",
              "0      3.046508 -0.259727 -0.855826\n",
              "1     -0.841612  1.867718 -0.302265\n",
              "2      0.559567  0.319081 -0.785877\n",
              "3     -0.315517 -0.124940  0.032785\n",
              "4      0.154754  0.568340  2.705237\n",
              "...         ...       ...       ...\n",
              "49995  1.398804  0.388964 -0.031333\n",
              "49996 -2.755002  1.275882  0.115626\n",
              "49997  0.069835 -1.072009  0.939808\n",
              "49998  0.843816  1.220278 -0.154085\n",
              "49999 -0.596905 -0.782014  0.792601\n",
              "\n",
              "[50000 rows x 3 columns]"
            ]
          },
          "metadata": {},
          "execution_count": 19
        }
      ]
    },
    {
      "cell_type": "code",
      "metadata": {
        "colab": {
          "base_uri": "https://localhost:8080/",
          "height": 454
        },
        "id": "0BwLfGCEP-xU",
        "outputId": "fb9b3785-e0c4-45a7-e170-b4cdadec144b"
      },
      "source": [
        "n=50\n",
        "rep=1\n",
        "table_data_all=pd.DataFrame({\"rep\":[]})\n",
        "data_copy=data.copy()\n",
        "while not data_copy.empty:\n",
        "    #=========================\n",
        "    if data_copy.shape[0]>n:\n",
        "        index=data_copy.sample(n).index\n",
        "        data_new=data_copy.loc[index,:]\n",
        "        data_copy=data_copy.drop(index)\n",
        "    else:\n",
        "        data_new=data_copy.copy()\n",
        "        data_copy=pd.DataFrame({\"\":[]})\n",
        "    #=========================\n",
        "    p = 0\n",
        "\n",
        "    Zt1 = data_new['zt1']\n",
        "    Zt2 = data_new['zt2']\n",
        "    Zt3 = data_new['zt3']\n",
        "\n",
        "    xt1 = (1-(p**2))**(1/2)*Zt1\n",
        "    xt2 = (1-(p**2))**(1/2)*Zt2\n",
        "    xt3 = (1-(p**2))**(1/2)*Zt3\n",
        "\n",
        "    new_data = pd.DataFrame({'Xt1' : data_new['zt1'],\n",
        "                             'Xt2' : data_new['zt2'],\n",
        "                             'Xt3' : data_new['zt3'],\n",
        "                             'e'   : normal(0, xt2**4, n)})\n",
        "\n",
        "\n",
        "    table_data = pd.DataFrame({'Xt1' : data_new['zt1'],\n",
        "                               'Xt2' : data_new['zt2'],\n",
        "                               'Xt3' : data_new['zt3'],\n",
        "                               'e'   : new_data['e']})\n",
        "    table_data['Y'] = 4+0.4*table_data['Xt1']+1.5*table_data['Xt2']+3.6*table_data['Xt3']+table_data['e']\n",
        "    #table_data['Y_hat'] = 4+0.4*table_data['Xt1']+1.5*table_data['Xt2']+3.6*table_data['Xt3']\n",
        "    table_data['y_pred'] = model.predict(x)\n",
        "    table_data=table_data.reset_index(drop=True).reset_index()\n",
        "    table_data[\"rep\"]=rep\n",
        "    table_data_all=pd.concat([table_data_all,table_data],axis=0,ignore_index=True,sort=False)\n",
        "    # display(table_data)\n",
        "    rep+=1\n",
        "    if rep==100:\n",
        "      break\n",
        "table_data_all=table_data_all.set_index([\"rep\",\"index\"])\n",
        "table_data_all"
      ],
      "execution_count": 36,
      "outputs": [
        {
          "output_type": "error",
          "ename": "TypeError",
          "evalue": "ignored",
          "traceback": [
            "\u001b[0;31m---------------------------------------------------------------------------\u001b[0m",
            "\u001b[0;31mValueError\u001b[0m                                Traceback (most recent call last)",
            "\u001b[0;32m/usr/local/lib/python3.7/dist-packages/pandas/core/frame.py\u001b[0m in \u001b[0;36mreindexer\u001b[0;34m(value)\u001b[0m\n\u001b[1;32m   3730\u001b[0m                 \u001b[0;32mtry\u001b[0m\u001b[0;34m:\u001b[0m\u001b[0;34m\u001b[0m\u001b[0;34m\u001b[0m\u001b[0m\n\u001b[0;32m-> 3731\u001b[0;31m                     \u001b[0mvalue\u001b[0m \u001b[0;34m=\u001b[0m \u001b[0mvalue\u001b[0m\u001b[0;34m.\u001b[0m\u001b[0mreindex\u001b[0m\u001b[0;34m(\u001b[0m\u001b[0mself\u001b[0m\u001b[0;34m.\u001b[0m\u001b[0mindex\u001b[0m\u001b[0;34m)\u001b[0m\u001b[0;34m.\u001b[0m\u001b[0m_values\u001b[0m\u001b[0;34m\u001b[0m\u001b[0;34m\u001b[0m\u001b[0m\n\u001b[0m\u001b[1;32m   3732\u001b[0m                 \u001b[0;32mexcept\u001b[0m \u001b[0mValueError\u001b[0m \u001b[0;32mas\u001b[0m \u001b[0merr\u001b[0m\u001b[0;34m:\u001b[0m\u001b[0;34m\u001b[0m\u001b[0;34m\u001b[0m\u001b[0m\n",
            "\u001b[0;32m/usr/local/lib/python3.7/dist-packages/pandas/core/series.py\u001b[0m in \u001b[0;36mreindex\u001b[0;34m(self, index, **kwargs)\u001b[0m\n\u001b[1;32m   4411\u001b[0m     \u001b[0;32mdef\u001b[0m \u001b[0mreindex\u001b[0m\u001b[0;34m(\u001b[0m\u001b[0mself\u001b[0m\u001b[0;34m,\u001b[0m \u001b[0mindex\u001b[0m\u001b[0;34m=\u001b[0m\u001b[0;32mNone\u001b[0m\u001b[0;34m,\u001b[0m \u001b[0;34m**\u001b[0m\u001b[0mkwargs\u001b[0m\u001b[0;34m)\u001b[0m\u001b[0;34m:\u001b[0m\u001b[0;34m\u001b[0m\u001b[0;34m\u001b[0m\u001b[0m\n\u001b[0;32m-> 4412\u001b[0;31m         \u001b[0;32mreturn\u001b[0m \u001b[0msuper\u001b[0m\u001b[0;34m(\u001b[0m\u001b[0;34m)\u001b[0m\u001b[0;34m.\u001b[0m\u001b[0mreindex\u001b[0m\u001b[0;34m(\u001b[0m\u001b[0mindex\u001b[0m\u001b[0;34m=\u001b[0m\u001b[0mindex\u001b[0m\u001b[0;34m,\u001b[0m \u001b[0;34m**\u001b[0m\u001b[0mkwargs\u001b[0m\u001b[0;34m)\u001b[0m\u001b[0;34m\u001b[0m\u001b[0;34m\u001b[0m\u001b[0m\n\u001b[0m\u001b[1;32m   4413\u001b[0m \u001b[0;34m\u001b[0m\u001b[0m\n",
            "\u001b[0;32m/usr/local/lib/python3.7/dist-packages/pandas/core/generic.py\u001b[0m in \u001b[0;36mreindex\u001b[0;34m(self, *args, **kwargs)\u001b[0m\n\u001b[1;32m   4463\u001b[0m         return self._reindex_axes(\n\u001b[0;32m-> 4464\u001b[0;31m             \u001b[0maxes\u001b[0m\u001b[0;34m,\u001b[0m \u001b[0mlevel\u001b[0m\u001b[0;34m,\u001b[0m \u001b[0mlimit\u001b[0m\u001b[0;34m,\u001b[0m \u001b[0mtolerance\u001b[0m\u001b[0;34m,\u001b[0m \u001b[0mmethod\u001b[0m\u001b[0;34m,\u001b[0m \u001b[0mfill_value\u001b[0m\u001b[0;34m,\u001b[0m \u001b[0mcopy\u001b[0m\u001b[0;34m\u001b[0m\u001b[0;34m\u001b[0m\u001b[0m\n\u001b[0m\u001b[1;32m   4465\u001b[0m         ).__finalize__(self, method=\"reindex\")\n",
            "\u001b[0;32m/usr/local/lib/python3.7/dist-packages/pandas/core/generic.py\u001b[0m in \u001b[0;36m_reindex_axes\u001b[0;34m(self, axes, level, limit, tolerance, method, fill_value, copy)\u001b[0m\n\u001b[1;32m   4478\u001b[0m             new_index, indexer = ax.reindex(\n\u001b[0;32m-> 4479\u001b[0;31m                 \u001b[0mlabels\u001b[0m\u001b[0;34m,\u001b[0m \u001b[0mlevel\u001b[0m\u001b[0;34m=\u001b[0m\u001b[0mlevel\u001b[0m\u001b[0;34m,\u001b[0m \u001b[0mlimit\u001b[0m\u001b[0;34m=\u001b[0m\u001b[0mlimit\u001b[0m\u001b[0;34m,\u001b[0m \u001b[0mtolerance\u001b[0m\u001b[0;34m=\u001b[0m\u001b[0mtolerance\u001b[0m\u001b[0;34m,\u001b[0m \u001b[0mmethod\u001b[0m\u001b[0;34m=\u001b[0m\u001b[0mmethod\u001b[0m\u001b[0;34m\u001b[0m\u001b[0;34m\u001b[0m\u001b[0m\n\u001b[0m\u001b[1;32m   4480\u001b[0m             )\n",
            "\u001b[0;32m/usr/local/lib/python3.7/dist-packages/pandas/core/indexes/multi.py\u001b[0m in \u001b[0;36mreindex\u001b[0;34m(self, target, method, level, limit, tolerance)\u001b[0m\n\u001b[1;32m   2327\u001b[0m                 \u001b[0;31m# hopefully?\u001b[0m\u001b[0;34m\u001b[0m\u001b[0;34m\u001b[0m\u001b[0;34m\u001b[0m\u001b[0m\n\u001b[0;32m-> 2328\u001b[0;31m                 \u001b[0mtarget\u001b[0m \u001b[0;34m=\u001b[0m \u001b[0mMultiIndex\u001b[0m\u001b[0;34m.\u001b[0m\u001b[0mfrom_tuples\u001b[0m\u001b[0;34m(\u001b[0m\u001b[0mtarget\u001b[0m\u001b[0;34m)\u001b[0m\u001b[0;34m\u001b[0m\u001b[0;34m\u001b[0m\u001b[0m\n\u001b[0m\u001b[1;32m   2329\u001b[0m \u001b[0;34m\u001b[0m\u001b[0m\n",
            "\u001b[0;32m/usr/local/lib/python3.7/dist-packages/pandas/core/indexes/multi.py\u001b[0m in \u001b[0;36mfrom_tuples\u001b[0;34m(cls, tuples, sortorder, names)\u001b[0m\n\u001b[1;32m    500\u001b[0m \u001b[0;34m\u001b[0m\u001b[0m\n\u001b[0;32m--> 501\u001b[0;31m             \u001b[0marrays\u001b[0m \u001b[0;34m=\u001b[0m \u001b[0mlist\u001b[0m\u001b[0;34m(\u001b[0m\u001b[0mlib\u001b[0m\u001b[0;34m.\u001b[0m\u001b[0mtuples_to_object_array\u001b[0m\u001b[0;34m(\u001b[0m\u001b[0mtuples\u001b[0m\u001b[0;34m)\u001b[0m\u001b[0;34m.\u001b[0m\u001b[0mT\u001b[0m\u001b[0;34m)\u001b[0m\u001b[0;34m\u001b[0m\u001b[0;34m\u001b[0m\u001b[0m\n\u001b[0m\u001b[1;32m    502\u001b[0m         \u001b[0;32melif\u001b[0m \u001b[0misinstance\u001b[0m\u001b[0;34m(\u001b[0m\u001b[0mtuples\u001b[0m\u001b[0;34m,\u001b[0m \u001b[0mlist\u001b[0m\u001b[0;34m)\u001b[0m\u001b[0;34m:\u001b[0m\u001b[0;34m\u001b[0m\u001b[0;34m\u001b[0m\u001b[0m\n",
            "\u001b[0;32mpandas/_libs/lib.pyx\u001b[0m in \u001b[0;36mpandas._libs.lib.tuples_to_object_array\u001b[0;34m()\u001b[0m\n",
            "\u001b[0;31mValueError\u001b[0m: Buffer dtype mismatch, expected 'Python object' but got 'long'",
            "\nThe above exception was the direct cause of the following exception:\n",
            "\u001b[0;31mTypeError\u001b[0m                                 Traceback (most recent call last)",
            "\u001b[0;32m<ipython-input-36-f37afc14bc49>\u001b[0m in \u001b[0;36m<module>\u001b[0;34m()\u001b[0m\n\u001b[1;32m     35\u001b[0m     \u001b[0mtable_data\u001b[0m\u001b[0;34m[\u001b[0m\u001b[0;34m'Y'\u001b[0m\u001b[0;34m]\u001b[0m \u001b[0;34m=\u001b[0m \u001b[0;36m4\u001b[0m\u001b[0;34m+\u001b[0m\u001b[0;36m0.4\u001b[0m\u001b[0;34m*\u001b[0m\u001b[0mtable_data\u001b[0m\u001b[0;34m[\u001b[0m\u001b[0;34m'Xt1'\u001b[0m\u001b[0;34m]\u001b[0m\u001b[0;34m+\u001b[0m\u001b[0;36m1.5\u001b[0m\u001b[0;34m*\u001b[0m\u001b[0mtable_data\u001b[0m\u001b[0;34m[\u001b[0m\u001b[0;34m'Xt2'\u001b[0m\u001b[0;34m]\u001b[0m\u001b[0;34m+\u001b[0m\u001b[0;36m3.6\u001b[0m\u001b[0;34m*\u001b[0m\u001b[0mtable_data\u001b[0m\u001b[0;34m[\u001b[0m\u001b[0;34m'Xt3'\u001b[0m\u001b[0;34m]\u001b[0m\u001b[0;34m+\u001b[0m\u001b[0mtable_data\u001b[0m\u001b[0;34m[\u001b[0m\u001b[0;34m'e'\u001b[0m\u001b[0;34m]\u001b[0m\u001b[0;34m\u001b[0m\u001b[0;34m\u001b[0m\u001b[0m\n\u001b[1;32m     36\u001b[0m     \u001b[0;31m#table_data['Y_hat'] = 4+0.4*table_data['Xt1']+1.5*table_data['Xt2']+3.6*table_data['Xt3']\u001b[0m\u001b[0;34m\u001b[0m\u001b[0;34m\u001b[0m\u001b[0;34m\u001b[0m\u001b[0m\n\u001b[0;32m---> 37\u001b[0;31m     \u001b[0mtable_data\u001b[0m\u001b[0;34m[\u001b[0m\u001b[0;34m'y_pred'\u001b[0m\u001b[0;34m]\u001b[0m \u001b[0;34m=\u001b[0m \u001b[0mmodel\u001b[0m\u001b[0;34m.\u001b[0m\u001b[0mpredict\u001b[0m\u001b[0;34m(\u001b[0m\u001b[0mx\u001b[0m\u001b[0;34m)\u001b[0m\u001b[0;34m\u001b[0m\u001b[0;34m\u001b[0m\u001b[0m\n\u001b[0m\u001b[1;32m     38\u001b[0m     \u001b[0mtable_data\u001b[0m\u001b[0;34m=\u001b[0m\u001b[0mtable_data\u001b[0m\u001b[0;34m.\u001b[0m\u001b[0mreset_index\u001b[0m\u001b[0;34m(\u001b[0m\u001b[0mdrop\u001b[0m\u001b[0;34m=\u001b[0m\u001b[0;32mTrue\u001b[0m\u001b[0;34m)\u001b[0m\u001b[0;34m.\u001b[0m\u001b[0mreset_index\u001b[0m\u001b[0;34m(\u001b[0m\u001b[0;34m)\u001b[0m\u001b[0;34m\u001b[0m\u001b[0;34m\u001b[0m\u001b[0m\n\u001b[1;32m     39\u001b[0m     \u001b[0mtable_data\u001b[0m\u001b[0;34m[\u001b[0m\u001b[0;34m\"rep\"\u001b[0m\u001b[0;34m]\u001b[0m\u001b[0;34m=\u001b[0m\u001b[0mrep\u001b[0m\u001b[0;34m\u001b[0m\u001b[0;34m\u001b[0m\u001b[0m\n",
            "\u001b[0;32m/usr/local/lib/python3.7/dist-packages/pandas/core/frame.py\u001b[0m in \u001b[0;36m__setitem__\u001b[0;34m(self, key, value)\u001b[0m\n\u001b[1;32m   3042\u001b[0m         \u001b[0;32melse\u001b[0m\u001b[0;34m:\u001b[0m\u001b[0;34m\u001b[0m\u001b[0;34m\u001b[0m\u001b[0m\n\u001b[1;32m   3043\u001b[0m             \u001b[0;31m# set column\u001b[0m\u001b[0;34m\u001b[0m\u001b[0;34m\u001b[0m\u001b[0;34m\u001b[0m\u001b[0m\n\u001b[0;32m-> 3044\u001b[0;31m             \u001b[0mself\u001b[0m\u001b[0;34m.\u001b[0m\u001b[0m_set_item\u001b[0m\u001b[0;34m(\u001b[0m\u001b[0mkey\u001b[0m\u001b[0;34m,\u001b[0m \u001b[0mvalue\u001b[0m\u001b[0;34m)\u001b[0m\u001b[0;34m\u001b[0m\u001b[0;34m\u001b[0m\u001b[0m\n\u001b[0m\u001b[1;32m   3045\u001b[0m \u001b[0;34m\u001b[0m\u001b[0m\n\u001b[1;32m   3046\u001b[0m     \u001b[0;32mdef\u001b[0m \u001b[0m_setitem_slice\u001b[0m\u001b[0;34m(\u001b[0m\u001b[0mself\u001b[0m\u001b[0;34m,\u001b[0m \u001b[0mkey\u001b[0m\u001b[0;34m:\u001b[0m \u001b[0mslice\u001b[0m\u001b[0;34m,\u001b[0m \u001b[0mvalue\u001b[0m\u001b[0;34m)\u001b[0m\u001b[0;34m:\u001b[0m\u001b[0;34m\u001b[0m\u001b[0;34m\u001b[0m\u001b[0m\n",
            "\u001b[0;32m/usr/local/lib/python3.7/dist-packages/pandas/core/frame.py\u001b[0m in \u001b[0;36m_set_item\u001b[0;34m(self, key, value)\u001b[0m\n\u001b[1;32m   3118\u001b[0m         \"\"\"\n\u001b[1;32m   3119\u001b[0m         \u001b[0mself\u001b[0m\u001b[0;34m.\u001b[0m\u001b[0m_ensure_valid_index\u001b[0m\u001b[0;34m(\u001b[0m\u001b[0mvalue\u001b[0m\u001b[0;34m)\u001b[0m\u001b[0;34m\u001b[0m\u001b[0;34m\u001b[0m\u001b[0m\n\u001b[0;32m-> 3120\u001b[0;31m         \u001b[0mvalue\u001b[0m \u001b[0;34m=\u001b[0m \u001b[0mself\u001b[0m\u001b[0;34m.\u001b[0m\u001b[0m_sanitize_column\u001b[0m\u001b[0;34m(\u001b[0m\u001b[0mkey\u001b[0m\u001b[0;34m,\u001b[0m \u001b[0mvalue\u001b[0m\u001b[0;34m)\u001b[0m\u001b[0;34m\u001b[0m\u001b[0;34m\u001b[0m\u001b[0m\n\u001b[0m\u001b[1;32m   3121\u001b[0m         \u001b[0mNDFrame\u001b[0m\u001b[0;34m.\u001b[0m\u001b[0m_set_item\u001b[0m\u001b[0;34m(\u001b[0m\u001b[0mself\u001b[0m\u001b[0;34m,\u001b[0m \u001b[0mkey\u001b[0m\u001b[0;34m,\u001b[0m \u001b[0mvalue\u001b[0m\u001b[0;34m)\u001b[0m\u001b[0;34m\u001b[0m\u001b[0;34m\u001b[0m\u001b[0m\n\u001b[1;32m   3122\u001b[0m \u001b[0;34m\u001b[0m\u001b[0m\n",
            "\u001b[0;32m/usr/local/lib/python3.7/dist-packages/pandas/core/frame.py\u001b[0m in \u001b[0;36m_sanitize_column\u001b[0;34m(self, key, value, broadcast)\u001b[0m\n\u001b[1;32m   3743\u001b[0m \u001b[0;34m\u001b[0m\u001b[0m\n\u001b[1;32m   3744\u001b[0m         \u001b[0;32mif\u001b[0m \u001b[0misinstance\u001b[0m\u001b[0;34m(\u001b[0m\u001b[0mvalue\u001b[0m\u001b[0;34m,\u001b[0m \u001b[0mSeries\u001b[0m\u001b[0;34m)\u001b[0m\u001b[0;34m:\u001b[0m\u001b[0;34m\u001b[0m\u001b[0;34m\u001b[0m\u001b[0m\n\u001b[0;32m-> 3745\u001b[0;31m             \u001b[0mvalue\u001b[0m \u001b[0;34m=\u001b[0m \u001b[0mreindexer\u001b[0m\u001b[0;34m(\u001b[0m\u001b[0mvalue\u001b[0m\u001b[0;34m)\u001b[0m\u001b[0;34m\u001b[0m\u001b[0;34m\u001b[0m\u001b[0m\n\u001b[0m\u001b[1;32m   3746\u001b[0m \u001b[0;34m\u001b[0m\u001b[0m\n\u001b[1;32m   3747\u001b[0m         \u001b[0;32melif\u001b[0m \u001b[0misinstance\u001b[0m\u001b[0;34m(\u001b[0m\u001b[0mvalue\u001b[0m\u001b[0;34m,\u001b[0m \u001b[0mDataFrame\u001b[0m\u001b[0;34m)\u001b[0m\u001b[0;34m:\u001b[0m\u001b[0;34m\u001b[0m\u001b[0;34m\u001b[0m\u001b[0m\n",
            "\u001b[0;32m/usr/local/lib/python3.7/dist-packages/pandas/core/frame.py\u001b[0m in \u001b[0;36mreindexer\u001b[0;34m(value)\u001b[0m\n\u001b[1;32m   3739\u001b[0m                     raise TypeError(\n\u001b[1;32m   3740\u001b[0m                         \u001b[0;34m\"incompatible index of inserted column with frame index\"\u001b[0m\u001b[0;34m\u001b[0m\u001b[0;34m\u001b[0m\u001b[0m\n\u001b[0;32m-> 3741\u001b[0;31m                     ) from err\n\u001b[0m\u001b[1;32m   3742\u001b[0m             \u001b[0;32mreturn\u001b[0m \u001b[0mvalue\u001b[0m\u001b[0;34m\u001b[0m\u001b[0;34m\u001b[0m\u001b[0m\n\u001b[1;32m   3743\u001b[0m \u001b[0;34m\u001b[0m\u001b[0m\n",
            "\u001b[0;31mTypeError\u001b[0m: incompatible index of inserted column with frame index"
          ]
        }
      ]
    },
    {
      "cell_type": "code",
      "metadata": {
        "id": "H1G7ZfEjS_JB"
      },
      "source": [
        "y = table_data_all['Y']\n",
        "x = table_data_all[['Xt1', 'Xt2', 'Xt3']]\n",
        "x = sm.add_constant(x)\n",
        "model = sm.OLS(y, x).fit()"
      ],
      "execution_count": 29,
      "outputs": []
    },
    {
      "cell_type": "code",
      "metadata": {
        "colab": {
          "base_uri": "https://localhost:8080/"
        },
        "id": "anJtQcQWV4Px",
        "outputId": "a0eb4808-e5d2-473b-97d5-c7fa639ecfd0"
      },
      "source": [
        "y_pred = model.predict(x)\n",
        "y_pred\n",
        "#print('predicted response:', model.predict(x), sep='\\n')"
      ],
      "execution_count": 37,
      "outputs": [
        {
          "output_type": "execute_result",
          "data": {
            "text/plain": [
              "rep   index\n",
              "1.0   0.0       5.708345\n",
              "      1.0      -0.655200\n",
              "      2.0      10.346540\n",
              "      3.0      -4.048104\n",
              "      4.0       1.933084\n",
              "                 ...    \n",
              "99.0  45.0      2.873631\n",
              "      46.0     -1.339283\n",
              "      47.0      1.224772\n",
              "      48.0      5.914214\n",
              "      49.0     -0.948355\n",
              "Length: 4950, dtype: float64"
            ]
          },
          "metadata": {},
          "execution_count": 37
        }
      ]
    },
    {
      "cell_type": "code",
      "metadata": {
        "id": "_MvDirZYl9NT"
      },
      "source": [
        "table_data['e_hat']=table_data['Y']-table_data['y_pred']"
      ],
      "execution_count": null,
      "outputs": []
    },
    {
      "cell_type": "code",
      "metadata": {
        "colab": {
          "base_uri": "https://localhost:8080/"
        },
        "id": "bhrFGaaBP-u4",
        "outputId": "8d5b4381-7384-40be-e45b-5bf1f7dfa248"
      },
      "source": [
        "table_data_all.mean()"
      ],
      "execution_count": 4,
      "outputs": [
        {
          "output_type": "execute_result",
          "data": {
            "text/plain": [
              "Xt1      0.001134\n",
              "Xt2     -0.000792\n",
              "Xt3      0.002589\n",
              "e       -0.028719\n",
              "Y        3.979865\n",
              "Y_hat    4.008585\n",
              "e_hat   -0.028719\n",
              "dtype: float64"
            ]
          },
          "metadata": {},
          "execution_count": 4
        }
      ]
    },
    {
      "cell_type": "code",
      "metadata": {
        "colab": {
          "base_uri": "https://localhost:8080/"
        },
        "id": "uB7vyeybP-n9",
        "outputId": "bcee12aa-accd-4d7d-ac6f-c15e4af96830"
      },
      "source": [
        "table_data_all.var()"
      ],
      "execution_count": 5,
      "outputs": [
        {
          "output_type": "execute_result",
          "data": {
            "text/plain": [
              "Xt1       1.002209\n",
              "Xt2       0.964429\n",
              "Xt3       1.013063\n",
              "e        72.634704\n",
              "Y        87.653291\n",
              "Y_hat    15.420224\n",
              "e_hat    72.634704\n",
              "dtype: float64"
            ]
          },
          "metadata": {},
          "execution_count": 5
        }
      ]
    },
    {
      "cell_type": "code",
      "metadata": {
        "colab": {
          "base_uri": "https://localhost:8080/",
          "height": 265
        },
        "id": "-hTKOaR6QM4L",
        "outputId": "7e6a8432-459e-434c-c376-d4c4c56cc22e"
      },
      "source": [
        "# Compute pairwise correlation of columns, excluding NA/null values.\n",
        "table_data_all.corr()"
      ],
      "execution_count": 6,
      "outputs": [
        {
          "output_type": "execute_result",
          "data": {
            "text/html": [
              "<div>\n",
              "<style scoped>\n",
              "    .dataframe tbody tr th:only-of-type {\n",
              "        vertical-align: middle;\n",
              "    }\n",
              "\n",
              "    .dataframe tbody tr th {\n",
              "        vertical-align: top;\n",
              "    }\n",
              "\n",
              "    .dataframe thead th {\n",
              "        text-align: right;\n",
              "    }\n",
              "</style>\n",
              "<table border=\"1\" class=\"dataframe\">\n",
              "  <thead>\n",
              "    <tr style=\"text-align: right;\">\n",
              "      <th></th>\n",
              "      <th>Xt1</th>\n",
              "      <th>Xt2</th>\n",
              "      <th>Xt3</th>\n",
              "      <th>e</th>\n",
              "      <th>Y</th>\n",
              "      <th>Y_hat</th>\n",
              "      <th>e_hat</th>\n",
              "    </tr>\n",
              "  </thead>\n",
              "  <tbody>\n",
              "    <tr>\n",
              "      <th>Xt1</th>\n",
              "      <td>1.000000</td>\n",
              "      <td>0.025874</td>\n",
              "      <td>0.002868</td>\n",
              "      <td>-0.008247</td>\n",
              "      <td>0.040445</td>\n",
              "      <td>0.114328</td>\n",
              "      <td>-0.008247</td>\n",
              "    </tr>\n",
              "    <tr>\n",
              "      <th>Xt2</th>\n",
              "      <td>0.025874</td>\n",
              "      <td>1.000000</td>\n",
              "      <td>-0.007329</td>\n",
              "      <td>0.004000</td>\n",
              "      <td>0.159252</td>\n",
              "      <td>0.371005</td>\n",
              "      <td>0.004000</td>\n",
              "    </tr>\n",
              "    <tr>\n",
              "      <th>Xt3</th>\n",
              "      <td>0.002868</td>\n",
              "      <td>-0.007329</td>\n",
              "      <td>1.000000</td>\n",
              "      <td>-0.007218</td>\n",
              "      <td>0.379422</td>\n",
              "      <td>0.920275</td>\n",
              "      <td>-0.007218</td>\n",
              "    </tr>\n",
              "    <tr>\n",
              "      <th>e</th>\n",
              "      <td>-0.008247</td>\n",
              "      <td>0.004000</td>\n",
              "      <td>-0.007218</td>\n",
              "      <td>1.000000</td>\n",
              "      <td>0.907790</td>\n",
              "      <td>-0.006000</td>\n",
              "      <td>1.000000</td>\n",
              "    </tr>\n",
              "    <tr>\n",
              "      <th>Y</th>\n",
              "      <td>0.040445</td>\n",
              "      <td>0.159252</td>\n",
              "      <td>0.379422</td>\n",
              "      <td>0.907790</td>\n",
              "      <td>1.000000</td>\n",
              "      <td>0.413969</td>\n",
              "      <td>0.907790</td>\n",
              "    </tr>\n",
              "    <tr>\n",
              "      <th>Y_hat</th>\n",
              "      <td>0.114328</td>\n",
              "      <td>0.371005</td>\n",
              "      <td>0.920275</td>\n",
              "      <td>-0.006000</td>\n",
              "      <td>0.413969</td>\n",
              "      <td>1.000000</td>\n",
              "      <td>-0.006000</td>\n",
              "    </tr>\n",
              "    <tr>\n",
              "      <th>e_hat</th>\n",
              "      <td>-0.008247</td>\n",
              "      <td>0.004000</td>\n",
              "      <td>-0.007218</td>\n",
              "      <td>1.000000</td>\n",
              "      <td>0.907790</td>\n",
              "      <td>-0.006000</td>\n",
              "      <td>1.000000</td>\n",
              "    </tr>\n",
              "  </tbody>\n",
              "</table>\n",
              "</div>"
            ],
            "text/plain": [
              "            Xt1       Xt2       Xt3         e         Y     Y_hat     e_hat\n",
              "Xt1    1.000000  0.025874  0.002868 -0.008247  0.040445  0.114328 -0.008247\n",
              "Xt2    0.025874  1.000000 -0.007329  0.004000  0.159252  0.371005  0.004000\n",
              "Xt3    0.002868 -0.007329  1.000000 -0.007218  0.379422  0.920275 -0.007218\n",
              "e     -0.008247  0.004000 -0.007218  1.000000  0.907790 -0.006000  1.000000\n",
              "Y      0.040445  0.159252  0.379422  0.907790  1.000000  0.413969  0.907790\n",
              "Y_hat  0.114328  0.371005  0.920275 -0.006000  0.413969  1.000000 -0.006000\n",
              "e_hat -0.008247  0.004000 -0.007218  1.000000  0.907790 -0.006000  1.000000"
            ]
          },
          "metadata": {},
          "execution_count": 6
        }
      ]
    },
    {
      "cell_type": "code",
      "metadata": {
        "colab": {
          "base_uri": "https://localhost:8080/",
          "height": 1000
        },
        "id": "BxAE0GtRQQG_",
        "outputId": "395e9dd6-4d4c-4707-cc9b-57af45662d8a"
      },
      "source": [
        "table_data_all.plot(x ='Y_hat', y='e_hat', kind = 'scatter')\n",
        "table_data_all.plot(x ='Xt1', y='e_hat', kind = 'scatter')\n",
        "table_data_all.plot(x ='Xt2', y='e_hat', kind = 'scatter')\n",
        "table_data_all.plot(x ='Xt3', y='e_hat', kind = 'scatter')"
      ],
      "execution_count": 7,
      "outputs": [
        {
          "output_type": "execute_result",
          "data": {
            "text/plain": [
              "<matplotlib.axes._subplots.AxesSubplot at 0x7eff00647610>"
            ]
          },
          "metadata": {},
          "execution_count": 7
        },
        {
          "output_type": "display_data",
          "data": {
            "image/png": "[encoded data removed]",
            "text/plain": [
              "<Figure size 432x288 with 1 Axes>"
            ]
          },
          "metadata": {
            "needs_background": "light"
          }
        },
        {
          "output_type": "display_data",
          "data": {
            "image/png": "[encoded data removed]",
            "text/plain": [
              "<Figure size 432x288 with 1 Axes>"
            ]
          },
          "metadata": {
            "needs_background": "light"
          }
        },
        {
          "output_type": "display_data",
          "data": {
            "image/png": "[encoded data removed]",
            "text/plain": [
              "<Figure size 432x288 with 1 Axes>"
            ]
          },
          "metadata": {
            "needs_background": "light"
          }
        },
        {
          "output_type": "display_data",
          "data": {
            "image/png": "[encoded data removed]",
            "text/plain": [
              "<Figure size 432x288 with 1 Axes>"
            ]
          },
          "metadata": {
            "needs_background": "light"
          }
        }
      ]
    }
  ]
}