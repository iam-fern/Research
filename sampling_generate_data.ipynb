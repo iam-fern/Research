{
  "nbformat": 4,
  "nbformat_minor": 0,
  "metadata": {
    "colab": {
      "name": "sampling_generate_data.ipynb",
      "provenance": [],
      "authorship_tag": "ABX9TyOJI+jT4hq/Pa9vHnIbrqMO",
      "include_colab_link": true
    },
    "kernelspec": {
      "name": "python3",
      "display_name": "Python 3"
    },
    "language_info": {
      "name": "python"
    }
  },
  "cells": [
    {
      "cell_type": "markdown",
      "metadata": {
        "id": "view-in-github",
        "colab_type": "text"
      },
      "source": [
        "<a href=\"https://colab.research.google.com/github/iam-fern/Research/blob/main/sampling_generate_data.ipynb\" target=\"_parent\"><img src=\"https://colab.research.google.com/assets/colab-badge.svg\" alt=\"Open In Colab\"/></a>"
      ]
    },
    {
      "cell_type": "code",
      "metadata": {
        "id": "90AEh07sP2RM",
        "colab": {
          "base_uri": "https://localhost:8080/"
        },
        "outputId": "1db02148-4e27-47d8-fc9b-c78624b7a9e2"
      },
      "source": [
        "import pandas as pd\n",
        "import numpy as np\n",
        "import matplotlib.pyplot as plt\n",
        "from scipy.stats import norm\n",
        "from numpy.random import normal\n",
        "import statistics\n",
        "import statistics as stats\n",
        "import scipy.stats as ss\n",
        "from scipy import stats\n",
        "import scipy.stats as stats\n",
        "import time\n",
        "import statsmodels.api as sm\n",
        "%matplotlib inline\n",
        "from google.colab import files"
      ],
      "execution_count": 1,
      "outputs": [
        {
          "output_type": "stream",
          "name": "stderr",
          "text": [
            "/usr/local/lib/python3.7/dist-packages/statsmodels/tools/_testing.py:19: FutureWarning: pandas.util.testing is deprecated. Use the functions in the public API at pandas.testing instead.\n",
            "  import pandas.util.testing as tm\n"
          ]
        }
      ]
    },
    {
      "cell_type": "code",
      "metadata": {
        "colab": {
          "base_uri": "https://localhost:8080/",
          "height": 417
        },
        "id": "JS6OJnBfP-3d",
        "outputId": "0e4e902d-2929-45df-b172-447eee6c69a8"
      },
      "source": [
        "# numpy.random.normal(loc=0.0, scale=1.0, size=None)\n",
        "# generate sample of 200 values that follow a normal distribution \n",
        "# data = normal(loc=0, scale=1, size=200)\n",
        "\n",
        "data = pd.DataFrame({\"zt1\" : normal(0, 1, 500000),\n",
        "                     \"zt2\" : normal(0, 1, 500000),\n",
        "                     \"zt3\" : normal(0, 1, 500000)})\n",
        "data"
      ],
      "execution_count": 2,
      "outputs": [
        {
          "output_type": "execute_result",
          "data": {
            "text/html": [
              "<div>\n",
              "<style scoped>\n",
              "    .dataframe tbody tr th:only-of-type {\n",
              "        vertical-align: middle;\n",
              "    }\n",
              "\n",
              "    .dataframe tbody tr th {\n",
              "        vertical-align: top;\n",
              "    }\n",
              "\n",
              "    .dataframe thead th {\n",
              "        text-align: right;\n",
              "    }\n",
              "</style>\n",
              "<table border=\"1\" class=\"dataframe\">\n",
              "  <thead>\n",
              "    <tr style=\"text-align: right;\">\n",
              "      <th></th>\n",
              "      <th>zt1</th>\n",
              "      <th>zt2</th>\n",
              "      <th>zt3</th>\n",
              "    </tr>\n",
              "  </thead>\n",
              "  <tbody>\n",
              "    <tr>\n",
              "      <th>0</th>\n",
              "      <td>-0.006201</td>\n",
              "      <td>-1.731357</td>\n",
              "      <td>0.415309</td>\n",
              "    </tr>\n",
              "    <tr>\n",
              "      <th>1</th>\n",
              "      <td>-0.869188</td>\n",
              "      <td>0.017302</td>\n",
              "      <td>0.466980</td>\n",
              "    </tr>\n",
              "    <tr>\n",
              "      <th>2</th>\n",
              "      <td>0.685498</td>\n",
              "      <td>1.081014</td>\n",
              "      <td>0.590913</td>\n",
              "    </tr>\n",
              "    <tr>\n",
              "      <th>3</th>\n",
              "      <td>0.714203</td>\n",
              "      <td>-0.208344</td>\n",
              "      <td>1.138432</td>\n",
              "    </tr>\n",
              "    <tr>\n",
              "      <th>4</th>\n",
              "      <td>-0.214038</td>\n",
              "      <td>-0.593703</td>\n",
              "      <td>-0.413858</td>\n",
              "    </tr>\n",
              "    <tr>\n",
              "      <th>...</th>\n",
              "      <td>...</td>\n",
              "      <td>...</td>\n",
              "      <td>...</td>\n",
              "    </tr>\n",
              "    <tr>\n",
              "      <th>499995</th>\n",
              "      <td>0.150629</td>\n",
              "      <td>1.246646</td>\n",
              "      <td>1.799683</td>\n",
              "    </tr>\n",
              "    <tr>\n",
              "      <th>499996</th>\n",
              "      <td>-0.041360</td>\n",
              "      <td>0.772699</td>\n",
              "      <td>-0.083778</td>\n",
              "    </tr>\n",
              "    <tr>\n",
              "      <th>499997</th>\n",
              "      <td>0.465034</td>\n",
              "      <td>1.296694</td>\n",
              "      <td>-0.307290</td>\n",
              "    </tr>\n",
              "    <tr>\n",
              "      <th>499998</th>\n",
              "      <td>-0.144146</td>\n",
              "      <td>-0.654690</td>\n",
              "      <td>-0.063954</td>\n",
              "    </tr>\n",
              "    <tr>\n",
              "      <th>499999</th>\n",
              "      <td>-0.214286</td>\n",
              "      <td>-0.844522</td>\n",
              "      <td>0.214756</td>\n",
              "    </tr>\n",
              "  </tbody>\n",
              "</table>\n",
              "<p>500000 rows × 3 columns</p>\n",
              "</div>"
            ],
            "text/plain": [
              "             zt1       zt2       zt3\n",
              "0      -0.006201 -1.731357  0.415309\n",
              "1      -0.869188  0.017302  0.466980\n",
              "2       0.685498  1.081014  0.590913\n",
              "3       0.714203 -0.208344  1.138432\n",
              "4      -0.214038 -0.593703 -0.413858\n",
              "...          ...       ...       ...\n",
              "499995  0.150629  1.246646  1.799683\n",
              "499996 -0.041360  0.772699 -0.083778\n",
              "499997  0.465034  1.296694 -0.307290\n",
              "499998 -0.144146 -0.654690 -0.063954\n",
              "499999 -0.214286 -0.844522  0.214756\n",
              "\n",
              "[500000 rows x 3 columns]"
            ]
          },
          "metadata": {},
          "execution_count": 2
        }
      ]
    },
    {
      "cell_type": "code",
      "metadata": {
        "colab": {
          "base_uri": "https://localhost:8080/",
          "height": 447
        },
        "id": "0BwLfGCEP-xU",
        "outputId": "07bec398-e575-4da0-b832-84eb33624347"
      },
      "source": [
        "n=50\n",
        "rep=0\n",
        "table_data_all=pd.DataFrame({\"rep\":[]})\n",
        "data_copy=data.copy()\n",
        "while not data_copy.empty:\n",
        "    #=========================\n",
        "    if data_copy.shape[0]>n:\n",
        "        index=data_copy.sample(n).index\n",
        "        data_new=data_copy.loc[index,:]\n",
        "        data_copy=data_copy.drop(index)\n",
        "    else:\n",
        "        data_new=data_copy.copy()\n",
        "        data_copy=pd.DataFrame({\"\":[]})\n",
        "    #=========================\n",
        "    p = 0\n",
        "\n",
        "    Zt1 = data_new['zt1']\n",
        "    Zt2 = data_new['zt2']\n",
        "    Zt3 = data_new['zt3']\n",
        "\n",
        "    xt1 = (1-(p**2))**(1/2)*Zt1\n",
        "    xt2 = (1-(p**2))**(1/2)*Zt2\n",
        "    xt3 = (1-(p**2))**(1/2)*Zt3\n",
        "\n",
        "    new_data = pd.DataFrame({'Xt1' : data_new['zt1'],\n",
        "                             'Xt2' : data_new['zt2'],\n",
        "                             'Xt3' : data_new['zt3'],\n",
        "                             'e'   : normal(0, xt2**4, n)})\n",
        "\n",
        "\n",
        "    table_data = pd.DataFrame({'Xt1' : data_new['zt1'],\n",
        "                               'Xt2' : data_new['zt2'],\n",
        "                               'Xt3' : data_new['zt3'],\n",
        "                               'e'   : new_data['e']})\n",
        "  \n",
        "\n",
        "    table_data['Y'] = 4+0.4*table_data['Xt1']+1.5*table_data['Xt2']+3.6*table_data['Xt3']+table_data['e']\n",
        "    #table_data['Y_hat'] = 4+0.4*table_data['Xt1']+1.5*table_data['Xt2']+3.6*table_data['Xt3']\n",
        "    \n",
        "    table_data=table_data.reset_index(drop=True).reset_index()\n",
        "    table_data[\"rep\"]=rep\n",
        "    table_data_all=pd.concat([table_data_all,table_data],axis=0,ignore_index=True,sort=False)\n",
        "    # display(table_data)\n",
        "    rep+=1\n",
        "    if rep==100:\n",
        "      break\n",
        "table_data_all=table_data_all.set_index([\"rep\", \"index\"])\n",
        "table_data_all\n",
        "\n",
        "x = table_data_all[['Xt1', 'Xt2', 'Xt3',]]\n",
        "y = table_data_all['Y']\n",
        "x = sm.add_constant(x)\n",
        "model = sm.OLS(y, x).fit()\n",
        "y_pred = model.predict(x)\n",
        "\n",
        "df = pd.DataFrame({'Actual': y, 'Predicted': y_pred})\n",
        "\n",
        "table_data_new = pd.DataFrame({'Xt1'   : table_data_all['Xt1'],\n",
        "                               'Xt2'   : table_data_all['Xt2'],\n",
        "                               'Xt3'   : table_data_all['Xt3'],\n",
        "                               'e'     : table_data_all['e'],\n",
        "                               'Y'     : df['Actual'],\n",
        "                               'y_hat' : df['Predicted']})\n",
        "table_data_new['e_hat'] = table_data_new['Y']-table_data_new['y_hat']\n",
        "table_data_new"
      ],
      "execution_count": 3,
      "outputs": [
        {
          "output_type": "execute_result",
          "data": {
            "text/html": [
              "<div>\n",
              "<style scoped>\n",
              "    .dataframe tbody tr th:only-of-type {\n",
              "        vertical-align: middle;\n",
              "    }\n",
              "\n",
              "    .dataframe tbody tr th {\n",
              "        vertical-align: top;\n",
              "    }\n",
              "\n",
              "    .dataframe thead th {\n",
              "        text-align: right;\n",
              "    }\n",
              "</style>\n",
              "<table border=\"1\" class=\"dataframe\">\n",
              "  <thead>\n",
              "    <tr style=\"text-align: right;\">\n",
              "      <th></th>\n",
              "      <th></th>\n",
              "      <th>Xt1</th>\n",
              "      <th>Xt2</th>\n",
              "      <th>Xt3</th>\n",
              "      <th>e</th>\n",
              "      <th>Y</th>\n",
              "      <th>y_hat</th>\n",
              "      <th>e_hat</th>\n",
              "    </tr>\n",
              "    <tr>\n",
              "      <th>rep</th>\n",
              "      <th>index</th>\n",
              "      <th></th>\n",
              "      <th></th>\n",
              "      <th></th>\n",
              "      <th></th>\n",
              "      <th></th>\n",
              "      <th></th>\n",
              "      <th></th>\n",
              "    </tr>\n",
              "  </thead>\n",
              "  <tbody>\n",
              "    <tr>\n",
              "      <th rowspan=\"5\" valign=\"top\">0.0</th>\n",
              "      <th>0.0</th>\n",
              "      <td>0.815637</td>\n",
              "      <td>1.039319</td>\n",
              "      <td>0.085882</td>\n",
              "      <td>-0.168743</td>\n",
              "      <td>6.025665</td>\n",
              "      <td>6.247255</td>\n",
              "      <td>-0.221589</td>\n",
              "    </tr>\n",
              "    <tr>\n",
              "      <th>1.0</th>\n",
              "      <td>0.355325</td>\n",
              "      <td>1.092356</td>\n",
              "      <td>0.860220</td>\n",
              "      <td>-0.023731</td>\n",
              "      <td>8.853728</td>\n",
              "      <td>8.878031</td>\n",
              "      <td>-0.024304</td>\n",
              "    </tr>\n",
              "    <tr>\n",
              "      <th>2.0</th>\n",
              "      <td>0.949112</td>\n",
              "      <td>-0.102686</td>\n",
              "      <td>1.827389</td>\n",
              "      <td>0.000050</td>\n",
              "      <td>10.804266</td>\n",
              "      <td>10.479490</td>\n",
              "      <td>0.324775</td>\n",
              "    </tr>\n",
              "    <tr>\n",
              "      <th>3.0</th>\n",
              "      <td>0.649836</td>\n",
              "      <td>-0.863079</td>\n",
              "      <td>1.849388</td>\n",
              "      <td>-1.600101</td>\n",
              "      <td>8.023013</td>\n",
              "      <td>9.152857</td>\n",
              "      <td>-1.129844</td>\n",
              "    </tr>\n",
              "    <tr>\n",
              "      <th>4.0</th>\n",
              "      <td>0.503001</td>\n",
              "      <td>0.404271</td>\n",
              "      <td>-1.685773</td>\n",
              "      <td>-0.041690</td>\n",
              "      <td>-1.302868</td>\n",
              "      <td>-1.170468</td>\n",
              "      <td>-0.132400</td>\n",
              "    </tr>\n",
              "    <tr>\n",
              "      <th>...</th>\n",
              "      <th>...</th>\n",
              "      <td>...</td>\n",
              "      <td>...</td>\n",
              "      <td>...</td>\n",
              "      <td>...</td>\n",
              "      <td>...</td>\n",
              "      <td>...</td>\n",
              "      <td>...</td>\n",
              "    </tr>\n",
              "    <tr>\n",
              "      <th rowspan=\"5\" valign=\"top\">99.0</th>\n",
              "      <th>45.0</th>\n",
              "      <td>-0.695179</td>\n",
              "      <td>-0.174720</td>\n",
              "      <td>0.011643</td>\n",
              "      <td>-0.000477</td>\n",
              "      <td>3.501286</td>\n",
              "      <td>3.345494</td>\n",
              "      <td>0.155792</td>\n",
              "    </tr>\n",
              "    <tr>\n",
              "      <th>46.0</th>\n",
              "      <td>1.013018</td>\n",
              "      <td>0.863244</td>\n",
              "      <td>-0.107348</td>\n",
              "      <td>-0.861438</td>\n",
              "      <td>4.452184</td>\n",
              "      <td>5.346842</td>\n",
              "      <td>-0.894658</td>\n",
              "    </tr>\n",
              "    <tr>\n",
              "      <th>47.0</th>\n",
              "      <td>1.021710</td>\n",
              "      <td>-0.954274</td>\n",
              "      <td>1.585185</td>\n",
              "      <td>-0.277755</td>\n",
              "      <td>8.406183</td>\n",
              "      <td>8.214519</td>\n",
              "      <td>0.191664</td>\n",
              "    </tr>\n",
              "    <tr>\n",
              "      <th>48.0</th>\n",
              "      <td>-0.038465</td>\n",
              "      <td>-2.175333</td>\n",
              "      <td>-1.157442</td>\n",
              "      <td>3.415313</td>\n",
              "      <td>-0.029864</td>\n",
              "      <td>-3.894586</td>\n",
              "      <td>3.864723</td>\n",
              "    </tr>\n",
              "    <tr>\n",
              "      <th>49.0</th>\n",
              "      <td>0.109986</td>\n",
              "      <td>-0.094207</td>\n",
              "      <td>-1.043458</td>\n",
              "      <td>-0.000116</td>\n",
              "      <td>0.146118</td>\n",
              "      <td>0.088496</td>\n",
              "      <td>0.057622</td>\n",
              "    </tr>\n",
              "  </tbody>\n",
              "</table>\n",
              "<p>5000 rows × 7 columns</p>\n",
              "</div>"
            ],
            "text/plain": [
              "                 Xt1       Xt2       Xt3  ...          Y      y_hat     e_hat\n",
              "rep  index                                ...                                \n",
              "0.0  0.0    0.815637  1.039319  0.085882  ...   6.025665   6.247255 -0.221589\n",
              "     1.0    0.355325  1.092356  0.860220  ...   8.853728   8.878031 -0.024304\n",
              "     2.0    0.949112 -0.102686  1.827389  ...  10.804266  10.479490  0.324775\n",
              "     3.0    0.649836 -0.863079  1.849388  ...   8.023013   9.152857 -1.129844\n",
              "     4.0    0.503001  0.404271 -1.685773  ...  -1.302868  -1.170468 -0.132400\n",
              "...              ...       ...       ...  ...        ...        ...       ...\n",
              "99.0 45.0  -0.695179 -0.174720  0.011643  ...   3.501286   3.345494  0.155792\n",
              "     46.0   1.013018  0.863244 -0.107348  ...   4.452184   5.346842 -0.894658\n",
              "     47.0   1.021710 -0.954274  1.585185  ...   8.406183   8.214519  0.191664\n",
              "     48.0  -0.038465 -2.175333 -1.157442  ...  -0.029864  -3.894586  3.864723\n",
              "     49.0   0.109986 -0.094207 -1.043458  ...   0.146118   0.088496  0.057622\n",
              "\n",
              "[5000 rows x 7 columns]"
            ]
          },
          "metadata": {},
          "execution_count": 3
        }
      ]
    },
    {
      "cell_type": "code",
      "metadata": {
        "colab": {
          "base_uri": "https://localhost:8080/",
          "height": 17
        },
        "id": "zJMKEAC_px_M",
        "outputId": "ad6bbd86-079e-4f11-d54d-b7fa59bb0ca7"
      },
      "source": [
        "table_data_new.to_csv('sampling_100rep_n50_2020.csv')\n",
        "files.download('sampling_100rep_n50_2020.csv')"
      ],
      "execution_count": null,
      "outputs": [
        {
          "output_type": "display_data",
          "data": {
            "application/javascript": [
              "\n",
              "    async function download(id, filename, size) {\n",
              "      if (!google.colab.kernel.accessAllowed) {\n",
              "        return;\n",
              "      }\n",
              "      const div = document.createElement('div');\n",
              "      const label = document.createElement('label');\n",
              "      label.textContent = `Downloading \"${filename}\": `;\n",
              "      div.appendChild(label);\n",
              "      const progress = document.createElement('progress');\n",
              "      progress.max = size;\n",
              "      div.appendChild(progress);\n",
              "      document.body.appendChild(div);\n",
              "\n",
              "      const buffers = [];\n",
              "      let downloaded = 0;\n",
              "\n",
              "      const channel = await google.colab.kernel.comms.open(id);\n",
              "      // Send a message to notify the kernel that we're ready.\n",
              "      channel.send({})\n",
              "\n",
              "      for await (const message of channel.messages) {\n",
              "        // Send a message to notify the kernel that we're ready.\n",
              "        channel.send({})\n",
              "        if (message.buffers) {\n",
              "          for (const buffer of message.buffers) {\n",
              "            buffers.push(buffer);\n",
              "            downloaded += buffer.byteLength;\n",
              "            progress.value = downloaded;\n",
              "          }\n",
              "        }\n",
              "      }\n",
              "      const blob = new Blob(buffers, {type: 'application/binary'});\n",
              "      const a = document.createElement('a');\n",
              "      a.href = window.URL.createObjectURL(blob);\n",
              "      a.download = filename;\n",
              "      div.appendChild(a);\n",
              "      a.click();\n",
              "      div.remove();\n",
              "    }\n",
              "  "
            ],
            "text/plain": [
              "<IPython.core.display.Javascript object>"
            ]
          },
          "metadata": {}
        },
        {
          "output_type": "display_data",
          "data": {
            "application/javascript": [
              "download(\"download_da776de2-75d1-47ca-970d-5500bde33e8b\", \"sampling_1000rep_n50_2020.csv\", 7349207)"
            ],
            "text/plain": [
              "<IPython.core.display.Javascript object>"
            ]
          },
          "metadata": {}
        }
      ]
    },
    {
      "cell_type": "code",
      "metadata": {
        "colab": {
          "base_uri": "https://localhost:8080/"
        },
        "id": "bhrFGaaBP-u4",
        "outputId": "55dd23be-7e9f-4b24-fa47-53f63fb48219"
      },
      "source": [
        "table_data_new.mean()"
      ],
      "execution_count": 4,
      "outputs": [
        {
          "output_type": "execute_result",
          "data": {
            "text/plain": [
              "Xt1     -1.416429e-02\n",
              "Xt2      1.704068e-02\n",
              "Xt3      1.706718e-02\n",
              "e       -1.284834e-01\n",
              "Y        3.952854e+00\n",
              "y_hat    3.952854e+00\n",
              "e_hat   -5.489392e-15\n",
              "dtype: float64"
            ]
          },
          "metadata": {},
          "execution_count": 4
        }
      ]
    },
    {
      "cell_type": "code",
      "metadata": {
        "colab": {
          "base_uri": "https://localhost:8080/"
        },
        "id": "uB7vyeybP-n9",
        "outputId": "c9ffb366-e778-4714-e532-93a5ef10ae4d"
      },
      "source": [
        "table_data_new.var()"
      ],
      "execution_count": 5,
      "outputs": [
        {
          "output_type": "execute_result",
          "data": {
            "text/plain": [
              "Xt1        1.017183\n",
              "Xt2        1.011216\n",
              "Xt3        0.995449\n",
              "e         89.241596\n",
              "Y        104.721644\n",
              "y_hat     15.525394\n",
              "e_hat     89.196250\n",
              "dtype: float64"
            ]
          },
          "metadata": {},
          "execution_count": 5
        }
      ]
    },
    {
      "cell_type": "code",
      "metadata": {
        "colab": {
          "base_uri": "https://localhost:8080/",
          "height": 265
        },
        "id": "-hTKOaR6QM4L",
        "outputId": "f5a99246-1863-400e-9d9f-b01bacb79308"
      },
      "source": [
        "# Compute pairwise correlation of columns, excluding NA/null values.\n",
        "table_data_new.corr()"
      ],
      "execution_count": 6,
      "outputs": [
        {
          "output_type": "execute_result",
          "data": {
            "text/html": [
              "<div>\n",
              "<style scoped>\n",
              "    .dataframe tbody tr th:only-of-type {\n",
              "        vertical-align: middle;\n",
              "    }\n",
              "\n",
              "    .dataframe tbody tr th {\n",
              "        vertical-align: top;\n",
              "    }\n",
              "\n",
              "    .dataframe thead th {\n",
              "        text-align: right;\n",
              "    }\n",
              "</style>\n",
              "<table border=\"1\" class=\"dataframe\">\n",
              "  <thead>\n",
              "    <tr style=\"text-align: right;\">\n",
              "      <th></th>\n",
              "      <th>Xt1</th>\n",
              "      <th>Xt2</th>\n",
              "      <th>Xt3</th>\n",
              "      <th>e</th>\n",
              "      <th>Y</th>\n",
              "      <th>y_hat</th>\n",
              "      <th>e_hat</th>\n",
              "    </tr>\n",
              "  </thead>\n",
              "  <tbody>\n",
              "    <tr>\n",
              "      <th>Xt1</th>\n",
              "      <td>1.000000e+00</td>\n",
              "      <td>1.663332e-02</td>\n",
              "      <td>-1.005208e-02</td>\n",
              "      <td>-0.000963</td>\n",
              "      <td>0.037457</td>\n",
              "      <td>9.728117e-02</td>\n",
              "      <td>1.807688e-16</td>\n",
              "    </tr>\n",
              "    <tr>\n",
              "      <th>Xt2</th>\n",
              "      <td>1.663332e-02</td>\n",
              "      <td>1.000000e+00</td>\n",
              "      <td>1.699557e-02</td>\n",
              "      <td>0.020468</td>\n",
              "      <td>0.172914</td>\n",
              "      <td>4.490845e-01</td>\n",
              "      <td>-1.963004e-16</td>\n",
              "    </tr>\n",
              "    <tr>\n",
              "      <th>Xt3</th>\n",
              "      <td>-1.005208e-02</td>\n",
              "      <td>1.699557e-02</td>\n",
              "      <td>1.000000e+00</td>\n",
              "      <td>-0.008992</td>\n",
              "      <td>0.344798</td>\n",
              "      <td>8.954909e-01</td>\n",
              "      <td>-1.569362e-16</td>\n",
              "    </tr>\n",
              "    <tr>\n",
              "      <th>e</th>\n",
              "      <td>-9.629174e-04</td>\n",
              "      <td>2.046752e-02</td>\n",
              "      <td>-8.991631e-03</td>\n",
              "      <td>1.000000</td>\n",
              "      <td>0.922958</td>\n",
              "      <td>7.584759e-04</td>\n",
              "      <td>9.997459e-01</td>\n",
              "    </tr>\n",
              "    <tr>\n",
              "      <th>Y</th>\n",
              "      <td>3.745691e-02</td>\n",
              "      <td>1.729144e-01</td>\n",
              "      <td>3.447976e-01</td>\n",
              "      <td>0.922958</td>\n",
              "      <td>1.000000</td>\n",
              "      <td>3.850376e-01</td>\n",
              "      <td>9.229009e-01</td>\n",
              "    </tr>\n",
              "    <tr>\n",
              "      <th>y_hat</th>\n",
              "      <td>9.728117e-02</td>\n",
              "      <td>4.490845e-01</td>\n",
              "      <td>8.954909e-01</td>\n",
              "      <td>0.000758</td>\n",
              "      <td>0.385038</td>\n",
              "      <td>1.000000e+00</td>\n",
              "      <td>-2.017120e-16</td>\n",
              "    </tr>\n",
              "    <tr>\n",
              "      <th>e_hat</th>\n",
              "      <td>1.807688e-16</td>\n",
              "      <td>-1.963004e-16</td>\n",
              "      <td>-1.569362e-16</td>\n",
              "      <td>0.999746</td>\n",
              "      <td>0.922901</td>\n",
              "      <td>-2.017120e-16</td>\n",
              "      <td>1.000000e+00</td>\n",
              "    </tr>\n",
              "  </tbody>\n",
              "</table>\n",
              "</div>"
            ],
            "text/plain": [
              "                Xt1           Xt2  ...         y_hat         e_hat\n",
              "Xt1    1.000000e+00  1.663332e-02  ...  9.728117e-02  1.807688e-16\n",
              "Xt2    1.663332e-02  1.000000e+00  ...  4.490845e-01 -1.963004e-16\n",
              "Xt3   -1.005208e-02  1.699557e-02  ...  8.954909e-01 -1.569362e-16\n",
              "e     -9.629174e-04  2.046752e-02  ...  7.584759e-04  9.997459e-01\n",
              "Y      3.745691e-02  1.729144e-01  ...  3.850376e-01  9.229009e-01\n",
              "y_hat  9.728117e-02  4.490845e-01  ...  1.000000e+00 -2.017120e-16\n",
              "e_hat  1.807688e-16 -1.963004e-16  ... -2.017120e-16  1.000000e+00\n",
              "\n",
              "[7 rows x 7 columns]"
            ]
          },
          "metadata": {},
          "execution_count": 6
        }
      ]
    },
    {
      "cell_type": "code",
      "metadata": {
        "colab": {
          "base_uri": "https://localhost:8080/",
          "height": 1000
        },
        "id": "BxAE0GtRQQG_",
        "outputId": "3fd80149-fc89-4618-d19f-21983db23c6a"
      },
      "source": [
        "table_data_new.plot(x ='y_hat', y='e_hat', kind = 'scatter')\n",
        "table_data_new.plot(x ='Xt1', y='e_hat', kind = 'scatter')\n",
        "table_data_new.plot(x ='Xt2', y='e_hat', kind = 'scatter')\n",
        "table_data_new.plot(x ='Xt3', y='e_hat', kind = 'scatter')"
      ],
      "execution_count": 7,
      "outputs": [
        {
          "output_type": "execute_result",
          "data": {
            "text/plain": [
              "<matplotlib.axes._subplots.AxesSubplot at 0x7f85892ad650>"
            ]
          },
          "metadata": {},
          "execution_count": 7
        },
        {
          "output_type": "display_data",
          "data": {
            "image/png": "[encoded data removed]",
            "text/plain": [
              "<Figure size 432x288 with 1 Axes>"
            ]
          },
          "metadata": {
            "needs_background": "light"
          }
        },
        {
          "output_type": "display_data",
          "data": {
            "image/png": "[encoded data removed]",
            "text/plain": [
              "<Figure size 432x288 with 1 Axes>"
            ]
          },
          "metadata": {
            "needs_background": "light"
          }
        },
        {
          "output_type": "display_data",
          "data": {
            "image/png": "[encoded data removed]",
            "text/plain": [
              "<Figure size 432x288 with 1 Axes>"
            ]
          },
          "metadata": {
            "needs_background": "light"
          }
        },
        {
          "output_type": "display_data",
          "data": {
            "image/png": "[encoded data removed]",
            "text/plain": [
              "<Figure size 432x288 with 1 Axes>"
            ]
          },
          "metadata": {
            "needs_background": "light"
          }
        }
      ]
    }
  ]
}