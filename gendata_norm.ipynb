{
  "nbformat": 4,
  "nbformat_minor": 0,
  "metadata": {
    "colab": {
      "name": "gendata_norm.ipynb",
      "provenance": [],
      "authorship_tag": "ABX9TyP9LrWmeZ7yMshq3DuaXMGE",
      "include_colab_link": true
    },
    "kernelspec": {
      "name": "python3",
      "display_name": "Python 3"
    },
    "language_info": {
      "name": "python"
    }
  },
  "cells": [
    {
      "cell_type": "markdown",
      "metadata": {
        "id": "view-in-github",
        "colab_type": "text"
      },
      "source": [
        "<a href=\"https://colab.research.google.com/github/iam-fern/Research/blob/main/gendata_norm.ipynb\" target=\"_parent\"><img src=\"https://colab.research.google.com/assets/colab-badge.svg\" alt=\"Open In Colab\"/></a>"
      ]
    },
    {
      "cell_type": "code",
      "metadata": {
        "colab": {
          "base_uri": "https://localhost:8080/"
        },
        "id": "wRMY8Ud6dvVr",
        "outputId": "e1f4f16b-c935-4bdc-eaa7-0134269a3a26"
      },
      "source": [
        "import pandas as pd\n",
        "import numpy as np\n",
        "import matplotlib.pyplot as plt\n",
        "from scipy.stats import norm\n",
        "from numpy.random import normal\n",
        "import statistics\n",
        "import statistics as stats\n",
        "import scipy.stats as ss\n",
        "from scipy import stats\n",
        "import scipy.stats as stats\n",
        "import time\n",
        "import statsmodels.api as sm\n",
        "%matplotlib inline\n",
        "from google.colab import files"
      ],
      "execution_count": 1,
      "outputs": [
        {
          "output_type": "stream",
          "name": "stderr",
          "text": [
            "/usr/local/lib/python3.7/dist-packages/statsmodels/tools/_testing.py:19: FutureWarning: pandas.util.testing is deprecated. Use the functions in the public API at pandas.testing instead.\n",
            "  import pandas.util.testing as tm\n"
          ]
        }
      ]
    },
    {
      "cell_type": "code",
      "metadata": {
        "colab": {
          "base_uri": "https://localhost:8080/",
          "height": 417
        },
        "id": "zFB5qbMzdzkA",
        "outputId": "46c2b8ea-9174-4a55-a09e-4803fe018e5e"
      },
      "source": [
        "# numpy.random.normal(loc=0.0, scale=1.0, size=None)\n",
        "# generate sample of 200 values that follow a normal distribution \n",
        "# data = normal(loc=0, scale=1, size=200)\n",
        "\n",
        "data = pd.DataFrame({\"z1\" : normal(0, 1, 50000),\n",
        "                     \"z2\" : normal(0, 1, 50000),\n",
        "                     \"z3\" : normal(0, 1, 50000)})\n",
        "data"
      ],
      "execution_count": 2,
      "outputs": [
        {
          "output_type": "execute_result",
          "data": {
            "text/html": [
              "<div>\n",
              "<style scoped>\n",
              "    .dataframe tbody tr th:only-of-type {\n",
              "        vertical-align: middle;\n",
              "    }\n",
              "\n",
              "    .dataframe tbody tr th {\n",
              "        vertical-align: top;\n",
              "    }\n",
              "\n",
              "    .dataframe thead th {\n",
              "        text-align: right;\n",
              "    }\n",
              "</style>\n",
              "<table border=\"1\" class=\"dataframe\">\n",
              "  <thead>\n",
              "    <tr style=\"text-align: right;\">\n",
              "      <th></th>\n",
              "      <th>z1</th>\n",
              "      <th>z2</th>\n",
              "      <th>z3</th>\n",
              "    </tr>\n",
              "  </thead>\n",
              "  <tbody>\n",
              "    <tr>\n",
              "      <th>0</th>\n",
              "      <td>1.755268</td>\n",
              "      <td>0.603256</td>\n",
              "      <td>-0.644677</td>\n",
              "    </tr>\n",
              "    <tr>\n",
              "      <th>1</th>\n",
              "      <td>-0.069977</td>\n",
              "      <td>-0.985600</td>\n",
              "      <td>0.083586</td>\n",
              "    </tr>\n",
              "    <tr>\n",
              "      <th>2</th>\n",
              "      <td>-0.915058</td>\n",
              "      <td>1.965680</td>\n",
              "      <td>-0.859713</td>\n",
              "    </tr>\n",
              "    <tr>\n",
              "      <th>3</th>\n",
              "      <td>-0.515122</td>\n",
              "      <td>0.862276</td>\n",
              "      <td>0.422692</td>\n",
              "    </tr>\n",
              "    <tr>\n",
              "      <th>4</th>\n",
              "      <td>0.349671</td>\n",
              "      <td>-0.515620</td>\n",
              "      <td>-0.161913</td>\n",
              "    </tr>\n",
              "    <tr>\n",
              "      <th>...</th>\n",
              "      <td>...</td>\n",
              "      <td>...</td>\n",
              "      <td>...</td>\n",
              "    </tr>\n",
              "    <tr>\n",
              "      <th>49995</th>\n",
              "      <td>-0.114203</td>\n",
              "      <td>-0.031857</td>\n",
              "      <td>-1.158349</td>\n",
              "    </tr>\n",
              "    <tr>\n",
              "      <th>49996</th>\n",
              "      <td>0.681361</td>\n",
              "      <td>0.032801</td>\n",
              "      <td>0.129740</td>\n",
              "    </tr>\n",
              "    <tr>\n",
              "      <th>49997</th>\n",
              "      <td>-0.277224</td>\n",
              "      <td>-0.208102</td>\n",
              "      <td>-1.153839</td>\n",
              "    </tr>\n",
              "    <tr>\n",
              "      <th>49998</th>\n",
              "      <td>2.757269</td>\n",
              "      <td>-2.049710</td>\n",
              "      <td>2.152415</td>\n",
              "    </tr>\n",
              "    <tr>\n",
              "      <th>49999</th>\n",
              "      <td>-0.959427</td>\n",
              "      <td>-1.626682</td>\n",
              "      <td>1.584768</td>\n",
              "    </tr>\n",
              "  </tbody>\n",
              "</table>\n",
              "<p>50000 rows × 3 columns</p>\n",
              "</div>"
            ],
            "text/plain": [
              "             z1        z2        z3\n",
              "0      1.755268  0.603256 -0.644677\n",
              "1     -0.069977 -0.985600  0.083586\n",
              "2     -0.915058  1.965680 -0.859713\n",
              "3     -0.515122  0.862276  0.422692\n",
              "4      0.349671 -0.515620 -0.161913\n",
              "...         ...       ...       ...\n",
              "49995 -0.114203 -0.031857 -1.158349\n",
              "49996  0.681361  0.032801  0.129740\n",
              "49997 -0.277224 -0.208102 -1.153839\n",
              "49998  2.757269 -2.049710  2.152415\n",
              "49999 -0.959427 -1.626682  1.584768\n",
              "\n",
              "[50000 rows x 3 columns]"
            ]
          },
          "metadata": {},
          "execution_count": 2
        }
      ]
    },
    {
      "cell_type": "code",
      "metadata": {
        "colab": {
          "base_uri": "https://localhost:8080/",
          "height": 447
        },
        "id": "i6QUps3Cdzer",
        "outputId": "47c2e47e-0693-4245-e1ee-f9b0c7ad2c27"
      },
      "source": [
        "z1 = data['z1']\n",
        "z2 = data['z2']\n",
        "z3 = data['z3']\n",
        "\n",
        "x1 = z1\n",
        "x2 = z2\n",
        "x3 = z3\n",
        "\n",
        "new_data = pd.DataFrame({\"x1\" : data['z1'],\n",
        "                         \"x2\" : data['z2'],\n",
        "                         \"x3\" : data['z3'],\n",
        "                         \"e\"  : np.random.normal(0, x1**6, 50000)})\n",
        "\n",
        "n=70\n",
        "rep=0\n",
        "table_data_all=pd.DataFrame({\"rep\":[]})\n",
        "data_copy=new_data.copy()\n",
        "while not data_copy.empty:\n",
        "    #=========================\n",
        "    if data_copy.shape[0]>n:\n",
        "        index=data_copy.sample(n).index\n",
        "        data_new=data_copy.loc[index,:].reset_index(drop=True)\n",
        "        data_copy=data_copy.drop(index)\n",
        "    else:\n",
        "        data_new=data_copy.copy().reset_index(drop=True)\n",
        "        data_copy=pd.DataFrame({\"\":[]})\n",
        "    #=========================\n",
        "\n",
        "    table_data = pd.DataFrame({'x1' : data_new['x1'],\n",
        "                               'x2' : data_new['x2'],\n",
        "                               'x3' : data_new['x3'],\n",
        "                               'e'  : data_new['e']})\n",
        "  \n",
        "\n",
        "    table_data['Y'] = 5 + 10*table_data['x1'] + table_data['x2'] + table_data['x3'] + table_data['e']\n",
        "    #table_data['Y_hat'] = 4+0.4*table_data['Xt1']+1.5*table_data['Xt2']+3.6*table_data['Xt3']\n",
        "    \n",
        "    table_data=table_data.reset_index(drop=True).reset_index()\n",
        "    table_data[\"rep\"]=rep\n",
        "    table_data_all=pd.concat([table_data_all,table_data],axis=0,ignore_index=True,sort=False)\n",
        "    rep+=1\n",
        "    if rep==100:\n",
        "      break\n",
        "table_data_all=table_data_all.set_index([\"rep\",\"index\"])\n",
        "table_data_all\n",
        "\n",
        "x = table_data_all[['x1', 'x2', 'x3',]]\n",
        "y = table_data_all['Y']\n",
        "x = sm.add_constant(x)\n",
        "model = sm.OLS(y, x).fit()\n",
        "y_pred = model.predict(x)\n",
        "\n",
        "df = pd.DataFrame({'Actual': y, 'Predicted': y_pred})\n",
        "\n",
        "table_data_new = pd.DataFrame({'x1'   : table_data_all['x1'],\n",
        "                               'x2'   : table_data_all['x2'],\n",
        "                               'x3'   : table_data_all['x3'],\n",
        "                               'e'     : table_data_all['e'],\n",
        "                               'Y'     : df['Actual'],\n",
        "                               'y_hat' : df['Predicted']})\n",
        "table_data_new['e_hat'] = table_data_new['Y'] - table_data_new['y_hat']\n",
        "table_data_new"
      ],
      "execution_count": 27,
      "outputs": [
        {
          "output_type": "execute_result",
          "data": {
            "text/html": [
              "<div>\n",
              "<style scoped>\n",
              "    .dataframe tbody tr th:only-of-type {\n",
              "        vertical-align: middle;\n",
              "    }\n",
              "\n",
              "    .dataframe tbody tr th {\n",
              "        vertical-align: top;\n",
              "    }\n",
              "\n",
              "    .dataframe thead th {\n",
              "        text-align: right;\n",
              "    }\n",
              "</style>\n",
              "<table border=\"1\" class=\"dataframe\">\n",
              "  <thead>\n",
              "    <tr style=\"text-align: right;\">\n",
              "      <th></th>\n",
              "      <th></th>\n",
              "      <th>x1</th>\n",
              "      <th>x2</th>\n",
              "      <th>x3</th>\n",
              "      <th>e</th>\n",
              "      <th>Y</th>\n",
              "      <th>y_hat</th>\n",
              "      <th>e_hat</th>\n",
              "    </tr>\n",
              "    <tr>\n",
              "      <th>rep</th>\n",
              "      <th>index</th>\n",
              "      <th></th>\n",
              "      <th></th>\n",
              "      <th></th>\n",
              "      <th></th>\n",
              "      <th></th>\n",
              "      <th></th>\n",
              "      <th></th>\n",
              "    </tr>\n",
              "  </thead>\n",
              "  <tbody>\n",
              "    <tr>\n",
              "      <th rowspan=\"5\" valign=\"top\">0.0</th>\n",
              "      <th>0.0</th>\n",
              "      <td>0.507134</td>\n",
              "      <td>-0.065809</td>\n",
              "      <td>0.684101</td>\n",
              "      <td>1.639798e-02</td>\n",
              "      <td>10.706028</td>\n",
              "      <td>8.279836</td>\n",
              "      <td>2.426193</td>\n",
              "    </tr>\n",
              "    <tr>\n",
              "      <th>1.0</th>\n",
              "      <td>0.710040</td>\n",
              "      <td>-0.515201</td>\n",
              "      <td>1.464146</td>\n",
              "      <td>5.926315e-02</td>\n",
              "      <td>13.108611</td>\n",
              "      <td>9.234624</td>\n",
              "      <td>3.873987</td>\n",
              "    </tr>\n",
              "    <tr>\n",
              "      <th>2.0</th>\n",
              "      <td>-0.061549</td>\n",
              "      <td>0.403865</td>\n",
              "      <td>1.585548</td>\n",
              "      <td>4.273117e-08</td>\n",
              "      <td>6.373922</td>\n",
              "      <td>5.693362</td>\n",
              "      <td>0.680560</td>\n",
              "    </tr>\n",
              "    <tr>\n",
              "      <th>3.0</th>\n",
              "      <td>-0.280327</td>\n",
              "      <td>-0.687356</td>\n",
              "      <td>0.425462</td>\n",
              "      <td>9.461101e-04</td>\n",
              "      <td>1.935785</td>\n",
              "      <td>1.408769</td>\n",
              "      <td>0.527016</td>\n",
              "    </tr>\n",
              "    <tr>\n",
              "      <th>4.0</th>\n",
              "      <td>-1.526176</td>\n",
              "      <td>-2.362021</td>\n",
              "      <td>-0.397232</td>\n",
              "      <td>3.212223e-01</td>\n",
              "      <td>-12.699788</td>\n",
              "      <td>-11.035043</td>\n",
              "      <td>-1.664745</td>\n",
              "    </tr>\n",
              "    <tr>\n",
              "      <th>...</th>\n",
              "      <th>...</th>\n",
              "      <td>...</td>\n",
              "      <td>...</td>\n",
              "      <td>...</td>\n",
              "      <td>...</td>\n",
              "      <td>...</td>\n",
              "      <td>...</td>\n",
              "      <td>...</td>\n",
              "    </tr>\n",
              "    <tr>\n",
              "      <th rowspan=\"5\" valign=\"top\">99.0</th>\n",
              "      <th>65.0</th>\n",
              "      <td>1.649198</td>\n",
              "      <td>-2.003851</td>\n",
              "      <td>-0.159256</td>\n",
              "      <td>-1.858906e+00</td>\n",
              "      <td>17.469964</td>\n",
              "      <td>12.038320</td>\n",
              "      <td>5.431645</td>\n",
              "    </tr>\n",
              "    <tr>\n",
              "      <th>66.0</th>\n",
              "      <td>-1.126524</td>\n",
              "      <td>0.339033</td>\n",
              "      <td>-1.289227</td>\n",
              "      <td>7.873358e-01</td>\n",
              "      <td>-6.428097</td>\n",
              "      <td>-3.418042</td>\n",
              "      <td>-3.010055</td>\n",
              "    </tr>\n",
              "    <tr>\n",
              "      <th>67.0</th>\n",
              "      <td>-0.284967</td>\n",
              "      <td>-0.069397</td>\n",
              "      <td>0.122534</td>\n",
              "      <td>6.150971e-04</td>\n",
              "      <td>2.204079</td>\n",
              "      <td>2.425959</td>\n",
              "      <td>-0.221881</td>\n",
              "    </tr>\n",
              "    <tr>\n",
              "      <th>68.0</th>\n",
              "      <td>2.009265</td>\n",
              "      <td>1.031159</td>\n",
              "      <td>0.586569</td>\n",
              "      <td>-6.835533e+01</td>\n",
              "      <td>-41.644954</td>\n",
              "      <td>20.900018</td>\n",
              "      <td>-62.544971</td>\n",
              "    </tr>\n",
              "    <tr>\n",
              "      <th>69.0</th>\n",
              "      <td>-0.990167</td>\n",
              "      <td>0.855247</td>\n",
              "      <td>0.362782</td>\n",
              "      <td>-1.135637e+00</td>\n",
              "      <td>-4.819279</td>\n",
              "      <td>-0.576287</td>\n",
              "      <td>-4.242992</td>\n",
              "    </tr>\n",
              "  </tbody>\n",
              "</table>\n",
              "<p>7000 rows × 7 columns</p>\n",
              "</div>"
            ],
            "text/plain": [
              "                  x1        x2        x3  ...          Y      y_hat      e_hat\n",
              "rep  index                                ...                                 \n",
              "0.0  0.0    0.507134 -0.065809  0.684101  ...  10.706028   8.279836   2.426193\n",
              "     1.0    0.710040 -0.515201  1.464146  ...  13.108611   9.234624   3.873987\n",
              "     2.0   -0.061549  0.403865  1.585548  ...   6.373922   5.693362   0.680560\n",
              "     3.0   -0.280327 -0.687356  0.425462  ...   1.935785   1.408769   0.527016\n",
              "     4.0   -1.526176 -2.362021 -0.397232  ... -12.699788 -11.035043  -1.664745\n",
              "...              ...       ...       ...  ...        ...        ...        ...\n",
              "99.0 65.0   1.649198 -2.003851 -0.159256  ...  17.469964  12.038320   5.431645\n",
              "     66.0  -1.126524  0.339033 -1.289227  ...  -6.428097  -3.418042  -3.010055\n",
              "     67.0  -0.284967 -0.069397  0.122534  ...   2.204079   2.425959  -0.221881\n",
              "     68.0   2.009265  1.031159  0.586569  ... -41.644954  20.900018 -62.544971\n",
              "     69.0  -0.990167  0.855247  0.362782  ...  -4.819279  -0.576287  -4.242992\n",
              "\n",
              "[7000 rows x 7 columns]"
            ]
          },
          "metadata": {},
          "execution_count": 27
        }
      ]
    },
    {
      "cell_type": "code",
      "metadata": {
        "colab": {
          "base_uri": "https://localhost:8080/",
          "height": 17
        },
        "id": "ER6hA67Qdzac",
        "outputId": "f8654750-3b41-4efd-a5d1-7bc1c47dbd5a"
      },
      "source": [
        "table_data_new.to_csv('sampling_100rep_n70_x6_norm_sas.csv')\n",
        "files.download('sampling_100rep_n70_x6_norm_sas.csv')"
      ],
      "execution_count": 28,
      "outputs": [
        {
          "output_type": "display_data",
          "data": {
            "application/javascript": [
              "\n",
              "    async function download(id, filename, size) {\n",
              "      if (!google.colab.kernel.accessAllowed) {\n",
              "        return;\n",
              "      }\n",
              "      const div = document.createElement('div');\n",
              "      const label = document.createElement('label');\n",
              "      label.textContent = `Downloading \"${filename}\": `;\n",
              "      div.appendChild(label);\n",
              "      const progress = document.createElement('progress');\n",
              "      progress.max = size;\n",
              "      div.appendChild(progress);\n",
              "      document.body.appendChild(div);\n",
              "\n",
              "      const buffers = [];\n",
              "      let downloaded = 0;\n",
              "\n",
              "      const channel = await google.colab.kernel.comms.open(id);\n",
              "      // Send a message to notify the kernel that we're ready.\n",
              "      channel.send({})\n",
              "\n",
              "      for await (const message of channel.messages) {\n",
              "        // Send a message to notify the kernel that we're ready.\n",
              "        channel.send({})\n",
              "        if (message.buffers) {\n",
              "          for (const buffer of message.buffers) {\n",
              "            buffers.push(buffer);\n",
              "            downloaded += buffer.byteLength;\n",
              "            progress.value = downloaded;\n",
              "          }\n",
              "        }\n",
              "      }\n",
              "      const blob = new Blob(buffers, {type: 'application/binary'});\n",
              "      const a = document.createElement('a');\n",
              "      a.href = window.URL.createObjectURL(blob);\n",
              "      a.download = filename;\n",
              "      div.appendChild(a);\n",
              "      a.click();\n",
              "      div.remove();\n",
              "    }\n",
              "  "
            ],
            "text/plain": [
              "<IPython.core.display.Javascript object>"
            ]
          },
          "metadata": {}
        },
        {
          "output_type": "display_data",
          "data": {
            "application/javascript": [
              "download(\"download_b9c06f5c-21e6-4f1a-9796-28a6526669a8\", \"sampling_100rep_n70_x6_norm_sas.csv\", 1022793)"
            ],
            "text/plain": [
              "<IPython.core.display.Javascript object>"
            ]
          },
          "metadata": {}
        }
      ]
    },
    {
      "cell_type": "code",
      "metadata": {
        "colab": {
          "base_uri": "https://localhost:8080/",
          "height": 1000
        },
        "id": "Mlely9YGdzVe",
        "outputId": "7124f8ca-0ce3-452a-8b5a-fcd5b9ef9cc8"
      },
      "source": [
        "table_data_new.plot(x ='y_hat', y='e_hat', kind = 'scatter')\n",
        "table_data_new.plot(x ='x1', y='e_hat', kind = 'scatter')\n",
        "table_data_new.plot(x ='x2', y='e_hat', kind = 'scatter')\n",
        "table_data_new.plot(x ='x3', y='e_hat', kind = 'scatter')"
      ],
      "execution_count": null,
      "outputs": [
        {
          "output_type": "execute_result",
          "data": {
            "text/plain": [
              "<matplotlib.axes._subplots.AxesSubplot at 0x7f98f062cad0>"
            ]
          },
          "metadata": {},
          "execution_count": 41
        },
        {
          "output_type": "display_data",
          "data": {
            "image/png": "[encoded data removed]",
            "text/plain": [
              "<Figure size 432x288 with 1 Axes>"
            ]
          },
          "metadata": {
            "needs_background": "light"
          }
        },
        {
          "output_type": "display_data",
          "data": {
            "image/png": "[encoded data removed]",
            "text/plain": [
              "<Figure size 432x288 with 1 Axes>"
            ]
          },
          "metadata": {
            "needs_background": "light"
          }
        },
        {
          "output_type": "display_data",
          "data": {
            "image/png": "[encoded data removed]",
            "text/plain": [
              "<Figure size 432x288 with 1 Axes>"
            ]
          },
          "metadata": {
            "needs_background": "light"
          }
        },
        {
          "output_type": "display_data",
          "data": {
            "image/png": "[encoded data removed]",
            "text/plain": [
              "<Figure size 432x288 with 1 Axes>"
            ]
          },
          "metadata": {
            "needs_background": "light"
          }
        }
      ]
    }
  ]
}