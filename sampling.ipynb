{
  "nbformat": 4,
  "nbformat_minor": 0,
  "metadata": {
    "colab": {
      "name": "sampling.ipynb",
      "provenance": [],
      "authorship_tag": "ABX9TyMPr0kLYll/LdDJr2l2cbpm",
      "include_colab_link": true
    },
    "kernelspec": {
      "name": "python3",
      "display_name": "Python 3"
    },
    "language_info": {
      "name": "python"
    }
  },
  "cells": [
    {
      "cell_type": "markdown",
      "metadata": {
        "id": "view-in-github",
        "colab_type": "text"
      },
      "source": [
        "<a href=\"https://colab.research.google.com/github/iam-fern/Research/blob/main/sampling.ipynb\" target=\"_parent\"><img src=\"https://colab.research.google.com/assets/colab-badge.svg\" alt=\"Open In Colab\"/></a>"
      ]
    },
    {
      "cell_type": "code",
      "metadata": {
        "id": "u2JjK3zU_KLy"
      },
      "source": [
        "import pandas as pd\n",
        "import numpy as np\n",
        "import matplotlib.pyplot as plt\n",
        "from scipy.stats import norm\n",
        "from numpy.random import normal\n",
        "import statistics"
      ],
      "execution_count": 1,
      "outputs": []
    },
    {
      "cell_type": "code",
      "metadata": {
        "colab": {
          "base_uri": "https://localhost:8080/",
          "height": 417
        },
        "id": "MM0orFGA_aKW",
        "outputId": "90977d84-0461-4496-cb68-adf155586325"
      },
      "source": [
        "# numpy.random.normal(loc=0.0, scale=1.0, size=None)\n",
        "# generate sample of 200 values that follow a normal distribution \n",
        "# data = normal(loc=0, scale=1, size=200)\n",
        "\n",
        "data = pd.DataFrame({\"zt1\" : normal(0, 1, 50000),\n",
        "                     \"zt2\" : normal(0, 1, 50000),\n",
        "                     \"zt3\" : normal(0, 1, 50000)})\n",
        "data"
      ],
      "execution_count": 2,
      "outputs": [
        {
          "output_type": "execute_result",
          "data": {
            "text/html": [
              "<div>\n",
              "<style scoped>\n",
              "    .dataframe tbody tr th:only-of-type {\n",
              "        vertical-align: middle;\n",
              "    }\n",
              "\n",
              "    .dataframe tbody tr th {\n",
              "        vertical-align: top;\n",
              "    }\n",
              "\n",
              "    .dataframe thead th {\n",
              "        text-align: right;\n",
              "    }\n",
              "</style>\n",
              "<table border=\"1\" class=\"dataframe\">\n",
              "  <thead>\n",
              "    <tr style=\"text-align: right;\">\n",
              "      <th></th>\n",
              "      <th>zt1</th>\n",
              "      <th>zt2</th>\n",
              "      <th>zt3</th>\n",
              "    </tr>\n",
              "  </thead>\n",
              "  <tbody>\n",
              "    <tr>\n",
              "      <th>0</th>\n",
              "      <td>-2.005073</td>\n",
              "      <td>-0.203547</td>\n",
              "      <td>0.617439</td>\n",
              "    </tr>\n",
              "    <tr>\n",
              "      <th>1</th>\n",
              "      <td>0.918295</td>\n",
              "      <td>-1.793795</td>\n",
              "      <td>-0.377744</td>\n",
              "    </tr>\n",
              "    <tr>\n",
              "      <th>2</th>\n",
              "      <td>-0.194145</td>\n",
              "      <td>-0.727529</td>\n",
              "      <td>-1.577537</td>\n",
              "    </tr>\n",
              "    <tr>\n",
              "      <th>3</th>\n",
              "      <td>-3.060258</td>\n",
              "      <td>-1.161201</td>\n",
              "      <td>0.262332</td>\n",
              "    </tr>\n",
              "    <tr>\n",
              "      <th>4</th>\n",
              "      <td>0.006766</td>\n",
              "      <td>0.574295</td>\n",
              "      <td>1.226167</td>\n",
              "    </tr>\n",
              "    <tr>\n",
              "      <th>...</th>\n",
              "      <td>...</td>\n",
              "      <td>...</td>\n",
              "      <td>...</td>\n",
              "    </tr>\n",
              "    <tr>\n",
              "      <th>49995</th>\n",
              "      <td>-0.308681</td>\n",
              "      <td>1.001630</td>\n",
              "      <td>0.471727</td>\n",
              "    </tr>\n",
              "    <tr>\n",
              "      <th>49996</th>\n",
              "      <td>-1.052966</td>\n",
              "      <td>-0.640556</td>\n",
              "      <td>0.236281</td>\n",
              "    </tr>\n",
              "    <tr>\n",
              "      <th>49997</th>\n",
              "      <td>0.291670</td>\n",
              "      <td>-0.442086</td>\n",
              "      <td>-0.792962</td>\n",
              "    </tr>\n",
              "    <tr>\n",
              "      <th>49998</th>\n",
              "      <td>-1.053921</td>\n",
              "      <td>0.456579</td>\n",
              "      <td>-1.811613</td>\n",
              "    </tr>\n",
              "    <tr>\n",
              "      <th>49999</th>\n",
              "      <td>-1.390969</td>\n",
              "      <td>-0.711202</td>\n",
              "      <td>-1.045871</td>\n",
              "    </tr>\n",
              "  </tbody>\n",
              "</table>\n",
              "<p>50000 rows × 3 columns</p>\n",
              "</div>"
            ],
            "text/plain": [
              "            zt1       zt2       zt3\n",
              "0     -2.005073 -0.203547  0.617439\n",
              "1      0.918295 -1.793795 -0.377744\n",
              "2     -0.194145 -0.727529 -1.577537\n",
              "3     -3.060258 -1.161201  0.262332\n",
              "4      0.006766  0.574295  1.226167\n",
              "...         ...       ...       ...\n",
              "49995 -0.308681  1.001630  0.471727\n",
              "49996 -1.052966 -0.640556  0.236281\n",
              "49997  0.291670 -0.442086 -0.792962\n",
              "49998 -1.053921  0.456579 -1.811613\n",
              "49999 -1.390969 -0.711202 -1.045871\n",
              "\n",
              "[50000 rows x 3 columns]"
            ]
          },
          "metadata": {},
          "execution_count": 2
        }
      ]
    },
    {
      "cell_type": "code",
      "metadata": {
        "colab": {
          "base_uri": "https://localhost:8080/",
          "height": 447
        },
        "id": "AgpNlPCmwy8z",
        "outputId": "cc41b1df-c6b5-425b-93a2-696c127e815a"
      },
      "source": [
        "n=50\n",
        "rep=0\n",
        "table_data_all=pd.DataFrame({\"rep\":[]})\n",
        "data_copy=data.copy()\n",
        "while not data_copy.empty:\n",
        "    #=========================\n",
        "    if data_copy.shape[0]>n:\n",
        "        index=data_copy.sample(n).index\n",
        "        data_new=data_copy.loc[index,:]\n",
        "        data_copy=data_copy.drop(index)\n",
        "    else:\n",
        "        data_new=data_copy.copy()\n",
        "        data_copy=pd.DataFrame({\"\":[]})\n",
        "    #=========================\n",
        "    p = 0\n",
        "\n",
        "    Zt1 = data_new['zt1']\n",
        "    Zt2 = data_new['zt2']\n",
        "    Zt3 = data_new['zt3']\n",
        "\n",
        "    xt1 = (1-(p**2))**(1/2)*Zt1\n",
        "    xt2 = (1-(p**2))**(1/2)*Zt2\n",
        "    xt3 = (1-(p**2))**(1/2)*Zt3\n",
        "\n",
        "    new_data = pd.DataFrame({'Xt1' : data_new['zt1'],\n",
        "                            'Xt2' : data_new['zt2'],\n",
        "                            'Xt3' : data_new['zt3'],\n",
        "                            'e'   : normal(0, xt2**4, n)})\n",
        "\n",
        "\n",
        "    table_data = pd.DataFrame({'Xt1' : data_new['zt1'],\n",
        "                            'Xt2' : data_new['zt2'],\n",
        "                            'Xt3' : data_new['zt3'],\n",
        "                            'e'   : new_data['e']})\n",
        "    table_data['Y'] = 4+0.4*table_data['Xt1']+1.5*table_data['Xt2']+3.6*table_data['Xt3']+table_data['e']\n",
        "    table_data['Y_hat'] = 4+0.4*table_data['Xt1']+1.5*table_data['Xt2']+3.6*table_data['Xt3']\n",
        "    table_data['e_hat']=table_data['Y']-table_data['Y_hat']\n",
        "    table_data=table_data.reset_index(drop=True).reset_index()\n",
        "    table_data[\"rep\"]=rep\n",
        "    table_data_all=pd.concat([table_data_all,table_data],axis=0,ignore_index=True,sort=False)\n",
        "    # display(table_data)\n",
        "    rep+=1\n",
        "    if rep==100:\n",
        "      break\n",
        "table_data_all=table_data_all.set_index([\"rep\",\"index\"])\n",
        "table_data_all"
      ],
      "execution_count": 3,
      "outputs": [
        {
          "output_type": "execute_result",
          "data": {
            "text/html": [
              "<div>\n",
              "<style scoped>\n",
              "    .dataframe tbody tr th:only-of-type {\n",
              "        vertical-align: middle;\n",
              "    }\n",
              "\n",
              "    .dataframe tbody tr th {\n",
              "        vertical-align: top;\n",
              "    }\n",
              "\n",
              "    .dataframe thead th {\n",
              "        text-align: right;\n",
              "    }\n",
              "</style>\n",
              "<table border=\"1\" class=\"dataframe\">\n",
              "  <thead>\n",
              "    <tr style=\"text-align: right;\">\n",
              "      <th></th>\n",
              "      <th></th>\n",
              "      <th>Xt1</th>\n",
              "      <th>Xt2</th>\n",
              "      <th>Xt3</th>\n",
              "      <th>e</th>\n",
              "      <th>Y</th>\n",
              "      <th>Y_hat</th>\n",
              "      <th>e_hat</th>\n",
              "    </tr>\n",
              "    <tr>\n",
              "      <th>rep</th>\n",
              "      <th>index</th>\n",
              "      <th></th>\n",
              "      <th></th>\n",
              "      <th></th>\n",
              "      <th></th>\n",
              "      <th></th>\n",
              "      <th></th>\n",
              "      <th></th>\n",
              "    </tr>\n",
              "  </thead>\n",
              "  <tbody>\n",
              "    <tr>\n",
              "      <th rowspan=\"5\" valign=\"top\">0.0</th>\n",
              "      <th>0.0</th>\n",
              "      <td>-0.920781</td>\n",
              "      <td>0.775377</td>\n",
              "      <td>-1.200653</td>\n",
              "      <td>-5.561607e-02</td>\n",
              "      <td>0.416787</td>\n",
              "      <td>0.472403</td>\n",
              "      <td>-5.561607e-02</td>\n",
              "    </tr>\n",
              "    <tr>\n",
              "      <th>1.0</th>\n",
              "      <td>-0.927742</td>\n",
              "      <td>-1.915970</td>\n",
              "      <td>1.160981</td>\n",
              "      <td>-8.649064e-01</td>\n",
              "      <td>4.069575</td>\n",
              "      <td>4.934481</td>\n",
              "      <td>-8.649064e-01</td>\n",
              "    </tr>\n",
              "    <tr>\n",
              "      <th>2.0</th>\n",
              "      <td>0.024565</td>\n",
              "      <td>0.018444</td>\n",
              "      <td>-2.330386</td>\n",
              "      <td>-1.168108e-07</td>\n",
              "      <td>-4.351897</td>\n",
              "      <td>-4.351896</td>\n",
              "      <td>-1.168108e-07</td>\n",
              "    </tr>\n",
              "    <tr>\n",
              "      <th>3.0</th>\n",
              "      <td>0.269250</td>\n",
              "      <td>0.768119</td>\n",
              "      <td>-1.245741</td>\n",
              "      <td>2.718470e-01</td>\n",
              "      <td>1.047058</td>\n",
              "      <td>0.775211</td>\n",
              "      <td>2.718470e-01</td>\n",
              "    </tr>\n",
              "    <tr>\n",
              "      <th>4.0</th>\n",
              "      <td>-1.783111</td>\n",
              "      <td>0.672587</td>\n",
              "      <td>-0.142583</td>\n",
              "      <td>1.778093e-01</td>\n",
              "      <td>3.960146</td>\n",
              "      <td>3.782336</td>\n",
              "      <td>1.778093e-01</td>\n",
              "    </tr>\n",
              "    <tr>\n",
              "      <th>...</th>\n",
              "      <th>...</th>\n",
              "      <td>...</td>\n",
              "      <td>...</td>\n",
              "      <td>...</td>\n",
              "      <td>...</td>\n",
              "      <td>...</td>\n",
              "      <td>...</td>\n",
              "      <td>...</td>\n",
              "    </tr>\n",
              "    <tr>\n",
              "      <th rowspan=\"5\" valign=\"top\">99.0</th>\n",
              "      <th>45.0</th>\n",
              "      <td>-1.544090</td>\n",
              "      <td>0.338769</td>\n",
              "      <td>0.884791</td>\n",
              "      <td>1.914774e-03</td>\n",
              "      <td>7.077680</td>\n",
              "      <td>7.075765</td>\n",
              "      <td>1.914774e-03</td>\n",
              "    </tr>\n",
              "    <tr>\n",
              "      <th>46.0</th>\n",
              "      <td>0.097212</td>\n",
              "      <td>1.801459</td>\n",
              "      <td>-2.185591</td>\n",
              "      <td>-8.001700e-01</td>\n",
              "      <td>-1.927225</td>\n",
              "      <td>-1.127055</td>\n",
              "      <td>-8.001700e-01</td>\n",
              "    </tr>\n",
              "    <tr>\n",
              "      <th>47.0</th>\n",
              "      <td>-1.413559</td>\n",
              "      <td>-1.415439</td>\n",
              "      <td>1.012036</td>\n",
              "      <td>3.092334e+00</td>\n",
              "      <td>8.047081</td>\n",
              "      <td>4.954747</td>\n",
              "      <td>3.092334e+00</td>\n",
              "    </tr>\n",
              "    <tr>\n",
              "      <th>48.0</th>\n",
              "      <td>-0.572673</td>\n",
              "      <td>0.860969</td>\n",
              "      <td>2.111145</td>\n",
              "      <td>2.173296e-01</td>\n",
              "      <td>12.879838</td>\n",
              "      <td>12.662508</td>\n",
              "      <td>2.173296e-01</td>\n",
              "    </tr>\n",
              "    <tr>\n",
              "      <th>49.0</th>\n",
              "      <td>-0.011632</td>\n",
              "      <td>-1.103908</td>\n",
              "      <td>-0.077539</td>\n",
              "      <td>1.965148e+00</td>\n",
              "      <td>4.025494</td>\n",
              "      <td>2.060346</td>\n",
              "      <td>1.965148e+00</td>\n",
              "    </tr>\n",
              "  </tbody>\n",
              "</table>\n",
              "<p>5000 rows × 7 columns</p>\n",
              "</div>"
            ],
            "text/plain": [
              "                 Xt1       Xt2       Xt3  ...          Y      Y_hat         e_hat\n",
              "rep  index                                ...                                    \n",
              "0.0  0.0   -0.920781  0.775377 -1.200653  ...   0.416787   0.472403 -5.561607e-02\n",
              "     1.0   -0.927742 -1.915970  1.160981  ...   4.069575   4.934481 -8.649064e-01\n",
              "     2.0    0.024565  0.018444 -2.330386  ...  -4.351897  -4.351896 -1.168108e-07\n",
              "     3.0    0.269250  0.768119 -1.245741  ...   1.047058   0.775211  2.718470e-01\n",
              "     4.0   -1.783111  0.672587 -0.142583  ...   3.960146   3.782336  1.778093e-01\n",
              "...              ...       ...       ...  ...        ...        ...           ...\n",
              "99.0 45.0  -1.544090  0.338769  0.884791  ...   7.077680   7.075765  1.914774e-03\n",
              "     46.0   0.097212  1.801459 -2.185591  ...  -1.927225  -1.127055 -8.001700e-01\n",
              "     47.0  -1.413559 -1.415439  1.012036  ...   8.047081   4.954747  3.092334e+00\n",
              "     48.0  -0.572673  0.860969  2.111145  ...  12.879838  12.662508  2.173296e-01\n",
              "     49.0  -0.011632 -1.103908 -0.077539  ...   4.025494   2.060346  1.965148e+00\n",
              "\n",
              "[5000 rows x 7 columns]"
            ]
          },
          "metadata": {},
          "execution_count": 3
        }
      ]
    },
    {
      "cell_type": "code",
      "metadata": {
        "colab": {
          "base_uri": "https://localhost:8080/"
        },
        "id": "wj0qJL-2zFLl",
        "outputId": "18fbd334-d0d8-4448-bac8-4e924fba665c"
      },
      "source": [
        "table_data_all.mean()"
      ],
      "execution_count": 4,
      "outputs": [
        {
          "output_type": "execute_result",
          "data": {
            "text/plain": [
              "Xt1      0.007411\n",
              "Xt2      0.006143\n",
              "Xt3     -0.005766\n",
              "e        0.074232\n",
              "Y        4.065654\n",
              "Y_hat    3.991423\n",
              "e_hat    0.074232\n",
              "dtype: float64"
            ]
          },
          "metadata": {},
          "execution_count": 4
        }
      ]
    },
    {
      "cell_type": "code",
      "metadata": {
        "colab": {
          "base_uri": "https://localhost:8080/"
        },
        "id": "5a__a11UzNBi",
        "outputId": "e14eb86a-04b4-4a46-8749-44082c3ee9d0"
      },
      "source": [
        "table_data_all.var()"
      ],
      "execution_count": 5,
      "outputs": [
        {
          "output_type": "execute_result",
          "data": {
            "text/plain": [
              "Xt1       1.014480\n",
              "Xt2       0.999759\n",
              "Xt3       0.989582\n",
              "e        64.739026\n",
              "Y        80.271161\n",
              "Y_hat    15.007986\n",
              "e_hat    64.739026\n",
              "dtype: float64"
            ]
          },
          "metadata": {},
          "execution_count": 5
        }
      ]
    },
    {
      "cell_type": "code",
      "metadata": {
        "colab": {
          "base_uri": "https://localhost:8080/",
          "height": 265
        },
        "id": "e4xHSD9VzTha",
        "outputId": "31d88851-ea88-4d97-dc1a-c655bf02a720"
      },
      "source": [
        "# Compute pairwise correlation of columns, excluding NA/null values.\n",
        "table_data_all.corr()"
      ],
      "execution_count": 6,
      "outputs": [
        {
          "output_type": "execute_result",
          "data": {
            "text/html": [
              "<div>\n",
              "<style scoped>\n",
              "    .dataframe tbody tr th:only-of-type {\n",
              "        vertical-align: middle;\n",
              "    }\n",
              "\n",
              "    .dataframe tbody tr th {\n",
              "        vertical-align: top;\n",
              "    }\n",
              "\n",
              "    .dataframe thead th {\n",
              "        text-align: right;\n",
              "    }\n",
              "</style>\n",
              "<table border=\"1\" class=\"dataframe\">\n",
              "  <thead>\n",
              "    <tr style=\"text-align: right;\">\n",
              "      <th></th>\n",
              "      <th>Xt1</th>\n",
              "      <th>Xt2</th>\n",
              "      <th>Xt3</th>\n",
              "      <th>e</th>\n",
              "      <th>Y</th>\n",
              "      <th>Y_hat</th>\n",
              "      <th>e_hat</th>\n",
              "    </tr>\n",
              "  </thead>\n",
              "  <tbody>\n",
              "    <tr>\n",
              "      <th>Xt1</th>\n",
              "      <td>1.000000</td>\n",
              "      <td>-0.003814</td>\n",
              "      <td>-0.006560</td>\n",
              "      <td>-0.036172</td>\n",
              "      <td>0.009223</td>\n",
              "      <td>0.096456</td>\n",
              "      <td>-0.036172</td>\n",
              "    </tr>\n",
              "    <tr>\n",
              "      <th>Xt2</th>\n",
              "      <td>-0.003814</td>\n",
              "      <td>1.000000</td>\n",
              "      <td>-0.019106</td>\n",
              "      <td>-0.002217</td>\n",
              "      <td>0.157602</td>\n",
              "      <td>0.369090</td>\n",
              "      <td>-0.002217</td>\n",
              "    </tr>\n",
              "    <tr>\n",
              "      <th>Xt3</th>\n",
              "      <td>-0.006560</td>\n",
              "      <td>-0.019106</td>\n",
              "      <td>1.000000</td>\n",
              "      <td>0.014093</td>\n",
              "      <td>0.408877</td>\n",
              "      <td>0.916337</td>\n",
              "      <td>0.014093</td>\n",
              "    </tr>\n",
              "    <tr>\n",
              "      <th>e</th>\n",
              "      <td>-0.036172</td>\n",
              "      <td>-0.002217</td>\n",
              "      <td>0.014093</td>\n",
              "      <td>1.000000</td>\n",
              "      <td>0.901691</td>\n",
              "      <td>0.008408</td>\n",
              "      <td>1.000000</td>\n",
              "    </tr>\n",
              "    <tr>\n",
              "      <th>Y</th>\n",
              "      <td>0.009223</td>\n",
              "      <td>0.157602</td>\n",
              "      <td>0.408877</td>\n",
              "      <td>0.901691</td>\n",
              "      <td>1.000000</td>\n",
              "      <td>0.439946</td>\n",
              "      <td>0.901691</td>\n",
              "    </tr>\n",
              "    <tr>\n",
              "      <th>Y_hat</th>\n",
              "      <td>0.096456</td>\n",
              "      <td>0.369090</td>\n",
              "      <td>0.916337</td>\n",
              "      <td>0.008408</td>\n",
              "      <td>0.439946</td>\n",
              "      <td>1.000000</td>\n",
              "      <td>0.008408</td>\n",
              "    </tr>\n",
              "    <tr>\n",
              "      <th>e_hat</th>\n",
              "      <td>-0.036172</td>\n",
              "      <td>-0.002217</td>\n",
              "      <td>0.014093</td>\n",
              "      <td>1.000000</td>\n",
              "      <td>0.901691</td>\n",
              "      <td>0.008408</td>\n",
              "      <td>1.000000</td>\n",
              "    </tr>\n",
              "  </tbody>\n",
              "</table>\n",
              "</div>"
            ],
            "text/plain": [
              "            Xt1       Xt2       Xt3         e         Y     Y_hat     e_hat\n",
              "Xt1    1.000000 -0.003814 -0.006560 -0.036172  0.009223  0.096456 -0.036172\n",
              "Xt2   -0.003814  1.000000 -0.019106 -0.002217  0.157602  0.369090 -0.002217\n",
              "Xt3   -0.006560 -0.019106  1.000000  0.014093  0.408877  0.916337  0.014093\n",
              "e     -0.036172 -0.002217  0.014093  1.000000  0.901691  0.008408  1.000000\n",
              "Y      0.009223  0.157602  0.408877  0.901691  1.000000  0.439946  0.901691\n",
              "Y_hat  0.096456  0.369090  0.916337  0.008408  0.439946  1.000000  0.008408\n",
              "e_hat -0.036172 -0.002217  0.014093  1.000000  0.901691  0.008408  1.000000"
            ]
          },
          "metadata": {},
          "execution_count": 6
        }
      ]
    },
    {
      "cell_type": "code",
      "metadata": {
        "id": "lOnagmZy1qUu",
        "outputId": "28356d6c-3281-4cac-cc77-4eb751310352",
        "colab": {
          "base_uri": "https://localhost:8080/",
          "height": 559
        }
      },
      "source": [
        "table_data_all.plot(x ='Y_hat', y='e_hat', kind = 'scatter')\n",
        "table_data_all.plot(x ='Xt1', y='e_hat', kind = 'scatter')"
      ],
      "execution_count": 7,
      "outputs": [
        {
          "output_type": "execute_result",
          "data": {
            "text/plain": [
              "<matplotlib.axes._subplots.AxesSubplot at 0x7f66fba7ff90>"
            ]
          },
          "metadata": {},
          "execution_count": 7
        },
        {
          "output_type": "display_data",
          "data": {
            "image/png": "[encoded data removed]",
            "text/plain": [
              "<Figure size 432x288 with 1 Axes>"
            ]
          },
          "metadata": {
            "needs_background": "light"
          }
        },
        {
          "output_type": "display_data",
          "data": {
            "image/png": "[encoded data removed]",
            "text/plain": [
              "<Figure size 432x288 with 1 Axes>"
            ]
          },
          "metadata": {
            "needs_background": "light"
          }
        }
      ]
    }
  ]
}