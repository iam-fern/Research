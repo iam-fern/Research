{
  "nbformat": 4,
  "nbformat_minor": 0,
  "metadata": {
    "colab": {
      "name": "sampling.ipynb",
      "provenance": [],
      "authorship_tag": "ABX9TyPogguOKrJe7ru53hmf/gDx",
      "include_colab_link": true
    },
    "kernelspec": {
      "name": "python3",
      "display_name": "Python 3"
    },
    "language_info": {
      "name": "python"
    }
  },
  "cells": [
    {
      "cell_type": "markdown",
      "metadata": {
        "id": "view-in-github",
        "colab_type": "text"
      },
      "source": [
        "<a href=\"https://colab.research.google.com/github/iam-fern/Research/blob/main/sampling.ipynb\" target=\"_parent\"><img src=\"https://colab.research.google.com/assets/colab-badge.svg\" alt=\"Open In Colab\"/></a>"
      ]
    },
    {
      "cell_type": "code",
      "metadata": {
        "id": "u2JjK3zU_KLy"
      },
      "source": [
        "import pandas as pd\n",
        "import numpy as np\n",
        "import matplotlib.pyplot as plt\n",
        "from scipy.stats import norm\n",
        "from numpy.random import normal\n",
        "import statistics"
      ],
      "execution_count": 10,
      "outputs": []
    },
    {
      "cell_type": "code",
      "metadata": {
        "colab": {
          "base_uri": "https://localhost:8080/",
          "height": 417
        },
        "id": "MM0orFGA_aKW",
        "outputId": "d591a8a0-a4f5-4190-e7b9-227b4a308927"
      },
      "source": [
        "# numpy.random.normal(loc=0.0, scale=1.0, size=None)\n",
        "# generate sample of 200 values that follow a normal distribution \n",
        "# data = normal(loc=0, scale=1, size=200)\n",
        "\n",
        "data = pd.DataFrame({\"zt1\" : normal(0, 1, 50000),\n",
        "                     \"zt2\" : normal(0, 1, 50000),\n",
        "                     \"zt3\" : normal(0, 1, 50000)})\n",
        "data"
      ],
      "execution_count": 11,
      "outputs": [
        {
          "output_type": "execute_result",
          "data": {
            "text/html": [
              "<div>\n",
              "<style scoped>\n",
              "    .dataframe tbody tr th:only-of-type {\n",
              "        vertical-align: middle;\n",
              "    }\n",
              "\n",
              "    .dataframe tbody tr th {\n",
              "        vertical-align: top;\n",
              "    }\n",
              "\n",
              "    .dataframe thead th {\n",
              "        text-align: right;\n",
              "    }\n",
              "</style>\n",
              "<table border=\"1\" class=\"dataframe\">\n",
              "  <thead>\n",
              "    <tr style=\"text-align: right;\">\n",
              "      <th></th>\n",
              "      <th>zt1</th>\n",
              "      <th>zt2</th>\n",
              "      <th>zt3</th>\n",
              "    </tr>\n",
              "  </thead>\n",
              "  <tbody>\n",
              "    <tr>\n",
              "      <th>0</th>\n",
              "      <td>-0.449590</td>\n",
              "      <td>-0.090294</td>\n",
              "      <td>-1.339090</td>\n",
              "    </tr>\n",
              "    <tr>\n",
              "      <th>1</th>\n",
              "      <td>0.231038</td>\n",
              "      <td>0.039148</td>\n",
              "      <td>-0.325187</td>\n",
              "    </tr>\n",
              "    <tr>\n",
              "      <th>2</th>\n",
              "      <td>-1.087199</td>\n",
              "      <td>-0.433799</td>\n",
              "      <td>1.466255</td>\n",
              "    </tr>\n",
              "    <tr>\n",
              "      <th>3</th>\n",
              "      <td>-0.158938</td>\n",
              "      <td>0.030792</td>\n",
              "      <td>1.030700</td>\n",
              "    </tr>\n",
              "    <tr>\n",
              "      <th>4</th>\n",
              "      <td>-0.350858</td>\n",
              "      <td>-0.488113</td>\n",
              "      <td>-0.124978</td>\n",
              "    </tr>\n",
              "    <tr>\n",
              "      <th>...</th>\n",
              "      <td>...</td>\n",
              "      <td>...</td>\n",
              "      <td>...</td>\n",
              "    </tr>\n",
              "    <tr>\n",
              "      <th>49995</th>\n",
              "      <td>-1.677711</td>\n",
              "      <td>-1.246355</td>\n",
              "      <td>-0.714757</td>\n",
              "    </tr>\n",
              "    <tr>\n",
              "      <th>49996</th>\n",
              "      <td>0.555491</td>\n",
              "      <td>0.464993</td>\n",
              "      <td>-0.682418</td>\n",
              "    </tr>\n",
              "    <tr>\n",
              "      <th>49997</th>\n",
              "      <td>0.471119</td>\n",
              "      <td>0.399116</td>\n",
              "      <td>-1.698961</td>\n",
              "    </tr>\n",
              "    <tr>\n",
              "      <th>49998</th>\n",
              "      <td>-0.768154</td>\n",
              "      <td>-0.227787</td>\n",
              "      <td>-0.534473</td>\n",
              "    </tr>\n",
              "    <tr>\n",
              "      <th>49999</th>\n",
              "      <td>-0.292081</td>\n",
              "      <td>-0.950707</td>\n",
              "      <td>1.009548</td>\n",
              "    </tr>\n",
              "  </tbody>\n",
              "</table>\n",
              "<p>50000 rows × 3 columns</p>\n",
              "</div>"
            ],
            "text/plain": [
              "            zt1       zt2       zt3\n",
              "0     -0.449590 -0.090294 -1.339090\n",
              "1      0.231038  0.039148 -0.325187\n",
              "2     -1.087199 -0.433799  1.466255\n",
              "3     -0.158938  0.030792  1.030700\n",
              "4     -0.350858 -0.488113 -0.124978\n",
              "...         ...       ...       ...\n",
              "49995 -1.677711 -1.246355 -0.714757\n",
              "49996  0.555491  0.464993 -0.682418\n",
              "49997  0.471119  0.399116 -1.698961\n",
              "49998 -0.768154 -0.227787 -0.534473\n",
              "49999 -0.292081 -0.950707  1.009548\n",
              "\n",
              "[50000 rows x 3 columns]"
            ]
          },
          "metadata": {},
          "execution_count": 11
        }
      ]
    },
    {
      "cell_type": "code",
      "metadata": {
        "colab": {
          "base_uri": "https://localhost:8080/",
          "height": 447
        },
        "id": "AgpNlPCmwy8z",
        "outputId": "d2b1ba6e-c892-4385-9802-6b13c10ae2d7"
      },
      "source": [
        "n=50\n",
        "rep=1\n",
        "table_data_all=pd.DataFrame({\"rep\":[]})\n",
        "data_copy=data.copy()\n",
        "while not data_copy.empty:\n",
        "    #=========================\n",
        "    if data_copy.shape[0]>n:\n",
        "        index=data_copy.sample(n).index\n",
        "        data_new=data_copy.loc[index,:]\n",
        "        data_copy=data_copy.drop(index)\n",
        "    else:\n",
        "        data_new=data_copy.copy()\n",
        "        data_copy=pd.DataFrame({\"\":[]})\n",
        "    #=========================\n",
        "    p = 0\n",
        "\n",
        "    Zt1 = data_new['zt1']\n",
        "    Zt2 = data_new['zt2']\n",
        "    Zt3 = data_new['zt3']\n",
        "\n",
        "    xt1 = (1-(p**2))**(1/2)*Zt1\n",
        "    xt2 = (1-(p**2))**(1/2)*Zt2\n",
        "    xt3 = (1-(p**2))**(1/2)*Zt3\n",
        "\n",
        "    new_data = pd.DataFrame({'Xt1' : data_new['zt1'],\n",
        "                             'Xt2' : data_new['zt2'],\n",
        "                             'Xt3' : data_new['zt3'],\n",
        "                             'e'   : normal(0, xt2**4, n)})\n",
        "\n",
        "\n",
        "    table_data = pd.DataFrame({'Xt1' : data_new['zt1'],\n",
        "                               'Xt2' : data_new['zt2'],\n",
        "                               'Xt3' : data_new['zt3'],\n",
        "                               'e'   : new_data['e']})\n",
        "    table_data['Y'] = 4+0.4*table_data['Xt1']+1.5*table_data['Xt2']+3.6*table_data['Xt3']+table_data['e']\n",
        "    table_data['Y_hat'] = 4+0.4*table_data['Xt1']+1.5*table_data['Xt2']+3.6*table_data['Xt3']\n",
        "    table_data['e_hat']=table_data['Y']-table_data['Y_hat']\n",
        "    table_data=table_data.reset_index(drop=True).reset_index()\n",
        "    table_data[\"rep\"]=rep\n",
        "    table_data_all=pd.concat([table_data_all,table_data],axis=0,ignore_index=True,sort=False)\n",
        "    # display(table_data)\n",
        "    rep+=1\n",
        "    if rep==100:\n",
        "      break\n",
        "table_data_all=table_data_all.set_index([\"rep\",\"index\"])\n",
        "table_data_all"
      ],
      "execution_count": 13,
      "outputs": [
        {
          "output_type": "execute_result",
          "data": {
            "text/html": [
              "<div>\n",
              "<style scoped>\n",
              "    .dataframe tbody tr th:only-of-type {\n",
              "        vertical-align: middle;\n",
              "    }\n",
              "\n",
              "    .dataframe tbody tr th {\n",
              "        vertical-align: top;\n",
              "    }\n",
              "\n",
              "    .dataframe thead th {\n",
              "        text-align: right;\n",
              "    }\n",
              "</style>\n",
              "<table border=\"1\" class=\"dataframe\">\n",
              "  <thead>\n",
              "    <tr style=\"text-align: right;\">\n",
              "      <th></th>\n",
              "      <th></th>\n",
              "      <th>Xt1</th>\n",
              "      <th>Xt2</th>\n",
              "      <th>Xt3</th>\n",
              "      <th>e</th>\n",
              "      <th>Y</th>\n",
              "      <th>Y_hat</th>\n",
              "      <th>e_hat</th>\n",
              "    </tr>\n",
              "    <tr>\n",
              "      <th>rep</th>\n",
              "      <th>index</th>\n",
              "      <th></th>\n",
              "      <th></th>\n",
              "      <th></th>\n",
              "      <th></th>\n",
              "      <th></th>\n",
              "      <th></th>\n",
              "      <th></th>\n",
              "    </tr>\n",
              "  </thead>\n",
              "  <tbody>\n",
              "    <tr>\n",
              "      <th rowspan=\"5\" valign=\"top\">1.0</th>\n",
              "      <th>0.0</th>\n",
              "      <td>0.975314</td>\n",
              "      <td>-0.346998</td>\n",
              "      <td>-1.433343</td>\n",
              "      <td>-1.362772e-02</td>\n",
              "      <td>-1.304033</td>\n",
              "      <td>-1.290405</td>\n",
              "      <td>-1.362772e-02</td>\n",
              "    </tr>\n",
              "    <tr>\n",
              "      <th>1.0</th>\n",
              "      <td>-0.379315</td>\n",
              "      <td>-0.044329</td>\n",
              "      <td>-0.203213</td>\n",
              "      <td>-2.612738e-07</td>\n",
              "      <td>3.050211</td>\n",
              "      <td>3.050211</td>\n",
              "      <td>-2.612738e-07</td>\n",
              "    </tr>\n",
              "    <tr>\n",
              "      <th>2.0</th>\n",
              "      <td>0.444090</td>\n",
              "      <td>-0.111014</td>\n",
              "      <td>-0.224146</td>\n",
              "      <td>-1.207820e-04</td>\n",
              "      <td>3.204069</td>\n",
              "      <td>3.204190</td>\n",
              "      <td>-1.207820e-04</td>\n",
              "    </tr>\n",
              "    <tr>\n",
              "      <th>3.0</th>\n",
              "      <td>1.176392</td>\n",
              "      <td>-0.509627</td>\n",
              "      <td>0.904954</td>\n",
              "      <td>4.681161e-02</td>\n",
              "      <td>7.010762</td>\n",
              "      <td>6.963950</td>\n",
              "      <td>4.681161e-02</td>\n",
              "    </tr>\n",
              "    <tr>\n",
              "      <th>4.0</th>\n",
              "      <td>-0.862601</td>\n",
              "      <td>-2.407275</td>\n",
              "      <td>-1.834339</td>\n",
              "      <td>-4.170080e+01</td>\n",
              "      <td>-48.260377</td>\n",
              "      <td>-6.559573</td>\n",
              "      <td>-4.170080e+01</td>\n",
              "    </tr>\n",
              "    <tr>\n",
              "      <th>...</th>\n",
              "      <th>...</th>\n",
              "      <td>...</td>\n",
              "      <td>...</td>\n",
              "      <td>...</td>\n",
              "      <td>...</td>\n",
              "      <td>...</td>\n",
              "      <td>...</td>\n",
              "      <td>...</td>\n",
              "    </tr>\n",
              "    <tr>\n",
              "      <th rowspan=\"5\" valign=\"top\">99.0</th>\n",
              "      <th>45.0</th>\n",
              "      <td>1.332207</td>\n",
              "      <td>2.401800</td>\n",
              "      <td>0.591092</td>\n",
              "      <td>-8.820002e+01</td>\n",
              "      <td>-77.936511</td>\n",
              "      <td>10.263513</td>\n",
              "      <td>-8.820002e+01</td>\n",
              "    </tr>\n",
              "    <tr>\n",
              "      <th>46.0</th>\n",
              "      <td>-0.300202</td>\n",
              "      <td>-1.078869</td>\n",
              "      <td>-0.475786</td>\n",
              "      <td>7.208016e-01</td>\n",
              "      <td>1.269586</td>\n",
              "      <td>0.548785</td>\n",
              "      <td>7.208016e-01</td>\n",
              "    </tr>\n",
              "    <tr>\n",
              "      <th>47.0</th>\n",
              "      <td>0.061044</td>\n",
              "      <td>0.649136</td>\n",
              "      <td>-0.012283</td>\n",
              "      <td>3.767501e-01</td>\n",
              "      <td>5.330652</td>\n",
              "      <td>4.953902</td>\n",
              "      <td>3.767501e-01</td>\n",
              "    </tr>\n",
              "    <tr>\n",
              "      <th>48.0</th>\n",
              "      <td>0.263409</td>\n",
              "      <td>0.341764</td>\n",
              "      <td>0.985787</td>\n",
              "      <td>9.287450e-03</td>\n",
              "      <td>8.176131</td>\n",
              "      <td>8.166843</td>\n",
              "      <td>9.287450e-03</td>\n",
              "    </tr>\n",
              "    <tr>\n",
              "      <th>49.0</th>\n",
              "      <td>1.849942</td>\n",
              "      <td>-0.618698</td>\n",
              "      <td>2.569661</td>\n",
              "      <td>8.899470e-02</td>\n",
              "      <td>13.151705</td>\n",
              "      <td>13.062710</td>\n",
              "      <td>8.899470e-02</td>\n",
              "    </tr>\n",
              "  </tbody>\n",
              "</table>\n",
              "<p>4950 rows × 7 columns</p>\n",
              "</div>"
            ],
            "text/plain": [
              "                 Xt1       Xt2       Xt3  ...          Y      Y_hat         e_hat\n",
              "rep  index                                ...                                    \n",
              "1.0  0.0    0.975314 -0.346998 -1.433343  ...  -1.304033  -1.290405 -1.362772e-02\n",
              "     1.0   -0.379315 -0.044329 -0.203213  ...   3.050211   3.050211 -2.612738e-07\n",
              "     2.0    0.444090 -0.111014 -0.224146  ...   3.204069   3.204190 -1.207820e-04\n",
              "     3.0    1.176392 -0.509627  0.904954  ...   7.010762   6.963950  4.681161e-02\n",
              "     4.0   -0.862601 -2.407275 -1.834339  ... -48.260377  -6.559573 -4.170080e+01\n",
              "...              ...       ...       ...  ...        ...        ...           ...\n",
              "99.0 45.0   1.332207  2.401800  0.591092  ... -77.936511  10.263513 -8.820002e+01\n",
              "     46.0  -0.300202 -1.078869 -0.475786  ...   1.269586   0.548785  7.208016e-01\n",
              "     47.0   0.061044  0.649136 -0.012283  ...   5.330652   4.953902  3.767501e-01\n",
              "     48.0   0.263409  0.341764  0.985787  ...   8.176131   8.166843  9.287450e-03\n",
              "     49.0   1.849942 -0.618698  2.569661  ...  13.151705  13.062710  8.899470e-02\n",
              "\n",
              "[4950 rows x 7 columns]"
            ]
          },
          "metadata": {},
          "execution_count": 13
        }
      ]
    },
    {
      "cell_type": "code",
      "metadata": {
        "colab": {
          "base_uri": "https://localhost:8080/"
        },
        "id": "wj0qJL-2zFLl",
        "outputId": "b27be6d6-0d05-456c-da62-05bec168c00f"
      },
      "source": [
        "table_data_all.mean()"
      ],
      "execution_count": 14,
      "outputs": [
        {
          "output_type": "execute_result",
          "data": {
            "text/plain": [
              "Xt1      0.007895\n",
              "Xt2      0.021899\n",
              "Xt3      0.005098\n",
              "e       -0.207855\n",
              "Y        3.846505\n",
              "Y_hat    4.054360\n",
              "e_hat   -0.207855\n",
              "dtype: float64"
            ]
          },
          "metadata": {},
          "execution_count": 14
        }
      ]
    },
    {
      "cell_type": "code",
      "metadata": {
        "colab": {
          "base_uri": "https://localhost:8080/"
        },
        "id": "5a__a11UzNBi",
        "outputId": "e53e3c01-96ba-4ed5-9bfc-eb568e18568a"
      },
      "source": [
        "table_data_all.var()"
      ],
      "execution_count": 15,
      "outputs": [
        {
          "output_type": "execute_result",
          "data": {
            "text/plain": [
              "Xt1        1.023810\n",
              "Xt2        0.994958\n",
              "Xt3        0.973347\n",
              "e         86.949424\n",
              "Y        103.604400\n",
              "Y_hat     15.041188\n",
              "e_hat     86.949424\n",
              "dtype: float64"
            ]
          },
          "metadata": {},
          "execution_count": 15
        }
      ]
    },
    {
      "cell_type": "code",
      "metadata": {
        "colab": {
          "base_uri": "https://localhost:8080/",
          "height": 265
        },
        "id": "e4xHSD9VzTha",
        "outputId": "7372a05d-14ac-4c9c-ae8a-5d6ce205002e"
      },
      "source": [
        "# Compute pairwise correlation of columns, excluding NA/null values.\n",
        "table_data_all.corr()"
      ],
      "execution_count": 16,
      "outputs": [
        {
          "output_type": "execute_result",
          "data": {
            "text/html": [
              "<div>\n",
              "<style scoped>\n",
              "    .dataframe tbody tr th:only-of-type {\n",
              "        vertical-align: middle;\n",
              "    }\n",
              "\n",
              "    .dataframe tbody tr th {\n",
              "        vertical-align: top;\n",
              "    }\n",
              "\n",
              "    .dataframe thead th {\n",
              "        text-align: right;\n",
              "    }\n",
              "</style>\n",
              "<table border=\"1\" class=\"dataframe\">\n",
              "  <thead>\n",
              "    <tr style=\"text-align: right;\">\n",
              "      <th></th>\n",
              "      <th>Xt1</th>\n",
              "      <th>Xt2</th>\n",
              "      <th>Xt3</th>\n",
              "      <th>e</th>\n",
              "      <th>Y</th>\n",
              "      <th>Y_hat</th>\n",
              "      <th>e_hat</th>\n",
              "    </tr>\n",
              "  </thead>\n",
              "  <tbody>\n",
              "    <tr>\n",
              "      <th>Xt1</th>\n",
              "      <td>1.000000</td>\n",
              "      <td>0.003123</td>\n",
              "      <td>0.020640</td>\n",
              "      <td>0.017743</td>\n",
              "      <td>0.063679</td>\n",
              "      <td>0.124465</td>\n",
              "      <td>0.017743</td>\n",
              "    </tr>\n",
              "    <tr>\n",
              "      <th>Xt2</th>\n",
              "      <td>0.003123</td>\n",
              "      <td>1.000000</td>\n",
              "      <td>-0.003667</td>\n",
              "      <td>0.033641</td>\n",
              "      <td>0.176659</td>\n",
              "      <td>0.382759</td>\n",
              "      <td>0.033641</td>\n",
              "    </tr>\n",
              "    <tr>\n",
              "      <th>Xt3</th>\n",
              "      <td>0.020640</td>\n",
              "      <td>-0.003667</td>\n",
              "      <td>1.000000</td>\n",
              "      <td>0.008170</td>\n",
              "      <td>0.356704</td>\n",
              "      <td>0.916528</td>\n",
              "      <td>0.008170</td>\n",
              "    </tr>\n",
              "    <tr>\n",
              "      <th>e</th>\n",
              "      <td>0.017743</td>\n",
              "      <td>0.033641</td>\n",
              "      <td>0.008170</td>\n",
              "      <td>1.000000</td>\n",
              "      <td>0.924604</td>\n",
              "      <td>0.022312</td>\n",
              "      <td>1.000000</td>\n",
              "    </tr>\n",
              "    <tr>\n",
              "      <th>Y</th>\n",
              "      <td>0.063679</td>\n",
              "      <td>0.176659</td>\n",
              "      <td>0.356704</td>\n",
              "      <td>0.924604</td>\n",
              "      <td>1.000000</td>\n",
              "      <td>0.401464</td>\n",
              "      <td>0.924604</td>\n",
              "    </tr>\n",
              "    <tr>\n",
              "      <th>Y_hat</th>\n",
              "      <td>0.124465</td>\n",
              "      <td>0.382759</td>\n",
              "      <td>0.916528</td>\n",
              "      <td>0.022312</td>\n",
              "      <td>0.401464</td>\n",
              "      <td>1.000000</td>\n",
              "      <td>0.022312</td>\n",
              "    </tr>\n",
              "    <tr>\n",
              "      <th>e_hat</th>\n",
              "      <td>0.017743</td>\n",
              "      <td>0.033641</td>\n",
              "      <td>0.008170</td>\n",
              "      <td>1.000000</td>\n",
              "      <td>0.924604</td>\n",
              "      <td>0.022312</td>\n",
              "      <td>1.000000</td>\n",
              "    </tr>\n",
              "  </tbody>\n",
              "</table>\n",
              "</div>"
            ],
            "text/plain": [
              "            Xt1       Xt2       Xt3         e         Y     Y_hat     e_hat\n",
              "Xt1    1.000000  0.003123  0.020640  0.017743  0.063679  0.124465  0.017743\n",
              "Xt2    0.003123  1.000000 -0.003667  0.033641  0.176659  0.382759  0.033641\n",
              "Xt3    0.020640 -0.003667  1.000000  0.008170  0.356704  0.916528  0.008170\n",
              "e      0.017743  0.033641  0.008170  1.000000  0.924604  0.022312  1.000000\n",
              "Y      0.063679  0.176659  0.356704  0.924604  1.000000  0.401464  0.924604\n",
              "Y_hat  0.124465  0.382759  0.916528  0.022312  0.401464  1.000000  0.022312\n",
              "e_hat  0.017743  0.033641  0.008170  1.000000  0.924604  0.022312  1.000000"
            ]
          },
          "metadata": {},
          "execution_count": 16
        }
      ]
    },
    {
      "cell_type": "code",
      "metadata": {
        "colab": {
          "base_uri": "https://localhost:8080/",
          "height": 1000
        },
        "id": "lOnagmZy1qUu",
        "outputId": "3e33c749-c4cd-4ca7-e54d-f604ad94776b"
      },
      "source": [
        "table_data_all.plot(x ='Y_hat', y='e_hat', kind = 'scatter')\n",
        "table_data_all.plot(x ='Xt1', y='e_hat', kind = 'scatter')\n",
        "table_data_all.plot(x ='Xt2', y='e_hat', kind = 'scatter')\n",
        "table_data_all.plot(x ='Xt3', y='e_hat', kind = 'scatter')"
      ],
      "execution_count": 17,
      "outputs": [
        {
          "output_type": "execute_result",
          "data": {
            "text/plain": [
              "<matplotlib.axes._subplots.AxesSubplot at 0x7f86cc8e0390>"
            ]
          },
          "metadata": {},
          "execution_count": 17
        },
        {
          "output_type": "display_data",
          "data": {
            "image/png": "[encoded data removed]",
            "text/plain": [
              "<Figure size 432x288 with 1 Axes>"
            ]
          },
          "metadata": {
            "needs_background": "light"
          }
        },
        {
          "output_type": "display_data",
          "data": {
            "image/png": "[encoded data removed]",
            "text/plain": [
              "<Figure size 432x288 with 1 Axes>"
            ]
          },
          "metadata": {
            "needs_background": "light"
          }
        },
        {
          "output_type": "display_data",
          "data": {
            "image/png": "[encoded data removed]",
            "text/plain": [
              "<Figure size 432x288 with 1 Axes>"
            ]
          },
          "metadata": {
            "needs_background": "light"
          }
        },
        {
          "output_type": "display_data",
          "data": {
            "image/png": "[encoded data removed]",
            "text/plain": [
              "<Figure size 432x288 with 1 Axes>"
            ]
          },
          "metadata": {
            "needs_background": "light"
          }
        }
      ]
    }
  ]
}