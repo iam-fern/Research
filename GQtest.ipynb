{
  "nbformat": 4,
  "nbformat_minor": 0,
  "metadata": {
    "colab": {
      "name": "GQtest.ipynb",
      "provenance": [],
      "authorship_tag": "ABX9TyOYvDX2kJusTnif1aVt7uiO",
      "include_colab_link": true
    },
    "kernelspec": {
      "name": "python3",
      "display_name": "Python 3"
    },
    "language_info": {
      "name": "python"
    }
  },
  "cells": [
    {
      "cell_type": "markdown",
      "metadata": {
        "id": "view-in-github",
        "colab_type": "text"
      },
      "source": [
        "<a href=\"https://colab.research.google.com/github/iam-fern/Research/blob/main/GQtest.ipynb\" target=\"_parent\"><img src=\"https://colab.research.google.com/assets/colab-badge.svg\" alt=\"Open In Colab\"/></a>"
      ]
    },
    {
      "cell_type": "code",
      "metadata": {
        "id": "NY2a2SFeOJb0"
      },
      "source": [
        "import pandas as pd\n",
        "import os"
      ],
      "execution_count": 4,
      "outputs": []
    },
    {
      "cell_type": "code",
      "metadata": {
        "colab": {
          "base_uri": "https://localhost:8080/"
        },
        "id": "lHEiKJ6zONr2",
        "outputId": "64084e1d-c384-4634-903f-40fed7698390"
      },
      "source": [
        "from google.colab import drive\n",
        "drive.mount('/content/drive')"
      ],
      "execution_count": 3,
      "outputs": [
        {
          "output_type": "stream",
          "text": [
            "Mounted at /content/drive\n"
          ],
          "name": "stdout"
        }
      ]
    },
    {
      "cell_type": "code",
      "metadata": {
        "id": "_h5z9xKbON_E"
      },
      "source": [
        "base_path = '/content/drive/My Drive/Research'"
      ],
      "execution_count": 5,
      "outputs": []
    },
    {
      "cell_type": "code",
      "metadata": {
        "colab": {
          "base_uri": "https://localhost:8080/"
        },
        "id": "WwKrh2IuOOXm",
        "outputId": "a7afbde8-6e45-46cd-8bfd-836e7b4fe5e5"
      },
      "source": [
        "os.listdir(base_path)"
      ],
      "execution_count": 6,
      "outputs": [
        {
          "output_type": "execute_result",
          "data": {
            "text/plain": [
              "['gen_SAS.xlsx', 'gen_SAS.csv']"
            ]
          },
          "metadata": {
            "tags": []
          },
          "execution_count": 6
        }
      ]
    },
    {
      "cell_type": "code",
      "metadata": {
        "colab": {
          "base_uri": "https://localhost:8080/",
          "height": 402
        },
        "id": "nE45pQZCQI-H",
        "outputId": "db4814a9-64ca-4197-92d1-120f706c3b2f"
      },
      "source": [
        "file_path = os.path.join(base_path, 'gen_SAS.xlsx')\n",
        "pd.read_excel(file_path)"
      ],
      "execution_count": 9,
      "outputs": [
        {
          "output_type": "execute_result",
          "data": {
            "text/html": [
              "<div>\n",
              "<style scoped>\n",
              "    .dataframe tbody tr th:only-of-type {\n",
              "        vertical-align: middle;\n",
              "    }\n",
              "\n",
              "    .dataframe tbody tr th {\n",
              "        vertical-align: top;\n",
              "    }\n",
              "\n",
              "    .dataframe thead th {\n",
              "        text-align: right;\n",
              "    }\n",
              "</style>\n",
              "<table border=\"1\" class=\"dataframe\">\n",
              "  <thead>\n",
              "    <tr style=\"text-align: right;\">\n",
              "      <th></th>\n",
              "      <th>Obs</th>\n",
              "      <th>Replicate</th>\n",
              "      <th>id</th>\n",
              "      <th>j</th>\n",
              "      <th>a</th>\n",
              "      <th>b</th>\n",
              "      <th>c</th>\n",
              "      <th>z</th>\n",
              "      <th>x1</th>\n",
              "      <th>x2</th>\n",
              "      <th>x3</th>\n",
              "      <th>E</th>\n",
              "      <th>y</th>\n",
              "    </tr>\n",
              "  </thead>\n",
              "  <tbody>\n",
              "    <tr>\n",
              "      <th>0</th>\n",
              "      <td>1</td>\n",
              "      <td>1</td>\n",
              "      <td>1</td>\n",
              "      <td>444</td>\n",
              "      <td>0.29919</td>\n",
              "      <td>0.83718</td>\n",
              "      <td>0.68144</td>\n",
              "      <td>-0.61726</td>\n",
              "      <td>21.9677</td>\n",
              "      <td>43.4873</td>\n",
              "      <td>37.2578</td>\n",
              "      <td>-297.88</td>\n",
              "      <td>7.54</td>\n",
              "    </tr>\n",
              "    <tr>\n",
              "      <th>1</th>\n",
              "      <td>2</td>\n",
              "      <td>1</td>\n",
              "      <td>1</td>\n",
              "      <td>611</td>\n",
              "      <td>0.56787</td>\n",
              "      <td>0.71160</td>\n",
              "      <td>0.32699</td>\n",
              "      <td>-1.59160</td>\n",
              "      <td>32.7147</td>\n",
              "      <td>38.4642</td>\n",
              "      <td>23.0795</td>\n",
              "      <td>-1703.41</td>\n",
              "      <td>-1309.72</td>\n",
              "    </tr>\n",
              "    <tr>\n",
              "      <th>2</th>\n",
              "      <td>3</td>\n",
              "      <td>1</td>\n",
              "      <td>1</td>\n",
              "      <td>3145</td>\n",
              "      <td>0.73834</td>\n",
              "      <td>0.23294</td>\n",
              "      <td>0.63800</td>\n",
              "      <td>0.77661</td>\n",
              "      <td>39.5337</td>\n",
              "      <td>19.3175</td>\n",
              "      <td>35.5201</td>\n",
              "      <td>1213.77</td>\n",
              "      <td>1668.95</td>\n",
              "    </tr>\n",
              "    <tr>\n",
              "      <th>3</th>\n",
              "      <td>4</td>\n",
              "      <td>1</td>\n",
              "      <td>1</td>\n",
              "      <td>4032</td>\n",
              "      <td>0.12840</td>\n",
              "      <td>0.64340</td>\n",
              "      <td>0.29496</td>\n",
              "      <td>0.40027</td>\n",
              "      <td>15.1362</td>\n",
              "      <td>35.7360</td>\n",
              "      <td>21.7985</td>\n",
              "      <td>91.70</td>\n",
              "      <td>305.60</td>\n",
              "    </tr>\n",
              "    <tr>\n",
              "      <th>4</th>\n",
              "      <td>5</td>\n",
              "      <td>1</td>\n",
              "      <td>1</td>\n",
              "      <td>4175</td>\n",
              "      <td>0.96315</td>\n",
              "      <td>0.11986</td>\n",
              "      <td>0.84613</td>\n",
              "      <td>-0.17120</td>\n",
              "      <td>48.5260</td>\n",
              "      <td>14.7944</td>\n",
              "      <td>43.8453</td>\n",
              "      <td>-403.14</td>\n",
              "      <td>145.76</td>\n",
              "    </tr>\n",
              "    <tr>\n",
              "      <th>...</th>\n",
              "      <td>...</td>\n",
              "      <td>...</td>\n",
              "      <td>...</td>\n",
              "      <td>...</td>\n",
              "      <td>...</td>\n",
              "      <td>...</td>\n",
              "      <td>...</td>\n",
              "      <td>...</td>\n",
              "      <td>...</td>\n",
              "      <td>...</td>\n",
              "      <td>...</td>\n",
              "      <td>...</td>\n",
              "      <td>...</td>\n",
              "    </tr>\n",
              "    <tr>\n",
              "      <th>2995</th>\n",
              "      <td>2996</td>\n",
              "      <td>100</td>\n",
              "      <td>1</td>\n",
              "      <td>46183</td>\n",
              "      <td>0.38808</td>\n",
              "      <td>0.30625</td>\n",
              "      <td>0.01160</td>\n",
              "      <td>-0.08288</td>\n",
              "      <td>25.5233</td>\n",
              "      <td>22.2501</td>\n",
              "      <td>10.4640</td>\n",
              "      <td>-53.99</td>\n",
              "      <td>238.96</td>\n",
              "    </tr>\n",
              "    <tr>\n",
              "      <th>2996</th>\n",
              "      <td>2997</td>\n",
              "      <td>100</td>\n",
              "      <td>1</td>\n",
              "      <td>49111</td>\n",
              "      <td>0.40628</td>\n",
              "      <td>0.69762</td>\n",
              "      <td>0.42026</td>\n",
              "      <td>0.02349</td>\n",
              "      <td>26.2513</td>\n",
              "      <td>37.9048</td>\n",
              "      <td>26.8103</td>\n",
              "      <td>16.19</td>\n",
              "      <td>348.41</td>\n",
              "    </tr>\n",
              "    <tr>\n",
              "      <th>2997</th>\n",
              "      <td>2998</td>\n",
              "      <td>100</td>\n",
              "      <td>1</td>\n",
              "      <td>49469</td>\n",
              "      <td>0.40030</td>\n",
              "      <td>0.66643</td>\n",
              "      <td>0.30931</td>\n",
              "      <td>0.57620</td>\n",
              "      <td>26.0122</td>\n",
              "      <td>36.6570</td>\n",
              "      <td>22.3726</td>\n",
              "      <td>389.88</td>\n",
              "      <td>714.03</td>\n",
              "    </tr>\n",
              "    <tr>\n",
              "      <th>2998</th>\n",
              "      <td>2999</td>\n",
              "      <td>100</td>\n",
              "      <td>1</td>\n",
              "      <td>49549</td>\n",
              "      <td>0.10914</td>\n",
              "      <td>0.37114</td>\n",
              "      <td>0.32642</td>\n",
              "      <td>-1.24186</td>\n",
              "      <td>14.3657</td>\n",
              "      <td>24.8457</td>\n",
              "      <td>23.0568</td>\n",
              "      <td>-256.29</td>\n",
              "      <td>-59.73</td>\n",
              "    </tr>\n",
              "    <tr>\n",
              "      <th>2999</th>\n",
              "      <td>3000</td>\n",
              "      <td>100</td>\n",
              "      <td>1</td>\n",
              "      <td>49564</td>\n",
              "      <td>0.98557</td>\n",
              "      <td>0.99265</td>\n",
              "      <td>0.97501</td>\n",
              "      <td>-1.06714</td>\n",
              "      <td>49.4228</td>\n",
              "      <td>49.7059</td>\n",
              "      <td>49.0006</td>\n",
              "      <td>-2606.61</td>\n",
              "      <td>-2008.68</td>\n",
              "    </tr>\n",
              "  </tbody>\n",
              "</table>\n",
              "<p>3000 rows × 13 columns</p>\n",
              "</div>"
            ],
            "text/plain": [
              "       Obs  Replicate  id      j  ...       x2       x3        E        y\n",
              "0        1          1   1    444  ...  43.4873  37.2578  -297.88     7.54\n",
              "1        2          1   1    611  ...  38.4642  23.0795 -1703.41 -1309.72\n",
              "2        3          1   1   3145  ...  19.3175  35.5201  1213.77  1668.95\n",
              "3        4          1   1   4032  ...  35.7360  21.7985    91.70   305.60\n",
              "4        5          1   1   4175  ...  14.7944  43.8453  -403.14   145.76\n",
              "...    ...        ...  ..    ...  ...      ...      ...      ...      ...\n",
              "2995  2996        100   1  46183  ...  22.2501  10.4640   -53.99   238.96\n",
              "2996  2997        100   1  49111  ...  37.9048  26.8103    16.19   348.41\n",
              "2997  2998        100   1  49469  ...  36.6570  22.3726   389.88   714.03\n",
              "2998  2999        100   1  49549  ...  24.8457  23.0568  -256.29   -59.73\n",
              "2999  3000        100   1  49564  ...  49.7059  49.0006 -2606.61 -2008.68\n",
              "\n",
              "[3000 rows x 13 columns]"
            ]
          },
          "metadata": {
            "tags": []
          },
          "execution_count": 9
        }
      ]
    },
    {
      "cell_type": "code",
      "metadata": {
        "id": "HGd8X_BXQJTa"
      },
      "source": [
        ""
      ],
      "execution_count": null,
      "outputs": []
    },
    {
      "cell_type": "code",
      "metadata": {
        "id": "WdsoNFXdQJlV"
      },
      "source": [
        ""
      ],
      "execution_count": null,
      "outputs": []
    },
    {
      "cell_type": "code",
      "metadata": {
        "id": "MsV04p8HQKEO"
      },
      "source": [
        ""
      ],
      "execution_count": null,
      "outputs": []
    }
  ]
}