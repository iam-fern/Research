{
  "nbformat": 4,
  "nbformat_minor": 0,
  "metadata": {
    "colab": {
      "name": "ex_sampling_1000rep_n50_x8_sas.ipynb",
      "provenance": [],
      "authorship_tag": "ABX9TyOgMF3MXzQehWYD4va9cXk5",
      "include_colab_link": true
    },
    "kernelspec": {
      "name": "python3",
      "display_name": "Python 3"
    },
    "language_info": {
      "name": "python"
    }
  },
  "cells": [
    {
      "cell_type": "markdown",
      "metadata": {
        "id": "view-in-github",
        "colab_type": "text"
      },
      "source": [
        "<a href=\"https://colab.research.google.com/github/iam-fern/Research/blob/main/ex_sampling_1000rep_n50_x8_sas.ipynb\" target=\"_parent\"><img src=\"https://colab.research.google.com/assets/colab-badge.svg\" alt=\"Open In Colab\"/></a>"
      ]
    },
    {
      "cell_type": "code",
      "metadata": {
        "id": "LpA95Qnqm7QZ"
      },
      "source": [
        "import pandas as pd\n",
        "import numpy as np\n",
        "import matplotlib.pyplot as plt\n",
        "\n",
        "\n",
        "import statistics as stats\n",
        "import scipy.stats as ss\n",
        "import scipy.stats as st\n",
        "from sklearn.linear_model import LinearRegression\n",
        "from scipy import stats\n",
        "import scipy.stats as stats\n",
        "import time\n",
        "import statsmodels.api as sm\n",
        "\n",
        "from statsmodels.formula.api import ols"
      ],
      "execution_count": null,
      "outputs": []
    }
  ]
}