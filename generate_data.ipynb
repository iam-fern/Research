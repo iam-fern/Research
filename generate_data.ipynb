{
  "nbformat": 4,
  "nbformat_minor": 0,
  "metadata": {
    "colab": {
      "name": "generate_data.ipynb",
      "provenance": [],
      "authorship_tag": "ABX9TyPEqhBheXjWTCgmKzou4ZYw",
      "include_colab_link": true
    },
    "kernelspec": {
      "name": "python3",
      "display_name": "Python 3"
    },
    "language_info": {
      "name": "python"
    }
  },
  "cells": [
    {
      "cell_type": "markdown",
      "metadata": {
        "id": "view-in-github",
        "colab_type": "text"
      },
      "source": [
        "<a href=\"https://colab.research.google.com/github/iam-fern/Research/blob/main/generate_data.ipynb\" target=\"_parent\"><img src=\"https://colab.research.google.com/assets/colab-badge.svg\" alt=\"Open In Colab\"/></a>"
      ]
    },
    {
      "cell_type": "code",
      "metadata": {
        "id": "VvMqWg4FfWIw"
      },
      "source": [
        "import pandas as pd\n",
        "import numpy as np"
      ],
      "execution_count": 108,
      "outputs": []
    },
    {
      "cell_type": "code",
      "metadata": {
        "id": "mndrpfwZgTwF"
      },
      "source": [
        "#np.random.seed(1)\n",
        "#df = pd.DataFrame(columns=[\"a\", \"b\", \"c\", \"z\", \"x1\", \"x2\", \"x3\", \"y\"])"
      ],
      "execution_count": null,
      "outputs": []
    },
    {
      "cell_type": "code",
      "metadata": {
        "colab": {
          "base_uri": "https://localhost:8080/",
          "height": 417
        },
        "id": "1WtwZT6viwX5",
        "outputId": "5a4510b4-b55a-48ff-8b86-e9f3ad68eed6"
      },
      "source": [
        "# random.uniform(a, b)\n",
        "# Syntax : numpy.random.uniform(low=0.0, high=1.0, size=None)\n",
        "# a : Required. A number specifying the lowest possible outcome\n",
        "# b : Required. A number specifying the highest possible outcome\n",
        "data = pd.DataFrame({\"x1\" : np.random.uniform(low=10, high=50, size=5000),\n",
        "                     \"x2\" : np.random.uniform(low=10, high=50, size=5000),\n",
        "                     \"x3\" : np.random.uniform(low=10, high=50, size=5000),\n",
        "                     #\"e\"  : np.random.normal(0, (np.sqrt(x1**4)), 5000)\n",
        "                     })\n",
        "data"
      ],
      "execution_count": 115,
      "outputs": [
        {
          "output_type": "execute_result",
          "data": {
            "text/html": [
              "<div>\n",
              "<style scoped>\n",
              "    .dataframe tbody tr th:only-of-type {\n",
              "        vertical-align: middle;\n",
              "    }\n",
              "\n",
              "    .dataframe tbody tr th {\n",
              "        vertical-align: top;\n",
              "    }\n",
              "\n",
              "    .dataframe thead th {\n",
              "        text-align: right;\n",
              "    }\n",
              "</style>\n",
              "<table border=\"1\" class=\"dataframe\">\n",
              "  <thead>\n",
              "    <tr style=\"text-align: right;\">\n",
              "      <th></th>\n",
              "      <th>x1</th>\n",
              "      <th>x2</th>\n",
              "      <th>x3</th>\n",
              "    </tr>\n",
              "  </thead>\n",
              "  <tbody>\n",
              "    <tr>\n",
              "      <th>0</th>\n",
              "      <td>27.253247</td>\n",
              "      <td>32.940987</td>\n",
              "      <td>34.701632</td>\n",
              "    </tr>\n",
              "    <tr>\n",
              "      <th>1</th>\n",
              "      <td>33.120388</td>\n",
              "      <td>36.472513</td>\n",
              "      <td>41.255387</td>\n",
              "    </tr>\n",
              "    <tr>\n",
              "      <th>2</th>\n",
              "      <td>13.873706</td>\n",
              "      <td>40.007924</td>\n",
              "      <td>38.254606</td>\n",
              "    </tr>\n",
              "    <tr>\n",
              "      <th>3</th>\n",
              "      <td>39.489505</td>\n",
              "      <td>49.043340</td>\n",
              "      <td>16.320470</td>\n",
              "    </tr>\n",
              "    <tr>\n",
              "      <th>4</th>\n",
              "      <td>42.912173</td>\n",
              "      <td>36.349609</td>\n",
              "      <td>39.549439</td>\n",
              "    </tr>\n",
              "    <tr>\n",
              "      <th>...</th>\n",
              "      <td>...</td>\n",
              "      <td>...</td>\n",
              "      <td>...</td>\n",
              "    </tr>\n",
              "    <tr>\n",
              "      <th>4995</th>\n",
              "      <td>21.255076</td>\n",
              "      <td>46.877856</td>\n",
              "      <td>12.737897</td>\n",
              "    </tr>\n",
              "    <tr>\n",
              "      <th>4996</th>\n",
              "      <td>36.575465</td>\n",
              "      <td>19.674271</td>\n",
              "      <td>14.506233</td>\n",
              "    </tr>\n",
              "    <tr>\n",
              "      <th>4997</th>\n",
              "      <td>44.622562</td>\n",
              "      <td>49.271219</td>\n",
              "      <td>40.257471</td>\n",
              "    </tr>\n",
              "    <tr>\n",
              "      <th>4998</th>\n",
              "      <td>21.094493</td>\n",
              "      <td>24.614617</td>\n",
              "      <td>36.667629</td>\n",
              "    </tr>\n",
              "    <tr>\n",
              "      <th>4999</th>\n",
              "      <td>33.859816</td>\n",
              "      <td>42.201023</td>\n",
              "      <td>26.888493</td>\n",
              "    </tr>\n",
              "  </tbody>\n",
              "</table>\n",
              "<p>5000 rows × 3 columns</p>\n",
              "</div>"
            ],
            "text/plain": [
              "             x1         x2         x3\n",
              "0     27.253247  32.940987  34.701632\n",
              "1     33.120388  36.472513  41.255387\n",
              "2     13.873706  40.007924  38.254606\n",
              "3     39.489505  49.043340  16.320470\n",
              "4     42.912173  36.349609  39.549439\n",
              "...         ...        ...        ...\n",
              "4995  21.255076  46.877856  12.737897\n",
              "4996  36.575465  19.674271  14.506233\n",
              "4997  44.622562  49.271219  40.257471\n",
              "4998  21.094493  24.614617  36.667629\n",
              "4999  33.859816  42.201023  26.888493\n",
              "\n",
              "[5000 rows x 3 columns]"
            ]
          },
          "metadata": {
            "tags": []
          },
          "execution_count": 115
        }
      ]
    },
    {
      "cell_type": "code",
      "metadata": {
        "id": "MRDeHh3OjQ1D",
        "outputId": "fa5e4c68-7057-4c59-c6d3-0a4c86cd7b4f",
        "colab": {
          "base_uri": "https://localhost:8080/"
        }
      },
      "source": [
        "X1 = data['x1']\n",
        "X1 = np.sqrt(X1**4)\n",
        "X1"
      ],
      "execution_count": 116,
      "outputs": [
        {
          "output_type": "execute_result",
          "data": {
            "text/plain": [
              "0        742.739476\n",
              "1       1096.960130\n",
              "2        192.479721\n",
              "3       1559.421011\n",
              "4       1841.454634\n",
              "           ...     \n",
              "4995     451.778247\n",
              "4996    1337.764604\n",
              "4997    1991.173047\n",
              "4998     444.977618\n",
              "4999    1146.487145\n",
              "Name: x1, Length: 5000, dtype: float64"
            ]
          },
          "metadata": {
            "tags": []
          },
          "execution_count": 116
        }
      ]
    },
    {
      "cell_type": "code",
      "metadata": {
        "id": "JUNxh4rjj-RQ",
        "colab": {
          "base_uri": "https://localhost:8080/",
          "height": 417
        },
        "outputId": "a6068a2b-3698-49fc-eee4-6eded5f007a1"
      },
      "source": [
        "new_data = pd.DataFrame({ \"x1\" : data['x1'],\n",
        "                            \"x2\" : data['x2'],\n",
        "                            \"x3\" : data['x3'],\n",
        "                            \"e\"  : np.random.normal(0, (np.sqrt(x1**4)), 5000)\n",
        "                     })\n",
        "new_data"
      ],
      "execution_count": 127,
      "outputs": [
        {
          "output_type": "execute_result",
          "data": {
            "text/html": [
              "<div>\n",
              "<style scoped>\n",
              "    .dataframe tbody tr th:only-of-type {\n",
              "        vertical-align: middle;\n",
              "    }\n",
              "\n",
              "    .dataframe tbody tr th {\n",
              "        vertical-align: top;\n",
              "    }\n",
              "\n",
              "    .dataframe thead th {\n",
              "        text-align: right;\n",
              "    }\n",
              "</style>\n",
              "<table border=\"1\" class=\"dataframe\">\n",
              "  <thead>\n",
              "    <tr style=\"text-align: right;\">\n",
              "      <th></th>\n",
              "      <th>x1</th>\n",
              "      <th>x2</th>\n",
              "      <th>x3</th>\n",
              "      <th>e</th>\n",
              "    </tr>\n",
              "  </thead>\n",
              "  <tbody>\n",
              "    <tr>\n",
              "      <th>0</th>\n",
              "      <td>27.253247</td>\n",
              "      <td>32.940987</td>\n",
              "      <td>34.701632</td>\n",
              "      <td>-411.297303</td>\n",
              "    </tr>\n",
              "    <tr>\n",
              "      <th>1</th>\n",
              "      <td>33.120388</td>\n",
              "      <td>36.472513</td>\n",
              "      <td>41.255387</td>\n",
              "      <td>-2053.986740</td>\n",
              "    </tr>\n",
              "    <tr>\n",
              "      <th>2</th>\n",
              "      <td>13.873706</td>\n",
              "      <td>40.007924</td>\n",
              "      <td>38.254606</td>\n",
              "      <td>4388.345884</td>\n",
              "    </tr>\n",
              "    <tr>\n",
              "      <th>3</th>\n",
              "      <td>39.489505</td>\n",
              "      <td>49.043340</td>\n",
              "      <td>16.320470</td>\n",
              "      <td>-1584.270680</td>\n",
              "    </tr>\n",
              "    <tr>\n",
              "      <th>4</th>\n",
              "      <td>42.912173</td>\n",
              "      <td>36.349609</td>\n",
              "      <td>39.549439</td>\n",
              "      <td>2292.465873</td>\n",
              "    </tr>\n",
              "    <tr>\n",
              "      <th>...</th>\n",
              "      <td>...</td>\n",
              "      <td>...</td>\n",
              "      <td>...</td>\n",
              "      <td>...</td>\n",
              "    </tr>\n",
              "    <tr>\n",
              "      <th>4995</th>\n",
              "      <td>21.255076</td>\n",
              "      <td>46.877856</td>\n",
              "      <td>12.737897</td>\n",
              "      <td>-1003.692474</td>\n",
              "    </tr>\n",
              "    <tr>\n",
              "      <th>4996</th>\n",
              "      <td>36.575465</td>\n",
              "      <td>19.674271</td>\n",
              "      <td>14.506233</td>\n",
              "      <td>-927.706445</td>\n",
              "    </tr>\n",
              "    <tr>\n",
              "      <th>4997</th>\n",
              "      <td>44.622562</td>\n",
              "      <td>49.271219</td>\n",
              "      <td>40.257471</td>\n",
              "      <td>-102.371953</td>\n",
              "    </tr>\n",
              "    <tr>\n",
              "      <th>4998</th>\n",
              "      <td>21.094493</td>\n",
              "      <td>24.614617</td>\n",
              "      <td>36.667629</td>\n",
              "      <td>1197.952190</td>\n",
              "    </tr>\n",
              "    <tr>\n",
              "      <th>4999</th>\n",
              "      <td>33.859816</td>\n",
              "      <td>42.201023</td>\n",
              "      <td>26.888493</td>\n",
              "      <td>253.374199</td>\n",
              "    </tr>\n",
              "  </tbody>\n",
              "</table>\n",
              "<p>5000 rows × 4 columns</p>\n",
              "</div>"
            ],
            "text/plain": [
              "             x1         x2         x3            e\n",
              "0     27.253247  32.940987  34.701632  -411.297303\n",
              "1     33.120388  36.472513  41.255387 -2053.986740\n",
              "2     13.873706  40.007924  38.254606  4388.345884\n",
              "3     39.489505  49.043340  16.320470 -1584.270680\n",
              "4     42.912173  36.349609  39.549439  2292.465873\n",
              "...         ...        ...        ...          ...\n",
              "4995  21.255076  46.877856  12.737897 -1003.692474\n",
              "4996  36.575465  19.674271  14.506233  -927.706445\n",
              "4997  44.622562  49.271219  40.257471  -102.371953\n",
              "4998  21.094493  24.614617  36.667629  1197.952190\n",
              "4999  33.859816  42.201023  26.888493   253.374199\n",
              "\n",
              "[5000 rows x 4 columns]"
            ]
          },
          "metadata": {
            "tags": []
          },
          "execution_count": 127
        }
      ]
    },
    {
      "cell_type": "code",
      "metadata": {
        "id": "gK16x-kgqUQA",
        "outputId": "0b514f14-e016-4fa5-e261-eccfd0ba7136",
        "colab": {
          "base_uri": "https://localhost:8080/"
        }
      },
      "source": [
        "X = new_data[['x1', 'x2', 'x3', 'e']]\n",
        "Y = 5+(10*x1)+x2+x3+e\n",
        "Y"
      ],
      "execution_count": 128,
      "outputs": [
        {
          "output_type": "execute_result",
          "data": {
            "text/plain": [
              "0        346.544510\n",
              "1        457.362093\n",
              "2       -338.119497\n",
              "3       -711.549866\n",
              "4        501.140115\n",
              "           ...     \n",
              "4995    -853.789333\n",
              "4996     607.586042\n",
              "4997   -2793.919033\n",
              "4998     411.386296\n",
              "4999    5252.046460\n",
              "Length: 5000, dtype: float64"
            ]
          },
          "metadata": {
            "tags": []
          },
          "execution_count": 128
        }
      ]
    },
    {
      "cell_type": "code",
      "metadata": {
        "id": "mC-mbA8ruWLq",
        "outputId": "e731cc09-7c9a-4f5e-984e-5be544336827",
        "colab": {
          "base_uri": "https://localhost:8080/",
          "height": 417
        }
      },
      "source": [
        "table_data = pd.DataFrame({ \"x1\" : data['x1'],\n",
        "                            \"x2\" : data['x2'],\n",
        "                            \"x3\" : data['x3'],\n",
        "                            \"e\"  : new_data['e'],\n",
        "                            \"Y\"  : 5+(10*x1)+x2+x3+e\n",
        "                     })\n",
        "table_data"
      ],
      "execution_count": 130,
      "outputs": [
        {
          "output_type": "execute_result",
          "data": {
            "text/html": [
              "<div>\n",
              "<style scoped>\n",
              "    .dataframe tbody tr th:only-of-type {\n",
              "        vertical-align: middle;\n",
              "    }\n",
              "\n",
              "    .dataframe tbody tr th {\n",
              "        vertical-align: top;\n",
              "    }\n",
              "\n",
              "    .dataframe thead th {\n",
              "        text-align: right;\n",
              "    }\n",
              "</style>\n",
              "<table border=\"1\" class=\"dataframe\">\n",
              "  <thead>\n",
              "    <tr style=\"text-align: right;\">\n",
              "      <th></th>\n",
              "      <th>x1</th>\n",
              "      <th>x2</th>\n",
              "      <th>x3</th>\n",
              "      <th>e</th>\n",
              "      <th>Y</th>\n",
              "    </tr>\n",
              "  </thead>\n",
              "  <tbody>\n",
              "    <tr>\n",
              "      <th>0</th>\n",
              "      <td>27.253247</td>\n",
              "      <td>32.940987</td>\n",
              "      <td>34.701632</td>\n",
              "      <td>-411.297303</td>\n",
              "      <td>346.544510</td>\n",
              "    </tr>\n",
              "    <tr>\n",
              "      <th>1</th>\n",
              "      <td>33.120388</td>\n",
              "      <td>36.472513</td>\n",
              "      <td>41.255387</td>\n",
              "      <td>-2053.986740</td>\n",
              "      <td>457.362093</td>\n",
              "    </tr>\n",
              "    <tr>\n",
              "      <th>2</th>\n",
              "      <td>13.873706</td>\n",
              "      <td>40.007924</td>\n",
              "      <td>38.254606</td>\n",
              "      <td>4388.345884</td>\n",
              "      <td>-338.119497</td>\n",
              "    </tr>\n",
              "    <tr>\n",
              "      <th>3</th>\n",
              "      <td>39.489505</td>\n",
              "      <td>49.043340</td>\n",
              "      <td>16.320470</td>\n",
              "      <td>-1584.270680</td>\n",
              "      <td>-711.549866</td>\n",
              "    </tr>\n",
              "    <tr>\n",
              "      <th>4</th>\n",
              "      <td>42.912173</td>\n",
              "      <td>36.349609</td>\n",
              "      <td>39.549439</td>\n",
              "      <td>2292.465873</td>\n",
              "      <td>501.140115</td>\n",
              "    </tr>\n",
              "    <tr>\n",
              "      <th>...</th>\n",
              "      <td>...</td>\n",
              "      <td>...</td>\n",
              "      <td>...</td>\n",
              "      <td>...</td>\n",
              "      <td>...</td>\n",
              "    </tr>\n",
              "    <tr>\n",
              "      <th>4995</th>\n",
              "      <td>21.255076</td>\n",
              "      <td>46.877856</td>\n",
              "      <td>12.737897</td>\n",
              "      <td>-1003.692474</td>\n",
              "      <td>-853.789333</td>\n",
              "    </tr>\n",
              "    <tr>\n",
              "      <th>4996</th>\n",
              "      <td>36.575465</td>\n",
              "      <td>19.674271</td>\n",
              "      <td>14.506233</td>\n",
              "      <td>-927.706445</td>\n",
              "      <td>607.586042</td>\n",
              "    </tr>\n",
              "    <tr>\n",
              "      <th>4997</th>\n",
              "      <td>44.622562</td>\n",
              "      <td>49.271219</td>\n",
              "      <td>40.257471</td>\n",
              "      <td>-102.371953</td>\n",
              "      <td>-2793.919033</td>\n",
              "    </tr>\n",
              "    <tr>\n",
              "      <th>4998</th>\n",
              "      <td>21.094493</td>\n",
              "      <td>24.614617</td>\n",
              "      <td>36.667629</td>\n",
              "      <td>1197.952190</td>\n",
              "      <td>411.386296</td>\n",
              "    </tr>\n",
              "    <tr>\n",
              "      <th>4999</th>\n",
              "      <td>33.859816</td>\n",
              "      <td>42.201023</td>\n",
              "      <td>26.888493</td>\n",
              "      <td>253.374199</td>\n",
              "      <td>5252.046460</td>\n",
              "    </tr>\n",
              "  </tbody>\n",
              "</table>\n",
              "<p>5000 rows × 5 columns</p>\n",
              "</div>"
            ],
            "text/plain": [
              "             x1         x2         x3            e            Y\n",
              "0     27.253247  32.940987  34.701632  -411.297303   346.544510\n",
              "1     33.120388  36.472513  41.255387 -2053.986740   457.362093\n",
              "2     13.873706  40.007924  38.254606  4388.345884  -338.119497\n",
              "3     39.489505  49.043340  16.320470 -1584.270680  -711.549866\n",
              "4     42.912173  36.349609  39.549439  2292.465873   501.140115\n",
              "...         ...        ...        ...          ...          ...\n",
              "4995  21.255076  46.877856  12.737897 -1003.692474  -853.789333\n",
              "4996  36.575465  19.674271  14.506233  -927.706445   607.586042\n",
              "4997  44.622562  49.271219  40.257471  -102.371953 -2793.919033\n",
              "4998  21.094493  24.614617  36.667629  1197.952190   411.386296\n",
              "4999  33.859816  42.201023  26.888493   253.374199  5252.046460\n",
              "\n",
              "[5000 rows x 5 columns]"
            ]
          },
          "metadata": {
            "tags": []
          },
          "execution_count": 130
        }
      ]
    },
    {
      "cell_type": "code",
      "metadata": {
        "id": "0Cxuup2N27Wt"
      },
      "source": [
        "# Importing required libraries\n",
        " \n",
        "#import numpy as np\n",
        "#import matplotlib.pyplot as plt\n",
        " \n",
        "# Creating a series of data of in range of 1-50.\n",
        "#x = np.linspace(1,50,200)\n",
        " \n",
        "#Creating a Function.\n",
        "#def normal_dist(x , mean , sd):\n",
        "    #prob_density = (np.pi*sd) * np.exp(-0.5*((x-mean)/sd)**2)\n",
        "    #return prob_density\n",
        " \n",
        "#Calculate mean and Standard deviation.\n",
        "#mean = np.mean(x)\n",
        "#sd = np.std(x)\n",
        " \n",
        "#Apply function to the data.\n",
        "#pdf = normal_dist(x,mean,sd)\n",
        "#pdf\n"
      ],
      "execution_count": null,
      "outputs": []
    }
  ]
}