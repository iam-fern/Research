{
  "nbformat": 4,
  "nbformat_minor": 0,
  "metadata": {
    "colab": {
      "name": "generate_data.ipynb",
      "provenance": [],
      "authorship_tag": "ABX9TyMXofWRAqnurr5nb8/dqxfF",
      "include_colab_link": true
    },
    "kernelspec": {
      "name": "python3",
      "display_name": "Python 3"
    },
    "language_info": {
      "name": "python"
    }
  },
  "cells": [
    {
      "cell_type": "markdown",
      "metadata": {
        "id": "view-in-github",
        "colab_type": "text"
      },
      "source": [
        "<a href=\"https://colab.research.google.com/github/iam-fern/Research/blob/main/generate_data.ipynb\" target=\"_parent\"><img src=\"https://colab.research.google.com/assets/colab-badge.svg\" alt=\"Open In Colab\"/></a>"
      ]
    },
    {
      "cell_type": "code",
      "metadata": {
        "id": "VvMqWg4FfWIw"
      },
      "source": [
        "import pandas as pd\n",
        "import numpy as np"
      ],
      "execution_count": 1,
      "outputs": []
    },
    {
      "cell_type": "code",
      "metadata": {
        "id": "mndrpfwZgTwF"
      },
      "source": [
        "#np.random.seed(1)\n",
        "#df = pd.DataFrame(columns=[\"a\", \"b\", \"c\", \"z\", \"x1\", \"x2\", \"x3\", \"y\"])"
      ],
      "execution_count": null,
      "outputs": []
    },
    {
      "cell_type": "code",
      "metadata": {
        "colab": {
          "base_uri": "https://localhost:8080/",
          "height": 402
        },
        "id": "1WtwZT6viwX5",
        "outputId": "31eb181a-f091-4d46-9eeb-fc0241ce591e"
      },
      "source": [
        "# random.uniform(a, b)\n",
        "# Syntax : numpy.random.uniform(low=0.0, high=1.0, size=None)\n",
        "# a : Required. A number specifying the lowest possible outcome\n",
        "# b : Required. A number specifying the highest possible outcome\n",
        "data = pd.DataFrame({\"a\" : np.random.uniform(low=10, high=50, size=5000),\n",
        "                     \"b\" : np.random.uniform(low=10, high=50, size=5000),\n",
        "                     \"c\" : np.random.uniform(low=10, high=50, size=5000)\n",
        "                     })\n",
        "data"
      ],
      "execution_count": 2,
      "outputs": [
        {
          "output_type": "execute_result",
          "data": {
            "text/html": [
              "<div>\n",
              "<style scoped>\n",
              "    .dataframe tbody tr th:only-of-type {\n",
              "        vertical-align: middle;\n",
              "    }\n",
              "\n",
              "    .dataframe tbody tr th {\n",
              "        vertical-align: top;\n",
              "    }\n",
              "\n",
              "    .dataframe thead th {\n",
              "        text-align: right;\n",
              "    }\n",
              "</style>\n",
              "<table border=\"1\" class=\"dataframe\">\n",
              "  <thead>\n",
              "    <tr style=\"text-align: right;\">\n",
              "      <th></th>\n",
              "      <th>a</th>\n",
              "      <th>b</th>\n",
              "      <th>c</th>\n",
              "    </tr>\n",
              "  </thead>\n",
              "  <tbody>\n",
              "    <tr>\n",
              "      <th>0</th>\n",
              "      <td>45.505257</td>\n",
              "      <td>40.516068</td>\n",
              "      <td>30.135539</td>\n",
              "    </tr>\n",
              "    <tr>\n",
              "      <th>1</th>\n",
              "      <td>14.146857</td>\n",
              "      <td>49.065046</td>\n",
              "      <td>48.702766</td>\n",
              "    </tr>\n",
              "    <tr>\n",
              "      <th>2</th>\n",
              "      <td>44.368499</td>\n",
              "      <td>30.055880</td>\n",
              "      <td>17.905255</td>\n",
              "    </tr>\n",
              "    <tr>\n",
              "      <th>3</th>\n",
              "      <td>42.320147</td>\n",
              "      <td>26.468942</td>\n",
              "      <td>33.510698</td>\n",
              "    </tr>\n",
              "    <tr>\n",
              "      <th>4</th>\n",
              "      <td>42.548106</td>\n",
              "      <td>41.588724</td>\n",
              "      <td>12.774225</td>\n",
              "    </tr>\n",
              "    <tr>\n",
              "      <th>...</th>\n",
              "      <td>...</td>\n",
              "      <td>...</td>\n",
              "      <td>...</td>\n",
              "    </tr>\n",
              "    <tr>\n",
              "      <th>4995</th>\n",
              "      <td>24.424725</td>\n",
              "      <td>33.712920</td>\n",
              "      <td>16.616057</td>\n",
              "    </tr>\n",
              "    <tr>\n",
              "      <th>4996</th>\n",
              "      <td>15.870759</td>\n",
              "      <td>44.306771</td>\n",
              "      <td>23.855091</td>\n",
              "    </tr>\n",
              "    <tr>\n",
              "      <th>4997</th>\n",
              "      <td>19.352998</td>\n",
              "      <td>48.971992</td>\n",
              "      <td>49.054653</td>\n",
              "    </tr>\n",
              "    <tr>\n",
              "      <th>4998</th>\n",
              "      <td>36.745961</td>\n",
              "      <td>17.965955</td>\n",
              "      <td>46.424302</td>\n",
              "    </tr>\n",
              "    <tr>\n",
              "      <th>4999</th>\n",
              "      <td>44.866617</td>\n",
              "      <td>22.124127</td>\n",
              "      <td>26.417688</td>\n",
              "    </tr>\n",
              "  </tbody>\n",
              "</table>\n",
              "<p>5000 rows × 3 columns</p>\n",
              "</div>"
            ],
            "text/plain": [
              "              a          b          c\n",
              "0     45.505257  40.516068  30.135539\n",
              "1     14.146857  49.065046  48.702766\n",
              "2     44.368499  30.055880  17.905255\n",
              "3     42.320147  26.468942  33.510698\n",
              "4     42.548106  41.588724  12.774225\n",
              "...         ...        ...        ...\n",
              "4995  24.424725  33.712920  16.616057\n",
              "4996  15.870759  44.306771  23.855091\n",
              "4997  19.352998  48.971992  49.054653\n",
              "4998  36.745961  17.965955  46.424302\n",
              "4999  44.866617  22.124127  26.417688\n",
              "\n",
              "[5000 rows x 3 columns]"
            ]
          },
          "metadata": {
            "tags": []
          },
          "execution_count": 2
        }
      ]
    },
    {
      "cell_type": "code",
      "metadata": {
        "id": "0Cxuup2N27Wt",
        "outputId": "58aa4b8d-012c-4531-b881-52299a554ac5",
        "colab": {
          "base_uri": "https://localhost:8080/"
        }
      },
      "source": [
        "# Importing required libraries\n",
        " \n",
        "import numpy as np\n",
        "import matplotlib.pyplot as plt\n",
        " \n",
        "# Creating a series of data of in range of 1-50.\n",
        "x = np.linspace(1,50,200)\n",
        " \n",
        "#Creating a Function.\n",
        "def normal_dist(x , mean , sd):\n",
        "    prob_density = (np.pi*sd) * np.exp(-0.5*((x-mean)/sd)**2)\n",
        "    return prob_density\n",
        " \n",
        "#Calculate mean and Standard deviation.\n",
        "mean = np.mean(x)\n",
        "sd = np.std(x)\n",
        " \n",
        "#Apply function to the data.\n",
        "pdf = normal_dist(x,mean,sd)\n",
        "pdf\n"
      ],
      "execution_count": 5,
      "outputs": [
        {
          "output_type": "execute_result",
          "data": {
            "text/plain": [
              "array([10.11502835, 10.41995811, 10.73086052, 11.0477245 , 11.37053317,\n",
              "       11.69926374, 12.03388736, 12.37436896, 12.72066713, 13.07273399,\n",
              "       13.43051506, 13.79394916, 14.16296826, 14.53749744, 14.91745474,\n",
              "       15.30275112, 15.69329034, 16.08896892, 16.48967606, 16.89529362,\n",
              "       17.30569606, 17.7207504 , 18.14031622, 18.56424566, 18.99238338,\n",
              "       19.42456664, 19.86062527, 20.30038171, 20.74365111, 21.19024135,\n",
              "       21.6399531 , 22.09257997, 22.54790855, 23.00571853, 23.46578287,\n",
              "       23.92786787, 24.39173339, 24.85713296, 25.32381398, 25.7915179 ,\n",
              "       26.25998045, 26.72893181, 27.19809685, 27.66719539, 28.13594244,\n",
              "       28.60404845, 29.07121958, 29.53715802, 30.00156223, 30.46412729,\n",
              "       30.92454521, 31.38250524, 31.83769419, 32.28979681, 32.73849613,\n",
              "       33.18347379, 33.62441045, 34.06098612, 34.49288056, 34.91977367,\n",
              "       35.34134587, 35.75727848, 36.16725412, 36.57095714, 36.96807398,\n",
              "       37.35829358, 37.7413078 , 38.11681181, 38.4845045 , 38.84408885,\n",
              "       39.19527239, 39.53776752, 39.87129194, 40.19556906, 40.51032834,\n",
              "       40.81530566, 41.11024374, 41.39489244, 41.66900917, 41.9323592 ,\n",
              "       42.18471598, 42.4258615 , 42.65558659, 42.87369123, 43.07998481,\n",
              "       43.27428645, 43.45642523, 43.62624046, 43.78358191, 43.92831001,\n",
              "       44.06029612, 44.17942265, 44.28558326, 44.37868303, 44.4586386 ,\n",
              "       44.52537827, 44.57884213, 44.61898215, 44.64576225, 44.65915832,\n",
              "       44.65915832, 44.64576225, 44.61898215, 44.57884213, 44.52537827,\n",
              "       44.4586386 , 44.37868303, 44.28558326, 44.17942265, 44.06029612,\n",
              "       43.92831001, 43.78358191, 43.62624046, 43.45642523, 43.27428645,\n",
              "       43.07998481, 42.87369123, 42.65558659, 42.4258615 , 42.18471598,\n",
              "       41.9323592 , 41.66900917, 41.39489244, 41.11024374, 40.81530566,\n",
              "       40.51032834, 40.19556906, 39.87129194, 39.53776752, 39.19527239,\n",
              "       38.84408885, 38.4845045 , 38.11681181, 37.7413078 , 37.35829358,\n",
              "       36.96807398, 36.57095714, 36.16725412, 35.75727848, 35.34134587,\n",
              "       34.91977367, 34.49288056, 34.06098612, 33.62441045, 33.18347379,\n",
              "       32.73849613, 32.28979681, 31.83769419, 31.38250524, 30.92454521,\n",
              "       30.46412729, 30.00156223, 29.53715802, 29.07121958, 28.60404845,\n",
              "       28.13594244, 27.66719539, 27.19809685, 26.72893181, 26.25998045,\n",
              "       25.7915179 , 25.32381398, 24.85713296, 24.39173339, 23.92786787,\n",
              "       23.46578287, 23.00571853, 22.54790855, 22.09257997, 21.6399531 ,\n",
              "       21.19024135, 20.74365111, 20.30038171, 19.86062527, 19.42456664,\n",
              "       18.99238338, 18.56424566, 18.14031622, 17.7207504 , 17.30569606,\n",
              "       16.89529362, 16.48967606, 16.08896892, 15.69329034, 15.30275112,\n",
              "       14.91745474, 14.53749744, 14.16296826, 13.79394916, 13.43051506,\n",
              "       13.07273399, 12.72066713, 12.37436896, 12.03388736, 11.69926374,\n",
              "       11.37053317, 11.0477245 , 10.73086052, 10.41995811, 10.11502835])"
            ]
          },
          "metadata": {
            "tags": []
          },
          "execution_count": 5
        }
      ]
    }
  ]
}