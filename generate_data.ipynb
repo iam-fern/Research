{
  "nbformat": 4,
  "nbformat_minor": 0,
  "metadata": {
    "colab": {
      "name": "generate_data.ipynb",
      "provenance": [],
      "authorship_tag": "ABX9TyNNgZpc7fuEyScZTCGfX9Qm",
      "include_colab_link": true
    },
    "kernelspec": {
      "name": "python3",
      "display_name": "Python 3"
    },
    "language_info": {
      "name": "python"
    }
  },
  "cells": [
    {
      "cell_type": "markdown",
      "metadata": {
        "id": "view-in-github",
        "colab_type": "text"
      },
      "source": [
        "<a href=\"https://colab.research.google.com/github/iam-fern/Research/blob/main/generate_data.ipynb\" target=\"_parent\"><img src=\"https://colab.research.google.com/assets/colab-badge.svg\" alt=\"Open In Colab\"/></a>"
      ]
    },
    {
      "cell_type": "code",
      "metadata": {
        "id": "VvMqWg4FfWIw"
      },
      "source": [
        "import pandas as pd\n",
        "import numpy as np"
      ],
      "execution_count": 1,
      "outputs": []
    },
    {
      "cell_type": "code",
      "metadata": {
        "id": "mndrpfwZgTwF"
      },
      "source": [
        "#np.random.seed(1)\n",
        "#df = pd.DataFrame(columns=[\"a\", \"b\", \"c\", \"z\", \"x1\", \"x2\", \"x3\", \"y\"])"
      ],
      "execution_count": 2,
      "outputs": []
    },
    {
      "cell_type": "code",
      "metadata": {
        "colab": {
          "base_uri": "https://localhost:8080/",
          "height": 402
        },
        "id": "1WtwZT6viwX5",
        "outputId": "3f232335-7caf-4ad6-8ce9-074e06b5aed3"
      },
      "source": [
        "# random.uniform(a, b)\n",
        "# Syntax : numpy.random.uniform(low=0.0, high=1.0, size=None)\n",
        "# a : Required. A number specifying the lowest possible outcome\n",
        "# b : Required. A number specifying the highest possible outcome\n",
        "data = pd.DataFrame({\"a\" : np.random.uniform(low=10, high=50, size=5000),\n",
        "                     \"b\" : np.random.uniform(low=10, high=50, size=5000),\n",
        "                     \"c\" : np.random.uniform(low=10, high=50, size=5000)\n",
        "                     })\n",
        "data"
      ],
      "execution_count": 12,
      "outputs": [
        {
          "output_type": "execute_result",
          "data": {
            "text/html": [
              "<div>\n",
              "<style scoped>\n",
              "    .dataframe tbody tr th:only-of-type {\n",
              "        vertical-align: middle;\n",
              "    }\n",
              "\n",
              "    .dataframe tbody tr th {\n",
              "        vertical-align: top;\n",
              "    }\n",
              "\n",
              "    .dataframe thead th {\n",
              "        text-align: right;\n",
              "    }\n",
              "</style>\n",
              "<table border=\"1\" class=\"dataframe\">\n",
              "  <thead>\n",
              "    <tr style=\"text-align: right;\">\n",
              "      <th></th>\n",
              "      <th>a</th>\n",
              "      <th>b</th>\n",
              "      <th>c</th>\n",
              "    </tr>\n",
              "  </thead>\n",
              "  <tbody>\n",
              "    <tr>\n",
              "      <th>0</th>\n",
              "      <td>15.319162</td>\n",
              "      <td>15.189215</td>\n",
              "      <td>10.405306</td>\n",
              "    </tr>\n",
              "    <tr>\n",
              "      <th>1</th>\n",
              "      <td>17.372583</td>\n",
              "      <td>27.587478</td>\n",
              "      <td>49.710544</td>\n",
              "    </tr>\n",
              "    <tr>\n",
              "      <th>2</th>\n",
              "      <td>26.383394</td>\n",
              "      <td>39.299213</td>\n",
              "      <td>42.596931</td>\n",
              "    </tr>\n",
              "    <tr>\n",
              "      <th>3</th>\n",
              "      <td>26.487836</td>\n",
              "      <td>14.028435</td>\n",
              "      <td>29.246657</td>\n",
              "    </tr>\n",
              "    <tr>\n",
              "      <th>4</th>\n",
              "      <td>11.579771</td>\n",
              "      <td>41.931764</td>\n",
              "      <td>25.124639</td>\n",
              "    </tr>\n",
              "    <tr>\n",
              "      <th>...</th>\n",
              "      <td>...</td>\n",
              "      <td>...</td>\n",
              "      <td>...</td>\n",
              "    </tr>\n",
              "    <tr>\n",
              "      <th>4995</th>\n",
              "      <td>14.486993</td>\n",
              "      <td>34.959447</td>\n",
              "      <td>21.144068</td>\n",
              "    </tr>\n",
              "    <tr>\n",
              "      <th>4996</th>\n",
              "      <td>25.773412</td>\n",
              "      <td>20.806085</td>\n",
              "      <td>48.511984</td>\n",
              "    </tr>\n",
              "    <tr>\n",
              "      <th>4997</th>\n",
              "      <td>13.888749</td>\n",
              "      <td>16.152091</td>\n",
              "      <td>48.411275</td>\n",
              "    </tr>\n",
              "    <tr>\n",
              "      <th>4998</th>\n",
              "      <td>33.174368</td>\n",
              "      <td>17.994812</td>\n",
              "      <td>39.867346</td>\n",
              "    </tr>\n",
              "    <tr>\n",
              "      <th>4999</th>\n",
              "      <td>40.707067</td>\n",
              "      <td>10.438217</td>\n",
              "      <td>17.520662</td>\n",
              "    </tr>\n",
              "  </tbody>\n",
              "</table>\n",
              "<p>5000 rows × 3 columns</p>\n",
              "</div>"
            ],
            "text/plain": [
              "              a          b          c\n",
              "0     15.319162  15.189215  10.405306\n",
              "1     17.372583  27.587478  49.710544\n",
              "2     26.383394  39.299213  42.596931\n",
              "3     26.487836  14.028435  29.246657\n",
              "4     11.579771  41.931764  25.124639\n",
              "...         ...        ...        ...\n",
              "4995  14.486993  34.959447  21.144068\n",
              "4996  25.773412  20.806085  48.511984\n",
              "4997  13.888749  16.152091  48.411275\n",
              "4998  33.174368  17.994812  39.867346\n",
              "4999  40.707067  10.438217  17.520662\n",
              "\n",
              "[5000 rows x 3 columns]"
            ]
          },
          "metadata": {
            "tags": []
          },
          "execution_count": 12
        }
      ]
    }
  ]
}