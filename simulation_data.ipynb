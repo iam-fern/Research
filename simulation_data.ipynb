{
  "nbformat": 4,
  "nbformat_minor": 0,
  "metadata": {
    "colab": {
      "name": "generate_data.ipynb",
      "provenance": [],
      "authorship_tag": "ABX9TyOaVPUuOwjxLuNMKa5/ViJP",
      "include_colab_link": true
    },
    "kernelspec": {
      "name": "python3",
      "display_name": "Python 3"
    },
    "language_info": {
      "name": "python"
    }
  },
  "cells": [
    {
      "cell_type": "markdown",
      "metadata": {
        "id": "view-in-github",
        "colab_type": "text"
      },
      "source": [
        "<a href=\"https://colab.research.google.com/github/iam-fern/Research/blob/main/simulation_data.ipynb\" target=\"_parent\"><img src=\"https://colab.research.google.com/assets/colab-badge.svg\" alt=\"Open In Colab\"/></a>"
      ]
    },
    {
      "cell_type": "code",
      "metadata": {
        "id": "VvMqWg4FfWIw"
      },
      "source": [
        "import pandas as pd\n",
        "import numpy as np\n",
        "import matplotlib.pyplot as plt\n",
        "import seaborn as sns\n",
        "from scipy import stats"
      ],
      "execution_count": 53,
      "outputs": []
    },
    {
      "cell_type": "code",
      "metadata": {
        "id": "mndrpfwZgTwF"
      },
      "source": [
        "#np.random.seed(1)\n",
        "#df = pd.DataFrame(columns=[\"a\", \"b\", \"c\", \"z\", \"x1\", \"x2\", \"x3\", \"y\"])"
      ],
      "execution_count": null,
      "outputs": []
    },
    {
      "cell_type": "code",
      "metadata": {
        "colab": {
          "base_uri": "https://localhost:8080/",
          "height": 417
        },
        "id": "1WtwZT6viwX5",
        "outputId": "003e3d3b-d46f-4ecf-b068-64dc2d39a881"
      },
      "source": [
        "# random.uniform(a, b)\n",
        "# Syntax : numpy.random.uniform(low=0.0, high=1.0, size=None)\n",
        "# a : Required. A number specifying the lowest possible outcome\n",
        "# b : Required. A number specifying the highest possible outcome\n",
        "data = pd.DataFrame({\"x1\" : np.random.uniform(low=10, high=50, size=5000),\n",
        "                     \"x2\" : np.random.uniform(low=10, high=50, size=5000),\n",
        "                     \"x3\" : np.random.uniform(low=10, high=50, size=5000),\n",
        "                     \"e\"  : np.random.normal(0, (np.sqrt(x1**4)), 5000)\n",
        "                     })\n",
        "data"
      ],
      "execution_count": 54,
      "outputs": [
        {
          "output_type": "execute_result",
          "data": {
            "text/html": [
              "<div>\n",
              "<style scoped>\n",
              "    .dataframe tbody tr th:only-of-type {\n",
              "        vertical-align: middle;\n",
              "    }\n",
              "\n",
              "    .dataframe tbody tr th {\n",
              "        vertical-align: top;\n",
              "    }\n",
              "\n",
              "    .dataframe thead th {\n",
              "        text-align: right;\n",
              "    }\n",
              "</style>\n",
              "<table border=\"1\" class=\"dataframe\">\n",
              "  <thead>\n",
              "    <tr style=\"text-align: right;\">\n",
              "      <th></th>\n",
              "      <th>x1</th>\n",
              "      <th>x2</th>\n",
              "      <th>x3</th>\n",
              "      <th>e</th>\n",
              "    </tr>\n",
              "  </thead>\n",
              "  <tbody>\n",
              "    <tr>\n",
              "      <th>0</th>\n",
              "      <td>10.377537</td>\n",
              "      <td>35.675893</td>\n",
              "      <td>17.309602</td>\n",
              "      <td>-3.109997e+06</td>\n",
              "    </tr>\n",
              "    <tr>\n",
              "      <th>1</th>\n",
              "      <td>15.709106</td>\n",
              "      <td>15.803139</td>\n",
              "      <td>19.185821</td>\n",
              "      <td>-2.449279e+04</td>\n",
              "    </tr>\n",
              "    <tr>\n",
              "      <th>2</th>\n",
              "      <td>26.397590</td>\n",
              "      <td>38.984325</td>\n",
              "      <td>38.449232</td>\n",
              "      <td>3.835158e+03</td>\n",
              "    </tr>\n",
              "    <tr>\n",
              "      <th>3</th>\n",
              "      <td>25.627778</td>\n",
              "      <td>19.372472</td>\n",
              "      <td>37.798668</td>\n",
              "      <td>3.501618e+06</td>\n",
              "    </tr>\n",
              "    <tr>\n",
              "      <th>4</th>\n",
              "      <td>21.473211</td>\n",
              "      <td>47.669183</td>\n",
              "      <td>34.812262</td>\n",
              "      <td>1.058194e+05</td>\n",
              "    </tr>\n",
              "    <tr>\n",
              "      <th>...</th>\n",
              "      <td>...</td>\n",
              "      <td>...</td>\n",
              "      <td>...</td>\n",
              "      <td>...</td>\n",
              "    </tr>\n",
              "    <tr>\n",
              "      <th>4995</th>\n",
              "      <td>42.053480</td>\n",
              "      <td>10.807490</td>\n",
              "      <td>48.502923</td>\n",
              "      <td>3.499146e+06</td>\n",
              "    </tr>\n",
              "    <tr>\n",
              "      <th>4996</th>\n",
              "      <td>14.133246</td>\n",
              "      <td>12.082107</td>\n",
              "      <td>18.719840</td>\n",
              "      <td>4.060747e+05</td>\n",
              "    </tr>\n",
              "    <tr>\n",
              "      <th>4997</th>\n",
              "      <td>43.237994</td>\n",
              "      <td>15.113053</td>\n",
              "      <td>27.256043</td>\n",
              "      <td>-1.661716e+05</td>\n",
              "    </tr>\n",
              "    <tr>\n",
              "      <th>4998</th>\n",
              "      <td>10.277563</td>\n",
              "      <td>20.395297</td>\n",
              "      <td>19.925426</td>\n",
              "      <td>2.684977e+06</td>\n",
              "    </tr>\n",
              "    <tr>\n",
              "      <th>4999</th>\n",
              "      <td>21.504051</td>\n",
              "      <td>11.057802</td>\n",
              "      <td>39.963015</td>\n",
              "      <td>-5.338702e+06</td>\n",
              "    </tr>\n",
              "  </tbody>\n",
              "</table>\n",
              "<p>5000 rows × 4 columns</p>\n",
              "</div>"
            ],
            "text/plain": [
              "             x1         x2         x3             e\n",
              "0     10.377537  35.675893  17.309602 -3.109997e+06\n",
              "1     15.709106  15.803139  19.185821 -2.449279e+04\n",
              "2     26.397590  38.984325  38.449232  3.835158e+03\n",
              "3     25.627778  19.372472  37.798668  3.501618e+06\n",
              "4     21.473211  47.669183  34.812262  1.058194e+05\n",
              "...         ...        ...        ...           ...\n",
              "4995  42.053480  10.807490  48.502923  3.499146e+06\n",
              "4996  14.133246  12.082107  18.719840  4.060747e+05\n",
              "4997  43.237994  15.113053  27.256043 -1.661716e+05\n",
              "4998  10.277563  20.395297  19.925426  2.684977e+06\n",
              "4999  21.504051  11.057802  39.963015 -5.338702e+06\n",
              "\n",
              "[5000 rows x 4 columns]"
            ]
          },
          "metadata": {
            "tags": []
          },
          "execution_count": 54
        }
      ]
    },
    {
      "cell_type": "code",
      "metadata": {
        "id": "MRDeHh3OjQ1D"
      },
      "source": [
        "#X1 = data['x1']\n",
        "#X1 = np.sqrt(x**4)\n",
        "#X1"
      ],
      "execution_count": 55,
      "outputs": []
    },
    {
      "cell_type": "code",
      "metadata": {
        "id": "JUNxh4rjj-RQ",
        "outputId": "2d904467-be10-47c4-c340-14a782baabdb",
        "colab": {
          "base_uri": "https://localhost:8080/",
          "height": 417
        }
      },
      "source": [
        "table_data = pd.DataFrame({\"x1\" : np.random.uniform(low=10, high=50, size=5000),\n",
        "                     \"x2\" : np.random.uniform(low=10, high=50, size=5000),\n",
        "                     \"x3\" : np.random.uniform(low=10, high=50, size=5000),\n",
        "                     \"e\"  : np.random.normal(0, X1, 5000)\n",
        "                     })\n",
        "table_data"
      ],
      "execution_count": 56,
      "outputs": [
        {
          "output_type": "execute_result",
          "data": {
            "text/html": [
              "<div>\n",
              "<style scoped>\n",
              "    .dataframe tbody tr th:only-of-type {\n",
              "        vertical-align: middle;\n",
              "    }\n",
              "\n",
              "    .dataframe tbody tr th {\n",
              "        vertical-align: top;\n",
              "    }\n",
              "\n",
              "    .dataframe thead th {\n",
              "        text-align: right;\n",
              "    }\n",
              "</style>\n",
              "<table border=\"1\" class=\"dataframe\">\n",
              "  <thead>\n",
              "    <tr style=\"text-align: right;\">\n",
              "      <th></th>\n",
              "      <th>x1</th>\n",
              "      <th>x2</th>\n",
              "      <th>x3</th>\n",
              "      <th>e</th>\n",
              "    </tr>\n",
              "  </thead>\n",
              "  <tbody>\n",
              "    <tr>\n",
              "      <th>0</th>\n",
              "      <td>45.187250</td>\n",
              "      <td>29.292693</td>\n",
              "      <td>35.760327</td>\n",
              "      <td>631.148883</td>\n",
              "    </tr>\n",
              "    <tr>\n",
              "      <th>1</th>\n",
              "      <td>41.008594</td>\n",
              "      <td>13.655251</td>\n",
              "      <td>35.826785</td>\n",
              "      <td>-560.566486</td>\n",
              "    </tr>\n",
              "    <tr>\n",
              "      <th>2</th>\n",
              "      <td>26.004980</td>\n",
              "      <td>24.655325</td>\n",
              "      <td>23.974211</td>\n",
              "      <td>49.321464</td>\n",
              "    </tr>\n",
              "    <tr>\n",
              "      <th>3</th>\n",
              "      <td>49.490864</td>\n",
              "      <td>47.880735</td>\n",
              "      <td>11.344841</td>\n",
              "      <td>3025.150960</td>\n",
              "    </tr>\n",
              "    <tr>\n",
              "      <th>4</th>\n",
              "      <td>15.026811</td>\n",
              "      <td>44.163271</td>\n",
              "      <td>44.849180</td>\n",
              "      <td>-297.195448</td>\n",
              "    </tr>\n",
              "    <tr>\n",
              "      <th>...</th>\n",
              "      <td>...</td>\n",
              "      <td>...</td>\n",
              "      <td>...</td>\n",
              "      <td>...</td>\n",
              "    </tr>\n",
              "    <tr>\n",
              "      <th>4995</th>\n",
              "      <td>37.532190</td>\n",
              "      <td>47.389680</td>\n",
              "      <td>42.931974</td>\n",
              "      <td>3110.431435</td>\n",
              "    </tr>\n",
              "    <tr>\n",
              "      <th>4996</th>\n",
              "      <td>16.755644</td>\n",
              "      <td>22.797763</td>\n",
              "      <td>10.416034</td>\n",
              "      <td>1012.322626</td>\n",
              "    </tr>\n",
              "    <tr>\n",
              "      <th>4997</th>\n",
              "      <td>29.558005</td>\n",
              "      <td>37.277947</td>\n",
              "      <td>20.671731</td>\n",
              "      <td>-76.387595</td>\n",
              "    </tr>\n",
              "    <tr>\n",
              "      <th>4998</th>\n",
              "      <td>17.277353</td>\n",
              "      <td>14.230620</td>\n",
              "      <td>25.934241</td>\n",
              "      <td>956.730872</td>\n",
              "    </tr>\n",
              "    <tr>\n",
              "      <th>4999</th>\n",
              "      <td>35.528914</td>\n",
              "      <td>41.564994</td>\n",
              "      <td>33.096842</td>\n",
              "      <td>2233.810529</td>\n",
              "    </tr>\n",
              "  </tbody>\n",
              "</table>\n",
              "<p>5000 rows × 4 columns</p>\n",
              "</div>"
            ],
            "text/plain": [
              "             x1         x2         x3            e\n",
              "0     45.187250  29.292693  35.760327   631.148883\n",
              "1     41.008594  13.655251  35.826785  -560.566486\n",
              "2     26.004980  24.655325  23.974211    49.321464\n",
              "3     49.490864  47.880735  11.344841  3025.150960\n",
              "4     15.026811  44.163271  44.849180  -297.195448\n",
              "...         ...        ...        ...          ...\n",
              "4995  37.532190  47.389680  42.931974  3110.431435\n",
              "4996  16.755644  22.797763  10.416034  1012.322626\n",
              "4997  29.558005  37.277947  20.671731   -76.387595\n",
              "4998  17.277353  14.230620  25.934241   956.730872\n",
              "4999  35.528914  41.564994  33.096842  2233.810529\n",
              "\n",
              "[5000 rows x 4 columns]"
            ]
          },
          "metadata": {
            "tags": []
          },
          "execution_count": 56
        }
      ]
    },
    {
      "cell_type": "code",
      "metadata": {
        "id": "0Cxuup2N27Wt"
      },
      "source": [
        "# Importing required libraries\n",
        " \n",
        "#import numpy as np\n",
        "#import matplotlib.pyplot as plt\n",
        " \n",
        "# Creating a series of data of in range of 1-50.\n",
        "#x = np.linspace(1,50,200)\n",
        " \n",
        "#Creating a Function.\n",
        "#def normal_dist(x , mean , sd):\n",
        "    #prob_density = (np.pi*sd) * np.exp(-0.5*((x-mean)/sd)**2)\n",
        "    #return prob_density\n",
        " \n",
        "#Calculate mean and Standard deviation.\n",
        "#mean = np.mean(x)\n",
        "#sd = np.std(x)\n",
        " \n",
        "#Apply function to the data.\n",
        "#pdf = normal_dist(x,mean,sd)\n",
        "#pdf\n"
      ],
      "execution_count": null,
      "outputs": []
    },
    {
      "cell_type": "code",
      "metadata": {
        "id": "dEXOiUIVvaQ8"
      },
      "source": [
        ""
      ],
      "execution_count": null,
      "outputs": []
    }
  ]
}