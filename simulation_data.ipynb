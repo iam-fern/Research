{
  "nbformat": 4,
  "nbformat_minor": 0,
  "metadata": {
    "colab": {
      "name": "generate_data.ipynb",
      "provenance": [],
      "authorship_tag": "ABX9TyMC9dIVSlmmETUiiNa1qSju",
      "include_colab_link": true
    },
    "kernelspec": {
      "name": "python3",
      "display_name": "Python 3"
    },
    "language_info": {
      "name": "python"
    }
  },
  "cells": [
    {
      "cell_type": "markdown",
      "metadata": {
        "id": "view-in-github",
        "colab_type": "text"
      },
      "source": [
        "<a href=\"https://colab.research.google.com/github/iam-fern/Research/blob/main/simulation_data.ipynb\" target=\"_parent\"><img src=\"https://colab.research.google.com/assets/colab-badge.svg\" alt=\"Open In Colab\"/></a>"
      ]
    },
    {
      "cell_type": "code",
      "metadata": {
        "id": "VvMqWg4FfWIw"
      },
      "source": [
        "import pandas as pd\n",
        "import numpy as np"
      ],
      "execution_count": 2,
      "outputs": []
    },
    {
      "cell_type": "code",
      "metadata": {
        "id": "mndrpfwZgTwF"
      },
      "source": [
        "#np.random.seed(1)\n",
        "#df = pd.DataFrame(columns=[\"a\", \"b\", \"c\", \"z\", \"x1\", \"x2\", \"x3\", \"y\"])"
      ],
      "execution_count": null,
      "outputs": []
    },
    {
      "cell_type": "code",
      "metadata": {
        "colab": {
          "base_uri": "https://localhost:8080/",
          "height": 402
        },
        "id": "1WtwZT6viwX5",
        "outputId": "81e95149-6ab5-4e21-f3de-1ca80851ad4d"
      },
      "source": [
        "# random.uniform(a, b)\n",
        "# Syntax : numpy.random.uniform(low=0.0, high=1.0, size=None)\n",
        "# a : Required. A number specifying the lowest possible outcome\n",
        "# b : Required. A number specifying the highest possible outcome\n",
        "data = pd.DataFrame({\"a\" : np.random.uniform(low=10, high=50, size=5000),\n",
        "                     \"b\" : np.random.uniform(low=10, high=50, size=5000),\n",
        "                     \"c\" : np.random.uniform(low=10, high=50, size=5000)\n",
        "                     })\n",
        "data"
      ],
      "execution_count": 3,
      "outputs": [
        {
          "output_type": "execute_result",
          "data": {
            "text/html": [
              "<div>\n",
              "<style scoped>\n",
              "    .dataframe tbody tr th:only-of-type {\n",
              "        vertical-align: middle;\n",
              "    }\n",
              "\n",
              "    .dataframe tbody tr th {\n",
              "        vertical-align: top;\n",
              "    }\n",
              "\n",
              "    .dataframe thead th {\n",
              "        text-align: right;\n",
              "    }\n",
              "</style>\n",
              "<table border=\"1\" class=\"dataframe\">\n",
              "  <thead>\n",
              "    <tr style=\"text-align: right;\">\n",
              "      <th></th>\n",
              "      <th>a</th>\n",
              "      <th>b</th>\n",
              "      <th>c</th>\n",
              "    </tr>\n",
              "  </thead>\n",
              "  <tbody>\n",
              "    <tr>\n",
              "      <th>0</th>\n",
              "      <td>36.298263</td>\n",
              "      <td>15.765654</td>\n",
              "      <td>34.263440</td>\n",
              "    </tr>\n",
              "    <tr>\n",
              "      <th>1</th>\n",
              "      <td>40.103228</td>\n",
              "      <td>25.364246</td>\n",
              "      <td>28.428567</td>\n",
              "    </tr>\n",
              "    <tr>\n",
              "      <th>2</th>\n",
              "      <td>17.437192</td>\n",
              "      <td>30.743336</td>\n",
              "      <td>16.375205</td>\n",
              "    </tr>\n",
              "    <tr>\n",
              "      <th>3</th>\n",
              "      <td>32.484667</td>\n",
              "      <td>15.826028</td>\n",
              "      <td>28.701370</td>\n",
              "    </tr>\n",
              "    <tr>\n",
              "      <th>4</th>\n",
              "      <td>36.835322</td>\n",
              "      <td>42.327159</td>\n",
              "      <td>22.524724</td>\n",
              "    </tr>\n",
              "    <tr>\n",
              "      <th>...</th>\n",
              "      <td>...</td>\n",
              "      <td>...</td>\n",
              "      <td>...</td>\n",
              "    </tr>\n",
              "    <tr>\n",
              "      <th>4995</th>\n",
              "      <td>18.870329</td>\n",
              "      <td>20.921120</td>\n",
              "      <td>17.569993</td>\n",
              "    </tr>\n",
              "    <tr>\n",
              "      <th>4996</th>\n",
              "      <td>19.238416</td>\n",
              "      <td>25.148615</td>\n",
              "      <td>31.291385</td>\n",
              "    </tr>\n",
              "    <tr>\n",
              "      <th>4997</th>\n",
              "      <td>14.219168</td>\n",
              "      <td>22.874840</td>\n",
              "      <td>43.206699</td>\n",
              "    </tr>\n",
              "    <tr>\n",
              "      <th>4998</th>\n",
              "      <td>47.743325</td>\n",
              "      <td>46.494312</td>\n",
              "      <td>45.551407</td>\n",
              "    </tr>\n",
              "    <tr>\n",
              "      <th>4999</th>\n",
              "      <td>47.910573</td>\n",
              "      <td>47.267442</td>\n",
              "      <td>24.124489</td>\n",
              "    </tr>\n",
              "  </tbody>\n",
              "</table>\n",
              "<p>5000 rows × 3 columns</p>\n",
              "</div>"
            ],
            "text/plain": [
              "              a          b          c\n",
              "0     36.298263  15.765654  34.263440\n",
              "1     40.103228  25.364246  28.428567\n",
              "2     17.437192  30.743336  16.375205\n",
              "3     32.484667  15.826028  28.701370\n",
              "4     36.835322  42.327159  22.524724\n",
              "...         ...        ...        ...\n",
              "4995  18.870329  20.921120  17.569993\n",
              "4996  19.238416  25.148615  31.291385\n",
              "4997  14.219168  22.874840  43.206699\n",
              "4998  47.743325  46.494312  45.551407\n",
              "4999  47.910573  47.267442  24.124489\n",
              "\n",
              "[5000 rows x 3 columns]"
            ]
          },
          "metadata": {
            "tags": []
          },
          "execution_count": 3
        }
      ]
    },
    {
      "cell_type": "code",
      "metadata": {
        "id": "0Cxuup2N27Wt"
      },
      "source": [
        "# Importing required libraries\n",
        " \n",
        "#import numpy as np\n",
        "#import matplotlib.pyplot as plt\n",
        " \n",
        "# Creating a series of data of in range of 1-50.\n",
        "#x = np.linspace(1,50,200)\n",
        " \n",
        "#Creating a Function.\n",
        "#def normal_dist(x , mean , sd):\n",
        "    #prob_density = (np.pi*sd) * np.exp(-0.5*((x-mean)/sd)**2)\n",
        "    #return prob_density\n",
        " \n",
        "#Calculate mean and Standard deviation.\n",
        "#mean = np.mean(x)\n",
        "#sd = np.std(x)\n",
        " \n",
        "#Apply function to the data.\n",
        "#pdf = normal_dist(x,mean,sd)\n",
        "#pdf\n"
      ],
      "execution_count": 4,
      "outputs": []
    }
  ]
}