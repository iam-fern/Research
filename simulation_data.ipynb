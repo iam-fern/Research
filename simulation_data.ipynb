{
  "nbformat": 4,
  "nbformat_minor": 0,
  "metadata": {
    "colab": {
      "name": "generate_data.ipynb",
      "provenance": [],
      "authorship_tag": "ABX9TyPlYrchSChirprrU6FgUxAC",
      "include_colab_link": true
    },
    "kernelspec": {
      "name": "python3",
      "display_name": "Python 3"
    },
    "language_info": {
      "name": "python"
    }
  },
  "cells": [
    {
      "cell_type": "markdown",
      "metadata": {
        "id": "view-in-github",
        "colab_type": "text"
      },
      "source": [
        "<a href=\"https://colab.research.google.com/github/iam-fern/Research/blob/main/simulation_data.ipynb\" target=\"_parent\"><img src=\"https://colab.research.google.com/assets/colab-badge.svg\" alt=\"Open In Colab\"/></a>"
      ]
    },
    {
      "cell_type": "code",
      "metadata": {
        "id": "VvMqWg4FfWIw"
      },
      "source": [
        "import pandas as pd\n",
        "import numpy as np"
      ],
      "execution_count": 1,
      "outputs": []
    },
    {
      "cell_type": "code",
      "metadata": {
        "id": "mndrpfwZgTwF"
      },
      "source": [
        "#np.random.seed(1)\n",
        "#df = pd.DataFrame(columns=[\"a\", \"b\", \"c\", \"z\", \"x1\", \"x2\", \"x3\", \"y\"])"
      ],
      "execution_count": null,
      "outputs": []
    },
    {
      "cell_type": "code",
      "metadata": {
        "colab": {
          "base_uri": "https://localhost:8080/",
          "height": 402
        },
        "id": "1WtwZT6viwX5",
        "outputId": "5db75b56-69a9-49aa-f260-af9e4965eca3"
      },
      "source": [
        "# random.uniform(a, b)\n",
        "# Syntax : numpy.random.uniform(low=0.0, high=1.0, size=None)\n",
        "# a : Required. A number specifying the lowest possible outcome\n",
        "# b : Required. A number specifying the highest possible outcome\n",
        "data = pd.DataFrame({\"a\" : np.random.uniform(low=10, high=50, size=29),\n",
        "                     \"b\" : np.random.uniform(low=10, high=50, size=5000),\n",
        "                     \"c\" : np.random.uniform(low=10, high=50, size=5000)\n",
        "                     })\n",
        "data"
      ],
      "execution_count": 2,
      "outputs": [
        {
          "output_type": "execute_result",
          "data": {
            "text/html": [
              "<div>\n",
              "<style scoped>\n",
              "    .dataframe tbody tr th:only-of-type {\n",
              "        vertical-align: middle;\n",
              "    }\n",
              "\n",
              "    .dataframe tbody tr th {\n",
              "        vertical-align: top;\n",
              "    }\n",
              "\n",
              "    .dataframe thead th {\n",
              "        text-align: right;\n",
              "    }\n",
              "</style>\n",
              "<table border=\"1\" class=\"dataframe\">\n",
              "  <thead>\n",
              "    <tr style=\"text-align: right;\">\n",
              "      <th></th>\n",
              "      <th>a</th>\n",
              "      <th>b</th>\n",
              "      <th>c</th>\n",
              "    </tr>\n",
              "  </thead>\n",
              "  <tbody>\n",
              "    <tr>\n",
              "      <th>0</th>\n",
              "      <td>12.096838</td>\n",
              "      <td>15.243716</td>\n",
              "      <td>20.289023</td>\n",
              "    </tr>\n",
              "    <tr>\n",
              "      <th>1</th>\n",
              "      <td>37.600511</td>\n",
              "      <td>33.742243</td>\n",
              "      <td>31.143018</td>\n",
              "    </tr>\n",
              "    <tr>\n",
              "      <th>2</th>\n",
              "      <td>26.965635</td>\n",
              "      <td>48.288140</td>\n",
              "      <td>13.497257</td>\n",
              "    </tr>\n",
              "    <tr>\n",
              "      <th>3</th>\n",
              "      <td>22.418102</td>\n",
              "      <td>23.041477</td>\n",
              "      <td>48.611330</td>\n",
              "    </tr>\n",
              "    <tr>\n",
              "      <th>4</th>\n",
              "      <td>12.893369</td>\n",
              "      <td>31.676252</td>\n",
              "      <td>14.007428</td>\n",
              "    </tr>\n",
              "    <tr>\n",
              "      <th>...</th>\n",
              "      <td>...</td>\n",
              "      <td>...</td>\n",
              "      <td>...</td>\n",
              "    </tr>\n",
              "    <tr>\n",
              "      <th>4995</th>\n",
              "      <td>43.288988</td>\n",
              "      <td>39.241930</td>\n",
              "      <td>29.883190</td>\n",
              "    </tr>\n",
              "    <tr>\n",
              "      <th>4996</th>\n",
              "      <td>21.095754</td>\n",
              "      <td>22.112082</td>\n",
              "      <td>23.158831</td>\n",
              "    </tr>\n",
              "    <tr>\n",
              "      <th>4997</th>\n",
              "      <td>39.316169</td>\n",
              "      <td>46.151115</td>\n",
              "      <td>41.634064</td>\n",
              "    </tr>\n",
              "    <tr>\n",
              "      <th>4998</th>\n",
              "      <td>20.508104</td>\n",
              "      <td>21.344368</td>\n",
              "      <td>35.583967</td>\n",
              "    </tr>\n",
              "    <tr>\n",
              "      <th>4999</th>\n",
              "      <td>25.560168</td>\n",
              "      <td>41.072053</td>\n",
              "      <td>49.963107</td>\n",
              "    </tr>\n",
              "  </tbody>\n",
              "</table>\n",
              "<p>5000 rows × 3 columns</p>\n",
              "</div>"
            ],
            "text/plain": [
              "              a          b          c\n",
              "0     12.096838  15.243716  20.289023\n",
              "1     37.600511  33.742243  31.143018\n",
              "2     26.965635  48.288140  13.497257\n",
              "3     22.418102  23.041477  48.611330\n",
              "4     12.893369  31.676252  14.007428\n",
              "...         ...        ...        ...\n",
              "4995  43.288988  39.241930  29.883190\n",
              "4996  21.095754  22.112082  23.158831\n",
              "4997  39.316169  46.151115  41.634064\n",
              "4998  20.508104  21.344368  35.583967\n",
              "4999  25.560168  41.072053  49.963107\n",
              "\n",
              "[5000 rows x 3 columns]"
            ]
          },
          "metadata": {
            "tags": []
          },
          "execution_count": 2
        }
      ]
    },
    {
      "cell_type": "code",
      "metadata": {
        "id": "0Cxuup2N27Wt"
      },
      "source": [
        "# Importing required libraries\n",
        " \n",
        "#import numpy as np\n",
        "#import matplotlib.pyplot as plt\n",
        " \n",
        "# Creating a series of data of in range of 1-50.\n",
        "#x = np.linspace(1,50,200)\n",
        " \n",
        "#Creating a Function.\n",
        "#def normal_dist(x , mean , sd):\n",
        "    #prob_density = (np.pi*sd) * np.exp(-0.5*((x-mean)/sd)**2)\n",
        "    #return prob_density\n",
        " \n",
        "#Calculate mean and Standard deviation.\n",
        "#mean = np.mean(x)\n",
        "#sd = np.std(x)\n",
        " \n",
        "#Apply function to the data.\n",
        "#pdf = normal_dist(x,mean,sd)\n",
        "#pdf\n"
      ],
      "execution_count": null,
      "outputs": []
    },
    {
      "cell_type": "code",
      "metadata": {
        "id": "dEXOiUIVvaQ8"
      },
      "source": [
        ""
      ],
      "execution_count": null,
      "outputs": []
    }
  ]
}